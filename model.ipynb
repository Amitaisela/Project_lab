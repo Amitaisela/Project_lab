{
 "cells": [
  {
   "cell_type": "code",
   "execution_count": 0,
   "metadata": {
    "application/vnd.databricks.v1+cell": {
     "cellMetadata": {
      "byteLimit": 2048000,
      "rowLimit": 10000
     },
     "inputWidgets": {},
     "nuid": "0b8a745e-1d40-4db9-8a6c-d5f6d6100a53",
     "showTitle": false,
     "title": ""
    }
   },
   "outputs": [],
   "source": [
    "import pyspark\n",
    "from pyspark.sql import SparkSession, Row\n",
    "from pyspark.sql.functions import col, size, array_remove, expr, array_contains, array, lit, arrays_zip,  when, first, udf, concat_ws, to_json, flatten\n",
    "import pyspark.sql.functions as F\n",
    "from pyspark.sql.types import StringType, ArrayType\n",
    "import sparknlp\n",
    "from sparknlp.base import DocumentAssembler\n",
    "from sparknlp.annotator import BertEmbeddings, Tokenizer\n",
    "from sparknlp.pretrained import PretrainedPipeline\n",
    "from pyspark.ml import Pipeline\n",
    "import time\n",
    "from pyspark.ml.linalg import Vectors, VectorUDT\n",
    "import numpy as np\n",
    "import pandas as pd\n",
    "import json\n",
    "from pyspark.sql.window import Window\n",
    "from pyspark.ml.functions import vector_to_array\n",
    "from pyspark.sql.functions import monotonically_increasing_id\n",
    "from pyspark.sql.types import BooleanType\n",
    "from sklearn.model_selection import train_test_split\n",
    "from sklearn.preprocessing import StandardScaler\n",
    "from sklearn.neighbors import KNeighborsClassifier\n",
    "from sklearn.metrics import accuracy_score, precision_score, recall_score, f1_score\n",
    "import matplotlib.pyplot as plt"
   ]
  },
  {
   "cell_type": "code",
   "execution_count": 0,
   "metadata": {
    "application/vnd.databricks.v1+cell": {
     "cellMetadata": {
      "byteLimit": 2048000,
      "rowLimit": 10000
     },
     "inputWidgets": {},
     "nuid": "ea9b740e-2034-4b0a-8c81-8af315e56332",
     "showTitle": false,
     "title": ""
    }
   },
   "outputs": [],
   "source": [
    "spark = SparkSession.builder.getOrCreate()"
   ]
  },
  {
   "cell_type": "code",
   "execution_count": 0,
   "metadata": {
    "application/vnd.databricks.v1+cell": {
     "cellMetadata": {
      "byteLimit": 2048000,
      "rowLimit": 10000
     },
     "inputWidgets": {},
     "nuid": "f49aec8c-bce3-4736-a8e1-acf572284a3c",
     "showTitle": false,
     "title": ""
    }
   },
   "outputs": [
    {
     "output_type": "stream",
     "name": "stdout",
     "output_type": "stream",
     "text": [
      "Requirement already satisfied: torch in /local_disk0/.ephemeral_nfs/envs/pythonEnv-b4821e76-36f9-4357-b7d9-77295cabacbf/lib/python3.9/site-packages (2.2.2)\r\nRequirement already satisfied: nvidia-cuda-nvrtc-cu12==12.1.105 in /local_disk0/.ephemeral_nfs/envs/pythonEnv-b4821e76-36f9-4357-b7d9-77295cabacbf/lib/python3.9/site-packages (from torch) (12.1.105)\r\nRequirement already satisfied: nvidia-cudnn-cu12==8.9.2.26 in /local_disk0/.ephemeral_nfs/envs/pythonEnv-b4821e76-36f9-4357-b7d9-77295cabacbf/lib/python3.9/site-packages (from torch) (8.9.2.26)\r\nRequirement already satisfied: nvidia-nvtx-cu12==12.1.105 in /local_disk0/.ephemeral_nfs/envs/pythonEnv-b4821e76-36f9-4357-b7d9-77295cabacbf/lib/python3.9/site-packages (from torch) (12.1.105)\r\nRequirement already satisfied: jinja2 in /databricks/python3/lib/python3.9/site-packages (from torch) (2.11.3)\r\nRequirement already satisfied: nvidia-cusparse-cu12==12.1.0.106 in /local_disk0/.ephemeral_nfs/envs/pythonEnv-b4821e76-36f9-4357-b7d9-77295cabacbf/lib/python3.9/site-packages (from torch) (12.1.0.106)\r\nRequirement already satisfied: typing-extensions>=4.8.0 in /databricks/python3/lib/python3.9/site-packages (from torch) (4.11.0)\r\nRequirement already satisfied: filelock in /usr/local/lib/python3.9/dist-packages (from torch) (3.8.0)\r\nRequirement already satisfied: fsspec in /local_disk0/.ephemeral_nfs/envs/pythonEnv-b4821e76-36f9-4357-b7d9-77295cabacbf/lib/python3.9/site-packages (from torch) (2024.3.1)\r\nRequirement already satisfied: nvidia-cublas-cu12==12.1.3.1 in /local_disk0/.ephemeral_nfs/envs/pythonEnv-b4821e76-36f9-4357-b7d9-77295cabacbf/lib/python3.9/site-packages (from torch) (12.1.3.1)\r\nRequirement already satisfied: nvidia-cufft-cu12==11.0.2.54 in /local_disk0/.ephemeral_nfs/envs/pythonEnv-b4821e76-36f9-4357-b7d9-77295cabacbf/lib/python3.9/site-packages (from torch) (11.0.2.54)\r\nRequirement already satisfied: nvidia-nccl-cu12==2.19.3 in /local_disk0/.ephemeral_nfs/envs/pythonEnv-b4821e76-36f9-4357-b7d9-77295cabacbf/lib/python3.9/site-packages (from torch) (2.19.3)\r\nRequirement already satisfied: nvidia-cuda-cupti-cu12==12.1.105 in /local_disk0/.ephemeral_nfs/envs/pythonEnv-b4821e76-36f9-4357-b7d9-77295cabacbf/lib/python3.9/site-packages (from torch) (12.1.105)\r\nRequirement already satisfied: sympy in /local_disk0/.ephemeral_nfs/envs/pythonEnv-b4821e76-36f9-4357-b7d9-77295cabacbf/lib/python3.9/site-packages (from torch) (1.12)\r\nRequirement already satisfied: triton==2.2.0 in /local_disk0/.ephemeral_nfs/envs/pythonEnv-b4821e76-36f9-4357-b7d9-77295cabacbf/lib/python3.9/site-packages (from torch) (2.2.0)\r\nRequirement already satisfied: networkx in /local_disk0/.ephemeral_nfs/envs/pythonEnv-b4821e76-36f9-4357-b7d9-77295cabacbf/lib/python3.9/site-packages (from torch) (3.2.1)\r\nRequirement already satisfied: nvidia-cusolver-cu12==11.4.5.107 in /local_disk0/.ephemeral_nfs/envs/pythonEnv-b4821e76-36f9-4357-b7d9-77295cabacbf/lib/python3.9/site-packages (from torch) (11.4.5.107)\r\nRequirement already satisfied: nvidia-curand-cu12==10.3.2.106 in /local_disk0/.ephemeral_nfs/envs/pythonEnv-b4821e76-36f9-4357-b7d9-77295cabacbf/lib/python3.9/site-packages (from torch) (10.3.2.106)\r\nRequirement already satisfied: nvidia-cuda-runtime-cu12==12.1.105 in /local_disk0/.ephemeral_nfs/envs/pythonEnv-b4821e76-36f9-4357-b7d9-77295cabacbf/lib/python3.9/site-packages (from torch) (12.1.105)\r\nRequirement already satisfied: nvidia-nvjitlink-cu12 in /local_disk0/.ephemeral_nfs/envs/pythonEnv-b4821e76-36f9-4357-b7d9-77295cabacbf/lib/python3.9/site-packages (from nvidia-cusolver-cu12==11.4.5.107->torch) (12.4.127)\r\nRequirement already satisfied: MarkupSafe>=0.23 in /databricks/python3/lib/python3.9/site-packages (from jinja2->torch) (2.0.1)\r\nRequirement already satisfied: mpmath>=0.19 in /local_disk0/.ephemeral_nfs/envs/pythonEnv-b4821e76-36f9-4357-b7d9-77295cabacbf/lib/python3.9/site-packages (from sympy->torch) (1.3.0)\r\n\u001B[33mWARNING: You are using pip version 21.2.4; however, version 24.0 is available.\r\nYou should consider upgrading via the '/local_disk0/.ephemeral_nfs/envs/pythonEnv-b4821e76-36f9-4357-b7d9-77295cabacbf/bin/python -m pip install --upgrade pip' command.\u001B[0m\r\n"
     ]
    }
   ],
   "source": [
    "!pip install torch"
   ]
  },
  {
   "cell_type": "markdown",
   "metadata": {
    "application/vnd.databricks.v1+cell": {
     "cellMetadata": {
      "byteLimit": 2048000,
      "rowLimit": 10000
     },
     "inputWidgets": {},
     "nuid": "552cca53-57e3-4aa7-8e67-80ed59534a4c",
     "showTitle": false,
     "title": ""
    }
   },
   "source": [
    "Import and clean data"
   ]
  },
  {
   "cell_type": "code",
   "execution_count": 0,
   "metadata": {
    "application/vnd.databricks.v1+cell": {
     "cellMetadata": {
      "byteLimit": 2048000,
      "rowLimit": 10000
     },
     "inputWidgets": {},
     "nuid": "5e289bba-5c27-486c-9b40-43d608f59536",
     "showTitle": false,
     "title": ""
    }
   },
   "outputs": [],
   "source": [
    "import torch\n",
    "import torch.nn as nn\n",
    "import torch.optim as optim\n",
    "from torch.utils.data import Dataset, DataLoader\n",
    "profiles = spark.read.parquet('/linkedin/people')"
   ]
  },
  {
   "cell_type": "code",
   "execution_count": 0,
   "metadata": {
    "application/vnd.databricks.v1+cell": {
     "cellMetadata": {
      "byteLimit": 2048000,
      "rowLimit": 10000
     },
     "inputWidgets": {},
     "nuid": "7ff7caa9-7591-4222-9a8b-910269bd7e5f",
     "showTitle": false,
     "title": ""
    }
   },
   "outputs": [],
   "source": [
    "Israeli_Profiles = pd.read_csv(\"/dbfs/FileStore/shared_uploads/raph@campus.technion.ac.il/Israeli_Profiles-2.csv\")\n",
    "Israeli_Profiles = Israeli_Profiles.dropna(subset=['current_company_company_id'])\n",
    "\n",
    "# Convert pandas DataFrame to Spark DataFrame\n",
    "israeli_profiles = spark.createDataFrame(Israeli_Profiles)\n",
    "\n",
    "deleted_columns = ['url', 'locale', 'name', 'avatar', 'followers', 'connections', 'posts',\n",
    "                   'recommendations', 'canonical_url', 'publications', 'locations', 'country_code',\n",
    "                   'input_url', 'warning', 'warning_code', 'error', 'current_company']\n",
    "\n",
    "Israeli_Profiles_clean = israeli_profiles.drop(*deleted_columns)\n",
    "\n",
    "\n",
    "def extract_info_udf(json_str, info_type):\n",
    "    if json_str is None:\n",
    "        return None\n",
    "\n",
    "    extracted_info = []\n",
    "    try:\n",
    "        data = json.loads(json_str)\n",
    "        if isinstance(data, list):\n",
    "            for item in data:\n",
    "                if info_type == \"projects\":\n",
    "                    title = item.get('title')\n",
    "                    duration = item.get('duration')\n",
    "                    description = item.get('description')\n",
    "                    extracted_info.append(f\"{title} ({duration}): {description}\")\n",
    "                elif info_type == \"patents\":\n",
    "                    title = item.get('title')\n",
    "                    extracted_info.append(f\"{title}\")\n",
    "    except json.JSONDecodeError:\n",
    "        pass\n",
    "    \n",
    "    return extracted_info\n",
    "\n",
    "# Register the UDF\n",
    "extract_info = F.udf(lambda json_str, info_type: extract_info_udf(json_str, info_type), returnType=ArrayType(StringType()))\n",
    "\n",
    "# Apply the UDF to the DataFrame for projects\n",
    "extracted_info_df = Israeli_Profiles_clean.withColumn(\n",
    "    \"project_info\", extract_info(\"projects\", F.lit(\"projects\"))\n",
    ")\n",
    "\n",
    "# Apply the UDF to the DataFrame for patents\n",
    "extracted_info_df = extracted_info_df.withColumn(\n",
    "    \"patent_info\", extract_info(\"patents\", F.lit(\"patents\"))\n",
    ")\n",
    "\n",
    "# Add IDs to DataFrames\n",
    "Israeli_Profiles_clean_with_id = Israeli_Profiles_clean.withColumn(\"id\", monotonically_increasing_id())\n",
    "final_info_df_with_id = extracted_info_df.withColumn(\"id\", monotonically_increasing_id())\n",
    "\n",
    "# Join DataFrames using the unique identifiers\n",
    "joined_df = Israeli_Profiles_clean_with_id.join(final_info_df_with_id.select(\"id\", \"project_info\", \"patent_info\"), \"id\", \"left_outer\")\n",
    "\n",
    "# Drop unnecessary columns\n",
    "final_israeli_joined_df = joined_df.drop(\"id\", \"projects\", \"patents\").filter(col(\"current_company_company_id\").isNotNull())\n",
    "\n"
   ]
  },
  {
   "cell_type": "code",
   "execution_count": 0,
   "metadata": {
    "application/vnd.databricks.v1+cell": {
     "cellMetadata": {
      "byteLimit": 2048000,
      "rowLimit": 10000
     },
     "inputWidgets": {},
     "nuid": "cc8de871-4bb3-47f4-975b-a02d36d3d51f",
     "showTitle": false,
     "title": ""
    }
   },
   "outputs": [
    {
     "output_type": "display_data",
     "data": {
      "text/html": [
       "<style scoped>\n",
       "  .table-result-container {\n",
       "    max-height: 300px;\n",
       "    overflow: auto;\n",
       "  }\n",
       "  table, th, td {\n",
       "    border: 1px solid black;\n",
       "    border-collapse: collapse;\n",
       "  }\n",
       "  th, td {\n",
       "    padding: 5px;\n",
       "  }\n",
       "  th {\n",
       "    text-align: left;\n",
       "  }\n",
       "</style><div class='table-result-container'><table class='table-result'><thead style='background-color: white'><tr><th>project_info</th><th>patent_info</th></tr></thead><tbody><tr><td>null</td><td>null</td></tr><tr><td>null</td><td>null</td></tr><tr><td>null</td><td>null</td></tr><tr><td>null</td><td>null</td></tr><tr><td>null</td><td>null</td></tr><tr><td>null</td><td>null</td></tr><tr><td>null</td><td>null</td></tr><tr><td>null</td><td>null</td></tr><tr><td>null</td><td>null</td></tr><tr><td>null</td><td>null</td></tr><tr><td>null</td><td>null</td></tr><tr><td>null</td><td>List(Device authentication based on behavior classification using convolution neural network, DEEP CONVOLUTION NEURAL NETWORK BEHAVIOR GENERATOR, ASCERTAINING COMMAND COMPLETION IN FLASH MEMORIES, Input/Output Virtualization Host Controller of a Flash-Memory-Based Storage Device)</td></tr><tr><td>null</td><td>null</td></tr><tr><td>null</td><td>null</td></tr><tr><td>null</td><td>null</td></tr><tr><td>null</td><td>null</td></tr><tr><td>null</td><td>null</td></tr><tr><td>null</td><td>List(System and Methods for Detection of Cryptoware, SYSTEMS AND METHODS FOR DETECTION OF MALICIOUS CODE IN RUNTIME GENERATED CODE, Systems and methods for malicious code detection accuracy assurance, Systems and methods for malicious code detection)</td></tr><tr><td>List(CryptoBot (Jun 2017 - Mar 2019): Part-time position in a co-founded initiative as Technical Lead and System Architect developing a rule-based autonomous crypto trading bot in python• Lead a small team of two inexperienced junior developers, mentoring and developing the teams’ skills•Defined and promoted technical and business road maps)</td><td>null</td></tr><tr><td>null</td><td>null</td></tr><tr><td>null</td><td>null</td></tr><tr><td>null</td><td>null</td></tr><tr><td>List(Smart watch (Apple/android/pebble) (Oct 2015 - Jun 2016): Examine how different applications and interaction methods (e.g., notifications, messages, voice recognition) affect user’s behavior and satisfaction in smart watch devices.For the project I developed a survey mobile application under Android smartphones that shows to the users surveys 3 times in day and collects their answers to DB for later process on the collected data.The app was built under Android SDK , the web Server with the api was built in PHP , the DB is managed in MySQL , also Pebble SDK was used.The Project is final project for the degree and will have all the documentation that a project should have.Project Facilitator: Dr. Hadas Chassidim)</td><td>null</td></tr><tr><td>List(Content Consulting for a Harry Potter game (Apr 2020 - Jul 2020): converting an existing game to its Harry Potter version. * creating a background story and rules for the game* taking part in the design process* working with a major game publishing company, Final Project in Machine Learning (Mar 2020 - Jul 2020): • Working with large data sets• Exploring and pre-processing• Implementing and evaluating using various ML models.• Creating a projection model., Final Project in Statistics Data Analysis course with R (Oct 2019 - Feb 2020): • Working with big data sets• Data importing a tidying• Transforming, visualizing and modeling data• Communicating• Using R, GitHub and Kaggle• Making hypothesis and exploring them)</td><td>null</td></tr><tr><td>null</td><td>null</td></tr><tr><td>null</td><td>null</td></tr><tr><td>null</td><td>null</td></tr><tr><td>null</td><td>null</td></tr><tr><td>List(Educational World Map (Feb 2022): An Educational map of the world. More details soon!)</td><td>null</td></tr><tr><td>null</td><td>null</td></tr><tr><td>null</td><td>null</td></tr><tr><td>null</td><td>null</td></tr><tr><td>null</td><td>null</td></tr><tr><td>null</td><td>null</td></tr><tr><td>null</td><td>null</td></tr><tr><td>null</td><td>null</td></tr><tr><td>null</td><td>null</td></tr><tr><td>List(Developing social network (None): Initiated and leading a social network project for Infinity graduates using Django (python) framework, React and PostgreSQL with REST API.)</td><td>null</td></tr><tr><td>null</td><td>null</td></tr><tr><td>null</td><td>null</td></tr><tr><td>null</td><td>null</td></tr><tr><td>null</td><td>null</td></tr><tr><td>null</td><td>null</td></tr><tr><td>null</td><td>null</td></tr><tr><td>null</td><td>null</td></tr><tr><td>null</td><td>null</td></tr><tr><td>null</td><td>null</td></tr><tr><td>null</td><td>null</td></tr><tr><td>null</td><td>List(Detection and mitigation of on-line advertisement abuse)</td></tr><tr><td>null</td><td>null</td></tr><tr><td>null</td><td>null</td></tr><tr><td>null</td><td>null</td></tr><tr><td>null</td><td>null</td></tr><tr><td>null</td><td>null</td></tr><tr><td>null</td><td>null</td></tr><tr><td>null</td><td>null</td></tr><tr><td>null</td><td>null</td></tr><tr><td>null</td><td>null</td></tr><tr><td>null</td><td>null</td></tr><tr><td>null</td><td>null</td></tr><tr><td>null</td><td>null</td></tr><tr><td>null</td><td>null</td></tr><tr><td>null</td><td>null</td></tr><tr><td>null</td><td>null</td></tr><tr><td>null</td><td>null</td></tr><tr><td>null</td><td>null</td></tr><tr><td>null</td><td>null</td></tr><tr><td>null</td><td>null</td></tr><tr><td>null</td><td>null</td></tr><tr><td>null</td><td>null</td></tr><tr><td>List(BuildFlow (Sep 2021 - Oct 2021): BuildFlow is a single page application that let you build your own website quickly, inspired by Wix.BuildFlow was built over a period of two weeks, it is a fully responsive website, and works great on all platforms.The app let the user simply drag and drop elements and easily create, edit, save and publish websites.Users can invite other users to work live together on the same project, using web sockets.Users can easily login with their google account and manage their websites., None (None): None, None (None): None, Simplify (Aug 2021 - Aug 2021): This project was inspired by google keeps, gmail and a book library.It is built with React and designed by me and my partner using Figma.The book library was implemented with a use of an API., None (None): None, MemeGen (Jul 2021 - Jul 2021): MemeGen is an application that gives you an option to create memes, edit text on them, adding your own photos and downloading your memes.This project is built using the HTML Canvas.)</td><td>null</td></tr><tr><td>null</td><td>null</td></tr><tr><td>null</td><td>null</td></tr><tr><td>null</td><td>null</td></tr><tr><td>null</td><td>null</td></tr><tr><td>null</td><td>null</td></tr><tr><td>null</td><td>null</td></tr><tr><td>null</td><td>null</td></tr><tr><td>null</td><td>null</td></tr><tr><td>null</td><td>null</td></tr><tr><td>null</td><td>null</td></tr><tr><td>null</td><td>null</td></tr><tr><td>List(PixeLook - Live Gaze Estimator From Webcam (Apr 2020 - Feb 2021): PixeLook is an efficient online gaze estimator with robust head pose consideration, which captures an image through user’s webcam on domestic computing power and environment. We used python environment, mostly built on PyTorch and OpenCV frame works.For further more information, check our video - https://lnkd.in/eCN-PkiE., Paper Share - Web for exchanging study material (Aug 2020 - Dec 2020): Friendly website which gives students a platform in order to give-away, receive and exchange your study material for free., None (None): None, None (None): None)</td><td>null</td></tr><tr><td>null</td><td>null</td></tr><tr><td>null</td><td>null</td></tr><tr><td>null</td><td>null</td></tr><tr><td>null</td><td>null</td></tr><tr><td>null</td><td>null</td></tr><tr><td>null</td><td>null</td></tr><tr><td>null</td><td>null</td></tr><tr><td>null</td><td>null</td></tr><tr><td>null</td><td>null</td></tr><tr><td>null</td><td>null</td></tr><tr><td>null</td><td>null</td></tr><tr><td>null</td><td>null</td></tr><tr><td>null</td><td>null</td></tr><tr><td>null</td><td>null</td></tr><tr><td>null</td><td>null</td></tr><tr><td>null</td><td>null</td></tr><tr><td>null</td><td>null</td></tr><tr><td>List(Count von Count - (Dec 2013): Counting millions of events and showing real-time numbers and leaderboards is a big challenge in sites with high scalability. Count-von-Count is an open source project that was developed at FTBpro for a gamification project and it turned into something that can count any kind of actionYou can read more on: http://tech.ftbpro.com/post/73212710968/count-von-count-a-real-time-counting-database, Choozie (Jan 2013): Choozie is a social platform where you can share your fashion dilemmas and get instant opinions from friends and others. Involved in every aspect of the product from design and marketing to code development., None (None): None, None (None): None, None (None): None)</td><td>null</td></tr><tr><td>null</td><td>null</td></tr><tr><td>null</td><td>null</td></tr><tr><td>null</td><td>null</td></tr><tr><td>null</td><td>null</td></tr><tr><td>List(Cuckoo Sandbox (Dec 2018 - Oct 2019): Installing and configuring Cuckoo Sandbox.Maintaining and providing additional features.)</td><td>null</td></tr><tr><td>null</td><td>null</td></tr><tr><td>null</td><td>null</td></tr><tr><td>null</td><td>null</td></tr><tr><td>null</td><td>List(Detection of domain name impersonation, Real-time contextual monitoring intrusion detection and prevention, Application monitoring, Contextual monitoring and tracking of SSH sessions, SOFTWARE TEST MANAGEMENT SYSTEM AND METHOD WITH FACILITATED REUSE OF TEST COMPONENTS)</td></tr><tr><td>null</td><td>null</td></tr><tr><td>List(Prediction of Anesthesia Depth based on EEG Signals (Mar 2022 - Dec 2022): Creating a classic machine learning model to estimate depth of anesthesia based on raw EEG signals, None (None): None, Classifying Musical Key and Scale in Short Audio Samples (Apr 2021 - Jan 2022): Creating a complex Deep Learning based system for classifying musical key and scale., None (None): None)</td><td>null</td></tr><tr><td>null</td><td>null</td></tr><tr><td>List(My Github Page (Jun 2018 - Sep 2018): None)</td><td>null</td></tr><tr><td>null</td><td>null</td></tr><tr><td>null</td><td>null</td></tr><tr><td>null</td><td>null</td></tr><tr><td>null</td><td>null</td></tr><tr><td>null</td><td>null</td></tr><tr><td>null</td><td>null</td></tr><tr><td>null</td><td>null</td></tr><tr><td>null</td><td>null</td></tr><tr><td>null</td><td>null</td></tr><tr><td>List(Wombat Voting System (Oct 2011 - Jul 2012): Wombat is an academic project whose main objective is to explore the feasibility of end-to-end verifiable voting. To this end, we put a strong emphasis on simplicity of design and compatibility with more traditional, paper based, voting systems.The project was, for the most part, developed by IDC undergraduate students, aided by students from Tel Aviv University. The mixnet system used by Wombat is called Verificatum and was developed by Douglas Wikstrom from KTH Stockholm., None (None): None, None (None): None, None (None): None, None (None): None)</td><td>null</td></tr><tr><td>null</td><td>null</td></tr><tr><td>null</td><td>null</td></tr><tr><td>null</td><td>null</td></tr><tr><td>null</td><td>null</td></tr><tr><td>null</td><td>null</td></tr><tr><td>null</td><td>null</td></tr><tr><td>null</td><td>null</td></tr><tr><td>null</td><td>null</td></tr><tr><td>null</td><td>null</td></tr><tr><td>List(Innovative Order Form Design for Enhanced User Experience (Nov 2022 - Feb 2023): Project Overview:In response to challenges posed by an outdated order form implemented through a legacy application, I took on the task of revolutionizing the user experience for both our community and internal users.Key Features:Dynamic Fields Based on User Selections:The new form intelligently displays relevant fields based on user selections, ensuring a tailored experience and eliminating unnecessary clutter.Save and Resume Functionality:Users have the flexibility to save their progress at any point and return to complete the form at their convenience. Upon returning to their saved form, users will be directed to the exact point they last visited, eliminating the need to restart from the beginning. This feature enhances user convenience and accommodates varying time constraints.Effortless Changes Implementation:The redesigned form architecture allows for swift and seamless implementation of changes. No more grappling with the challenges posed by the previous system, where each modification demanded extensive effort.Bug-Resistant Ordering Process:The updated form guarantees a streamlined and more bug-resistant ordering process for both our customers and internal teams.Results:The adoption of this improved process has garnered positive feedback from our users. The heightened satisfaction is a testament to our commitment to delivering not just products, but exceptional experiences., Lightning Experience Transformation (Oct 2019 - Feb 2020): The Lightning Experience transformation in Lumenis was carried out with the aim of improving the UX, UI, and productivity of 900 users.Before the project started, I've educated myself about the key features and the benefits of Lightning Experience. I've also learned how to build a transformation strategy.During the project, I've performed an analysis of our business priorities, the company's org’s readiness to transition, and our technical strategy.We've educated our company about the rollout strategy, including presentations to our executives that outlined the ROI of moving to Lightning Experience, plus the scope, timeline, and cost of the project. We shared Lightning Experience with key stakeholders and demonstrated how they can benefit from the transformation.We have performed the implementations and managed our developers who worked on some code adjustments.I've created training materials (videos and guides) in order to increase the users' adoption, and we've provided hands-on training to our key users, so they will be able to pass their knowledge to their teams.We have tested the changes in our test environments, along with our key users, and made changes, as needed.We've communicated the project implications, as well as the deployment date, to all of the teams involved, and to all of the relevant end-users.Summary:We've Improved the UX, UI, and productivity by moving 90% of the users to Lightning Experience (our community users are still in classic).There is still much to be done since change isn't always easy for some people, but we are very satisfied with the change that was made and the overall adoption., Enabling Country and State Picklists (Jan 2019 - Jul 2019): The implementation of the Country and State Picklist fields was performed in an 11 years old ORG.Working with Country and State text picklist fields enabled users to add Inaccurate or incomplete data.We realized that this data may cause an Inefficiency and lack of quality data.Bad data was preventing us from providing our company's managers and management with an accurate 360-degree view of our business.In order to make the change, I had to update formulas and validation rules. In addition, I've managed our Salesforce developers in order to adjust Apex Classes. During that time, I've fixed the data of millions of records.Before I've enabled the Country and State picklists, I've communicated the project implications, as well as the deployment date, to all of the teams involved, and also to end-users.The project was successfully deployed to our Production environment without any major problems. The project improved our org's data quality, reduced mistakes, and allows our management to make better decisions., Documentation Feature Implementation (Sep 2018 - Nov 2018): The Problem:* Common admin procedures were not documented* Metadata changes or new Metadata developments and implementations were barely documentedWithout documentation, the Salesforce Admins found it hard to perform repetitive procedures. In addition, when the Salesforce Admin tried to solve a process issue, they found it very hard to understand who created the process, why he did it, and how. They didn't even know which component is a part of which process.The Solution:I've created a new custom object that allows Admins to:1. Document procedures - admins are now able to document Salesforce admins' procedures with ease. 2. Document Changes - admins are now able to document changes. They can explain the reason/requirements for the change, and elaborate on what their solution was. We can attach documents on every record, and communicate with other admins through Chatter.The solution I've implemented allows us, the admins, to perform procedures without forgetting anything. It allows us to make fewer mistakes. We also have a clear understanding of how our org operates.Now, all of our essential information and processes are in one, easy-to-access place., Case Management (Feb 2018 - Aug 2018): The Problem:Some of our departments did not have a way to support our company's end-users. We were looking for a better way to manage our processes from first contact to resolution.The Solution:Since two of our departments were already using Salesforce Cases, we decided to design a similar solution for the rest of our company's departments. I've created a design based on the requirements and input of our departments and their support teams.I've implemented the change by using Process Builder, Workflow Rules, Email Alerts, Validation Rules, and Assignment Rules, etc.We have trained our support teams on the new process and then deployed it to the production environment.Now, our end-users are able to contact us at any time and receive a professional, efficient and effective support.)</td><td>null</td></tr><tr><td>null</td><td>null</td></tr><tr><td>null</td><td>null</td></tr><tr><td>null</td><td>null</td></tr><tr><td>null</td><td>null</td></tr><tr><td>null</td><td>null</td></tr><tr><td>null</td><td>null</td></tr><tr><td>null</td><td>null</td></tr><tr><td>null</td><td>null</td></tr><tr><td>null</td><td>null</td></tr><tr><td>null</td><td>null</td></tr><tr><td>null</td><td>null</td></tr><tr><td>null</td><td>null</td></tr><tr><td>List(LAW-TRAIN (Jun 2015 - Present): LAW-TRAIN is an European Commission funded project aimed at fighting international drug-trafficking by developing a virtual interrogation training system. The training system is developed in a collaborative action by universities, national governments and professional enterprises.The virtual gaming platform will allow law enforcement units to practice the interrogation of suspects in a multicultural and virtual reality context. Through extensive research in the field of computer science and criminology the mixed reality gaming platform makes it possible to generate characters with changing attributes and parameters. Based on these demographic variables, so called “Virtual Suspects” can be generated, which will give rise to multiple interrogation scenarios in a close to realistic environment. Because of the virtual nature of the system, the simulator will be accessible from any country at any given time. To improve the training results, so called “Intervention Agents” will follow the practice sessions online and give real-time feedback to trainees., None (None): None, None (None): None, None (None): None, None (None): None, None (None): None, None (None): None, None (None): None, None (None): None)</td><td>null</td></tr><tr><td>null</td><td>null</td></tr><tr><td>null</td><td>null</td></tr><tr><td>null</td><td>null</td></tr><tr><td>null</td><td>null</td></tr><tr><td>null</td><td>null</td></tr><tr><td>null</td><td>null</td></tr><tr><td>null</td><td>null</td></tr><tr><td>null</td><td>null</td></tr><tr><td>null</td><td>null</td></tr><tr><td>null</td><td>null</td></tr><tr><td>List(Fixing Galaxy S3 devices by reversing eMMC's firmware and gaining code execution (Jan 2013 - Dec 2017): As many Samsung Galaxy S3 devices around the world started dying, I couldn't stand aside. I picked my device (although it was still alive!) and began to understand what is going on.As I read Samsung's alleged patch to fix the problem, it turned out that the device's embedded eMMC chip is to blame. As I made some clever guesses and used a little bit of magic, I was able to dump the entire firmware of the chip, which appeared to sport an ARM Cortex-M3 core inside.As I went deeper into the firmware, I understood what the bug was and what Samsung was trying to do - stall the device whenever it encounters the bug, instead of fixing it!I wrote a program which low level formats the device in order to avoid the bug. I also added a field upgrade feature so that one may upgrade his eMMC firmware to fix it., Android on A639 (Dec 2012 - Feb 2013): Porting Android to the ASUS MyPal A639 pocket PC device.As our final project of our BSc studies, we ported Android to the ASUS A639 device. In order to accomplish this goal, we understood some of the internal hardware structures of the device using methods like static reverse engineering and black-box testing.We added support to the Linux kernel for the specific machine architecture of this device, and configured Android 1.6 Donut to properly run on this device.We have support for basic features which make the device usable - including the LCD screen, the touch digitizer, hardware buttons, SD card controller etc., None (None): None, None (None): None, iDroid Project (Mar 2011 - Oct 2011): An ambitious project which aims to run Android on Apple iOS based devices.I was a part of the OpeniBoot team. We developed an alternative bootloader for iOS based devices. Other than its primary feature - support for booting a Linux kernel, OpeniBoot provides much more features as compared to the native iBoot.I developed the Flash Translation Layer (FTL) which is 100% compatible with Apple's implementation. This allows us to run Linux alongside iOS on the same device.In addition I developed some other drivers such as the Power Management Unit (PMU) driver.Since most of the iPhone's hardware is not publicly documented, during the development we had to use techniques such as black-box debugging and clean room reverse engineering. Furthermore, I wrote an infrastructure which patches iBoot and seamlessly installs traces in order to understand its inner logic.)</td><td>List(Drug library update monitoring, Medication usage auditing based on analysis of infusion pump network traffic, Crowd-based recommendations of a version of firmware for medical devices)</td></tr><tr><td>null</td><td>null</td></tr><tr><td>null</td><td>null</td></tr><tr><td>null</td><td>null</td></tr><tr><td>null</td><td>null</td></tr><tr><td>null</td><td>null</td></tr><tr><td>null</td><td>null</td></tr><tr><td>null</td><td>null</td></tr><tr><td>null</td><td>null</td></tr><tr><td>null</td><td>null</td></tr><tr><td>null</td><td>null</td></tr><tr><td>null</td><td>null</td></tr><tr><td>null</td><td>null</td></tr><tr><td>null</td><td>null</td></tr><tr><td>List(ML-web-game-platform (Apr 2023): Web platform for training ML models for simple games, initialize it and let it run!, D&D-Party (None): Website for managing D&D parties, build with Flask Python and MYSQL.Allows registration, login, article publication, party view., Img-Classification (None): Classify image of numb value, using convolution neural networks., Kaggle-Titanic-Challenge (None): A submission of a Kaggle competition, creating Classification models to determine survivability., Language-Model (None): LSTM Neural networks for word predictions.)</td><td>null</td></tr><tr><td>null</td><td>null</td></tr><tr><td>List(Motors Control using CAN bus (Aug 2018 - Jul 2019): Controlling 6 maxon motors that connects to the wheels and controlled via EPOS4 to work simultaneously via CAN bus protocol., None (None): None, FPGA project with digital lock mechanism  (Sep 2018 - Feb 2019): Program using VHDL digital lock mechanism within Spartan-3E FPGA Starter Board)</td><td>null</td></tr><tr><td>null</td><td>null</td></tr><tr><td>null</td><td>null</td></tr><tr><td>null</td><td>null</td></tr><tr><td>null</td><td>null</td></tr><tr><td>null</td><td>null</td></tr><tr><td>List(onInit (May 2020 - Jun 2020): Developed marketplace for courses, based ReactJS and Redux as state management,NodeJS with express along with web sockets and MongoDB ., Final Degree Project (Oct 2018 - Jun 2019): Departmental Excellence Project with Score 97:Development of a revolutionizing social network app for wandering and lost pets, Based React Native using Firebase database.- Received a social scholarship and selected project at 2019 Engineers Society.)</td><td>null</td></tr><tr><td>null</td><td>null</td></tr><tr><td>null</td><td>null</td></tr><tr><td>null</td><td>null</td></tr><tr><td>null</td><td>null</td></tr><tr><td>null</td><td>null</td></tr><tr><td>null</td><td>null</td></tr><tr><td>null</td><td>null</td></tr><tr><td>null</td><td>null</td></tr><tr><td>null</td><td>null</td></tr><tr><td>null</td><td>null</td></tr><tr><td>List(The Junction (Dec 2011): At Genesis I help entrepreneurs take it to the next level through The Junction (@thejunction32), a shared space, startup accelerator and alumni organization, all packed into a grungey loft in the south of Tel Aviv. The Junction was recently selected (http://www.newsgeek.co.il/geek-awards-2012-winners/) as \"Best Startup Program in Israel\" by over 20,000 of our peers.)</td><td>List(Relationship mapping employing multi-dimensional context including facial recognition, Systems and methods for image-to-text and text-to-image association, Real time monitoring of computer for determining speed and energy consumption of various processes, RELATIONSHIP MAPPING EMPLOYING MULTI-DIMENSIONAL CONTEXT INCLUDING FACIAL RECOGNITION, SYSTEM FOR MONITORING COMPUTER SYSTEMS AND ALERTING USERS OF FAULTS, REAL TIME MONITORING OF COMPUTER FOR DETERMINING SPEED OF VARIOUS PROCESSES, CENTRALIZED NETWORK CONTROL)</td></tr><tr><td>List(Furet (May 2014 - Present): Roll and manage FIFA games with your friends., None (None): None)</td><td>null</td></tr><tr><td>null</td><td>null</td></tr><tr><td>null</td><td>null</td></tr><tr><td>null</td><td>null</td></tr><tr><td>List(Keynote speaker: Israel Devcon 2017 (Jun 2017): Gave a keynote at the Intel-sponsored developer conference with the title:\"Getting ready to get ready for EXAscale - Tales from the trenches\")</td><td>null</td></tr><tr><td>null</td><td>null</td></tr><tr><td>null</td><td>null</td></tr><tr><td>null</td><td>null</td></tr><tr><td>null</td><td>null</td></tr><tr><td>null</td><td>null</td></tr><tr><td>null</td><td>null</td></tr><tr><td>null</td><td>null</td></tr><tr><td>null</td><td>null</td></tr><tr><td>null</td><td>null</td></tr><tr><td>List(Shaar-Olami, Israeli customs next generation system (Jan 2010 - Dec 2012): Architecture, Design, Development, and Deployment of the new Israeli Custom System (Shaar Olami) Converting all the Israeli Customs Core System from Mainframe Technology to Microsoft Technologies (High-Scale Silverlight Web Applications and WPF and .NET Framework 4.0) and SOA architecture, None (None): None, None (None): None, None (None): None)</td><td>null</td></tr><tr><td>null</td><td>null</td></tr><tr><td>List(Representing a leading US Patent Monetization Group in the Acquisition of an Israeli Patent Portfolio (2014): I have represented a leading US patent monetization group in the acquisition of a large patent portfolio of an Israeli technology company., Representing CEVA Inc. in its $19M acquisition of RivieraWaves (2014): DSP solutions provider Ceva Inc. (Nasdaq:CEVA); LSE:CVA) has acquired RivieraWaves for $19 million. RivieraWaves is a privately held company and provider of wireless connectivity IP for Wi-Fi and Bluetooth technologies., Representing Surpass Medical in its $135M acquistion by Stryker (Jun 2012 - Nov 2012): Surpass Medical is an Israeli medical device company developing and commercializing flow diversion stent technology to treat brain aneurysms. Surpass was acquired by Stryker Corporation, one of the world's leading medical technology companies, for an aggregate consideration of 135 million dollars., New R&D Regulations Affect Redemption Fees Payable to the Office of the Chief Scientist (May 2012 - May 2012): Regulations approved in May 2012 place a limit on the \"redemption fee\" which companies supported by the Israeli Office of the Chief Scientist must pay in the event of an overseas transfer of know-how. These regulations are aimed at providing OCS-supported companies greater certainty regarding the consequences of international transactions, while preserving the statutory incentives to keep Israeli R&D operations and the resulting know-how in Israel., Landmark Case Establishes Guidelines for Monitoring Employee Online Activity (Mar 2011 - Mar 2011): According to a recent major decision by the Israeli National Labor Court, however, this situation is likely to dramatically change. Generic, sweeping or vague internet use policies of employers will no longer be allowed. In this Privacy Update, we will review the court's decision and the new guidelines for monitoring and examining the content of employee email and online activity., Israel Joining the Madrid System for Trademark Registration (Sep 2010 - Sep 2010): On September 1, 2010, Israel joined the Madrid System for the International Registration of Trademarks. The Madrid System allows companies and individuals to apply for trademark protection in various countries simultaneously using one central filing and registration procedure.)</td><td>null</td></tr><tr><td>null</td><td>null</td></tr><tr><td>List(Selenium IDE (Sep 2017 - Present): Open source record and playback test automation for the web)</td><td>null</td></tr><tr><td>null</td><td>null</td></tr><tr><td>null</td><td>null</td></tr><tr><td>null</td><td>null</td></tr><tr><td>List(School Management Information System (Dec 2012): None, None (None): None, None (None): None, None (None): None, None (None): None, Intel® Small Business Advantage (Mar 2011 - Present): Intel® Small Business Advantage (Intel® SBA) is a new computing platform, consisting of hardware, software, and firmware, for small businesses without a managed network. Intel® SBA also includes six applications to help manage security and productivity issues., None (None): None, None (None): None)</td><td>null</td></tr><tr><td>null</td><td>List(Fast matrix multiplication and linear algebra by alternative basis)</td></tr><tr><td>List(Neefla (Jun 2017 - Present): None, None (None): None)</td><td>null</td></tr><tr><td>null</td><td>null</td></tr><tr><td>null</td><td>null</td></tr><tr><td>null</td><td>null</td></tr><tr><td>null</td><td>null</td></tr><tr><td>null</td><td>null</td></tr><tr><td>null</td><td>null</td></tr><tr><td>null</td><td>null</td></tr><tr><td>List(Corn and maize diseases classification (None): Used Efficientnet to classify various diseases with ~95% average accuracy., Image Colorization Using UNET (None): Used UNet architecture on human faces dataset for colorization of black and white images., Images classification for sports (None): Used VGG16 transfer-learning and fine-tuning to identify 22 sports categories. The project includes significant data preprocessing and investigation., Predict Churning customers (None): Given different characteristics for bank customers, forecast whether they will leave the bank. The project entails data exploration and training a Random Forest classifier. Achieved 98% accuracy., Semantic Segmentation for Autonomous Vehicles (None): I used UNet to segment the cityscapes dataset in this project. It included the use of the K-means algorithm for class clustering.)</td><td>List(Device and Method to Spectrally Resolve Optical Radiation)</td></tr><tr><td>null</td><td>null</td></tr><tr><td>List(Shooting game - C++ (None): a console application.It can be played by both human & computer players.During the project I've used: OO Design, Polymorphism, reading from files, Exceptions., UpDate (None): a dating web-app.the goal is to match between men and women according to their appearance and characteristics.-select your own appearance and characteristics, select your love appearance and characteristics.get matches with scores from 1-100!We used the following technologies :- Server side: Java programing. Base on Java Servlets.- Web app: HTML5, CCS3, JS, JQuery, Ajax.-Single page architecture.- Data Base: MySql, Redis., None (None): None, None (None): None)</td><td>null</td></tr><tr><td>null</td><td>null</td></tr><tr><td>null</td><td>null</td></tr><tr><td>null</td><td>null</td></tr><tr><td>null</td><td>null</td></tr><tr><td>null</td><td>null</td></tr><tr><td>null</td><td>null</td></tr><tr><td>null</td><td>null</td></tr><tr><td>List(vlsi implementation for FIR filter (Dec 2017): students project at the vlsi lab in the technion. implemented an FIR filter system with sin/cos modulation and factor 8 down-sampling for US transducer system. focused on the vhdl design and verification stages.)</td><td>null</td></tr><tr><td>null</td><td>null</td></tr><tr><td>null</td><td>null</td></tr><tr><td>null</td><td>null</td></tr><tr><td>null</td><td>null</td></tr><tr><td>null</td><td>null</td></tr><tr><td>null</td><td>null</td></tr><tr><td>null</td><td>null</td></tr><tr><td>null</td><td>null</td></tr><tr><td>null</td><td>null</td></tr><tr><td>null</td><td>null</td></tr><tr><td>List(Booster system for pressurized Nitrogen gas (Sep 2012 - Oct 2012): Booster system for pressurized Nitrogen gas on the end of existing pipeline between Maxima and ChemAgis (Israel, Ramat Hovav). Which was under the supervision of Maxima’s chief engineer Aharon Brayer., Rebuild Walla! mail app server side with php7 (None): I joined the team, and with time was the only server side developer in Walla! to complete the implementation of Walla php mvc framework \"CASTLE\" in Walla! mail app.and finished to build the mail server side with PHP7 including mail features and complete unit tests and API with SWAGGER., Walla! data migration to AWS (None): I led the design, implementation and execution of Mail data migration from local server and storage to AWS, Walla!sport (None): None)</td><td>null</td></tr><tr><td>null</td><td>null</td></tr><tr><td>List(DomeIL (Oct 2023 - Feb 2024): I developed a Python-based project for a nationwide explanatory initiative. In this project, I created several scrapers for various social media platforms, adhering to time constraints. We managed a community of volunteers through an email system, ensuring each volunteer received a daily email with information sourced by our custom-built Python system., None (None): None, Assembler for Assembly language using The C programming language (Mar 2021 - Aug 2021): Developed a project in C language, specifically for the Ubuntu Virtual Machine. The project involves creating an Assembly language Assembler that performs a two-pass translation of input into Assembly language. Ultimately, the code efficiently translates Assembly code into machine language.)</td><td>null</td></tr><tr><td>List(js-must-watch (Jun 2014): Opinionated list of videos about JavaScript, Open Rights (Aug 2019 - Feb 2020): Register the photos you post on InstagramOpen-Rights.org is the independent database for registering your photos to your name, free of charge, forever., None (None): None, Web OPCAT (None): Web OPCAT is web- and cloud-based IDE and implement the formal operational semantics definitions of OPM. Our vision is to have a universal repository of standard OPM model snippets in various domains. They are freely available in the cloud as \"Lego\" pieces from which anyone can easily build, test, and run OPM models using a friendly cloud environment for their assembly. Models should be populated with instances and be simulated on the fly. , None (None): None, None (None): None, None (None): None, Wix Media Platform (None): Wix Media Platform, together with Google Cloud Platform, provides all the tools you need to fully manage your media. Transform Your Images on the Fly. Play Videos on All Devices. Store Basic and Professional Audio., None (None): None)</td><td>List(Computer-Aided Information System \"ECHO\")</td></tr><tr><td>null</td><td>null</td></tr><tr><td>null</td><td>null</td></tr><tr><td>null</td><td>null</td></tr><tr><td>null</td><td>null</td></tr><tr><td>null</td><td>null</td></tr><tr><td>null</td><td>null</td></tr><tr><td>null</td><td>null</td></tr><tr><td>null</td><td>null</td></tr><tr><td>null</td><td>null</td></tr><tr><td>null</td><td>null</td></tr><tr><td>null</td><td>null</td></tr><tr><td>null</td><td>null</td></tr><tr><td>null</td><td>null</td></tr><tr><td>null</td><td>null</td></tr><tr><td>null</td><td>null</td></tr><tr><td>null</td><td>null</td></tr><tr><td>null</td><td>null</td></tr><tr><td>null</td><td>null</td></tr><tr><td>null</td><td>null</td></tr><tr><td>null</td><td>null</td></tr><tr><td>null</td><td>null</td></tr><tr><td>null</td><td>null</td></tr><tr><td>null</td><td>null</td></tr><tr><td>null</td><td>null</td></tr><tr><td>null</td><td>null</td></tr><tr><td>null</td><td>null</td></tr><tr><td>null</td><td>null</td></tr><tr><td>List(Gamification in the System Analysis and Design Course (Aug 2013 - Aug 2014): Implementing gamification into a Knowledge Management System (KMS) for the university course \"System Analysis and Design\". This course is mandatory for students which are pursuing a B.Sc. degree in Industrial Engineering and Management in Ben Gurion University. The practical part of the project was to build a KMS integrated with Gamification elements and mechanics. In the academic research part of the project a study was conducted to evaluate the influence of exterior and intrinsic motivation on the course’s grade., None (None): None)</td><td>null</td></tr><tr><td>null</td><td>null</td></tr><tr><td>null</td><td>null</td></tr><tr><td>null</td><td>null</td></tr><tr><td>null</td><td>null</td></tr><tr><td>null</td><td>null</td></tr><tr><td>null</td><td>null</td></tr><tr><td>null</td><td>null</td></tr><tr><td>null</td><td>null</td></tr><tr><td>null</td><td>null</td></tr><tr><td>null</td><td>null</td></tr><tr><td>null</td><td>null</td></tr><tr><td>null</td><td>null</td></tr><tr><td>null</td><td>null</td></tr><tr><td>List(Yavne - Railway tunnel (2010): The Yavne Pleshet track section forms section B3 in the Rishon Lezion Bnei Darom railway line. The route of the railway track in this section begins from Yavne Interchange as it extends southwards and east of Road 4, including a tunnel and a bridge to the dual tracks. The design work include designing a tunnel by the \"Cut and Cover\" method in an arched cut made of reinforced concrete 14m wide for the duel railway tracks, and a total length of 750m, as well as designs of pre-stressed concrete beam bridge 70m long, for crossing the tracks over Yavne Stream. In addition, retaining walls are designed for the tunnel's entrance and exit points at a total area of 5000m2.)</td><td>null</td></tr><tr><td>null</td><td>null</td></tr><tr><td>null</td><td>null</td></tr><tr><td>null</td><td>null</td></tr><tr><td>null</td><td>null</td></tr><tr><td>null</td><td>null</td></tr><tr><td>List(MomSense (2013 - 2015): Momsense is the only Smart Breastfeeding Meter that tells you how much your baby has nursed. - Proved technical feasibility- Patented the technology- Built first POC including HW & algorithms- Built first product version, DroidZ - your guitar teacher :) (2012 - 2014): POC of guitar play teaching application without any cables. All you need is a guitar!Acoustic analysis of guitar sounds using microphone in real-time, real-time classification of music notes & accords with machine learning. Multi-threaded application with: data acquisition, data analysis thread, classification thread. All heavy lifting performed in native C++ code.The POC is fully functional.)</td><td>List(Systems and methods for monitoring of mechanical and electrical machines, Systems and methods for acoustic emission monitoring of semiconductor devices, Real time detection of gastrointestinal sections and transitions of an in-vivo device therebetween, System and method for assessing a patient condition using tertiles derived from capsule endoscope images of the small bowel , System and method for detecting infant swallowing )</td></tr><tr><td>null</td><td>null</td></tr><tr><td>null</td><td>null</td></tr><tr><td>null</td><td>null</td></tr><tr><td>null</td><td>List(Semi-automatic generation of multimedia content, Semi-automatic generation of multimedia content)</td></tr><tr><td>null</td><td>null</td></tr><tr><td>null</td><td>null</td></tr><tr><td>null</td><td>null</td></tr><tr><td>null</td><td>null</td></tr><tr><td>null</td><td>null</td></tr><tr><td>null</td><td>null</td></tr><tr><td>null</td><td>null</td></tr><tr><td>null</td><td>null</td></tr><tr><td>null</td><td>null</td></tr><tr><td>null</td><td>null</td></tr><tr><td>null</td><td>null</td></tr><tr><td>null</td><td>null</td></tr><tr><td>null</td><td>null</td></tr><tr><td>null</td><td>null</td></tr><tr><td>null</td><td>null</td></tr><tr><td>null</td><td>null</td></tr><tr><td>null</td><td>null</td></tr><tr><td>null</td><td>null</td></tr><tr><td>null</td><td>null</td></tr><tr><td>null</td><td>null</td></tr><tr><td>null</td><td>null</td></tr><tr><td>null</td><td>null</td></tr><tr><td>null</td><td>null</td></tr><tr><td>null</td><td>null</td></tr><tr><td>null</td><td>null</td></tr><tr><td>null</td><td>null</td></tr><tr><td>null</td><td>null</td></tr><tr><td>null</td><td>null</td></tr><tr><td>null</td><td>null</td></tr><tr><td>List(BEEHD (None): Developing VoIP video phone (SIP), None (None): None, None (None): None, None (None): None, None (None): None, None (None): None, None (None): None, None (None): None, MNT/NEBO (None): Easy to use, cost effective and robust against deception fingerprint based authentication technology, None (None): None, None (None): None)</td><td>List(A system and a method for providing video content to a target system)</td></tr><tr><td>null</td><td>null</td></tr><tr><td>null</td><td>null</td></tr><tr><td>null</td><td>List(Non-swivel suture anchor for knotless fixation of tissue, Cannulated implant delivery device with adjustable insertion depth, Fiber-reinforced biocomposite medical implants with deformable protrusions and methods of use thereof, Fiber bundle reinforced biocomposite medical implants, Precision surface treated biocomposite material, medical implants comprising same and methods of treatment thereof, Multi-level vertebral implant system)</td></tr><tr><td>null</td><td>null</td></tr><tr><td>null</td><td>null</td></tr><tr><td>null</td><td>null</td></tr><tr><td>null</td><td>null</td></tr><tr><td>null</td><td>null</td></tr><tr><td>null</td><td>null</td></tr><tr><td>null</td><td>null</td></tr><tr><td>null</td><td>null</td></tr><tr><td>null</td><td>null</td></tr><tr><td>null</td><td>null</td></tr><tr><td>null</td><td>null</td></tr><tr><td>null</td><td>null</td></tr><tr><td>null</td><td>null</td></tr><tr><td>null</td><td>null</td></tr><tr><td>null</td><td>null</td></tr><tr><td>null</td><td>null</td></tr><tr><td>null</td><td>null</td></tr><tr><td>null</td><td>null</td></tr><tr><td>null</td><td>null</td></tr><tr><td>null</td><td>null</td></tr><tr><td>null</td><td>null</td></tr><tr><td>null</td><td>null</td></tr><tr><td>null</td><td>null</td></tr><tr><td>null</td><td>null</td></tr><tr><td>null</td><td>null</td></tr><tr><td>null</td><td>null</td></tr><tr><td>null</td><td>null</td></tr><tr><td>null</td><td>null</td></tr><tr><td>null</td><td>null</td></tr><tr><td>null</td><td>null</td></tr><tr><td>List(ProWoman (Feb 2022 - May 2022): Program for outstanding and ambitious students, WE - Women Entrepreneurship (Oct 2021 - Jan 2022): A unique and innovative entrepreneurship program to gain the skills required to succeed as an entrepreneur, Hadarim (2015 - 2016): Preparation for technological service in the IDF on behalf of Microsoft. Study subjects: Algorithmics, programming in C# and NET and introductions in the field of hardware.)</td><td>null</td></tr><tr><td>null</td><td>null</td></tr><tr><td>null</td><td>null</td></tr><tr><td>null</td><td>null</td></tr><tr><td>null</td><td>null</td></tr><tr><td>null</td><td>null</td></tr><tr><td>null</td><td>null</td></tr><tr><td>null</td><td>null</td></tr><tr><td>null</td><td>null</td></tr><tr><td>null</td><td>null</td></tr><tr><td>null</td><td>null</td></tr><tr><td>null</td><td>null</td></tr><tr><td>List(Real Life Space Invaders (using drones, a laser gun and a motorized seat) (Jun 2016 - Sep 2016): For the GeekCon 2016 Makeathon, me and my team created a real-life version of the classic Alien Invaders game - with 8 quadcopters (drones) flying in formation in the sky, a motorized car seat on a rail which the player could move in, and a laser gun.The project was featured in various international websites (including CNET and Hackaday) and Israeli news (ynet, i24news).Links:http://www.ynet.co.il/articles/0,7340,L-4860843,00.htmlhttps://www.cnet.com/news/real-life-space-invaders-game-uses-drones-a-motorized-seat-and-lasers/)</td><td>null</td></tr><tr><td>null</td><td>null</td></tr><tr><td>null</td><td>null</td></tr><tr><td>null</td><td>null</td></tr><tr><td>null</td><td>null</td></tr><tr><td>null</td><td>null</td></tr><tr><td>null</td><td>null</td></tr><tr><td>null</td><td>null</td></tr><tr><td>null</td><td>null</td></tr><tr><td>null</td><td>null</td></tr><tr><td>null</td><td>null</td></tr><tr><td>null</td><td>null</td></tr><tr><td>null</td><td>null</td></tr><tr><td>null</td><td>null</td></tr><tr><td>List(treeboost_autograd: Custom Losses for Tree Boosters using PyTorch (Feb 2021 - Feb 2021): Why calculate first and second derivatives for your custom objectives when you can let PyTorch do it for you? Just pip install treeboost_autograd. Posted in Towards Data Science., Attention MeshCNN: Using Attention Layers for Deep Learning On 3D meshes (Jan 2020 - Jan 2020): Developed a self attention mechanism for 3D meshes, with positional encodings based on graph distances., None (None): None, None (None): None)</td><td>null</td></tr><tr><td>null</td><td>null</td></tr><tr><td>null</td><td>null</td></tr><tr><td>List(Intel Kiryat Gat 1274 (Aug 2014 - Present): Challenging and Amazing to build the future, None (None): None, None (None): None, None (None): None, None (None): None, None (None): None, None (None): None, None (None): None, None (None): None, None (None): None)</td><td>null</td></tr><tr><td>List(Github Profile (Dec 2015): code that i wrote)</td><td>null</td></tr><tr><td>null</td><td>null</td></tr><tr><td>List(Computer Science - Self-education (Python) (Jul 2018 - Present): Implementations of well-known data structures and solutions to exercises from Cracking the Coding Interview (6th edition).I started this project after leaving the 5th Dimension and have been working on it on and off after work hours., Evaluation of Patient Motion during a Single Photon Emission Computed Tomography (SPECT) scan (2008 - 2009): Final Project of BSc degree. Cooperation with GE Healthcare., None (None): None)</td><td>null</td></tr><tr><td>null</td><td>null</td></tr><tr><td>null</td><td>null</td></tr><tr><td>null</td><td>null</td></tr><tr><td>null</td><td>null</td></tr><tr><td>null</td><td>null</td></tr><tr><td>null</td><td>null</td></tr><tr><td>null</td><td>null</td></tr><tr><td>null</td><td>null</td></tr><tr><td>null</td><td>null</td></tr><tr><td>null</td><td>null</td></tr><tr><td>null</td><td>null</td></tr><tr><td>null</td><td>null</td></tr><tr><td>null</td><td>null</td></tr><tr><td>null</td><td>null</td></tr><tr><td>null</td><td>null</td></tr><tr><td>null</td><td>null</td></tr><tr><td>null</td><td>null</td></tr><tr><td>null</td><td>null</td></tr><tr><td>null</td><td>null</td></tr><tr><td>null</td><td>null</td></tr><tr><td>null</td><td>null</td></tr><tr><td>null</td><td>null</td></tr><tr><td>null</td><td>null</td></tr><tr><td>null</td><td>null</td></tr><tr><td>null</td><td>null</td></tr><tr><td>null</td><td>null</td></tr><tr><td>null</td><td>null</td></tr><tr><td>null</td><td>null</td></tr><tr><td>List(wikaya (May 2018 - Present): None, Enbago (Aug 2017 - Present): None, Dawsat Application (Aug 2016 - Present): None, Panet android application (Sep 2017 - Apr 2018): None)</td><td>null</td></tr><tr><td>null</td><td>null</td></tr><tr><td>null</td><td>null</td></tr><tr><td>null</td><td>null</td></tr><tr><td>null</td><td>null</td></tr><tr><td>null</td><td>null</td></tr><tr><td>null</td><td>null</td></tr><tr><td>null</td><td>null</td></tr><tr><td>null</td><td>null</td></tr><tr><td>null</td><td>null</td></tr><tr><td>null</td><td>null</td></tr><tr><td>null</td><td>null</td></tr><tr><td>null</td><td>null</td></tr><tr><td>null</td><td>null</td></tr><tr><td>null</td><td>null</td></tr><tr><td>null</td><td>null</td></tr><tr><td>null</td><td>null</td></tr><tr><td>null</td><td>null</td></tr><tr><td>null</td><td>null</td></tr><tr><td>List(TAS (Technion Aerial System) (Sep 2015 - Jul 2016): TAS 2016 (Technion Aerial Systems) is a team of highly motivated and skilled students from both Aeronautical and Electrical Engineering Departments from the Technion- Israel Institute of Technology. The team developed an aerial system for the AUVSI SUAS 2016 international competition in which they won the 4th place out of 54 participants.)</td><td>null</td></tr><tr><td>null</td><td>null</td></tr><tr><td>null</td><td>null</td></tr><tr><td>null</td><td>null</td></tr><tr><td>List(Final Project - Empowering youth at risk (\"Branco Weiss\" High School – Kiryat Shmona)  (Oct 2014 - Jul 2015): None)</td><td>null</td></tr><tr><td>null</td><td>null</td></tr><tr><td>null</td><td>null</td></tr><tr><td>null</td><td>null</td></tr><tr><td>null</td><td>null</td></tr><tr><td>null</td><td>null</td></tr><tr><td>null</td><td>null</td></tr><tr><td>null</td><td>null</td></tr><tr><td>null</td><td>null</td></tr><tr><td>null</td><td>null</td></tr><tr><td>null</td><td>null</td></tr><tr><td>null</td><td>null</td></tr><tr><td>null</td><td>null</td></tr><tr><td>null</td><td>null</td></tr><tr><td>null</td><td>null</td></tr><tr><td>null</td><td>null</td></tr><tr><td>null</td><td>List(System and Method for Interactive Gaming)</td></tr><tr><td>null</td><td>null</td></tr><tr><td>null</td><td>null</td></tr><tr><td>null</td><td>null</td></tr><tr><td>null</td><td>null</td></tr><tr><td>null</td><td>null</td></tr><tr><td>null</td><td>null</td></tr><tr><td>List(Cerebrojs (Apr 2016): Cerebro.js is a JavaScript library created to make debugging and monitoring front-end JavaScript code easy using special machine learning algorithms.https://www.youtube.com/watch?v=BcP3Ef9Jf6c&feature=youtu.be, None (None): None, None (None): None, Stocks Clustering in hadoop (None): This tool can cluster stocks in Hadoop using Canopy+KMeans clustering algorithms., None (None): None, None (None): None)</td><td>null</td></tr><tr><td>null</td><td>null</td></tr><tr><td>List(Taskit (Mar 2021 - Mar 2021): My final project in Coding Academy, Give & Get (Mar 2020 - Jun 2020): This project was a great challenge for me, during a few weeks I had to develop a site from scratch, including the concept, the UI, UX, learning the framework, the database etc. and all along to self-learn React, Firebase, XD, Git, GitHub, API's and more.The idea behind this project is to help decrease the amount of fruits & vegetables (and ingredients in general) that are being thrown out every day.People can Give & Get ingredients, easily, by using this site.It is written in HTML, CSS, JavaScript.React as the framework, and Firebase as the database (both self-learned while working on the project).Enjoy! And don't forget to Give & Get ;))</td><td>null</td></tr><tr><td>List(New Extension named \"Groups Select\" for the OpenSource Development Enviroment - Moodle. (Jul 2013): Moodle, is a highly flexible, free software, open source learning platform. With comprehensive, customisable and secure learning management features, it can be used to create a private website for dynamic online courses. Moodle (acronym for modular object-oriented dynamic learning environment), is a also known as a learning management system, or virtual learning environment.Groups Select is my new Extension, doesn't exist yet in the Moodle Core Code (planned to be).It allows students to chose a group that the teacher has created for a specific course.This feautre doesn't exist yet in the Moodle Core Code, although it can be really useful in certain courses. After finding this disadvantage in moodle, I decided as my Final Project at the university, to develope this feautre. to make student's life easier, instead of being devided to groups manually or via emails.)</td><td>null</td></tr><tr><td>null</td><td>null</td></tr><tr><td>List(Information Retrieval contest, Technion (Feb 2016): Using statistical methods to address the query performance prediction problem., Construction of Biological processes from unstructured medical texts (Mar 2017 - Jul 2017): Construction of Biological processes from unstructured medical texts in the Reactome pathway database using Machine learning methods (Dr. Kira Radinsky)., Schema-matching (Jan 2016 - Apr 2016): Enhancing schema-matching performance on large schemas using \"DB caching\" of first-line matcher results, None (None): None, None (None): None)</td><td>null</td></tr><tr><td>null</td><td>null</td></tr><tr><td>List(Python SDK for Kusto (Azure Data Explorer) (Mar 2018 - May 2019): Kusto Python Client Library provides the capability to query Kusto clusters using Python. It is Python 2.x/3.x compatible and supports all data types through familiar Python DB API interface.I released the first versions of the SDK.)</td><td>null</td></tr><tr><td>null</td><td>null</td></tr><tr><td>null</td><td>null</td></tr><tr><td>null</td><td>null</td></tr><tr><td>null</td><td>null</td></tr><tr><td>null</td><td>null</td></tr><tr><td>null</td><td>null</td></tr><tr><td>null</td><td>null</td></tr><tr><td>null</td><td>null</td></tr><tr><td>null</td><td>null</td></tr><tr><td>null</td><td>null</td></tr><tr><td>null</td><td>null</td></tr><tr><td>List(Debate Management System (None): A debate management system, currently being used by the debate society at Tel Aviv University.An intuitive, clean, user friendly interface that allows the ongoing activity of the club (registration of new members, signing up to upcoming practices, giving feedbacks of other members), displays the clubs history and information and allows for efficient assignment of large scale bi-weekly practices., None (None): None, None (None): None)</td><td>null</td></tr><tr><td>List(Personal Portfolio (Jul 2023): None)</td><td>null</td></tr><tr><td>null</td><td>null</td></tr><tr><td>null</td><td>null</td></tr><tr><td>List(LoRa IoT Sensors in LPWAN (Apr 2018 - Aug 2018): Created a machine-to-machine (M2M) and internet of things (IoT) networks, LPWANs operate at alower cost with greater power efficiency than traditional mobile networks without compromising its scalability. As part of the project, several communication protocols were used including MQTT and LoRaWAN. The development included multiple independent systems:- The end-node device/sensor (C)- The gateway/data forwarder (RPI3 developed in python, bash & C++) - The server (GO & bash), iChant - IOT project (Mar 2017 - Jul 2017): As a part of a team of 3, we developed a musical instrument that helps the user learn to play without the need to know how to read musical sheets. The projects included developing a UWP app using Visual Studio and integrating it with Azure (C#). Also included programming an Arduino board (C) as well as building the network of the sensors and electricity around the instrument.)</td><td>null</td></tr><tr><td>null</td><td>null</td></tr><tr><td>null</td><td>null</td></tr><tr><td>null</td><td>null</td></tr><tr><td>null</td><td>null</td></tr><tr><td>null</td><td>null</td></tr><tr><td>null</td><td>null</td></tr><tr><td>null</td><td>null</td></tr><tr><td>null</td><td>null</td></tr><tr><td>null</td><td>null</td></tr><tr><td>null</td><td>null</td></tr><tr><td>null</td><td>null</td></tr><tr><td>List(MidiGPT REST API  (Aug 2023): MidiGPT is a dynamic REST API that merges technology and creativity to transform concepts into real, downloadable MIDI files. Our tech stack includes TypeScript, Python, Golang, Express, OpenAI, and AWS.Here’s how it works:1.The client sends a POST request to our Express server.2.Temporal Workflow coordinates various activities:•TypeScript communicates with OpenAI to generate MIDI text.•Python validates and generates MIDI files.•Go uploads files to AWS S3 and returns a secure link.•Go wraps the result in JSON format.3.The Express server sends a JSON response back to the client.MidiGPT fuels innovation and artistry, making it easy to turn creative ideas into music with technology., None (None): None, Hebrew Sign Language Translator (None): As the capstone project for my bachelor's degree, I embarked on a journey to empower thehearing-impaired community.○ Pioneered a groundbreaking solution employing computer vision and machine learning.○ Enhanced an extensive database of Hebrew Sign language, enabling precise recognition andtranslation of sign language gestures.○ Crafted a versatile system capable of adapting to diverse dialects and regional variations,championing inclusivity.○ This project exemplifies my expertise in computer vision, machine learning, and databasemanagement while emphasizing my commitment to social impact., Midi violin- arduino (None): This project uses an Arduino board to read input from a rotary encoder and a membrane potentiometer, and convert the data into MIDI messages that can be used to control a music synthesizer. The code is written in Arduino language, and uses the MIDI library for handling MIDI messages., None (None): None, None (None): None)</td><td>null</td></tr><tr><td>null</td><td>null</td></tr><tr><td>null</td><td>null</td></tr><tr><td>List(meeba - Social application for travelers (2016 - Present): With meeba you can meet new people to travel with, find travel partners, discover new places, create and join events, get recommendations wherever you are from people who are there with you. The social network for travelers., Israel Under Terror (2014): A website that shows all terror attacks against Israel., Get Images (2013): Post any Instagram image or youtube video URL and get the image ready to download.Just did it for fun., Instagram on web (2013): Just a website to browse Instagram.I just did it to learn about their API., Analyze Your Text (2019 - 2019): An online tool to analyze your text and get statistics on in. You can also edit your text, get rid of extra spaces, replace words and more.Statistics about your text include number of words, characters and spaces, numbers and the summation of them, details about the occurence of each word and letter in your text., Save session browser extension (2019 - 2019): Save all your open tabs and windows and restore them with one clickWith one click the extension will save all your open tabs and you can restore them all instantly.Whether it's for work, school or personal, just give the session any name and click save.Finished working or studying for the day but don't want to lose all the links you've opened. Save it, take a break and resume whenever you're ready.)</td><td>null</td></tr><tr><td>null</td><td>null</td></tr><tr><td>null</td><td>null</td></tr><tr><td>null</td><td>null</td></tr><tr><td>null</td><td>null</td></tr><tr><td>null</td><td>null</td></tr><tr><td>null</td><td>null</td></tr><tr><td>null</td><td>null</td></tr><tr><td>null</td><td>null</td></tr><tr><td>null</td><td>null</td></tr><tr><td>null</td><td>null</td></tr><tr><td>null</td><td>null</td></tr><tr><td>null</td><td>null</td></tr><tr><td>null</td><td>null</td></tr><tr><td>null</td><td>null</td></tr><tr><td>null</td><td>null</td></tr><tr><td>null</td><td>null</td></tr><tr><td>null</td><td>null</td></tr><tr><td>null</td><td>null</td></tr><tr><td>null</td><td>null</td></tr><tr><td>List(on{X} (2011 - Present): on{X} lets you control and extend the capabilities of your Android phone using a JavaScript API to remotely program it., None (None): None, None (None): None, None (None): None, None (None): None, None (None): None, Matasano challenge (May 2013 - Jul 2013): Completed the Matasano crypto challenges, certificate depot (Oct 2012 - Nov 2012): Certificate depot is an online tool that enables you to create self-signed SSL certificates within seconds and completely for free. The certificates are suitable for any purpose e.g., HTTPS websites, Client SSL / TLS authentication, file encryption, etc., anode (Jul 2011 - Jun 2012): A node.js-based experimentation app platform running on Windows Azure. Anode hosts today a multitude of Microsoft projects and used by 10s of engineerins within the company.The platform uses git-based deployment to provide a super fast development turn around (~30 sec) as oppose to what was conventional at Microsoft beforehand (weekly).We have published a few open source libraries as part of the project and contributed as a participant in the internal Microsoft node.js community (Azure, node.js port to Windows, etc).I have conceptualized and built some unique features such as deployment of multiple branches to the cloud (allow spawning isolated environments for feature development quickly), distributed api testing, github continuous deployment bots., None (None): None, None (None): None, None (None): None, None (None): None, None (None): None, ssltunnel (Dec 2011 - Jan 2012): This is a lightweight TCP over SSL / TLS tunnel running over node. If you need to add confidentiality (privacy), integrity, and authenticity to your TCP stream this is the tool for you.)</td><td>List(Adaptation of notification perimeter based on relevance to a user, Method and System For Detecting Malicious Behavioral Patterns in a Computer, Using Machine Learning, Bidding for Impressions, Persisting state using scripts, Verified check-in, Method of providing location based service information)</td></tr><tr><td>null</td><td>null</td></tr><tr><td>null</td><td>null</td></tr><tr><td>null</td><td>null</td></tr><tr><td>null</td><td>null</td></tr><tr><td>null</td><td>null</td></tr><tr><td>null</td><td>null</td></tr><tr><td>null</td><td>null</td></tr><tr><td>null</td><td>null</td></tr><tr><td>List(Concours MayAM (Dec 2016): Projet en partenariat avec le Groupe Gendry spécialisé dans le forage dirigé :Offrir une interface de réalité augmentée permettant l'affichage d'objets virtuels sur un chantier en temps réel., Projet Senior - Airbus (Oct 2016 - Mar 2017): Use of the Microsoft HoloLens headset in order to assist the operatives in the production line., None (None): None, Robotic Knee (Sep 2015 - Jan 2016): Command and performance control of a robotic knee controled by a MAXON Motor., None (None): None, Preliminary Detailed Conception : Sound Equalizer (Sep 2014 - Jan 2015): Design and realisation of a sound equalizer using an Arduino controler coupled with electronic components., None (None): None, None (None): None, None (None): None, None (None): None)</td><td>null</td></tr><tr><td>null</td><td>List(Memory-driven Artificial Intelligence Two-Phase Planning Method for Disruption Management in Operations, Training a machine learning classifier to evaluate application security issues, Retraining a machine classifier based on audited issue data, Application security issue classifier policy based training and classification, An Airline Recovery Optimization Approach for In-memory Database Systems, Tagging a program code portion, Classifying Source Code Using An Expertise Model)</td></tr><tr><td>null</td><td>null</td></tr><tr><td>null</td><td>null</td></tr><tr><td>null</td><td>null</td></tr><tr><td>null</td><td>null</td></tr><tr><td>null</td><td>null</td></tr><tr><td>null</td><td>null</td></tr><tr><td>List(Loreal Brandstorm Challenge  (2018 - 2018): None)</td><td>null</td></tr><tr><td>null</td><td>null</td></tr><tr><td>null</td><td>null</td></tr><tr><td>null</td><td>null</td></tr><tr><td>null</td><td>null</td></tr><tr><td>List(Traffic-Lights control system (May 2014): My Project in Embedded course at afeka college, a traffic-lights control system using an arduino board and my own development board.)</td><td>null</td></tr><tr><td>null</td><td>null</td></tr><tr><td>null</td><td>null</td></tr><tr><td>null</td><td>null</td></tr><tr><td>null</td><td>null</td></tr><tr><td>null</td><td>null</td></tr><tr><td>null</td><td>null</td></tr><tr><td>null</td><td>null</td></tr><tr><td>null</td><td>null</td></tr><tr><td>null</td><td>null</td></tr><tr><td>List(Appwrite (Aug 2019 - Present): Appwrite cuts up to 70% of the time and costs required for building a modern application. We abstract and simplify common development tasks behind a REST APIs, to help you develop your app in a fast and secure way., Litespeed.js (Jan 2017 - Present): Litespeed.js is a micro Javascript framework for building simple web applications. Litespeed.js is dependency-free and easy to learn framework which allows you to extend your DOM functionality in a semantic and declarative way.The litespeed.js framework main features include an MVVM architecture, built-in single page routing, easy to build view components, dependency injection service, data binding, and fully valid and accessible HTML and DOM.Litespeed.js makes very good use of both browser memory management, garbage collection and rendering to maximize your web application performance. As of version 0.2.* litespeed.js weights only 4.9kb (minified and compressed), Utopia PHP Framework (Jan 2017 - Present): Utopia Framework is a PHP MVC based framework with minimal must-have features for professional, simple, advanced and secure web development.Utopia Framework is dependency free. Any extra features such as authentication, caching will be available as standalone models in order to keep the framework core as clean, light any easy to learn., Walla! Mail (Jul 2015): New Walla! Mail website. Using AngularJS, CSS3 and HTML5 responsive web design and retina ready with advanced JavaScript implementations we provide better user experience and usability., None (None): None, None (None): None, None (None): None, Walla! Homepage (Jan 2015): Israel's leading news portal. Using HTML5 and CSS3 responsive and retina ready design, Advanced JavaScript implementations we provide better user experience and usability.The new design provides the user all information on any device and any screen size and orientation., None (None): None, None (None): None, None (None): None, None (None): None, None (None): None, None (None): None, None (None): None, None (None): None, None (None): None, Walla! Mobile (Nov 2014): None, None (None): None, None (None): None, None (None): None, None (None): None, None (None): None, Walla! Brnz'h (Oct 2014): Israel leading portal websites. Using CSS3 and HTML5 responsive web design and retina ready., None (None): None, None (None): None, None (None): None, None (None): None, None (None): None, None (None): None, None (None): None, None (None): None, None (None): None, None (None): None, None (None): None, None (None): None, None (None): None, Walla! Cars (Oct 2014): srael leading cars website. Using CSS3 and HTML5 responsive web design and retina ready., None (None): None, None (None): None, None (None): None, None (None): None, None (None): None, None (None): None, None (None): None, None (None): None, None (None): None, None (None): None, None (None): None, None (None): None, None (None): None, Walla! Entertainment (Oct 2014): Israel leading entertainment website. Using CSS3 and HTML5 responsive web design and retina ready., None (None): None, None (None): None, None (None): None, None (None): None, None (None): None, None (None): None, None (None): None, None (None): None, None (None): None, None (None): None, None (None): None, None (None): None, None (None): None, Walla! Finance (Oct 2014): Israel leading financial website. Using CSS3 and HTML5 responsive web design and retina ready., None (None): None, None (None): None, None (None): None, None (None): None, None (None): None, None (None): None, None (None): None, None (None): None, None (None): None, None (None): None, None (None): None, None (None): None, None (None): None, Walla! Healthy (Oct 2014): Israel leading health website. Using CSS3 and HTML5 responsive web design and retina ready., None (None): None, None (None): None, None (None): None, None (None): None, None (None): None, None (None): None, None (None): None, None (None): None, None (None): None, None (None): None, None (None): None, None (None): None, None (None): None, Walla! Home (Oct 2014): Israel leading home style website. Using CSS3 and HTML5 responsive web design and retina ready., None (None): None, None (None): None, None (None): None, None (None): None, None (None): None, None (None): None, None (None): None, None (None): None, None (None): None, None (None): None, None (None): None, None (None): None, None (None): None, Walla! Judaism (Oct 2014): Israel leading judaism website. Using CSS3 and HTML5 responsive web design and retina ready., None (None): None, None (None): None, None (None): None, None (None): None, None (None): None, None (None): None, None (None): None, None (None): None, None (None): None, None (None): None, None (None): None, None (None): None, None (None): None, Walla! News (Oct 2014): Israel leading news website. Using CSS3 and HTML5 responsive web design and retina ready., None (None): None, None (None): None, None (None): None, None (None): None, None (None): None, None (None): None, None (None): None, None (None): None, None (None): None, None (None): None, None (None): None, None (None): None, Walla! Singles (Oct 2014): Israel leading portal websites. Using CSS3 and HTML5 responsive web design and retina ready., None (None): None, None (None): None, None (None): None, None (None): None, None (None): None, None (None): None, None (None): None, None (None): None, None (None): None, None (None): None, None (None): None, None (None): None, None (None): None, Walla! Sports (Oct 2014): Israel leading sports website. Using CSS3 and HTML5 responsive web design and retina ready., None (None): None, None (None): None, None (None): None, None (None): None, None (None): None, None (None): None, None (None): None, None (None): None, None (None): None, None (None): None, None (None): None, None (None): None, None (None): None, None (None): None, Walla! TECH (Oct 2014): Israel leading technology website. Using CSS3 and HTML5 responsive web design and retina ready., None (None): None, None (None): None, None (None): None, None (None): None, None (None): None, None (None): None, None (None): None, None (None): None, None (None): None, None (None): None, None (None): None, None (None): None, None (None): None, Walla! Travel (Oct 2014): Israel leading travel website. Using CSS3 and HTML5 responsive web design and retina ready., None (None): None, None (None): None, None (None): None, None (None): None, None (None): None, None (None): None, None (None): None, None (None): None, None (None): None, None (None): None, None (None): None, None (None): None, None (None): None, Walla! ZONE (Oct 2014): Israel leading portal websites. Using CSS3 and HTML5 responsive web design and retina ready., None (None): None, None (None): None, None (None): None, None (None): None, None (None): None, None (None): None, None (None): None, None (None): None, None (None): None, None (None): None, None (None): None, None (None): None, None (None): None, Walla! ZONE (Oct 2014): Israel leading portal websites. Using CSS3 and HTML5 responsive web design and retina ready., None (None): None, None (None): None, None (None): None, None (None): None, None (None): None, None (None): None, None (None): None, None (None): None, None (None): None, None (None): None, None (None): None, None (None): None, None (None): None, Walla! Food (Sep 2014): Israel leading food & recipes website. Using CSS3 and HTML5 responsive web design and retina ready., None (None): None, None (None): None, None (None): None, None (None): None, None (None): None, None (None): None, None (None): None, None (None): None, None (None): None, None (None): None, None (None): None, Walla! Celebs (Aug 2014): Israel leading celebs news website. Using CSS3 and HTML5 responsive web design and retina ready., None (None): None, None (None): None, None (None): None, None (None): None, None (None): None, None (None): None, None (None): None, None (None): None, None (None): None, None (None): None, None (None): None, Walla! Fashion (Jun 2014): Israel leading fashion news website. Using CSS3 and HTML5 responsive web design and retina ready., None (None): None, None (None): None, None (None): None, None (None): None, None (None): None, None (None): None, None (None): None, None (None): None, None (None): None, None (None): None, None (None): None, Walla! Mundial 2014 (Jun 2014): View fixtures and coverage information for the World Cup 2014 in Brazil, as well as Live Scores, Results, Group Tables and News.Using CSS3 and HTML5 technologies we made this site responsive and supported by all the most popular devices, None (None): None, None (None): None, None (None): None, None (None): None, None (None): None, Royal-Chef Website (Aug 2013): A VOD website for the Royal-Chef TV showUsing advanced web technology to make it a \"Responsive\" websiteSupported by the most popular devices, None (None): None, None (None): None, None (None): None, None (None): None, None (None): None, None (None): None, None (None): None)</td><td>null</td></tr><tr><td>null</td><td>null</td></tr><tr><td>null</td><td>null</td></tr><tr><td>null</td><td>null</td></tr><tr><td>List(Makeurbet (Jan 2013 - Present): Makeurbet is social gambling platform, which provide the user gamble on sport game with your friends and people all over the world!, None (None): None, Makeurbet (2013 - Present): Makeurbet is social gambling platform, which provide the user gamble on sport game with your friends and people all over the world!, None (None): None)</td><td>null</td></tr><tr><td>null</td><td>null</td></tr><tr><td>null</td><td>null</td></tr><tr><td>List(Shapes on Canvas (Aug 2023 - Aug 2023): Front end challenge - create a Figma like web app, Users and Posts (Jul 2023 - Jul 2023): Full Stack Assignment - Create a web app that displays users and their posts.The data is pulled from multiple sources, either api or db.The data is displayed with pagination and sorting., SpecBite (Jun 2022 - Jan 2023): This project is a SaaS platform that allows non-technical business owners to specify their software requirements with the help of AI and find suitable software development vendors.The platform includes tools for vendors to estimate each requirement, allowing business owners to better understand the scope and cost of their project. The platform has advanced user management capabilities, allowing business owners to collaborate with multiple vendors and manage their vendor relationships. Additionally, the platform simplifies complex processes, making it easy for non-technical business owners to navigate the software development process. The platform also allows vendors to add results to the requirements, providing greater transparency and accountability in the development process. Overall, this SaaS platform aims to provide a comprehensive solution for the software development process and to help business owners and vendors work together efficiently and effectively. It also helps business owners to make their software development process more predictable and manageable by providing them with an easy-to-use interface that is designed to simplify the complex process of software development., None (None): None, None (None): None, None (None): None, None (None): None, More than 16 Sites (Jul 2018 - Jan 2022): These projects involve the creation of more than 16 customized e-commerce and personal websites using the WordPress and Shopify platforms.In these projects, I've built a variety of different websites, including e-commerce sites that allow customers to purchase products and services online, and personal sites that showcase an individual or organization's information, portfolio, and blog.Each website was customized to the client's specific needs and preferences, which might include design elements, functionality, and features. The customization process involved using pre-built templates or custom themes, customizing the layout and design using CSS, and adding plugins to extend the functionality of the site.I was responsible for the full development process, including designing, developing, testing, and deploying the websites.Additionally, I provided support and maintenance for these websites after they were launched., ZoomToText (Dec 2021 - Dec 2021): This project is an automation system that is designed to download meeting recordings from Zoom and send them to an AI transcription engine. The goal is to save the transcribed text in the company's databases for future reference and analysis.The automation system was built to automate the process of downloading meeting recordings from Zoom and sending them to an AI transcription engine. The system is designed to receive requests from a Zoom webhook, to download new meeting recordings. Once the recordings are downloaded, they are sent to the AI transcription engine for processing. The AI transcription engine then generates a transcript of the audio, and then the program is saved to the company's databases.The system was built to improve the efficiency of the company by automating the process of transcribing and saving meeting recordings. With this automation system, the company can easily access and search through meeting recordings in their databases, instead of manually transcribing them. Additionally, the AI transcription engine may improve the accuracy and speed of the transcription process.Overall, this project showcases my ability to design and build automation systems that integrate with other tools and services to improve the efficiency of a business process., MachineParts (Jul 2021 - Aug 2021): MachineParts (name alias) is a web-based ERP that allows customers to purchase certain parts from a company (B2B).I got this project half-made by another developer and was responsible for completing it.The web app includes several key features that are designed to streamline the company's operations and improve the customer experience:Customer management: A system that allows the company to manage and track customer information, including contact details, order history, and account status.Order management: A system that allows customers to place orders and track the status of their orders. It also allows the company to manage and track orders, including processing payments, updating order status, and generating invoices.Supplier Integration: The application is integrated into a supplier’s APIs, which allows the company to retrieve product information and make orders.Overall, MachineParts is a web application that streamlines the process of purchasing parts from the company, making it more convenient for customers and more efficient for the company. The app's features help the company to manage customer and order information, track inventory levels and connect to vendor's systems, making it a valuable tool., FastDeliver (May 2019 - May 2019): This project is a plugin for a Magento 2 e-commerce platform, which was developed for a logistics company. The plugin integrates the company's website with an Israeli shipping provider called \"Baldar\" and enables two-way synchronization. This allows the logistics company to manage their deliveries and shipping processes directly from their e-commerce website.The plugin was developed using the Magento framework and the PHP programming language. It allows the logistics company to connect to the Baldar shipping provider's API, and retrieve shipping rates, shipping labels, tracking information, and more. It also allows the logistics company to access and update order information, such as shipping addresses and package dimensions, directly from the Magento 2 platform. This ensures that the logistics company can provide accurate and up-to-date shipping information to their customers.The plugin also enables two-way sync, which means that any changes made in the logistics company's website are automatically updated in the Baldar shipping provider's system, and vice versa. This feature helps the logistics company to keep their shipping information accurate and up-to-date and improves the shipping process. The plugin also allows the logistics company to manage the shipping process, shipping labels and tracking information, directly from the Magento 2 platform, making it a convenient and efficient tool for managing their logistics operations., eTypeSystems (Oct 2016 - Nov 2017): This project was a comprehensive application that was designed to optimize the workflow of an organization by using advanced artificial intelligence capabilities.The main focus of the application was on audio transcription and data purification. I was responsible for researching, constructing, and deploying the application, which was successfully licensed to Israeli courts, police forces, and intelligence organizations.The application's key features include managing client orders and employee payment calculations based on typing and audio recording. It is connected to an advanced speech recognition engine that supports various languages, including Hebrew, and it works offline using Nuance Communications, Inc. The system was designed to manage workflow and processes, streamline communication, and improve efficiency.It was designed to be easy to use and intuitive for employees, and it was an effective tool for improving organizational productivity., AWS Authentication (None): AWS Assignment - Create a full authentication array., NightLife (None): This project is a social network for the nightlife scene. The main focus of the platform is to connect nightlife venues with their patrons, providing a convenient and efficient way for venues to promote their offerings and manage reservations. The app helps users plan their night out, streamline the process of getting into a venue, and make the most of their time.The platform was developed by me with business and product guidance from the team. We had to work together to come up with the idea, design, and development)</td><td>null</td></tr><tr><td>null</td><td>null</td></tr><tr><td>List(Bomberman (None): My lame version to the popular game. I wrote this as final project for course OOP 1 in 2nd year preaty much by myself. Although a lot help from Asher Fisher and Eli Eytan i couldn't implement guards that pursuit the player, so they're just mooving randomly. Also you can't use bombs, or removig rocks, or open presents, and there is no good animation., Cities Sky Line (None): This is our - me, meir and betsalel margaliot - version of the popular game. this was our final project in OOP 2 course, back in 2nd year, None (None): None)</td><td>null</td></tr><tr><td>List(Physics Simulator (Aug 2010): A simulator for simple physics (mechanics) problems.The program is intended for high school students and university students.It allows building and visually running simulations of elements such as angles plane, ball, spring, etc.The program was written in WPF., None (None): None)</td><td>null</td></tr><tr><td>null</td><td>null</td></tr><tr><td>null</td><td>null</td></tr><tr><td>List(Device Book (Jul 2013): Application for remote control and device tracking for android based devices.Based on Google GCM, Google MapsV2, KSOAP, TomCat7, MySQL, AXIS2 web services., None (None): None, None (None): None, Projects Manager (Oct 2012 - Feb 2013): Windows Forms application for Academic projects management.Written in VisualStudio C#. Uses Acess database, None (None): None, None (None): None, None (None): None)</td><td>null</td></tr><tr><td>List(Fake object (None): https://github.com/orshachar/fake-objectGenerate a fake object from an origin by recursively finding Faker JS best match for property name., Known-Issue (None): Add a @KnownIssue annotation for TestNg tests that already have a related bug on Jira, and they will be skipped until it is resolved.)</td><td>null</td></tr><tr><td>null</td><td>null</td></tr><tr><td>null</td><td>null</td></tr><tr><td>null</td><td>null</td></tr><tr><td>null</td><td>null</td></tr><tr><td>null</td><td>null</td></tr><tr><td>null</td><td>null</td></tr><tr><td>null</td><td>null</td></tr><tr><td>List(Who Killed Rothschild? (Jul 2016): Documentary, directed and edited by me, about the social protests of 2011 in Israel 5 years after.The movie examines the changes following the decisions of the governmental committeethat was founded in order to try and find solutions for many economical issues that occurred in that time, like high food prices and affordable real estate pricing.)</td><td>null</td></tr><tr><td>List(polar+ (None): Project (B.Sc. final) presenting a creative and new approach for shopping on mobile platforms aiming to introduce better conversion rates for mobile retailers.Market and literature surveys, strategy and complex design are all a part of this project.This project is also the winner of the AFEX accelerator (2016).)</td><td>null</td></tr><tr><td>null</td><td>null</td></tr><tr><td>null</td><td>null</td></tr><tr><td>List(PelephoneCar (2018): All the information you need about your car – now on your smartphone. Check current location or history of movement. Track driving behavior, get GPS location in real time and also have an overview of every trip the car has made., None (None): None, None (None): None, None (None): None, None (None): None, BeConnected (None): All the information you need about your car – now on your smartphone. Check current location or history of movement. Track driving behavior, get GPS location in real time and also have an overview of every trip the car has made., None (None): None, None (None): None, None (None): None, Drivey by Telenor (None): All the information you need about your car – now on your smartphone. Check current location or history of movement. Track driving behavior, get GPS location in real time and also have an overview of every trip the car has made., None (None): None, None (None): None, None (None): None, None (None): None, Pelephone Cloud (None): Backups and restores mobile contents as Contacts, Messages, Events and Media, None (None): None, None (None): None, None (None): None, None (None): None, None (None): None, Smartfax (Android) (None): Enables to compose and send faxes from your android mobile device., None (None): None, None (None): None, SmartFax (iOS) (None): Enables to compose and send faxes from your iOS mobile device., None (None): None, None (None): None)</td><td>null</td></tr><tr><td>List(CoverTix Smart Solutions (Feb 2010 - Present): SmartCipher™ is a file-level rights management application that secures and monitors confidential documents & sensitive data, by traveling with the file, inside and outside the organization. SmartCipher™ automatically tags digital assets according to file location, content and context, continuously tracking and securing these assets., None (None): None, None (None): None, None (None): None, None (None): None, None (None): None)</td><td>null</td></tr><tr><td>List(Globe Philippines launched new multi mvno billing system (Dec 2012 - Sep 2014): None, Number Portability (Jun 2006 - Dec 2007): None, None (None): None)</td><td>null</td></tr><tr><td>null</td><td>null</td></tr><tr><td>null</td><td>null</td></tr><tr><td>null</td><td>null</td></tr><tr><td>null</td><td>null</td></tr><tr><td>null</td><td>null</td></tr><tr><td>null</td><td>List(PLASTIC SOLAR DYE CELLS, SEALS FOR HOLES IN SOLAR CELLS)</td></tr><tr><td>List(S2 Utilities (Dec 2017): This projects aims at providing a set of tools to make working with geospatial objects quick and painless. These tools were designed with S2 objects (Google's \"geometry on a sphere\" abstractions) in mind as the leading data structure to be used when working with geospatial data., Spark-Betweenness (Mar 2016): A novel distributed implementation for: k Betweenness Centrality (kBC) algorithm for Spark using GraphX., R Deepboost Modeling (Feb 2016): Provides deepboost models training, evaluation, predicting and hyper parameter optimising using grid search and cross validation.Based on Google's Deep Boosting algorithm by Cortes et al., Waze Motorcycle Mode (Aug 2017 - Dec 2017): Waze's motorcycle navigation mode - creating a new route recommendation mechanism and ETA prediction models specialised for motorcycle drives.)</td><td>null</td></tr><tr><td>null</td><td>null</td></tr><tr><td>null</td><td>null</td></tr><tr><td>null</td><td>null</td></tr><tr><td>List(youtube-util (Feb 2017 - Present): Javascript cmd utility tool for searching & downloading from youtube Github: https://github.com/galrettig/youtube-search-download, Xchange (Feb 2015): Upcoming joined venture :), None (None): None, None (None): None, Askourt (Jun 2014 - Present): None, None (None): None, None (None): None, None (None): None)</td><td>null</td></tr><tr><td>null</td><td>null</td></tr><tr><td>null</td><td>null</td></tr><tr><td>null</td><td>null</td></tr><tr><td>null</td><td>null</td></tr><tr><td>null</td><td>null</td></tr><tr><td>null</td><td>null</td></tr><tr><td>null</td><td>null</td></tr><tr><td>List(Attribute Based Broadcast Encryption With Permanent Revocation (Sep 2011 - Aug 2012): Establishment of television distribution network where the content is being protected using symmetric encryption. The symmetric key is secured using attributes based encryption mechanism that is using a public key that enables the existence of additional content distributors. The network will be a fully collusion resistance against attackers that wishes to obtain the private key., None (None): None, P2P UDP chat with TCP WEB (Feb 2011 - Mar 2011): This feature is the chat between users on the network, using the IP address to connect primary and with several commands to a conversation between users. The program will write in multithreads where each thread has its own purpose and existence of chat management., Develop mini operator system with implementation of Task Scheduler and Threads. (C Linux). (None): Develop mini operator system with implementation of Task Scheduler and Threads. (C Linux). implement Scheduler for type of messages, implement queue of messages FIFO or with priority.)</td><td>null</td></tr><tr><td>null</td><td>List(Custom emoticon generation, Systems and methods for animated clip generation, Shared scene mosaic generation)</td></tr><tr><td>null</td><td>null</td></tr><tr><td>null</td><td>null</td></tr><tr><td>null</td><td>null</td></tr><tr><td>null</td><td>null</td></tr><tr><td>null</td><td>null</td></tr><tr><td>null</td><td>null</td></tr><tr><td>null</td><td>null</td></tr><tr><td>null</td><td>null</td></tr><tr><td>null</td><td>null</td></tr><tr><td>null</td><td>null</td></tr><tr><td>null</td><td>null</td></tr><tr><td>List(Studio Grade Speakers (Feb 2013 - Mar 2014): This project included the design and construction of 2-WAY amplified speakers suitable for studio applications, means a flat frequency response. The project combined knowledge of acoustics, electronics as well as soldering and wood working.The overall score for the project is 95, Audio Source Separation with Parallel U-net Structure (None): In this work, we accept the challenge of separating original musical instruments and a human vocals from their one chunnel mixture. This problem known as blind source separation (BSS). We combined tow suggested solution for the problem. One takes the U-net architecture usually used for image augmentation and the other uses recurrent neural network for enhance the separated data. We used the data to create new loss that take into account the mixture in addition to the individual channels., Binary Segmentation For Low Resolution Biology Data Sample Based On Deep Neural Networks Model (None): In this work, we explore the use of well known image segmentation methods in the domain of deep learning as a solution for using our specific setup in a particular problem of detecting the bone marrow aspiration (BMA) analytical areas on a data slide from peripheral image., Overparameterization For Acceleration (None): Pytorch implementartion and further experiments of the article On the Optimization of Deep Networks: Implicit Acceleration by Overparameterization \\ Sanjeev Arora, Nadav Cohen, Elad Hazan)</td><td>null</td></tr><tr><td>null</td><td>null</td></tr><tr><td>null</td><td>null</td></tr><tr><td>null</td><td>null</td></tr><tr><td>null</td><td>null</td></tr><tr><td>null</td><td>null</td></tr><tr><td>null</td><td>null</td></tr><tr><td>List(Kaggle - Generative Dog Images (Jun 2019 - Sep 2019): Finished in the 25th place out of 950 participants and won a silver medal on a GAN algorithm challenge. In this competition we implemented various GAN techniques using PYTORCH, conducted experiments to tailor the solution to our problem, and engaged with the Kaggle community through sharing open source code.Linkdin post: https://www.linkedin.com/feed/update/urn:li:activity:6574990575186124800/, RSIP VISION - Computer Vision seminar at the Hebrew University of Jerusalem (Jan 2019 - Apr 2019): I won the best solution on a cell segmentation challenge at the end of the RSIP VISION seminar, held at the Hebrew University of Jerusalem.)</td><td>null</td></tr><tr><td>null</td><td>null</td></tr><tr><td>null</td><td>null</td></tr><tr><td>null</td><td>null</td></tr><tr><td>null</td><td>null</td></tr><tr><td>null</td><td>null</td></tr><tr><td>null</td><td>null</td></tr><tr><td>null</td><td>null</td></tr><tr><td>null</td><td>null</td></tr><tr><td>null</td><td>null</td></tr><tr><td>null</td><td>null</td></tr><tr><td>null</td><td>null</td></tr><tr><td>null</td><td>null</td></tr><tr><td>null</td><td>null</td></tr><tr><td>null</td><td>null</td></tr><tr><td>null</td><td>null</td></tr><tr><td>List(Earthquake prediction (Apr 2019 - Present): Forecasting earthquakes is one of the most important problems in Earth science because of their devastating consequences. The goal of this project is to use seismic signals to predict the timing of laboratory earthquakes. The data comes from a well-known experimental set-up used to study earthquake physics. The acoustic_data input signal is used to predict the time remaining before the next laboratory earthquake (time_to_failure)., NLP - analyzing tweets (Jun 2019 - Jun 2019): Twitter has played an increasingly prominent role in the 2016 US Presidential Election. Debates have raged and candidates have risen and fallen based on tweets. The dataset provides recent tweets from Hillary Clinton and Donald Trump, the two major-party presidential nominees.implemented a program where computer plays vs user trying to guess who tweets.Link:https://github.com/shaharmargulis/NLP-Trump-Clinton-Tweets/blob/master/TrumpClintonGame.mp4, New york taxi fare prediction (Mar 2019 - Mar 2019): Using regression algorithm to predict taxi fare based on various features., New york taxi tip prediction (Mar 2019 - Mar 2019): Using different machine learning classification algorithm to predict if tip was given based on various features, NBA shots exploratory data analysis (Nov 2018 - Nov 2018): EDA on NBA shots data taken during the 2014-2015 season, who took the shot, where on the floor was the shot taken from, who was the nearest defender, how far away was the nearest defender, time on the shot clock, and much more.In addition used web scraping libraries to scrap players details.Main goal is to gain initial insights on the parameters that affect the shooting percentage in a basketball game according to various parameters:¶*Physical players skills parameters: Player Height, Players Strong shooting Hand, position*Technical shot skills parameters: Shooting quickness,Shot off dribble, Shot distance*Mental skills parameters: Money time shots, shot clock time,shot after sequence of shots made,shot after sequence of shots miss*Defenders skills parameters: Defenders Height, Defenders Strong shooting Hand , Defenders from shooter*Court parameters: Crowd (Home or Away Game) Link to presentation:https://github.com/shaharmargulis/Exploratory-Data-Analysis-NBA-shots/blob/master/Nba%20Shots%20Log%20EDA%20Presentation.ipynb)</td><td>null</td></tr><tr><td>null</td><td>null</td></tr><tr><td>null</td><td>null</td></tr><tr><td>null</td><td>null</td></tr><tr><td>null</td><td>null</td></tr><tr><td>null</td><td>null</td></tr><tr><td>null</td><td>null</td></tr><tr><td>null</td><td>null</td></tr><tr><td>null</td><td>null</td></tr><tr><td>null</td><td>null</td></tr><tr><td>null</td><td>null</td></tr><tr><td>null</td><td>null</td></tr><tr><td>null</td><td>null</td></tr><tr><td>null</td><td>null</td></tr><tr><td>null</td><td>null</td></tr><tr><td>null</td><td>null</td></tr><tr><td>null</td><td>null</td></tr><tr><td>null</td><td>null</td></tr><tr><td>null</td><td>null</td></tr><tr><td>null</td><td>null</td></tr><tr><td>null</td><td>null</td></tr><tr><td>null</td><td>null</td></tr><tr><td>List(Blind Keyboard (Jan 2010): None, Fire fighting Home Robot (Apr 2008): None, Secure web site (Aug 2016 - Sep 2016): Secure bank website, handling owasp top 10.)</td><td>null</td></tr><tr><td>null</td><td>null</td></tr><tr><td>null</td><td>null</td></tr><tr><td>null</td><td>null</td></tr><tr><td>null</td><td>null</td></tr><tr><td>null</td><td>null</td></tr><tr><td>null</td><td>null</td></tr><tr><td>null</td><td>null</td></tr><tr><td>null</td><td>null</td></tr><tr><td>null</td><td>null</td></tr><tr><td>null</td><td>null</td></tr><tr><td>null</td><td>null</td></tr><tr><td>null</td><td>null</td></tr><tr><td>null</td><td>null</td></tr><tr><td>null</td><td>null</td></tr><tr><td>null</td><td>null</td></tr><tr><td>null</td><td>null</td></tr><tr><td>null</td><td>null</td></tr><tr><td>null</td><td>null</td></tr><tr><td>null</td><td>null</td></tr><tr><td>null</td><td>null</td></tr><tr><td>null</td><td>null</td></tr><tr><td>null</td><td>null</td></tr><tr><td>null</td><td>null</td></tr><tr><td>null</td><td>null</td></tr><tr><td>null</td><td>null</td></tr><tr><td>null</td><td>null</td></tr><tr><td>null</td><td>null</td></tr><tr><td>null</td><td>null</td></tr><tr><td>null</td><td>null</td></tr><tr><td>null</td><td>null</td></tr><tr><td>null</td><td>null</td></tr><tr><td>null</td><td>null</td></tr><tr><td>null</td><td>List(System and method for probe injection for code coverage, SYSTEM AND METHOD FOR PROBE INJECTION FOR CODE COVERAGE, SYSTEM AND METHOD FOR TEST SELECTION ACCORDING TO TEST IMPACT ANALYTICS, System and method for test selection according to test impact analytics)</td></tr><tr><td>null</td><td>null</td></tr><tr><td>null</td><td>null</td></tr><tr><td>null</td><td>null</td></tr><tr><td>null</td><td>null</td></tr><tr><td>null</td><td>null</td></tr><tr><td>List(The Israeli Presidential Conference 2012 (Jun 2012 - Jun 2012): Worked on a team of three managing social media presence for 4th annual Israeli Presidential Conference (Facebook, Twitter, Instagram). Live-streamed content on behalf of international thought leaders (Shimon Peres, Eric Schmidt, Yuri Milner, Yossi Vardi, Tony Blair, Henry Kissinger), None (None): None, None (None): None)</td><td>null</td></tr><tr><td>null</td><td>null</td></tr><tr><td>List(kysely (Jul 2022): An open source type-safe SQL query builder for TypeScript, that I contribute to and help maintain. Over 8k Github stars and 150k weekly NPM downloads as of 14.12.23., mviwo. (Nov 2017 - Aug 2018): grad project, grade: 100client: National university of Taiwan, College of Medicine. mission: health records management in challenging environments. provide a fully configurable examinations agenda and allow on-demand updating of results. tools / technology / languages used: angular 6 (inc. CLI, material, PWA), node.js, express.js, mongodb (incl. atlas & compass), mongoose.js, bootstrap, npm, docker, heroku, mocha.js, axios.js, SCSS, CSS, HTML, git (github, GitKraken), visual studio code, nodemon., Web-based Visualization of NBA player transactions during the 2016/17 regular season. (Jul 2017 - Jul 2017): project in information visualization course, grade: 100.Top of the class.shows the transactions using a force directed graph, and players' statistics using a set of bullet charts. allows filtering by player, team and/or month.tools / technology / languages used: d3.js, jQuery, javascript, HTML5, CSS3, bootstrap, underscore.js, atom, XAMPP.report (hebrew):https://drive.google.com/open?id=0B8TQNbdnlCiYVGZDU1VJMDAwZms)</td><td>null</td></tr><tr><td>null</td><td>null</td></tr><tr><td>null</td><td>null</td></tr><tr><td>null</td><td>null</td></tr><tr><td>null</td><td>null</td></tr><tr><td>List(Gravité (None): Intoducing Gravité. Showcasing Particle's new cologne for men and its ingredients., Gravite Production Line (None): None)</td><td>null</td></tr><tr><td>null</td><td>null</td></tr><tr><td>null</td><td>null</td></tr><tr><td>null</td><td>null</td></tr><tr><td>null</td><td>null</td></tr><tr><td>null</td><td>null</td></tr><tr><td>null</td><td>null</td></tr><tr><td>null</td><td>null</td></tr><tr><td>null</td><td>null</td></tr><tr><td>null</td><td>null</td></tr><tr><td>List(Stuff on Github (Nov 2007 - Present): None)</td><td>null</td></tr><tr><td>null</td><td>null</td></tr><tr><td>null</td><td>null</td></tr><tr><td>null</td><td>null</td></tr><tr><td>null</td><td>null</td></tr><tr><td>null</td><td>null</td></tr><tr><td>null</td><td>null</td></tr><tr><td>null</td><td>null</td></tr><tr><td>null</td><td>null</td></tr><tr><td>null</td><td>null</td></tr><tr><td>null</td><td>null</td></tr><tr><td>null</td><td>null</td></tr><tr><td>null</td><td>null</td></tr><tr><td>null</td><td>null</td></tr><tr><td>null</td><td>null</td></tr><tr><td>null</td><td>null</td></tr><tr><td>null</td><td>null</td></tr><tr><td>null</td><td>null</td></tr><tr><td>null</td><td>null</td></tr><tr><td>null</td><td>null</td></tr><tr><td>null</td><td>null</td></tr><tr><td>null</td><td>null</td></tr><tr><td>null</td><td>null</td></tr><tr><td>null</td><td>null</td></tr><tr><td>null</td><td>null</td></tr><tr><td>null</td><td>null</td></tr><tr><td>null</td><td>null</td></tr><tr><td>null</td><td>null</td></tr><tr><td>null</td><td>null</td></tr><tr><td>null</td><td>null</td></tr><tr><td>null</td><td>List(Business action based fraud detection system and method)</td></tr><tr><td>null</td><td>null</td></tr><tr><td>null</td><td>null</td></tr><tr><td>null</td><td>null</td></tr><tr><td>null</td><td>null</td></tr><tr><td>null</td><td>null</td></tr><tr><td>null</td><td>null</td></tr><tr><td>List(🤖 Cybogram (Jul 2019 - Present): An open-source Python- and Selenium-based Instagram bot, 3DEngine (May 2019 - Present): My custom-made C++14 3D graphics engine using libgraph on Linux.Testing performed using integrated Google Test testing suite., Efficient Restoration By Compression (Mar 2019 - Jun 2019): A C++11, MATLAB, and OpenCV powered project presenting a modular and efficient C++ implementation of a novel, state-of-the-art signal compression approach that utilizes standard, off-the-shelf signal compression methods.Supervised by Yehuda Dar, Ph.d.Geometric Image Processing (GIP) laboratory, Faculty of Computer Science, Technion IIT., None (None): None, None (None): None, None (None): None, Kyoob (Aug 2018 - Oct 2018): A Unity and C# powered Android game live on the Google Play Store)</td><td>null</td></tr><tr><td>null</td><td>null</td></tr><tr><td>null</td><td>null</td></tr><tr><td>null</td><td>null</td></tr><tr><td>null</td><td>null</td></tr><tr><td>null</td><td>null</td></tr><tr><td>null</td><td>null</td></tr><tr><td>null</td><td>null</td></tr><tr><td>null</td><td>null</td></tr><tr><td>null</td><td>null</td></tr><tr><td>null</td><td>null</td></tr><tr><td>List(Flutter Expenses App (Nov 2019 - Present): Flutter Expenses app (Android & iOS) using Flutter & Dart, Fitness Angular App (Nov 2019 - Jan 2020): Fitness Angular based app using angular material, firebase, NgRx, Clothes Shop React app (Jul 2019 - Oct 2019): None)</td><td>null</td></tr><tr><td>null</td><td>null</td></tr><tr><td>null</td><td>null</td></tr><tr><td>null</td><td>null</td></tr><tr><td>null</td><td>null</td></tr><tr><td>null</td><td>null</td></tr><tr><td>null</td><td>List(Apparatus and methods for improving sensory nerve sensitivity, Apparatus for applying an electrical signal to a subject, Apparatus for providing pain relief therapy, Pain relief therapy, Specialized memory device, System Circuit Method for Utilizing Digital Memory Associated with a Host Device for Received Data, System and Method for Mitigating Memory Requirements, Treatment of Headaches by Electrical Stimulation)</td></tr><tr><td>null</td><td>null</td></tr><tr><td>null</td><td>null</td></tr><tr><td>null</td><td>null</td></tr><tr><td>null</td><td>null</td></tr><tr><td>null</td><td>null</td></tr><tr><td>null</td><td>null</td></tr><tr><td>null</td><td>null</td></tr><tr><td>null</td><td>null</td></tr><tr><td>null</td><td>null</td></tr><tr><td>List(raml - An implementation of a RAML parser for Go (Dec 2014): Compliant with RAML 0.8. Developed as part of a 2014 EverythingMe hackathon., None (None): None)</td><td>List(Transferring multimedia content)</td></tr><tr><td>null</td><td>null</td></tr><tr><td>null</td><td>null</td></tr><tr><td>null</td><td>null</td></tr><tr><td>List(Weather-App - Angular7, ngrx store. (Sep 2019): Weather app in Angular ,can search for every city in the world and displays the current weather and 5 days forecast. Can also save city in favorites with NgRx store.Using AccuWeather API., Book Store  (Sep 2018 - Present): A bookStrore application made with Angular and Firebase 🔥👨‍💻)</td><td>null</td></tr><tr><td>null</td><td>null</td></tr><tr><td>null</td><td>null</td></tr><tr><td>null</td><td>null</td></tr><tr><td>null</td><td>null</td></tr><tr><td>List(Fundraising for Covid-19 departments at Soroka Hospital (Mar 2021 - Apr 2021): To glorify the medical teams in the Covid-19 wards at Soroka Hospital in Be'er Sheva. I raised funds for pampering meals for the heroic medical teams that worked harder than usual during the pandemic., Fundraising for a person with cerebral palsy (Jul 2016 - Aug 2016): Fundraising 15,000₪ for a person with cerebral palsy.Fundraising for an inspiring person who, against all odds, is completing his master's degree in social work and needs to use the money to hire paid assistants to finish his degree.)</td><td>null</td></tr><tr><td>null</td><td>null</td></tr><tr><td>List(Touchscreen Input Method for Users with Hand Tremor (Jun 2015): As touch sensitive screens become more ubiquitous, impediments to their use have more debilitating implications. An example of such an impediment is muscular tremor, such as experienced by people with Parkinson's disease, CP, or MS. Muscle tremors can affect users'​ ability to accurately manipulate icons, leading to frustration and lost productivity.This project seeks to build a prototype User Interface (UI) for use with touch-sensitive screens, which will accept tremor-affected input, and use it to deduce the user's intended input, using machine learning and signal processing techniques to neutralize the effect of the tremor on the usage patterns.)</td><td>null</td></tr><tr><td>null</td><td>null</td></tr><tr><td>null</td><td>null</td></tr><tr><td>null</td><td>null</td></tr><tr><td>null</td><td>null</td></tr><tr><td>List(Machine Learning & NLP | INTEL (Jan 2021 - Oct 2021): • Data analyzing using various Python libraries including NLP.• Creation of Machine learning algorithm to predict validity of reports.• Analyze of results in order to get to a conclusion about report users)</td><td>null</td></tr><tr><td>null</td><td>null</td></tr><tr><td>List(Public MarTech GitHup Repository (Jan 2017 - Present): None)</td><td>null</td></tr><tr><td>null</td><td>null</td></tr><tr><td>null</td><td>null</td></tr><tr><td>null</td><td>null</td></tr><tr><td>null</td><td>null</td></tr><tr><td>null</td><td>null</td></tr><tr><td>null</td><td>null</td></tr><tr><td>null</td><td>null</td></tr><tr><td>null</td><td>null</td></tr><tr><td>null</td><td>null</td></tr><tr><td>null</td><td>null</td></tr><tr><td>null</td><td>null</td></tr><tr><td>null</td><td>null</td></tr><tr><td>null</td><td>null</td></tr><tr><td>null</td><td>null</td></tr><tr><td>null</td><td>null</td></tr><tr><td>null</td><td>null</td></tr><tr><td>null</td><td>null</td></tr><tr><td>null</td><td>null</td></tr><tr><td>null</td><td>null</td></tr><tr><td>null</td><td>null</td></tr><tr><td>null</td><td>null</td></tr><tr><td>null</td><td>null</td></tr><tr><td>null</td><td>null</td></tr><tr><td>null</td><td>null</td></tr><tr><td>null</td><td>null</td></tr><tr><td>null</td><td>null</td></tr><tr><td>null</td><td>List(Extracting Content from Speech Prosody)</td></tr><tr><td>null</td><td>null</td></tr><tr><td>null</td><td>null</td></tr><tr><td>null</td><td>null</td></tr><tr><td>null</td><td>null</td></tr><tr><td>null</td><td>null</td></tr><tr><td>null</td><td>null</td></tr><tr><td>null</td><td>null</td></tr><tr><td>List(Visa CAL Israel - NetIQ-Microfocus- Identity Management Project (May 2011 - Present): Identity Management Project for a leading financial organization in Israel. The project includes:* Development and customization of many Workflows designed step-by-step with the financial client and for its specific requirements.* Development of new Drivers and Policies (JDBC, Oracle, AD, Unix, etc..) and taking care by real-time debugging for existing Drivers as well.* Upgrading the old infrastructure of the IDM product (Novell Identity Manager 3.6.1) to the newest version on the market - the Novell Identity Manager 4.0.1 with all of its new modules.* Administration & Maintenance of the entire eDirectory infrastructure and all of IDM Drivers, Workflows, JOB's and system components ., None (None): None, None (None): None, Visa CAL Israel - Novell-NetIQ Identity Management Project (May 2007 - Present): Identity Management Project for a big financial organization in Israel. The project includes:* Development and customization of many Workflows designed step-by-step with the financial client and for its specific requirements.* Development of new Drivers and Policies (JDBC, Oracle, AD, Unix, etc..) and taking care by real-time debugging for existing Drivers as well.* Upgrading the old infrastructure of the IDM product (Novell Identity Manager 3.6.1) to the newest version on the market - the Novell Identity Manager 4.0.1 with all of its new modules.* Administration & Maintenance of the entire eDirectory infrastructure and all of IDM Drivers, Workflows, JOB's and system components ., None (None): None, None (None): None, Role Based Access Control for a leading Credit Card Company (Jan 2012 - Dec 2014): Automation of employees' onboarding, employees' changes, and organizational changes yielded a VERY FAST SLA (minutes to a full set of accounts and entitlements), higher satisfaction and eliminating the need for complex approval workflows. It took 3 years to go over all the departments and to complete the role mining and certification processes. We have had an immediate ROI after starting with our service organization where bulks of employees join, go through courses and shift teams. From a very intensive manual labor of few employees in 3-4 teams, the process now takes minutes to complete and involves only 1 admin to complete 1 unmanaged system.A year later we see a much calmer and more efficient environment.But it requires a hand on the wheel to implement and manage the on-going operation.)</td><td>List(System and method for energy and assets saving and for improving ownership and sustainability awareness, System and Method for Energy and Assets Saving and for Improving Ownership and Sustainability Awareness)</td></tr><tr><td>null</td><td>null</td></tr><tr><td>null</td><td>List(Methods and Systems for Trusted Unknown Malware Detection and Classification in Linux Cloud Environments)</td></tr><tr><td>null</td><td>null</td></tr><tr><td>null</td><td>null</td></tr><tr><td>List(Home Tech City Farm (Jul 2018 - Aug 2022): Home Tech City Farm controlled environment agriculture technology platform that uses robotic systems to control and monitor climate, energy, and plant growth inside the hydroponic system. The main idea is to create open source dosing & managing system that can be made from easily accessible hydroponic components. We want to create basic platform for home tech farmers with a broad spectrum of skills, resources, and interests can build, modify, share, and upgrade over time. Build instructions, design files, and helpful resources for all our Home Tech City Farm ecosystem., Two Side Marketplace B2B (Dec 2013 - Dec 2014): Co-Founder.Personal Project. Development of Two-Side Marketplace B2B platform in the field of collaborative economy.We received a proposal from WADI Ventures for financing pre seed round., Virtual Marketplace B2B (May 2013 - Dec 2013): Founder.Personal Project. In 2013 I won 3rd place in the competition for writing \"business plan\" in Bengis, Ben-Gurion University. Business plan talks about the development of Virtual Marketplace B2B platform.We received a proposal from WADI Ventures for financing pre seed round., Ultra - sound for Smartphones (Mar 2012 - Jun 2012): Founder.Personal Project. I was designed an ultra - sound wide use system for Smartphones for ordinary users (not doctors) at a lower cost with cooperation Prof. Relly Hershkovitz, Director of the Women's Ultrasound Unit in the Obstetrics and Gynecology Department at Soroka Medical Center.)</td><td>null</td></tr><tr><td>null</td><td>null</td></tr><tr><td>null</td><td>null</td></tr><tr><td>List(Nand2Tetris Computer & Compiler (Jul 2020 - Oct 2020): Built a computer system from the ground up, including a Jack compiler and a Hack computer., Code Project Detection Algorithm Hackathon (Jun 2020 - Jun 2020): Developed a classifier that distinguishes between given coding projects using machine learning algorithms (Python).)</td><td>null</td></tr><tr><td>null</td><td>null</td></tr><tr><td>null</td><td>null</td></tr><tr><td>null</td><td>null</td></tr><tr><td>null</td><td>null</td></tr><tr><td>null</td><td>null</td></tr><tr><td>null</td><td>null</td></tr><tr><td>null</td><td>null</td></tr><tr><td>null</td><td>null</td></tr><tr><td>null</td><td>null</td></tr><tr><td>null</td><td>null</td></tr><tr><td>null</td><td>null</td></tr><tr><td>null</td><td>null</td></tr><tr><td>null</td><td>null</td></tr><tr><td>null</td><td>null</td></tr><tr><td>List(Hyperthermia Ultrasound Translation System, Senior Design Project II (Dec 2012 - Mar 2013): •Maintain progression through creation of schedule and close monitoring of completion of goals•Present project goals and progressions to peers, instructor, and advisor•Maintain budget of $2000 to be spent only as needed•Design and fabricate prototype translation system to specific operating parameters within a small team, None (None): None, None (None): None)</td><td>null</td></tr><tr><td>null</td><td>null</td></tr><tr><td>null</td><td>null</td></tr><tr><td>null</td><td>null</td></tr><tr><td>List(apartments-finder (None): How do you search for apartments to rent today?I'm excited to share my first project with all of you that might solve this problem! Today there are many Facebook posts about available apartments to rent.When looking for one in those groups, you go through the same process - Searching in each group you are familiar with, and manually checking whether the apartment is suitable to your needs.This project does this process automatically and can help you find your next ideal apartment!This project - - Scrapes data from Facebook rental groups - Extracts details through #openai Function Calling API - Filters them by a set of easily defined rules - Sends selected apartments to a chosen Telegram groupThe #openai Function Calling API saves all the trouble from writing a custom logic that parses the needed details from each post (E.g. - how to extract the number of rooms written in the post? Will it be a number? will it be \"3 rooms\"?) and I recommend giving it a try with other use cases you may encounter.)</td><td>null</td></tr><tr><td>null</td><td>null</td></tr><tr><td>List(Weapon Detection Using Transfer Learning (Dec 2021 - Jan 2022): In this project we attempt to use a YOLOv5 model to detect weapons in various scenarios.We use Transfer-Learning by performing additional training on a pre-trained network, using the new dataset, to achieve this task.This is a class project as part of EE046211 - Deep Learning course @ Technion., None (None): None, Final Project A - Detecting autism in mice by analyzing their squeaks (Aug 2021 - Dec 2021): Final Project as part of EE B.Sc @ Signal and Image Processing Lab (SIPL), Technion.Detecting ASD (autism spectrum disorder) symptoms in mice using analysis of recordings of their squeaks through Audio Signal Processing and Machine Learning algorithms.Part of a research by Hava Golan and Dror Lederman.In cooperation with Alon Schreuer.Project page on the SIPL website: https://sipl.eelabs.technion.ac.il/projects/recognizing-autism-in-mice-by-analyzing-their-squeaks/, FIRE TROUBLE - FPGA Game Design (Mar 2019 - Jun 2019): - SystemVerilog- VGA interface)</td><td>null</td></tr><tr><td>null</td><td>List(Incorporation of semantic information in simultaneous localization and mapping, Apparatus and method for surface traversing with capacitive sensing of surface, Electromagnetic probes (EM), methods for using such EM probes and systems using such EM electromagnetic probes, Location Aware Neural Network, Controlling electromagnetic (em) transmission based on pressure parameters)</td></tr><tr><td>null</td><td>null</td></tr><tr><td>null</td><td>null</td></tr><tr><td>null</td><td>null</td></tr><tr><td>List(Android Application - Book Shop (Client+Server) (None): B.Sc Final Project – commerce system implemented as an Android app, Java-Server, and SQL database (MVC architecture)., Font Recognition System (None): M.Sc Computer Vision Project – recognize text font from images using machine learning, image processing and computer vision techniques. Main Python packages: cv2, numpy, scipy, sklearn, pandas, matplotlib and more.)</td><td>null</td></tr><tr><td>null</td><td>List(Systems and methods for assessing partial impulsivity in virtual or augmented reality, Remote virtual and augmented reality monitoring and control systems, Assessing postural sway in virtual or augmented reality, Systems and methods for assessment and measurement of reaction time in virtual/augmented reality, Systems for dynamic assessment of upper extremity impairments in virtual/augmented reality)</td></tr><tr><td>null</td><td>null</td></tr><tr><td>null</td><td>null</td></tr><tr><td>List(Bias programming in TLC Flash cells (May 2019 - Nov 2020): Flash-based storage has become the standard storage in computing devices today. It has become popular thanks to its fast-random access, light weight, low energy consumption, and increasingly large capacity. However, flash memories have a much shorter lifespan than other storage devices.We researched and developed a method to optimize the lifespan of the TLC SSD chip while slightly reducing it's storage capacity. This method & the code can be applied on future SSD arch, None (None): None, Golden Authority (Mar 2020 - Oct 2020): The Golden Authority Project helps the non-profit organization \"Lev-Hash\" in Haifa to manage the \"והדרת בדרכך\" project - where inspectors visit seniors every week during their scheduled patrols as part of community service.This Android app, provides managing support - registration, reporting, monitoring etc. for both inspectors volunteering and their coordinators in the Lev-Hash organization.**In order to protect app's users privacy this project is private, access can be given by a request.Watch the article on \"כאן 11\" about the project and the app:https://www.youtube.com/watch?v=ty3mpASLFHY&t=1s, None (None): None, None (None): None, Efraim - the autonomous 3d printed fruit picking robot (Feb 2020 - Jun 2020): Efraim is a 3D printed robot integrated with intel's depth camera. Efraim uses both the real-time image processing segmentation algorithm called YOLACT (based on YOLO) developed in MIT & the intel's depth camera to identify fruit & locate it. Efraim then uses inverse kinematics & Arduino to pick the fruitGitHub: https://github.com/jjgershon/robtic_arm_YOLACT_Arduino_Depth_camerawatch the project in this short summary video we prepared: https://www.youtube.com/watch?v=ZvZcOOxREEY, None (None): None)</td><td>null</td></tr><tr><td>null</td><td>null</td></tr><tr><td>null</td><td>null</td></tr><tr><td>List(Bank Leumi (May 2014): Bank Leumi, the oldest bank in Israel, have decided to switch his systems to Salesforce CRM Platform in a long wide spread project., None (None): None, None (None): None, None (None): None, None (None): None, None (None): None, Delek Europe (None): None)</td><td>null</td></tr><tr><td>null</td><td>null</td></tr><tr><td>null</td><td>null</td></tr><tr><td>null</td><td>null</td></tr><tr><td>null</td><td>null</td></tr><tr><td>null</td><td>null</td></tr><tr><td>List(Lomography @ TLV FW (Nov 2012 - Nov 2012): Tel-Aviv Fashion Week seen through a lomographic lense, None (None): None, None (None): None)</td><td>null</td></tr><tr><td>null</td><td>null</td></tr><tr><td>null</td><td>null</td></tr><tr><td>List(Walla! Mail (Jul 2015): New Walla! Mail website. Using CSS3 and HTML5 responsive web design and retina ready. Advanced JavaScript implementations we provide better user experience and usability., None (None): None, None (None): None, None (None): None, Walla! Homepage (Jan 2015): Israel's leading news portal. Using HTML5 and CSS3 responsive and retina ready design, Advanced JavaScript implementations we provide better user experience and usability.The new design provides the user all information on any device and any screen size and orientation., None (None): None, None (None): None, None (None): None, None (None): None, None (None): None, None (None): None, None (None): None, None (None): None, None (None): None, None (None): None, Walla! Brnz'h (Oct 2014): Israel leading portal websites. Using CSS3 and HTML5 responsive web design and retina ready., None (None): None, None (None): None, None (None): None, None (None): None, None (None): None, None (None): None, None (None): None, None (None): None, None (None): None, None (None): None, None (None): None, None (None): None, None (None): None, Walla! Cars (Oct 2014): Israel leading cars website. Using CSS3 and HTML5 responsive web design and retina ready., None (None): None, None (None): None, None (None): None, None (None): None, None (None): None, None (None): None, None (None): None, None (None): None, None (None): None, None (None): None, None (None): None, None (None): None, None (None): None, Walla! Entertainment (Oct 2014): Israel leading entertainment website. Using CSS3 and HTML5 responsive web design and retina ready., None (None): None, None (None): None, None (None): None, None (None): None, None (None): None, None (None): None, None (None): None, None (None): None, None (None): None, None (None): None, None (None): None, None (None): None, None (None): None, Walla! Finance (Oct 2014): Israel leading financial website. Using CSS3 and HTML5 responsive web design and retina ready., None (None): None, None (None): None, None (None): None, None (None): None, None (None): None, None (None): None, None (None): None, None (None): None, None (None): None, None (None): None, None (None): None, None (None): None, None (None): None, Walla! Healthy (Oct 2014): Israel leading health website. Using CSS3 and HTML5 responsive web design and retina ready., None (None): None, None (None): None, None (None): None, None (None): None, None (None): None, None (None): None, None (None): None, None (None): None, None (None): None, None (None): None, None (None): None, None (None): None, None (None): None, Walla! Home (Oct 2014): Israel leading home style website. Using CSS3 and HTML5 responsive web design and retina ready., None (None): None, None (None): None, None (None): None, None (None): None, None (None): None, None (None): None, None (None): None, None (None): None, None (None): None, None (None): None, None (None): None, None (None): None, None (None): None, None (None): None, Walla! Judaism (Oct 2014): Israel leading judaism website. Using CSS3 and HTML5 responsive web design and retina ready., None (None): None, None (None): None, None (None): None, None (None): None, None (None): None, None (None): None, None (None): None, None (None): None, None (None): None, None (None): None, None (None): None, None (None): None, None (None): None, Walla! News (Oct 2014): Israel leading News website. Using CSS3 and HTML5 responsive web design and retina ready., None (None): None, None (None): None, None (None): None, None (None): None, None (None): None, None (None): None, None (None): None, None (None): None, None (None): None, None (None): None, None (None): None, None (None): None, Walla! Singles (Oct 2014): Israel leading portal websites. Using CSS3 and HTML5 responsive web design and retina ready., None (None): None, None (None): None, None (None): None, None (None): None, None (None): None, None (None): None, None (None): None, None (None): None, None (None): None, None (None): None, None (None): None, None (None): None, None (None): None, Walla! Sports (Oct 2014): Israel leading sports website. Using CSS3 and HTML5 responsive web design and retina ready., None (None): None, None (None): None, None (None): None, None (None): None, None (None): None, None (None): None, None (None): None, None (None): None, None (None): None, None (None): None, None (None): None, None (None): None, None (None): None, None (None): None, None (None): None, Walla! TECH (Oct 2014): Israel leading technology website. Using CSS3 and HTML5 responsive web design and retina ready., None (None): None, None (None): None, None (None): None, None (None): None, None (None): None, None (None): None, None (None): None, None (None): None, None (None): None, None (None): None, None (None): None, None (None): None, None (None): None, Walla! Travel (Oct 2014): Israel leading travel website. Using CSS3 and HTML5 responsive web design and retina ready., None (None): None, None (None): None, None (None): None, None (None): None, None (None): None, None (None): None, None (None): None, None (None): None, None (None): None, None (None): None, None (None): None, None (None): None, None (None): None, Walla! ZONE (Oct 2014): Israel leading portal websites. Using CSS3 and HTML5 responsive web design and retina ready., None (None): None, None (None): None, None (None): None, None (None): None, None (None): None, None (None): None, None (None): None, None (None): None, None (None): None, None (None): None, None (None): None, None (None): None, None (None): None, Walla! Food (Sep 2014): Israel leading food & recipes website. Using CSS3 and HTML5 responsive web design and retina ready., None (None): None, None (None): None, None (None): None, None (None): None, None (None): None, None (None): None, None (None): None, None (None): None, None (None): None, None (None): None, None (None): None, Walla! Celebs (Aug 2014): Israel leading celebs news website. Using CSS3 and HTML5 responsive web design and retina ready., None (None): None, None (None): None, None (None): None, None (None): None, None (None): None, None (None): None, None (None): None, None (None): None, None (None): None, None (None): None, None (None): None, Walla! Fashion (Jun 2014): Israel leading fashion news website. Using CSS3 and HTML5 responsive web design and retina ready., None (None): None, None (None): None, None (None): None, None (None): None, None (None): None, None (None): None, None (None): None, None (None): None, None (None): None, None (None): None, None (None): None, None (None): None, Walla! Mundial 2014 (Jan 2014): View fixtures and coverage information for the World Cup 2014 in Brazil, as well as Live Scores, Results, Group Tables and News.Using CSS3 and HTML5 technologies we made this site Responsive and supported by all the most popular devices, None (None): None, None (None): None, None (None): None, None (None): None, None (None): None, None (None): None, Royal-Chef Website (Aug 2013): A VOD website for the Royal-Chef TV showUsing advanced web technology to make it a \"Responsive\" websiteSupported by the most popular devices, None (None): None, None (None): None, None (None): None, None (None): None, None (None): None, None (None): None, None (None): None, Walla! Magazine (Apr 2013): None, None (None): None, None (None): None, None (None): None, None (None): None, None (None): None, Walla!Vod (Mar 2013 - Present): None, None (None): None, None (None): None, None (None): None, None (None): None, None (None): None, m.winner.co.il (Mar 2012): None, Red Sea (Feb 2012): None, yourway.co.il (Jan 2012): None, gindi.com (Oct 2011): None, guideya.com (Jun 2011): None)</td><td>null</td></tr><tr><td>null</td><td>null</td></tr><tr><td>null</td><td>null</td></tr><tr><td>null</td><td>null</td></tr><tr><td>null</td><td>null</td></tr><tr><td>null</td><td>null</td></tr><tr><td>null</td><td>null</td></tr><tr><td>null</td><td>null</td></tr><tr><td>null</td><td>null</td></tr><tr><td>List(Spot your recipe (None): \"Spot Your Recipe\" is a revolutionary application that brings personalization to the culinary world, similar to how Spotify personalizes music. Utilizing a collaborative filtering algorithm, the app recommends recipes tailored to the user's unique taste preferences. Built with a tech stack that includes PySpark, Vue.js, Node.js, and the Quasar framework)</td><td>null</td></tr><tr><td>null</td><td>null</td></tr><tr><td>null</td><td>null</td></tr><tr><td>null</td><td>null</td></tr><tr><td>null</td><td>null</td></tr><tr><td>null</td><td>null</td></tr><tr><td>null</td><td>null</td></tr><tr><td>null</td><td>null</td></tr><tr><td>null</td><td>null</td></tr><tr><td>null</td><td>null</td></tr><tr><td>null</td><td>null</td></tr><tr><td>null</td><td>null</td></tr><tr><td>List(Voice recognition algorithm (Oct 2015): This software based algorithm of voice recognition is obtainable by using the dynamic time warping algorithm and coefficient extraction with wavelets. The system was realized in MATLAB ., Neptune project (Jul 2015): Neptune project is financed by the Israeli Government Office of the Chief Scientist. The project develops advanced optical networks based on SDN (Software Defined Network). My project includes research and developing of SW model contains algorithm which optimize live traffic in optical networks in order to improve the QoS and prevent optical traffic blocking. The SW model is developed by using MATLAB SW tool performing De-fragmentation of services over fiber optic in order to achieve bandwidth optimization. The project is led by Prof. Uri Mahlev with co-operation of Holon Institute of Technology and Techniyon)</td><td>null</td></tr><tr><td>null</td><td>null</td></tr><tr><td>null</td><td>null</td></tr><tr><td>List(PostgreSQL: Database Design, Query Writing and Optimization (course) (Jan 2019 - Jan 2022): None, None (None): None, Developing concept of graph-structural modelling of organizational systems and controlling them using analysis of finite fluctuations (Feb 2019 - Dec 2021): Supervisor: Semen Blyumin💰The project was supported by the Russian Foundation for Basic Research (RFBR) within the project 19-47-480003., None (None): None, None (None): None, None (None): None, None (None): None, Interactive system to plan sintering and blast furnace production (Apr 2020 - Sep 2021): The interactive system is presented a set of sequential interconnected modules to calculate planned charge options and select technological parameters for sinter and blast furnace production based on information about the current production, the availability of used materials, and technological operations.Innovation aspects.Methodology and algorithmic support with software implementation of an interactive sinter and blast furnace production planning system to optimize and automate the process of calculating planned / normalized unit costs and indicators; production planning in the context of raw materials usage and technological operations, taking into account technological limitations, restrictions on used materials and the relationship between individual stages of production.🏆The project was noted by the Ministry of Science and Higher Education of the Russian Federation as a promising development and entered the catalogue \"Open innovations-2020\"., None (None): None, None (None): None, The Regional Module for the Intelligent Transportation and Logistics System (2018 - Jul 2021): A set of models and program modules can be used to simulate and control traffic flows in regions with high cargo traffic volumes, transportation hubs, and logistics centers.Innovation aspects: ability to aggregate data on traffic flows from heterogenius sources, external conditions, and economic indicators of the region in order to build models of optimal distribution of traffic flows and control the current transport situation online.💰The project was supported by the Russian Science Foundation within the project 18-71-10034.🏆The project was noted by the Ministry of Science and Higher Education of the Russian Federation as a promising development and entered the catalogue \"Open innovations-2020\"., None (None): None, None (None): None, Integrated information system for element-by-element management of steel production (2018 - 2020): Within the framework of this research project, the tasks were solved:✔developing concept and the information system which will allow creating technological proses scheme (which will consist of different connecting elements; different combinations of elements or technological pathways can be used for the production chain);✔developing mathematical and algorithmic support for determining the optimal production technology (for the entire production chain or part of it) according to a given integral optimality criterion using various mathematical models of separate elements of the production chain: different combinations of raw materials and technology can lead to the production of finished products with specified properties. 🏆The project was noted by the Ministry of Science and Higher Education of the Russian Federation as a promising development and entered the catalogue \"Open innovations-2019\"., None (None): None, None (None): None, Expert assessment of the methodology for calculating the enterprise stuff satisfaction / involvement level during a sociological study (Feb 2018 - Jun 2018): Within the framework of this project, the tasks were solved:✔ expert assessment of the existing methodology;✔ developing the methodology for calculating the enterprise stuff satisfaction / involvement level which are based on nonparametric approaches to evaluating point and interval estimations; ✔ developing the algorithm for filtering the data (analysis of the questions connectivity based on the analysis of the array of accumulated questionnaires), which allows you to avoid inflated values of ratings, None (None): None, Developing mathematical models of the factorial influence of technological parameters on the specific consumption of coke and productivity of blast furnaces (Mar 2017 - Aug 2017): Within the framework of this project, the tasks were solved:✔ developing mathematical and algorithmic support for the influence calculation of technological parameters on the specific coke consumption and productivity;✔ developing mathematical and algorithmic support for calculation of coefficients based on the factor model, taking into account restrictions on the coefficient values., None (None): None, None (None): None, None (None): None, None (None): None)</td><td>null</td></tr><tr><td>null</td><td>null</td></tr><tr><td>null</td><td>null</td></tr><tr><td>null</td><td>null</td></tr><tr><td>null</td><td>null</td></tr><tr><td>null</td><td>null</td></tr><tr><td>List(Quadruped Ctrl EEG (Jun 2015): Quadruped Arduino robot controlled by extracted brain state activity from NeuroSteer EEG Headset.Inspired on sensors and other technologies in a connected world (IOT) was conducted undergraduate studies towards Bsc. CS @ the Technion., Big Data at the Service of SaaS (Oct 2014): Project in Computer Security at The Technion (Course# 236349))</td><td>null</td></tr><tr><td>List(Red Light Running Violation Detection using Deep Learning - Tensorflow (Jan 2019): In this project, I used the deep learning API Tensorflow along with OpenCV in order to perform Red Light Running Violation Detection., Artificial Intellignce: Crossword Puzzle Generation and Solution using Genetics (Jan 2018): The aim of this project is to generate or solve a crossword puzzle by applying genetics search algorithm tooptimize the solution. The program was written using Python., CAT (Computer Aided Training) Gadget (Sep 2019 - Sep 2019): A gadget that tracks gestures for people with physical impairment and gives feedback about what they are doing wrong, and what they should do to correct the movement.Created as part of participating in Makeathon Extend 2019., Arabic Text Classification: Classical and Modern Poetry (Jan 2018 - 2018): The main aim of the project was to use machine learning classification techniques in order to do text classification based on genre. Various toolkits were used including ntlk, text-editors, and the Weka toolkit.)</td><td>null</td></tr><tr><td>null</td><td>null</td></tr><tr><td>null</td><td>null</td></tr><tr><td>null</td><td>null</td></tr><tr><td>null</td><td>null</td></tr><tr><td>null</td><td>null</td></tr><tr><td>null</td><td>null</td></tr><tr><td>null</td><td>null</td></tr><tr><td>null</td><td>null</td></tr><tr><td>null</td><td>null</td></tr><tr><td>null</td><td>null</td></tr><tr><td>List(SAP App Center (Sep 2016 - Present): None)</td><td>null</td></tr><tr><td>List(One time sale - the first Facebook poke campaign (Jan 2013): Our brief was to promote \"a one-time sales proposition on lingerie\"; what we did is film a 10-second, sexy and teasing video clip of our model getting dressed with Delta's Lingerie. To gain authenticity, the video clip was filmed by the model's agent using the new app, Facebook Poke, then sent to the Delta's Facebook fans, the model's fans an leading PR's. last frame says \"A One-Time Sale! Delta.\" and on Delta's website, users can buy the product with the discount., The incoming call banner? (Dec 2012): Bezeq, the biggest communication company is israel launch its new cellular, so our presentor called israel mobile users to them about it., FACEBOOK OOPS (Oct 2011): 35% of youngsters have on line regrets. spring tea's fans told us theirs, and we made from it personal animation movie based on the fan's \"oops\". this is one of them , HISARTUT - branded content campaign (Jun 2012): We created an animation parody show that followed \"survivals\" on TV and generated over 1,600,000 views via Youtube and social media , Let's talk about it (Aug 2010): after a big crisis between Israel and Turkey we connected the 2 countries's citizens in a surprising personal massages via facebook. no politics. just people., The Rudy Project Project (Jun 2010): social game for the bicycle riders community client: RUDY PROJECT ISRAEL)</td><td>null</td></tr><tr><td>null</td><td>null</td></tr><tr><td>null</td><td>null</td></tr><tr><td>null</td><td>null</td></tr><tr><td>null</td><td>null</td></tr><tr><td>null</td><td>null</td></tr><tr><td>null</td><td>null</td></tr><tr><td>null</td><td>null</td></tr><tr><td>null</td><td>null</td></tr><tr><td>null</td><td>null</td></tr><tr><td>List(Geshser Hevrati project (Jul 2014 - Present): None, None (None): None)</td><td>null</td></tr><tr><td>null</td><td>null</td></tr><tr><td>null</td><td>null</td></tr><tr><td>null</td><td>null</td></tr><tr><td>null</td><td>null</td></tr><tr><td>null</td><td>null</td></tr><tr><td>null</td><td>null</td></tr><tr><td>null</td><td>null</td></tr><tr><td>null</td><td>null</td></tr><tr><td>null</td><td>null</td></tr><tr><td>null</td><td>null</td></tr><tr><td>null</td><td>null</td></tr><tr><td>null</td><td>null</td></tr><tr><td>null</td><td>null</td></tr><tr><td>null</td><td>null</td></tr><tr><td>null</td><td>null</td></tr><tr><td>null</td><td>null</td></tr><tr><td>null</td><td>null</td></tr><tr><td>List(Agalist (Mar 2011 - Present): A website with an great potential of growth.It is found in its 1.0 version., None (None): None)</td><td>null</td></tr><tr><td>null</td><td>null</td></tr><tr><td>null</td><td>null</td></tr><tr><td>null</td><td>null</td></tr><tr><td>null</td><td>null</td></tr><tr><td>null</td><td>null</td></tr><tr><td>null</td><td>List(TREATMENT OF HEADACHES BY ELECTRICAL STIMULATION, Diversity schemes for 2-D encoded data, Forward filter training scheme, Turbo equalization for diversity receivers, Voice activity detector based upon a detected change in energy levels between sub-frames and a method of operation)</td></tr><tr><td>List(Project in Machine Learning & Computer Vision - People counting system (Sep 2019 - Feb 2020): The system counts the people entering and leaving an entrance, using a Deep Neural Network as a detector (YOLOv3) and a tracking algorithm to track and count (DCF-CSR \\ CSRT). It was developed by myself and Or Farfara as a project in Machine Learning & Computer Vision at the Technion, and intended to be used by the Technion's libraries (though it could be modified to fit any entrance).The code, including an in-depth user's manual and the project's full report in my GitHub:https://github.com/IdoGalil/People-counting-system)</td><td>null</td></tr><tr><td>null</td><td>null</td></tr><tr><td>null</td><td>null</td></tr><tr><td>null</td><td>null</td></tr><tr><td>List(Focuser (Oct 2022 - Nov 2022): An open-source distraction-reducing desktop app built using modern React.js & Electron.js principles.)</td><td>null</td></tr><tr><td>null</td><td>null</td></tr><tr><td>null</td><td>null</td></tr><tr><td>null</td><td>null</td></tr><tr><td>null</td><td>null</td></tr><tr><td>null</td><td>null</td></tr><tr><td>null</td><td>null</td></tr><tr><td>null</td><td>null</td></tr><tr><td>null</td><td>null</td></tr><tr><td>null</td><td>null</td></tr><tr><td>null</td><td>null</td></tr><tr><td>null</td><td>null</td></tr><tr><td>null</td><td>null</td></tr><tr><td>null</td><td>null</td></tr><tr><td>null</td><td>null</td></tr><tr><td>null</td><td>null</td></tr><tr><td>List(Object detection on soybean leafs (python) (Sep 2018 - Present): Final project for computer engineering degree (thesis), Tomasulo algorithm implementation (java) (Jul 2018): Final project of Computers Architecture, Docker application (May 2018): Final project of network computerUNC, None (None): None, None (None): None, Petri nets parser (Smalltalk, Haskell and Perl) (Mar 2018 - Jun 2018): Final project of programming paradigms, None (None): None, Industrial production optimization with Petri Nets (java) (Jun 2017 - Aug 2017): Final project for concurent programming, None (None): None, None (None): None, Travel salesman's problem (c++) (Oct 2015 - Nov 2015): Final project for algorithms and data structures.UNC, None (None): None)</td><td>null</td></tr><tr><td>List(The Stress Distribution on Female Breasts as a Function of its Size (Oct 2020): Final Research project for my BSc degree.Ill-fitting bras are known to cause musculoskeletal pain. However, most women are unable to properly fit a bra for themselves. Additionally, monthly hormonal fluctuations during various stages of the menstrual cycle cause the breast size to fluctuate. Additionally, monthly hormonal fluctuations during various stages of the menstrual cycle cause the breast volume to fluctuate by up to 40%. Therefore, there is a need for a change in the way we design bras, which first requires proper understanding of the relationships between the forces exerted on the breasts, their size, and the resulting stress distribution. Using FEA, we have simulated the stresses and strains on the breast as a function of its size, both under the static influence of gravity, and during gait movement)</td><td>null</td></tr><tr><td>null</td><td>null</td></tr><tr><td>List(WinnerPrep AI (Aug 2023): WinnerPrep is an innovative platform harnessing the power of artificial intelligence to elevate job seekers' potential and align them with their desired career paths.The key features include:- AI-Powered CV Analysis: Delivers insightful analysis of CVs to uncover hidden strengths and suggests improvements.- Real-Time Information Gathering: Operates autonomous AI agents to collect real-time data about the candidate, position, company, and industry.- Personalized Outcomes: Crafts extremely personalized and high-quality results for candidates based on real-time data.- Advanced Keyword Strategy: Utilizes advanced automation and frameworks to optimize CVs for Applicant Tracking System (ATS) algorithms.- Large Language Model Utilization: Employs large language models across various technologies for personalized interview preparation and CV enhancement.- Bespoke Interview Preparation: Offers personalized Q&As and strategies for excelling in interviews.Upcoming Features:- Personal AI Career Coach: A dedicated chatbot for addressing queries regarding CVs, specific companies, or assisting in filling out job applications and more.- Real-Time Voice Interview Practice: Provides a platform for real-time voice interview simulations with thorough and extremely valuable feedback post-interview.)</td><td>null</td></tr><tr><td>null</td><td>null</td></tr><tr><td>null</td><td>null</td></tr><tr><td>null</td><td>null</td></tr><tr><td>null</td><td>null</td></tr><tr><td>null</td><td>null</td></tr><tr><td>null</td><td>null</td></tr><tr><td>null</td><td>null</td></tr><tr><td>null</td><td>null</td></tr><tr><td>null</td><td>null</td></tr><tr><td>null</td><td>null</td></tr><tr><td>null</td><td>null</td></tr><tr><td>null</td><td>null</td></tr><tr><td>null</td><td>null</td></tr><tr><td>null</td><td>null</td></tr><tr><td>null</td><td>null</td></tr><tr><td>null</td><td>null</td></tr><tr><td>null</td><td>null</td></tr><tr><td>null</td><td>null</td></tr><tr><td>null</td><td>null</td></tr><tr><td>null</td><td>null</td></tr><tr><td>List(More glove (Nov 2018 - Present): Whiteboard eraser glove for cleaning whiteboards., Secar (Nov 2017 - Nov 2018): None)</td><td>null</td></tr><tr><td>null</td><td>null</td></tr><tr><td>null</td><td>null</td></tr><tr><td>List(Intel scholarship for outstanding female students (2017 - 2018): Promoting an individual initiative for the advancement of women in technological fields with Intel company.)</td><td>null</td></tr><tr><td>null</td><td>null</td></tr><tr><td>null</td><td>null</td></tr><tr><td>null</td><td>null</td></tr><tr><td>null</td><td>null</td></tr><tr><td>null</td><td>null</td></tr><tr><td>null</td><td>null</td></tr><tr><td>null</td><td>null</td></tr><tr><td>null</td><td>null</td></tr><tr><td>null</td><td>null</td></tr><tr><td>null</td><td>null</td></tr><tr><td>null</td><td>null</td></tr><tr><td>null</td><td>null</td></tr><tr><td>null</td><td>null</td></tr><tr><td>null</td><td>null</td></tr><tr><td>null</td><td>null</td></tr><tr><td>null</td><td>null</td></tr><tr><td>null</td><td>null</td></tr><tr><td>null</td><td>null</td></tr><tr><td>null</td><td>null</td></tr><tr><td>null</td><td>null</td></tr><tr><td>null</td><td>null</td></tr><tr><td>null</td><td>null</td></tr><tr><td>null</td><td>null</td></tr><tr><td>List(ParrotBay.io (None): ParrotBay provides a unique URL that you can execute any type of HTTP requests against it. allows you to inspect your HTTP requests, design webhooks, and mimic your entire backend endpoints with static and dynamic JSON responses)</td><td>null</td></tr><tr><td>null</td><td>null</td></tr><tr><td>null</td><td>null</td></tr><tr><td>List(Detection Signal Anomaly Using ML Models (None): None)</td><td>null</td></tr><tr><td>null</td><td>null</td></tr><tr><td>null</td><td>null</td></tr><tr><td>null</td><td>null</td></tr><tr><td>null</td><td>null</td></tr><tr><td>null</td><td>null</td></tr><tr><td>null</td><td>null</td></tr><tr><td>null</td><td>null</td></tr><tr><td>null</td><td>null</td></tr><tr><td>null</td><td>null</td></tr><tr><td>List(Football Match (Oct 2018 - Jan 2019): Football Match is a simple way to maintain your existing group of fellow football players and join other groups' games., None (None): None, None (None): None)</td><td>null</td></tr><tr><td>null</td><td>null</td></tr><tr><td>null</td><td>null</td></tr><tr><td>List(MarkUs (Jan 2011): Add support for mathematical signs and equations (LaTex format) in an open source project for teachers., None (None): None)</td><td>null</td></tr><tr><td>null</td><td>null</td></tr><tr><td>null</td><td>null</td></tr><tr><td>null</td><td>null</td></tr><tr><td>null</td><td>null</td></tr><tr><td>null</td><td>null</td></tr><tr><td>null</td><td>null</td></tr><tr><td>null</td><td>null</td></tr><tr><td>null</td><td>null</td></tr><tr><td>null</td><td>null</td></tr><tr><td>null</td><td>null</td></tr><tr><td>null</td><td>null</td></tr><tr><td>List(FFNN from scratch  (May 2020 - May 2020): Feedforward neural network (FFNN) from scratch with Python and NumPy., Achtung (Mar 2020 - Apr 2020): An interactive multiplayer platform to play “Achtung” (a complex version of the infamous “Snake”). The game was designed using PyGame, the AI was developed using NEAT-Python and DQN (TensorFlow) modal., Implementation of Decision Tree Classifier for Machine Learning (Mar 2020 - Mar 2020): A self-written Decision Tree Classifier that deduces information based on input data.For example, I used this classifier to predict where respondents to a certain survey on political opinion live. The UI is user-friendly and designed to help find meaningful deductions easily.No external library was used for this project., KNN (k-Nearest Neighbors) from scratch (Feb 2020 - Feb 2020): k-Nearest Neighbors from scratch with Python, Shmirot (Nov 2019 - Nov 2019): Website developed during HackExtend Hackathon. My role was the back-end developer. The back-end was built in Python and Flask. The website generates a special kind of duty roster especially relevant for soldiers who need to manage watch shifts. The front-end was built in Vue.JS and Element-UI, None (None): None, None (None): None)</td><td>null</td></tr><tr><td>null</td><td>null</td></tr><tr><td>null</td><td>null</td></tr><tr><td>null</td><td>null</td></tr><tr><td>List(Block breaker (None): Mobile game of breaking blocks using a ball contains several stages with special effects. Developed in C# with Unity 2D engine., BMI calculator (None): A calculator for calculating bmi based on gender, age, height and weight.In addition there is an option to track the number of hours of sports per week, the weekly hours clock can be reset at any opportunity.)</td><td>null</td></tr><tr><td>null</td><td>null</td></tr><tr><td>null</td><td>null</td></tr><tr><td>null</td><td>null</td></tr><tr><td>null</td><td>null</td></tr><tr><td>null</td><td>null</td></tr><tr><td>null</td><td>null</td></tr><tr><td>null</td><td>null</td></tr><tr><td>null</td><td>null</td></tr><tr><td>null</td><td>null</td></tr><tr><td>null</td><td>null</td></tr><tr><td>List(Project starter (Apr 2017 - Sep 2017): During my service at IDF, I was request to provide an easy way to bootstrap web applications internally.My team and I decided to develop a generic open source platform to easily create and start a full stack project.The main technologies involved are: Node.js, React, MongoDB, Express.js and Docker., None (None): None, None (None): None)</td><td>null</td></tr><tr><td>List(Hachathon auto-SOS (3th place) (Dec 2019 - Dec 2019): openCV Hackathon (C++ on Raspberry Pi), Project by google (Dec 2019 - Dec 2019): sentences auto complete, Project by mobileye (Nov 2019 - Nov 2019): in the project, we trained a CNN to identify traffic lights in still images., Hackathon Teletenants (3th place) (Oct 2019 - Oct 2019): a telegram bot that manages a group’s shared resources., Arduino Project - Smart library (Apr 2018 - Jul 2018): This is a project based on transferring information from sensors to a table through the function app. The information, which are in the application, help the users choose their appropriate library to study.)</td><td>null</td></tr><tr><td>null</td><td>null</td></tr><tr><td>null</td><td>null</td></tr><tr><td>null</td><td>null</td></tr><tr><td>null</td><td>null</td></tr><tr><td>null</td><td>null</td></tr><tr><td>null</td><td>null</td></tr><tr><td>null</td><td>null</td></tr><tr><td>null</td><td>null</td></tr><tr><td>null</td><td>null</td></tr><tr><td>null</td><td>null</td></tr><tr><td>null</td><td>null</td></tr><tr><td>List(Android application development (Mar 2020 - Sep 2020): - Academic project with \"Lev Chash\" association- Design and implement end-to-end Android application, using Android Studio.- Design the UI/UX and adjusting to customer preferences.- Delivered the application to the volunteers department, of “Lev Chash” association and it is now operational.- The application is available on Google Play Store under \"SaderOta\".)</td><td>null</td></tr><tr><td>null</td><td>null</td></tr><tr><td>null</td><td>null</td></tr><tr><td>null</td><td>null</td></tr><tr><td>null</td><td>null</td></tr><tr><td>null</td><td>null</td></tr><tr><td>null</td><td>null</td></tr><tr><td>null</td><td>null</td></tr><tr><td>null</td><td>null</td></tr><tr><td>null</td><td>null</td></tr><tr><td>null</td><td>null</td></tr><tr><td>null</td><td>null</td></tr><tr><td>null</td><td>null</td></tr><tr><td>null</td><td>null</td></tr><tr><td>null</td><td>null</td></tr><tr><td>null</td><td>null</td></tr><tr><td>null</td><td>null</td></tr><tr><td>null</td><td>null</td></tr><tr><td>null</td><td>null</td></tr><tr><td>null</td><td>null</td></tr><tr><td>null</td><td>null</td></tr><tr><td>null</td><td>null</td></tr><tr><td>null</td><td>null</td></tr><tr><td>null</td><td>null</td></tr><tr><td>null</td><td>null</td></tr><tr><td>null</td><td>null</td></tr><tr><td>null</td><td>null</td></tr><tr><td>null</td><td>null</td></tr><tr><td>null</td><td>null</td></tr><tr><td>null</td><td>null</td></tr><tr><td>null</td><td>null</td></tr><tr><td>null</td><td>null</td></tr><tr><td>List(Safe Walk (Jun 2019 - Aug 2020): Falls among the elderly population can result in injuries that lead to significant impairment of the victim's quality of life and sometimes even death. These injuries cause additional damages, such as burdens on the health care system and taxpayer costs estimated by billions of dollars, which are caused as a result of treatment and rehabilitation efforts.Falls can be prevented by early detection and rehabilitation of the gait pattern failures. As of today, the detection of these failures is made possible by performing a gait test which requires the patient to reach a designated laboratory.Safe Walk system is a home sensor kit combined with a web application which supports the detection of abnormal events in the patient's gait pattern, alerts the relevant parties of a failures diagnosis, presents relevant data for an in-depth understanding of the root cause of the problem, creates a rehabilitation program for the patient and continues to monitor its progress.)</td><td>null</td></tr><tr><td>null</td><td>null</td></tr><tr><td>List(Airbnb Price Prediction (None): • Predicted Airbnb apartment prices using website data.• Project lifecycle included: Exploratory Data Analysis (EDA), Data Imputation, Outliers Handling, Category Encoding, Feature Engineering, Baseline Prediction Model, Model Optimization, Error Analysis, Drift Detection (None): • Run statistical tests to monitor model performance and data changes in production over time.• Perform drift detection of all types; feature drift, label drift, prediction drift, concept drift.• Take action in cases of drift, based on the different use cases., Job Runtime Prediction (None): • Predicting run time for jobs on a tech company's private cloud:• Derived insights from complex, ambiguous data, including hashed command lines.• Addressed data imbalance with synthetic minority oversampling.• Developed and optimized models via a structured pipeline.• Feature selection under model size constraints., Passenger Satisfaction Prediction (None): • Predict passenger satisfaction based on survey attributes.• Developed a classification model to accurately predict overall passenger satisfaction, allowing targeted resource allocation.• Applied comprehensive data exploration, feature engineering, baseline modeling, and ensembling techniques (voting, bagging, boosting) to optimize classifier performance.• Analyzed and validated the selected model for error, sensitivity, and stability., Restaurant Recommendation Chatbot (None): • Implemented a task-oriented NLP chatbot which got an outstanding project award, and was presented to many different forums.• Designed the chatbot with both an NLU component and a Dialogue-management component.• The chatbot's goal is to assist users in ordering a personalized restaurant experience based on their preferences. Preferences can be provided either in response to specific questions or freely during an interactive chat session, enhancing user engagement., Yelp-EDA (None): • Explored data related to restaurants in Cleveland, including ratings, food and entertainment categories, check-in trends, and user reviews from Yelp.• Analyzed and derived insights from various attributes, contributing to a comprehensive understanding of the restaurant landscape.• Conducted exploratory data analysis to uncover patterns and trends, informing data-driven decision-making processes.)</td><td>null</td></tr><tr><td>null</td><td>null</td></tr><tr><td>null</td><td>null</td></tr><tr><td>null</td><td>null</td></tr><tr><td>null</td><td>null</td></tr><tr><td>null</td><td>null</td></tr><tr><td>null</td><td>null</td></tr><tr><td>null</td><td>null</td></tr><tr><td>null</td><td>null</td></tr><tr><td>null</td><td>null</td></tr><tr><td>null</td><td>null</td></tr><tr><td>null</td><td>null</td></tr><tr><td>null</td><td>null</td></tr><tr><td>null</td><td>null</td></tr><tr><td>null</td><td>null</td></tr><tr><td>null</td><td>null</td></tr><tr><td>List(weder (Apr 2013): a simple weather android app, that shows how the weather changed since yesterday, None (None): None)</td><td>null</td></tr><tr><td>null</td><td>null</td></tr><tr><td>null</td><td>null</td></tr><tr><td>null</td><td>null</td></tr><tr><td>null</td><td>null</td></tr><tr><td>null</td><td>null</td></tr><tr><td>List(Boxscore (Sep 2020 - Jun 2022): Founded a sports journalism club at high school. Lead over 40 students. Commentated on school sports games, produce podcasts and articles on sports from around the world.)</td><td>null</td></tr><tr><td>null</td><td>null</td></tr><tr><td>null</td><td>null</td></tr><tr><td>null</td><td>null</td></tr><tr><td>null</td><td>null</td></tr><tr><td>null</td><td>null</td></tr><tr><td>null</td><td>null</td></tr><tr><td>null</td><td>null</td></tr><tr><td>List(Web development (Sep 2014 - Feb 2015): פרויקט לשליחת הודעה מוקלטת לרשימת תפוצה בקלות וביעילות)</td><td>null</td></tr><tr><td>null</td><td>null</td></tr><tr><td>null</td><td>null</td></tr><tr><td>null</td><td>null</td></tr><tr><td>null</td><td>null</td></tr><tr><td>null</td><td>null</td></tr><tr><td>List(Research of formation of soft bodies (Sep 2018 - Jun 2019): ”Srafim” Program, experience in advanced research methods in the field of physics, while automating tests in code and using graphic libraries to visualize the research. Soreq Nuclear Research Center., iDome (Oct 2018 - May 2019): A dynamic anti-malware software which detects downloaded files using kernel modules. The files are analyzed in a sandbox by a machine learning system based on the file's behavior in comparison with malware behavior.)</td><td>null</td></tr><tr><td>null</td><td>null</td></tr><tr><td>null</td><td>null</td></tr><tr><td>null</td><td>null</td></tr><tr><td>null</td><td>null</td></tr><tr><td>null</td><td>null</td></tr><tr><td>null</td><td>null</td></tr><tr><td>null</td><td>null</td></tr><tr><td>null</td><td>null</td></tr><tr><td>null</td><td>null</td></tr><tr><td>null</td><td>null</td></tr><tr><td>null</td><td>null</td></tr><tr><td>null</td><td>null</td></tr><tr><td>null</td><td>null</td></tr><tr><td>null</td><td>null</td></tr><tr><td>List(BI Information-Systems Project (None): Analyzing data, creating relevant dashboards, and forecasting info about Titanic survivors., Business Requirements Evaluation (None): Evaluating business requirements using surveys, interviews, and data collection to characterize, develop, and implement an information-system website for an online retail store.)</td><td>null</td></tr><tr><td>null</td><td>null</td></tr><tr><td>null</td><td>null</td></tr><tr><td>null</td><td>null</td></tr><tr><td>List(Hack IDC 2016 (May 2016): One of the directors of HackIDC 2016, IDC Herzliya's official student Hackathon. The event brought over 250 programmers and designers from all universities to the largest student Hackathon held in Israel., None (None): None, None (None): None, None (None): None, None (None): None, None (None): None, None (None): None, None (None): None, TangiPlan (None): None, None (None): None, None (None): None, None (None): None)</td><td>null</td></tr><tr><td>null</td><td>null</td></tr><tr><td>null</td><td>null</td></tr><tr><td>null</td><td>null</td></tr><tr><td>null</td><td>null</td></tr><tr><td>null</td><td>null</td></tr><tr><td>null</td><td>null</td></tr><tr><td>null</td><td>null</td></tr><tr><td>null</td><td>null</td></tr><tr><td>List(Axis Tel Aviv (Feb 2014 - Apr 2014): A conference connecting international investors and Israeli high tech start ups with an aim at deal flow., None (None): None, None (None): None, None (None): None, None (None): None, None (None): None, Gvahim Life Science Pre-ILSI Event (Feb 2013 - May 2013): Small, laser-focused event aimed at preparing Olim in the Life Sciences to effectively utilize their time at the Biomed 2013 conference. Workshops included \"How to Network\" with Jake Levant, \"Why do we go to conferences\" led by myself, and overview of Biomed itself by Benny Zeevi, Biomed chair. Olim then swapped email addresses and came to the conference a few weeks later with their new partners in crime., None (None): None, None (None): None, None (None): None, None (None): None, Life Science Career Panel (Apr 2012 - Jun 2012): I initiated this panel discussion at the end of my 1st year of studying Biotech for Olim in the Life Sciences (me) to learn about their career options post-degree. I received a 3,000 shekel budget from my facutly's administration and created a panel with a representative from:\"Big Pharma\" - (Teva)\"Start-Ups\" - (Self-Employed)\"Genetic Counseling\" - (Private Practice)\"Academia\" - (Professor, BIU)\"Pharma Recruitment\" - (PharmaJob)Students got to ask questions and later mingle over snacks.)</td><td>null</td></tr><tr><td>null</td><td>null</td></tr><tr><td>List(Jukebox - Web app for playing interactive playlists  (Jan 2017 - Aug 2017): Web app for playing playlists in a way that users influence which song they will hear next by voting their favorite ones. The App includes two user interfaces: Admin (has control options over the playlist) and regular user. This is a responsive website, build with Angular 4, HTML, CSS, JS)</td><td>null</td></tr><tr><td>null</td><td>null</td></tr><tr><td>null</td><td>null</td></tr><tr><td>List(Hamorim (Jan 2011): A private tutors website index built using MVC3, Entity framework 4 and sql server.Mobile version of the website was made recently using Jquery mobile, and AngularJS., toluna.com (Jul 2011 - Jan 2013): A multilangual social platform for public opinion surveys)</td><td>null</td></tr><tr><td>null</td><td>null</td></tr><tr><td>null</td><td>null</td></tr><tr><td>null</td><td>null</td></tr><tr><td>null</td><td>null</td></tr><tr><td>null</td><td>null</td></tr><tr><td>null</td><td>null</td></tr><tr><td>null</td><td>null</td></tr><tr><td>null</td><td>null</td></tr><tr><td>List(Digital Currency Mining Layout (Bitcoin) (Nov 2013 - Present): Establishing a \"Digital Currency Mining Layout (Bitcoin)\" - Setting up computers dedicated to mine digital coins, as well as recruiting traders.The project was based on the need to identify investment opportunities, in addition to operating and maintaining the computers and mining systems., None (None): None, None (None): None, None (None): None, Marketing \"Bellisima\" company (Aug 2011): Promotional video and website design for \"Bellissima\" company)</td><td>null</td></tr><tr><td>null</td><td>null</td></tr><tr><td>null</td><td>null</td></tr><tr><td>null</td><td>null</td></tr><tr><td>null</td><td>null</td></tr><tr><td>null</td><td>null</td></tr><tr><td>null</td><td>null</td></tr><tr><td>null</td><td>null</td></tr><tr><td>null</td><td>null</td></tr><tr><td>null</td><td>null</td></tr><tr><td>null</td><td>null</td></tr><tr><td>null</td><td>null</td></tr><tr><td>null</td><td>null</td></tr><tr><td>null</td><td>null</td></tr><tr><td>null</td><td>null</td></tr><tr><td>null</td><td>null</td></tr><tr><td>null</td><td>null</td></tr><tr><td>null</td><td>List(Automated Water Body Area Monitoring)</td></tr><tr><td>null</td><td>null</td></tr><tr><td>null</td><td>null</td></tr><tr><td>null</td><td>null</td></tr><tr><td>List(RFit-Platform (Mar 2020 - Apr 2020): The RFit Platform is a tool built for personal trainers to keep track on their tight schedule and most of all their clients. Using the platform, you can manage your weekly/daily schedule by adding/updating/removing appointments,clients and workouts. it was important for me to build something simple but powerful.)</td><td>null</td></tr><tr><td>null</td><td>null</td></tr><tr><td>null</td><td>null</td></tr><tr><td>null</td><td>null</td></tr><tr><td>null</td><td>null</td></tr><tr><td>null</td><td>null</td></tr><tr><td>null</td><td>null</td></tr><tr><td>null</td><td>null</td></tr><tr><td>null</td><td>null</td></tr><tr><td>List(ARM Cortex M3 Fault Injection (2018 - Jun 2019): None, None (None): None, None (None): None)</td><td>null</td></tr><tr><td>null</td><td>null</td></tr><tr><td>null</td><td>null</td></tr><tr><td>null</td><td>null</td></tr><tr><td>List(Picabus (2012): Picabus is a community based public transportation application which aims to provide real time information on bus schedules and arrival times., None (None): None, None (None): None)</td><td>null</td></tr><tr><td>null</td><td>null</td></tr><tr><td>null</td><td>null</td></tr><tr><td>null</td><td>null</td></tr><tr><td>null</td><td>null</td></tr><tr><td>null</td><td>null</td></tr><tr><td>null</td><td>null</td></tr><tr><td>null</td><td>List(Method and apparatus for camera activation)</td></tr><tr><td>null</td><td>null</td></tr><tr><td>null</td><td>null</td></tr><tr><td>null</td><td>null</td></tr><tr><td>null</td><td>null</td></tr><tr><td>null</td><td>null</td></tr><tr><td>List(Industrial wheels lifting machines's wireless controller (May 2014): I was asked to replace a cable based remote control and to provide a wireless solution.- Communication protocol reverse engineering- Research for the most relevant wrieless technology - Electronic board design and manufacturing- Embedded code design and implementation- Enclosure design and manufacturing- Field tests and project delivery, Interactive Laser Maze with wireless sensors (Mar 2011): Lazer maze, wireless and portable system design.- Research for the most relevant wrieless technology - Hardware design using of-the-shelf boards- Embedded code implementation- Enclosure design and manufacturing- Field tests and project deliveryDuplicated and sold 4 times., Interactive wireless trivia system for multiple groups (Sep 2010): A set of 10 wireless controllers for a 10 groups trivia game- Research for a relevant wireless technology - Electronic design based on an of-the-shelf board- Embedded code design and implementation- Enclosure design and manufacturing- Windows application running a Q&A game- Field tests and project delivery, Wirelessly controlled baloon - Startup POC design and implementation (Jan 2010): - Defining the project's goals- Electronic board design and manufacturing - Wireless protocol design - Embedded code design and implementation- Windows application development to control the wireless units)</td><td>null</td></tr><tr><td>null</td><td>List(A NAF-1 derived peptides and uses thereof)</td></tr><tr><td>null</td><td>null</td></tr><tr><td>null</td><td>null</td></tr><tr><td>null</td><td>null</td></tr><tr><td>null</td><td>null</td></tr><tr><td>null</td><td>null</td></tr><tr><td>null</td><td>null</td></tr><tr><td>null</td><td>null</td></tr><tr><td>null</td><td>null</td></tr><tr><td>null</td><td>null</td></tr><tr><td>null</td><td>null</td></tr><tr><td>null</td><td>null</td></tr><tr><td>null</td><td>null</td></tr><tr><td>null</td><td>null</td></tr><tr><td>null</td><td>null</td></tr><tr><td>List(Airflow Chef Cookbook (Oct 2015): Chef cookbook for installing and configuring Airflow workflow management platform.)</td><td>null</td></tr><tr><td>null</td><td>null</td></tr><tr><td>null</td><td>null</td></tr><tr><td>null</td><td>null</td></tr><tr><td>null</td><td>null</td></tr><tr><td>List(Github Account - Node.js, Golang, Python, React.js, Vue.js, React-Native and more! (2019 - 2019): None, Bet Masters App - Developed in React Native (None): A Cross-platform mobile application I developed in React Native during summer break.The app is basically a game where users can guess the results of football matches.Users can create their own \"league\" and play against their friends.The app was developed with two other friends.Technologies we used:- React native- Redux- Firebase - Firebase functions- working with Third-party API's for getting games results, None (None): None, Block Breaker Game - Developed in C# Unity (None): An app I built during the summer break using C# Unity framework.A brick breaking game, Employee management system App - Developed in React Native (None): A Cross-platform mobile application I developed in React Native during summer break.The App helps to manage employee shifts.Technologies I used:- React native- Redux- Firebase, Find me a job App - Developed in React Native (None): A Cross-platform mobile application I developed in React Native during summer break. The app helps you find a job based on your skills.Technologies I used:- React native- Redux- Firebase - Expo, Football Scouting App - Developed in Java (None): As part of a software engineering course, I developed a desktop application in java that uses the javax.swing API.The app manages a football player database for an agency that represents football players.Technologies and Code principles i used:- javax.swing- MVC architecture pattern- Design Patterns - Singleton, Factory, Observer, Matan's Chat App - Developed in React.js Framework and Node.js (None): A Chat-messaging application that allows users to open private \"rooms\" and talk with other users there. The app build in Scoket architecture (using Socket.io module for server and Socket-io-client for client)For client-side source code: https://github.com/matany90/chat-app-clientFor server-side source code: https://github.com/matany90/chat-app-serverTechnologies I used:ReactNode with ExpressSocket.io API, My Locations App - Developed in React.js Framework + Node.js with Express + MongoDB (None): The app helps you save your favorite categories and locations. You can save a location by dragging the map's marker on the map.Check-out source code: https://github.com/matany90/MyLocations-serverTechnologies I used:React.jsReduxNode with ExpressMongoDB with mongoosePassport.js API for OAuth (with Google, Facebook and Github)Google-maps third-party APIDeployed to Heroku, User Management App - Developed in Vue.js, Node with Express, cloud Firestore DB (None): The application is a users management tool. Users are identified by the fields: name, email and phone. You can add, edit, and delete users from the application.client-side:Vue.jsstate management: VueXserver-side:Node with ExpressfirestoreDB)</td><td>null</td></tr><tr><td>null</td><td>null</td></tr><tr><td>null</td><td>null</td></tr><tr><td>null</td><td>null</td></tr><tr><td>null</td><td>null</td></tr><tr><td>null</td><td>null</td></tr><tr><td>null</td><td>null</td></tr><tr><td>null</td><td>null</td></tr><tr><td>List(Brain activity during reading a text from a screen vs reading a text from a paper  (Apr 2020 - Present): Studying the differences in the brain’s electrical activity using EEG between two reading conditions – reading from paper vs. reading from screenThe literature focuses on the behavioral differences between reading from paper and reading from screen, However, there is a gap in knowledge regarding the neural correlated that underlie the behavioral differences between the two reading conditions. , Learning a Switched Linear Dynamical System Model for the triangular relation between heart rate, blood pressure and respiration. (Oct 2019 - Present): In this project based on a dataset of heart rate (HR), blood pressure (BP) and respiration (RESP), we derive a SLDS model best describing the data.Following, the derived linear models be analyzed with respect to known physiologicalcondition.)</td><td>null</td></tr><tr><td>null</td><td>null</td></tr><tr><td>null</td><td>null</td></tr><tr><td>null</td><td>null</td></tr><tr><td>null</td><td>null</td></tr><tr><td>null</td><td>null</td></tr><tr><td>null</td><td>null</td></tr><tr><td>null</td><td>null</td></tr><tr><td>null</td><td>null</td></tr><tr><td>null</td><td>null</td></tr><tr><td>null</td><td>null</td></tr><tr><td>null</td><td>null</td></tr><tr><td>null</td><td>null</td></tr><tr><td>null</td><td>null</td></tr><tr><td>null</td><td>null</td></tr><tr><td>null</td><td>null</td></tr><tr><td>null</td><td>null</td></tr><tr><td>null</td><td>null</td></tr><tr><td>null</td><td>null</td></tr><tr><td>null</td><td>List(Semi-automatic generation of multimedia content)</td></tr><tr><td>null</td><td>null</td></tr><tr><td>null</td><td>null</td></tr><tr><td>null</td><td>null</td></tr><tr><td>List(Once in a Lifetime HD (Sep 2011): Stand With Us \"Once in a Lifetime HD\"​: brings the most influential social media personalities to Israel for an amazing tour which they share with their online audience.Once in a Lifetime: Israel has brought leading bloggers, Instagram photographers and other social media superstars from around the globe to Israel for an unforgettable experience.https://www.youtube.com/watch?v=GAz20MN9y-k, None (None): None, None (None): None, None (None): None, None (None): None, None (None): None, None (None): None, None (None): None, None (None): None, None (None): None, None (None): None, None (None): None, None (None): None, None (None): None, None (None): None)</td><td>null</td></tr><tr><td>null</td><td>null</td></tr><tr><td>null</td><td>null</td></tr><tr><td>null</td><td>null</td></tr><tr><td>null</td><td>null</td></tr><tr><td>null</td><td>null</td></tr><tr><td>List(Producing the Annual Fundraising Gala of ELEM Israel (Dec 2014): Producing ELEM's annual GALA event, which includes:Responsibility and execution of an event budget. Producer responsibility from construction to completion of the project strategy.Daily work with media organizations, advertising, PR and building a social networking platform. Managing operation teams., Producing the Annual Fundraising Gala of ELEM Israel (Sep 2013): Producing ELEM's annual GALA event, which includes:Responsibility and execution of an event budget. Producer responsibility from construction to completion of the project strategy.Daily work with media organizations, advertising, PR and building a social networking platform. Managing operation teams.)</td><td>null</td></tr><tr><td>null</td><td>null</td></tr><tr><td>null</td><td>null</td></tr><tr><td>null</td><td>null</td></tr><tr><td>null</td><td>null</td></tr><tr><td>null</td><td>null</td></tr><tr><td>null</td><td>null</td></tr><tr><td>null</td><td>null</td></tr><tr><td>null</td><td>null</td></tr><tr><td>null</td><td>null</td></tr><tr><td>null</td><td>null</td></tr><tr><td>null</td><td>null</td></tr><tr><td>null</td><td>null</td></tr><tr><td>null</td><td>null</td></tr><tr><td>null</td><td>null</td></tr><tr><td>null</td><td>null</td></tr><tr><td>null</td><td>null</td></tr><tr><td>null</td><td>null</td></tr><tr><td>List(Webinar: Strategies for a Successful Facebook Ad Campaign (Jan 2018): None)</td><td>null</td></tr><tr><td>null</td><td>null</td></tr><tr><td>null</td><td>null</td></tr><tr><td>List(AT&T UC Central (Jun 2010 - May 2014): AT&T UC Central is a cloud-based, unified communication (UC) app for iOS devices:• Extends the reach of your office phone to your mobile device• Will simultaneously ring your office and your mobile phone, allowing you to receive business calls on your iPhone over WiFi/3G/4G data networks• Allows you to make business calls on your iPhone over WiFi/3G/4G data networks from anywhere in the world, using your office number as the Caller ID• Send chat messages with your peers over secured network connection, None (None): None, None (None): None, None (None): None, None (None): None, None (None): None, None (None): None, None (None): None, None (None): None, None (None): None, None (None): None, None (None): None, None (None): None, None (None): None, None (None): None, None (None): None, None (None): None, None (None): None, None (None): None, None (None): None, None (None): None, None (None): None, None (None): None, None (None): None, None (None): None, None (None): None, AT&T Connect for iPhone & iPad (Jul 2012 - Aug 2013): AT&T Connect, used by thousands of people around the world, allows you to join Web, video or audio conference using your iPhone or iPad. The app includes viewing whiteboard content, see other participants, who’s talking, raise your hand, exchange private / public notes and answer polls., None (None): None, None (None): None, None (None): None, None (None): None, None (None): None, None (None): None, None (None): None, None (None): None, None (None): None, None (None): None, Citi Velocity Mobile (None): Citi Velocity is Citi's state-of-the-art trading platform, delivers electronic access to Citi’s world-class capital markets services across equities, futures, FX emerging markets, rates, credit, commodities, securitized municipals, prime finance and research.)</td><td>null</td></tr><tr><td>null</td><td>null</td></tr><tr><td>null</td><td>List(Multiple channel room impulse response estimation )</td></tr><tr><td>null</td><td>null</td></tr><tr><td>null</td><td>null</td></tr><tr><td>null</td><td>null</td></tr><tr><td>List(ME-Mapper, a knowledge mapping Web Application, graduation project (Jul 2019 - Jul 2020): Using Angular 8, NodeJS and MongoDB, developed a knowledge-maps management web application, with the ability to create, view and edit maps, and a proprietary permissions mechanism, including individual and group permissions. The application is deployed in the University's network, None (None): None, None (None): None, Category Embedding - Sales Prediction (May 2020 - May 2020): Employ Category Embedding to improve on a XGBoost baseline performance, predicting sales.Used Pandas, scikit-learn and Keras., Movies Recommender System (Apr 2020 - May 2020): Based on the ML-100K dataset, we have created a number of recommender systems, using user-to-user and item-to-item Collaboration Filtering models, a Matrix Factorization model, and a DeepFM model.We used Pandas and Keras's python packages., None (None): None, Image classification (Apr 2020 - Apr 2020): Image classification project - using Python, Keras and Pandas.Created a CNN architecture that classifies images, employed transfer learning on a pretrained VGG-16 model, and used VGG-16 as a feature extractor for a classic machine learning classifier., Topic Modeling and Sentiment Analysis (Jan 2020 - Jan 2020): using Python, scikit-learn.Based on Yelp.com’s dataset, implemented topic modeling to provide business owners with insights regarding their business. Created a sentiment analysis model to further enhance business owner’s understanding of their clients., None (None): None, None (None): None, Information Retrieval (Oct 2018 - Dec 2018): Using C#, we have implemented a TFIDF mechanism, and have created an information retrieval system, including a BM25 based ranker, and postings creation algorithm., None (None): None)</td><td>null</td></tr><tr><td>null</td><td>null</td></tr><tr><td>null</td><td>null</td></tr><tr><td>null</td><td>null</td></tr><tr><td>null</td><td>null</td></tr><tr><td>null</td><td>null</td></tr><tr><td>null</td><td>null</td></tr><tr><td>null</td><td>null</td></tr><tr><td>null</td><td>null</td></tr><tr><td>null</td><td>null</td></tr><tr><td>null</td><td>null</td></tr><tr><td>null</td><td>null</td></tr><tr><td>null</td><td>null</td></tr><tr><td>null</td><td>null</td></tr><tr><td>null</td><td>null</td></tr><tr><td>null</td><td>null</td></tr><tr><td>null</td><td>null</td></tr><tr><td>null</td><td>null</td></tr><tr><td>null</td><td>List(Apparatuses and methods for controlling temperature in an inhaler device, METHOD AND INHALER FOR PROVIDING TWO OR MORE SUBSTANCES BY INHALATIO)</td></tr><tr><td>null</td><td>null</td></tr><tr><td>List(Vmware Upgrade (Jan 2016): Upgrade wmware from version 5.5 to version 6.0U1 which includes SRM and Ugrade Manager ., Veeam Backup (Sep 2015): Planing , installation and integration if Veeam backup and recovery solution ., Storage System (Mar 2015): Planing ,Integration and migration of new storage system , and migration of all virtual environment ., Installing new enviroment Citrix 6.5 . (Jun 2013 - Present): Planing and installation of new citrix eviroment 6.5 to deliver published applications and desktops (office and SAP)., None (None): None, None (None): None, Integration of VBA in Networker VMware protection. (Mar 2013): The VBA is a software appliance providing scalability, enhanced administration, vCenter integration, and deduplication with EMC Data Domain Boost, which provides automatic client side deduplication for every VMware backupoperation. The primary backup target for the VBA is a Data Domain system.The Goal was to consolidate two different Backup solutions, and provide one management console for Avamar and Networker ., Backup Solution for Microsoft Exchange 2010 (Feb 2013): The goal was to provide new ,fast , modern and stable backup solution for Microsoft Exchange 2010 ., None (None): None, mdm airwatch (Sep 2012): None, Installation of SIP server. (May 2012): Planing ,Installation and migration from old to new SIP server as global solution for calls for all branch offices ., None (None): None, Mobile Device Management (2012): Implementation of Mobile Device Management system in all mobile phones at Netafim, None (None): None, Mobile Device Management (2012): Implementation of Mobile Device Management system in all mobile phones at Netafim, None (None): None)</td><td>null</td></tr><tr><td>null</td><td>null</td></tr><tr><td>null</td><td>null</td></tr><tr><td>null</td><td>null</td></tr><tr><td>null</td><td>null</td></tr><tr><td>null</td><td>null</td></tr><tr><td>null</td><td>null</td></tr><tr><td>null</td><td>null</td></tr><tr><td>null</td><td>null</td></tr><tr><td>null</td><td>null</td></tr><tr><td>null</td><td>null</td></tr><tr><td>null</td><td>null</td></tr><tr><td>null</td><td>null</td></tr><tr><td>null</td><td>null</td></tr><tr><td>null</td><td>null</td></tr><tr><td>null</td><td>null</td></tr><tr><td>null</td><td>null</td></tr><tr><td>null</td><td>null</td></tr><tr><td>null</td><td>null</td></tr><tr><td>null</td><td>null</td></tr><tr><td>null</td><td>null</td></tr><tr><td>null</td><td>null</td></tr><tr><td>null</td><td>null</td></tr><tr><td>null</td><td>null</td></tr><tr><td>null</td><td>null</td></tr><tr><td>null</td><td>null</td></tr><tr><td>null</td><td>null</td></tr><tr><td>null</td><td>null</td></tr><tr><td>null</td><td>null</td></tr><tr><td>null</td><td>null</td></tr><tr><td>null</td><td>null</td></tr><tr><td>null</td><td>null</td></tr><tr><td>null</td><td>null</td></tr><tr><td>null</td><td>null</td></tr><tr><td>null</td><td>null</td></tr><tr><td>null</td><td>null</td></tr><tr><td>null</td><td>null</td></tr><tr><td>null</td><td>null</td></tr><tr><td>null</td><td>null</td></tr><tr><td>List(Computational modeling of protein structure (Jun 2011): Implementation of an evolutionary algorithm in order to programmatically solve a Bioinformatics problem. The project included hands-on JAVA development.)</td><td>null</td></tr><tr><td>null</td><td>null</td></tr><tr><td>null</td><td>null</td></tr><tr><td>null</td><td>null</td></tr><tr><td>null</td><td>null</td></tr><tr><td>null</td><td>null</td></tr><tr><td>List(AspireAffiliates (Dec 2008 - Mar 2012): Pioneer and worldwide leading affiliate program / performance based media for mass-market gaming and Online Scratch Cards, None (None): None, None (None): None)</td><td>null</td></tr><tr><td>null</td><td>null</td></tr><tr><td>null</td><td>null</td></tr><tr><td>null</td><td>null</td></tr><tr><td>null</td><td>null</td></tr><tr><td>null</td><td>null</td></tr><tr><td>null</td><td>null</td></tr><tr><td>null</td><td>null</td></tr><tr><td>null</td><td>null</td></tr><tr><td>null</td><td>null</td></tr><tr><td>null</td><td>null</td></tr><tr><td>null</td><td>null</td></tr><tr><td>null</td><td>null</td></tr><tr><td>null</td><td>null</td></tr><tr><td>null</td><td>null</td></tr><tr><td>null</td><td>null</td></tr><tr><td>List(Final Project- Active Cardiac Assist Device (Jan 2011 - Dec 2011): Preliminary design of a new active, feedback-controlled cardiac assist device.Including a 3D model designed with Solid Works and Matlab, None (None): None)</td><td>null</td></tr><tr><td>null</td><td>null</td></tr><tr><td>null</td><td>null</td></tr><tr><td>null</td><td>null</td></tr><tr><td>null</td><td>null</td></tr><tr><td>null</td><td>null</td></tr><tr><td>null</td><td>null</td></tr><tr><td>null</td><td>null</td></tr><tr><td>List(MERN Baseline (Dec 2023): Start any Typescript web app project on the MERN stack effortlessly with near production grade support.)</td><td>null</td></tr><tr><td>null</td><td>null</td></tr><tr><td>null</td><td>null</td></tr><tr><td>null</td><td>null</td></tr><tr><td>null</td><td>null</td></tr><tr><td>List(Portfolio (Dec 2021): My Portfolio website)</td><td>null</td></tr><tr><td>List(Haynes Man Manual (Jan 2006 - Jan 2007): A pre-launch campaign in support of Eli Lilly's introduction of Cialis in the UK became an international best-seller - and promoted better health to a whole range of men who normally would not access such information. Now in its 2nd edition, the Man Manual has sold well over a million copies raising significant funds for our charity partner on the project, The Mens' Health Forum.)</td><td>null</td></tr><tr><td>null</td><td>null</td></tr><tr><td>null</td><td>null</td></tr><tr><td>null</td><td>null</td></tr><tr><td>null</td><td>null</td></tr><tr><td>null</td><td>null</td></tr><tr><td>null</td><td>null</td></tr><tr><td>null</td><td>null</td></tr><tr><td>null</td><td>null</td></tr><tr><td>null</td><td>null</td></tr><tr><td>null</td><td>null</td></tr><tr><td>null</td><td>null</td></tr><tr><td>null</td><td>null</td></tr><tr><td>null</td><td>null</td></tr><tr><td>null</td><td>List(System and Method for Advertising Verification Based on Users' Demographics, System and Method for Classifying Webpages)</td></tr><tr><td>null</td><td>null</td></tr><tr><td>null</td><td>null</td></tr><tr><td>null</td><td>List(Programmable slew rate power switch, Transient load voltage regulator, Low VT dependency RC oscillator., Differential comparator with stable offset, Esd protection circuit with two discharge time periods, VOLTAGE AND TEMPERATURE COMPENSATED FREQUENCY CONVERTER)</td></tr><tr><td>null</td><td>null</td></tr><tr><td>null</td><td>null</td></tr><tr><td>null</td><td>null</td></tr><tr><td>null</td><td>null</td></tr><tr><td>List(RentInOut (Jul 2022): RentApp - Your On-Demand Rental Solution. Are you tired of the inconvenience of lugging around things you rarely use or missing out on experiences when you're away from home? Introducing RentApp, the ultimate solution for all your rental needs, whether it's a small tool for a DIY project or a thrilling adventure for the weekend., None (None): None)</td><td>null</td></tr><tr><td>List(8200 for Startups - CA Business Tour (2016) (Oct 2016 - Nov 2016): Produced a business tour for 8200 EISP graduates to California. Our program created platforms for five prominent Israeli start-ups to expand their business network, and for Silicon Valley and Silicon Beach to gain access to Israel’s most promising entrepreneurs and start-ups.During the tour, we initiated 21 networking events in 5 days, in which founders pitched their products to potential business partners including Y Combinator, Facebook, and Google., None (None): None, None (None): None, Lendu (Sep 2012 - Jul 2014): Lendu is a social platform for lending and borrowing goods between friends. It connects between a person’s needs and their friends' resources using social and geographical context, and has over 2500 users. (www.lendu.co.il), None (None): None, None (None): None, Economics at the Bar (Dec 2012 - May 2013): Established, managed, and produced., None (None): None, None (None): None)</td><td>null</td></tr><tr><td>null</td><td>null</td></tr><tr><td>null</td><td>null</td></tr><tr><td>null</td><td>null</td></tr><tr><td>null</td><td>null</td></tr><tr><td>null</td><td>null</td></tr><tr><td>List(Vimotion Snake (None): Play snake, but with Vim motions)</td><td>null</td></tr><tr><td>null</td><td>null</td></tr><tr><td>null</td><td>null</td></tr><tr><td>List(Agricultural Spraying Robot (2016): None, Total Wrist Arthroplasty (2016 - Dec 2017): None)</td><td>null</td></tr><tr><td>null</td><td>null</td></tr><tr><td>List(Mobility Pioneers - Entrepreneur International Project (Oct 2019 - Dec 2019): None)</td><td>null</td></tr><tr><td>null</td><td>null</td></tr><tr><td>null</td><td>null</td></tr><tr><td>List(Intelligent End-to-End Traffic Congestion Trouble Shooting  (Mar 2020 - Sep 2020): In collaboration with Mellanox, I participated in a project using MellanoxSN3700 P4-capable Spectrum-2 based switches and implemented an onlineintelligent method, based on postcard telemetry, that has analyzed end-to end traffic congestion or high latency events and provided informationhelpful to pinpoint its root cause of the congestion. Main programming languages are P4 and python, including building a user GUI, Identifying Crohn’s disease related mutations using bioinformatics tools, ML and AI in Python (Nov 2018 - Mar 2019): To predict if a patient is sick from its genotype, we’ve built a classifier from ID3 algorithm under different parameters tuning, to the genotype data related to the disease.The data is a vcf file containing the genotype of a large number of patients, sick or healthy.Use of pandas and NumPy packages in order to parse the data and use it.sklearn package to use the ID3 algorithm and a few other learning methods.Transformation and filtering of the data in different ways, while keeping the best result marked for the learning algorithm .Biological analyzation of the genes that were used by our classifier with genome browsers such as USCS.)</td><td>null</td></tr><tr><td>null</td><td>null</td></tr><tr><td>List(AAC Encoding capabilities for the JVM (Jan 2018 - Present): Highly performant port of Android's low-level AAC Codec for the JVM via a JNA bridge, allowing to encode raw WAV input into AAC audio either by using Java's AudioSystem API or directly via a low level interface.This library was incorporated into an audio capturing application I built for one of my clients. It (the app) was responsible for segmenting and compressing live captured RAW audio from sport venues in order to upload it to the cloud in real-time while keeping network throughput to a minimum, and without sacrificing sound quality.)</td><td>List(System and Method to Generate a Video on the Fly)</td></tr><tr><td>null</td><td>null</td></tr><tr><td>null</td><td>null</td></tr><tr><td>List(Aruba ClearPass - Network Access Control (2017): None, IT risk assesment (Feb 2014): Conduct an IT risk assessment. based on the risk assessment the IT work-plan has been changed, investment have been made., Virtuale platform migration to Citrix XenServer (Feb 2014): Migration of over then 100 servers from VMware platform to Citrix XenServer, None (None): None, Redesign the company Data centers (Jan 2014): Redesign an enterprise Data Centers in Israel, Germany and Netherlands. The new structure is based on the BCP plans and business needs, None (None): None, Redesign the trading platform to support high avilability (Jan 2014): Implement new structure of the the trading platform (Meta-Trader 4) to support high availability., None (None): None, RFP for new CRM Platform (Nov 2013): RFP preparation for new CRM platform for a global high-tech company, ERP migration project (Oct 2013): leading the preparation of RFP document for migration project of ERP system.the new system will serve a global high-tech companythe new platform will provide solution for:Finance, finance report consolidation, manufacturing, Logistic, and inter-company processes., Migration to office 365 (Oct 2013): Migration project of the email platform to the Microsoft Cloud Services.implementing SharePoint and Microsoft Lync, None (None): None, Preparation of Business Continuity Plan (BCP) (Jun 2013): define company's Business Continuity Plan (BCP) based on business requirements and needs, Backup infrastructure (Jan 2013): New backup solution was implemented based on Symantec BE 2012 version, Veeam Backup and Replication, None (None): None, Monitoring system implementation (Jun 2012): Design and implement a global real time monitoring systemThe monitoring system provide real time information on the production platform, infrastructure and servicesUsing that system allow us to improve the system up-time, None (None): None, None (None): None, None (None): None, New SAP – CRM platform (Apr 2012 - Present): Redesign the SAP CRM system to support the business needs include synchronization to the Outlook, mobility, None (None): None, None (None): None, None (None): None, None (None): None, None (None): None, None (None): None, None (None): None, IP telephone implementation (IPT) (Mar 2012): Design and implement new IP telephony system as a global solution to the company, include roaming extensions and centralize management solution, None (None): None, None (None): None, None (None): None, Disaster Recovery (DR) solution (Jan 2012): Solution design based on replication between the main datacenters Accomplished using EMC Recovery Point as hardware layer + Vmware SRM as software that manage DR Activated to all the production services include SAP ERP, CRM, BW, R&D toolsProvide full feasibility and improve the service availability , None (None): None, SAP rollout (Jan 2012 - Present): Rollout kit preparation; managing the rollout project; include implementation of all active modules (FI, CO, SD, MM, PP, PS, CRM, BW); Successful implementation of the rollout in three Israeli companies, UK , HK, China; Preparation of USA, Korea & Brazil rollouts; Intercompany processes definition and implementation of the required solutions;, None (None): None, None (None): None, None (None): None, None (None): None, None (None): None, None (None): None, Point in time recover solution (Dec 2011): Point in Time solution based on EMC RecoverPoint provides:1.Continuous data protection with multiple recovery points to restore applications instantly to a specific point in time.2.Protect applications with bi-directional synchronous and asynchronous replication and DVR-like recovery in physical, virtual, and cloud infrastructures.3.Minimize network utilization with unique bandwidth compression and deduplication, significantly reducing replicated data over the network., None (None): None, Wi-Fi implimentation (Jun 2011): Extricom solution was implemented as a Wi-Fi solution; include central management systemThat solution provide separated radio for company users and gust., None (None): None, None (None): None, None (None): None, None (None): None, Information security - FW, VPN (Apr 2011): Design new platform include:Juniper Firewalls in cluster mode, managing the site-2-site VPN connectionsJuniper SSL VPN solution, Redundant SSL VPN solution, None (None): None, None (None): None, Implement content managment system (Mar 2011): Define and implement content management system based on Microsoft SharePoint 2010, interfaces to collect relevant information from other platforms; Report aggregation solutions; intranet solutions and site collection based on the SharePoint, None (None): None, None (None): None, Upgrade to Exchange 2010 (Jan 2011): upgrade to exchange platform to Exchange 2010 in DAG structure with full DR between the two main datacenters. consolidation of all the exchange servers worldwide into the main data centers.Three Exchange servers in each site (total of six Exchange severs) ; Two Microsoft Forefront Threat Management Gateway (TMG) server – the latest Microsoft network security and protection solution were implemented in each site (total 4 servers), to provide; OWA (outlook web access), RPC over HTTPS solution, mobile connection and replication. The TMG was configure with load balancing and geographic cluster between the sites; Real-time site to site replication, None (None): None, None (None): None, None (None): None, Vmware infrastructure establishing (Jun 2010): Implementing over 35 ESX's in three location hosting over 300 servers and services worldwideFor the use of the traditional IT infrastructures SAP – ERP, Exchange, AD, SQL, File serversFor R&D and production line usagePhysical to virtual migration of old services, None (None): None, Upgrade of the SAP interfaces (May 2012 - Feb 2013): Successful upgrade of BW platform to VER 7, CRM upgrade to VER 7; ERP to ECC6, None (None): None, None (None): None, None (None): None, Design and implementation of the company's private cloud (Mar 2012 - Aug 2012): the private cloud that provides various services such as: SAP ERP, SAP CRM, Exchange, SharePoint, production line ,management tools, R&D tools; Implement new R&D sites mostly relaying on our cloud services, migrating the R&D servers to virtual platform, None (None): None, None (None): None, None (None): None, None (None): None, Redesign the company SAP ERP (Jan 2009 - Dec 2009): Replacing the company's chart of account; implementation of material ledger; system hard currency change;, None (None): None, None (None): None, None (None): None, None (None): None)</td><td>null</td></tr><tr><td>null</td><td>null</td></tr><tr><td>null</td><td>null</td></tr><tr><td>null</td><td>null</td></tr><tr><td>null</td><td>null</td></tr><tr><td>null</td><td>null</td></tr><tr><td>null</td><td>null</td></tr><tr><td>null</td><td>null</td></tr><tr><td>null</td><td>null</td></tr><tr><td>null</td><td>null</td></tr><tr><td>null</td><td>null</td></tr><tr><td>null</td><td>null</td></tr><tr><td>null</td><td>null</td></tr><tr><td>null</td><td>null</td></tr><tr><td>null</td><td>null</td></tr><tr><td>null</td><td>null</td></tr><tr><td>null</td><td>null</td></tr><tr><td>null</td><td>null</td></tr><tr><td>null</td><td>null</td></tr><tr><td>null</td><td>null</td></tr><tr><td>null</td><td>null</td></tr><tr><td>null</td><td>null</td></tr><tr><td>null</td><td>null</td></tr><tr><td>null</td><td>null</td></tr><tr><td>null</td><td>null</td></tr><tr><td>null</td><td>null</td></tr><tr><td>null</td><td>List(“Methods and apparatus for Sharing Music or Other Information” (pending), SYSTEMS AND METHODS FOR RELEASING CHLORINE DIOXIDE)</td></tr><tr><td>List(International Genetically Engineered Machine (iGEM) competition (Mar 2020 - Nov 2020): None)</td><td>null</td></tr><tr><td>null</td><td>null</td></tr><tr><td>null</td><td>null</td></tr><tr><td>null</td><td>null</td></tr><tr><td>null</td><td>null</td></tr><tr><td>null</td><td>null</td></tr><tr><td>null</td><td>null</td></tr><tr><td>null</td><td>null</td></tr><tr><td>null</td><td>null</td></tr><tr><td>null</td><td>null</td></tr><tr><td>null</td><td>null</td></tr><tr><td>null</td><td>null</td></tr><tr><td>List(CPQ>CLM>Billing project for a multi-national security software company (Feb 2019 - Present): None, BI Project to leverage CRM data for a non-profit organization (2014): None, PRM Project for an HR services and solutions company (2014): None, CRM & BI Project for a global professional services and auditing conglomerate (2013): None, CRM Project for a large data center and storage company (2012): None, CRM Project for an enterprise oil & gas distribution company (2012): None, Global CRM & BI Program for a large agricultural manufacturing concern (2011): None, Global adoption, training & rollout project for a telco infrastructure manufacturer (2009): None, Samples management design, configuration and implementation for a multi-national medical device company (2009): None, CPQ and billing project for a global enterprise services conglomerate (Nov 2020 - Mar 2021): None, CPQ and partner portal project for a security software company (Dec 2017 - Feb 2019): None, CPQ project for a transportation (planes and trains) manufacturer (heavy mfg) (Sep 2017 - Mar 2018): None, CPQ and PLM project for an HR services company (PEO) (Jan 2017 - Sep 2017): None, E-commerce and CPQ project for a global industrial robotics manufacturer (Jun 2016 - Feb 2017): None, CPQ Project for a Telco company (Feb 2016 - Oct 2016): None, CPQ project for an HVAC manufacturing company (Aug 2015 - Apr 2016): None, CPQ and CRM implementation for a global enterprise in the shipping and logistics industry (May 2015 - Jan 2016): None, CPQ project for an insurance company (Apr 2015 - Sep 2015): None, CRM & BI Project for a global leader in online gaming (2012 - 2014): None, CRM/PRM, CPQ & BI Project for a global hi-tech manufacturing company (2012 - 2013): None, Enterprise CRM, CPQ & BI project rolled out to both HQ and their independent distributors (2010 - 2011): None, Multi-National CRM, CPQ & BI program for a NASDAQ hi-tech company (2009 - 2010): None)</td><td>null</td></tr><tr><td>null</td><td>null</td></tr><tr><td>null</td><td>null</td></tr><tr><td>null</td><td>null</td></tr><tr><td>null</td><td>null</td></tr><tr><td>null</td><td>null</td></tr><tr><td>null</td><td>null</td></tr><tr><td>null</td><td>null</td></tr><tr><td>null</td><td>null</td></tr><tr><td>List(StemSearch (None): None, None (None): None)</td><td>null</td></tr><tr><td>null</td><td>null</td></tr><tr><td>null</td><td>null</td></tr><tr><td>null</td><td>null</td></tr><tr><td>null</td><td>null</td></tr><tr><td>null</td><td>null</td></tr><tr><td>null</td><td>null</td></tr><tr><td>List(Bankyd (Feb 2022 - Feb 2022): 7 days project of an API that enables bank capabilities (electronic bank) -● Create/update/delete/get an account from 3 different types according to certain criteria● Transfer of funds between accounts, according to the type of account and the type of transfer● Actions related to specific accounts (for example, family account - the option to add/remove a family member to the account)Developed using Node.js and Typescript on Express framework and MySQL DB, None (None): None, None (None): None, A&GBusinessesPromotions (Jan 2021 - Sep 2021): A web application of business advertising, by the community to which the business belongs, in a customized and dynamic way.Features:● Create/update/get/delete business/sales● Filter and sort businesses/sales by specific criteria. ● Editing an existing business/sale page.● View sales/businesses by user/guest.● Charging for premium services. ● Connect Sales/Business to another website efficiently. ● Registration and login● User notification● Edit the admin section● Create/update/get/delete new communityDeveloped using Python on Django framework and SQLite DB, None (None): None, Shlifim (Jan 2021 - Jul 2021): Forum-based web application for helping students find answers to their assignments and also share summaries.Features:● Register● Log in & Log out● Post a question● Watch asked questions● Answer a question● Sort answers● Like/Dislike an answer● Add tags to questions● Filter questions by tagsDeveloped using Python on Django framework and SQLite DB, None (None): None, None (None): None, None (None): None, None (None): None)</td><td>null</td></tr><tr><td>null</td><td>null</td></tr><tr><td>List(Development Leaders Program (None): 17 out of about a thousand developers in a technological unit were chosen as the Development Leaders of the organization.The Development Leaders were given special courses to improve their skills and broaden their knowledge in various topics, including Big Data, System, Web and Soft Skills.The Development Leaders Program was managed by a PhD in Computer Science, in addition to 3 chief Software Architects, which were responsible for the material we studied.)</td><td>null</td></tr><tr><td>null</td><td>null</td></tr><tr><td>null</td><td>null</td></tr><tr><td>null</td><td>null</td></tr><tr><td>null</td><td>null</td></tr><tr><td>null</td><td>null</td></tr><tr><td>null</td><td>null</td></tr><tr><td>null</td><td>null</td></tr><tr><td>null</td><td>null</td></tr><tr><td>null</td><td>null</td></tr><tr><td>null</td><td>null</td></tr><tr><td>null</td><td>null</td></tr><tr><td>null</td><td>null</td></tr><tr><td>null</td><td>null</td></tr><tr><td>null</td><td>null</td></tr><tr><td>null</td><td>null</td></tr><tr><td>null</td><td>null</td></tr><tr><td>null</td><td>null</td></tr><tr><td>null</td><td>null</td></tr><tr><td>null</td><td>null</td></tr><tr><td>null</td><td>null</td></tr><tr><td>null</td><td>null</td></tr><tr><td>null</td><td>null</td></tr><tr><td>null</td><td>null</td></tr><tr><td>null</td><td>null</td></tr><tr><td>null</td><td>null</td></tr><tr><td>null</td><td>null</td></tr><tr><td>List(ModbusMiTM (Sep 2018): Dynamic MODBUS TCP/IP man-in-the-middle, Cuckoo Classifier (Jun 2017): Malware variant classifier based on Random Forest classification algorithm using Cuckoo Sandbox reports.)</td><td>List(System and method for identifying activity in a computer system)</td></tr><tr><td>null</td><td>null</td></tr><tr><td>null</td><td>null</td></tr><tr><td>null</td><td>null</td></tr><tr><td>null</td><td>null</td></tr><tr><td>List(AspireAffiliates (Dec 2008 - Mar 2012): Pioneer and worldwide leading affiliate program / performance based media for mass-market gaming and Online Scratch Cards, None (None): None, None (None): None)</td><td>null</td></tr><tr><td>null</td><td>null</td></tr><tr><td>null</td><td>null</td></tr><tr><td>null</td><td>null</td></tr><tr><td>null</td><td>null</td></tr><tr><td>null</td><td>null</td></tr><tr><td>null</td><td>null</td></tr><tr><td>null</td><td>null</td></tr><tr><td>null</td><td>null</td></tr><tr><td>List(UFO Music E-Commerce Website (Oct 2011): Planned and executed the design and production of the e-commerce website of an alternative fashion store., None (None): None, None (None): None)</td><td>null</td></tr><tr><td>null</td><td>null</td></tr><tr><td>null</td><td>null</td></tr><tr><td>List(predator.dev (Feb 2019 - Present): A single platform to manage all your performance testing needs + built for the cloud + persisted storage + parallel running and reports out of the box, None (None): None)</td><td>null</td></tr><tr><td>null</td><td>null</td></tr><tr><td>List(Co-Founder at Call to Action (Nov 2013): A very useful mobile application companion that can be 'called to action' during a phone call.Soon to hit the market., None (None): None, Founder at AfterIPassOn (Apr 2013): AfteriPassOn provides an environment and a platform for its members, that makes bequeathing and distributing valuable information after death in a secure, reliable and a discreet manner possible.Details to come...)</td><td>List(Contextual Audio Recording, System and method for engaging a person in the presence of ambient audio, Tracking Internet Usage In A Household)</td></tr><tr><td>null</td><td>null</td></tr><tr><td>null</td><td>null</td></tr><tr><td>List(The KonferenSE 2015 (Sep 2015): Klarna's first internal tech conference. Organized by Klarna engineers for Klarna engineers.Share knowledge and experience and celebrate Klarna's engineering culture, None (None): None, None (None): None, None (None): None, None (None): None, None (None): None, None (None): None, None (None): None, None (None): None, Reversim Summit 2014 (Feb 2014): Reversim Summit is a software developer conference made by developers, for developers. A two day event, 500 participants with subjects ranging from web dev, devops, mobile, big data, startups, product., None (None): None, None (None): None, None (None): None, None (None): None, None (None): None, None (None): None, None (None): None, None (None): None, None (None): None, None (None): None, None (None): None, None (None): None, None (None): None, Presentations (None): Various talks I gave at conferences.)</td><td>null</td></tr><tr><td>null</td><td>null</td></tr><tr><td>null</td><td>null</td></tr><tr><td>null</td><td>null</td></tr><tr><td>null</td><td>null</td></tr><tr><td>null</td><td>null</td></tr><tr><td>null</td><td>null</td></tr><tr><td>null</td><td>null</td></tr><tr><td>null</td><td>List(Dynamic inventory enhancement)</td></tr><tr><td>null</td><td>null</td></tr><tr><td>null</td><td>null</td></tr><tr><td>null</td><td>null</td></tr><tr><td>null</td><td>null</td></tr><tr><td>null</td><td>null</td></tr><tr><td>null</td><td>null</td></tr><tr><td>null</td><td>null</td></tr><tr><td>null</td><td>null</td></tr><tr><td>null</td><td>null</td></tr><tr><td>null</td><td>List(Method and system for injecting javascript into a web page, Scripting language processing engine in data leak prevention application, SERVER AND GATEWAY FOR FILTERING PUSH NOTIFICATIONS ACCORDING TO USER PREFERENCES)</td></tr><tr><td>null</td><td>null</td></tr><tr><td>null</td><td>null</td></tr><tr><td>null</td><td>null</td></tr><tr><td>null</td><td>null</td></tr><tr><td>null</td><td>null</td></tr><tr><td>null</td><td>null</td></tr><tr><td>null</td><td>null</td></tr><tr><td>null</td><td>null</td></tr><tr><td>null</td><td>null</td></tr><tr><td>null</td><td>null</td></tr><tr><td>null</td><td>null</td></tr><tr><td>null</td><td>null</td></tr><tr><td>List(Continuity's 2 Min Explainer (None): Avoiding Downtime and Data-Loss with AvailabilityGuard - The Video, None (None): None)</td><td>List(System and method of assessing data protection status of data protection resources, DATABASE SWITCH ENABLING A DATABASE AREA NETWORK, PREVENTING UNAUTHORIZED USE OF ACTIVE CONTENT GENERATOR SOFTWARE, SYSTEM AND METHOD OF MANAGING DATA PROTECTION RESOURCES)</td></tr><tr><td>null</td><td>null</td></tr><tr><td>null</td><td>null</td></tr><tr><td>null</td><td>null</td></tr><tr><td>List(Project Strengthen - Research Evaluation Team (Jan 2015 - Oct 2016): Project Strengthen is a 12-session program that enables high-conflict clients to engage in psychotherapy with a staff clinician teamed with a therapist-in-training. The program was introduced Fall 2014.As a graduate assistant, I was involved in research evaluation of the program: learning about the practicalities of program evaluation, refining the measures used to evaluate the program, organizing and preparing data for analysis via SPSS, and report writing.)</td><td>null</td></tr></tbody></table></div>"
      ]
     },
     "metadata": {
      "application/vnd.databricks.v1+output": {
       "addedWidgets": {},
       "aggData": [],
       "aggError": "",
       "aggOverflow": false,
       "aggSchema": [],
       "aggSeriesLimitReached": false,
       "aggType": "",
       "arguments": {},
       "columnCustomDisplayInfos": {},
       "data": [
        [
         null,
         null
        ],
        [
         null,
         null
        ],
        [
         null,
         null
        ],
        [
         null,
         null
        ],
        [
         null,
         null
        ],
        [
         null,
         null
        ],
        [
         null,
         null
        ],
        [
         null,
         null
        ],
        [
         null,
         null
        ],
        [
         null,
         null
        ],
        [
         null,
         null
        ],
        [
         null,
         [
          "Device authentication based on behavior classification using convolution neural network",
          "DEEP CONVOLUTION NEURAL NETWORK BEHAVIOR GENERATOR",
          "ASCERTAINING COMMAND COMPLETION IN FLASH MEMORIES",
          "Input/Output Virtualization Host Controller of a Flash-Memory-Based Storage Device"
         ]
        ],
        [
         null,
         null
        ],
        [
         null,
         null
        ],
        [
         null,
         null
        ],
        [
         null,
         null
        ],
        [
         null,
         null
        ],
        [
         null,
         [
          "System and Methods for Detection of Cryptoware",
          "SYSTEMS AND METHODS FOR DETECTION OF MALICIOUS CODE IN RUNTIME GENERATED CODE",
          "Systems and methods for malicious code detection accuracy assurance",
          "Systems and methods for malicious code detection"
         ]
        ],
        [
         [
          "CryptoBot (Jun 2017 - Mar 2019): Part-time position in a co-founded initiative as Technical Lead and System Architect developing a rule-based autonomous crypto trading bot in python• Lead a small team of two inexperienced junior developers, mentoring and developing the teams’ skills•Defined and promoted technical and business road maps"
         ],
         null
        ],
        [
         null,
         null
        ],
        [
         null,
         null
        ],
        [
         null,
         null
        ],
        [
         [
          "Smart watch (Apple/android/pebble) (Oct 2015 - Jun 2016): Examine how different applications and interaction methods (e.g., notifications, messages, voice recognition) affect user’s behavior and satisfaction in smart watch devices.For the project I developed a survey mobile application under Android smartphones that shows to the users surveys 3 times in day and collects their answers to DB for later process on the collected data.The app was built under Android SDK , the web Server with the api was built in PHP , the DB is managed in MySQL , also Pebble SDK was used.The Project is final project for the degree and will have all the documentation that a project should have.Project Facilitator: Dr. Hadas Chassidim"
         ],
         null
        ],
        [
         [
          "Content Consulting for a Harry Potter game (Apr 2020 - Jul 2020): converting an existing game to its Harry Potter version. * creating a background story and rules for the game* taking part in the design process* working with a major game publishing company",
          "Final Project in Machine Learning (Mar 2020 - Jul 2020): • Working with large data sets• Exploring and pre-processing• Implementing and evaluating using various ML models.• Creating a projection model.",
          "Final Project in Statistics Data Analysis course with R (Oct 2019 - Feb 2020): • Working with big data sets• Data importing a tidying• Transforming, visualizing and modeling data• Communicating• Using R, GitHub and Kaggle• Making hypothesis and exploring them"
         ],
         null
        ],
        [
         null,
         null
        ],
        [
         null,
         null
        ],
        [
         null,
         null
        ],
        [
         null,
         null
        ],
        [
         [
          "Educational World Map (Feb 2022): An Educational map of the world. More details soon!"
         ],
         null
        ],
        [
         null,
         null
        ],
        [
         null,
         null
        ],
        [
         null,
         null
        ],
        [
         null,
         null
        ],
        [
         null,
         null
        ],
        [
         null,
         null
        ],
        [
         null,
         null
        ],
        [
         null,
         null
        ],
        [
         [
          "Developing social network (None): Initiated and leading a social network project for Infinity graduates using Django (python) framework, React and PostgreSQL with REST API."
         ],
         null
        ],
        [
         null,
         null
        ],
        [
         null,
         null
        ],
        [
         null,
         null
        ],
        [
         null,
         null
        ],
        [
         null,
         null
        ],
        [
         null,
         null
        ],
        [
         null,
         null
        ],
        [
         null,
         null
        ],
        [
         null,
         null
        ],
        [
         null,
         null
        ],
        [
         null,
         [
          "Detection and mitigation of on-line advertisement abuse"
         ]
        ],
        [
         null,
         null
        ],
        [
         null,
         null
        ],
        [
         null,
         null
        ],
        [
         null,
         null
        ],
        [
         null,
         null
        ],
        [
         null,
         null
        ],
        [
         null,
         null
        ],
        [
         null,
         null
        ],
        [
         null,
         null
        ],
        [
         null,
         null
        ],
        [
         null,
         null
        ],
        [
         null,
         null
        ],
        [
         null,
         null
        ],
        [
         null,
         null
        ],
        [
         null,
         null
        ],
        [
         null,
         null
        ],
        [
         null,
         null
        ],
        [
         null,
         null
        ],
        [
         null,
         null
        ],
        [
         null,
         null
        ],
        [
         null,
         null
        ],
        [
         [
          "BuildFlow (Sep 2021 - Oct 2021): BuildFlow is a single page application that let you build your own website quickly, inspired by Wix.BuildFlow was built over a period of two weeks, it is a fully responsive website, and works great on all platforms.The app let the user simply drag and drop elements and easily create, edit, save and publish websites.Users can invite other users to work live together on the same project, using web sockets.Users can easily login with their google account and manage their websites.",
          "None (None): None",
          "None (None): None",
          "Simplify (Aug 2021 - Aug 2021): This project was inspired by google keeps, gmail and a book library.It is built with React and designed by me and my partner using Figma.The book library was implemented with a use of an API.",
          "None (None): None",
          "MemeGen (Jul 2021 - Jul 2021): MemeGen is an application that gives you an option to create memes, edit text on them, adding your own photos and downloading your memes.This project is built using the HTML Canvas."
         ],
         null
        ],
        [
         null,
         null
        ],
        [
         null,
         null
        ],
        [
         null,
         null
        ],
        [
         null,
         null
        ],
        [
         null,
         null
        ],
        [
         null,
         null
        ],
        [
         null,
         null
        ],
        [
         null,
         null
        ],
        [
         null,
         null
        ],
        [
         null,
         null
        ],
        [
         null,
         null
        ],
        [
         [
          "PixeLook - Live Gaze Estimator From Webcam (Apr 2020 - Feb 2021): PixeLook is an efficient online gaze estimator with robust head pose consideration, which captures an image through user’s webcam on domestic computing power and environment. We used python environment, mostly built on PyTorch and OpenCV frame works.For further more information, check our video - https://lnkd.in/eCN-PkiE.",
          "Paper Share - Web for exchanging study material (Aug 2020 - Dec 2020): Friendly website which gives students a platform in order to give-away, receive and exchange your study material for free.",
          "None (None): None",
          "None (None): None"
         ],
         null
        ],
        [
         null,
         null
        ],
        [
         null,
         null
        ],
        [
         null,
         null
        ],
        [
         null,
         null
        ],
        [
         null,
         null
        ],
        [
         null,
         null
        ],
        [
         null,
         null
        ],
        [
         null,
         null
        ],
        [
         null,
         null
        ],
        [
         null,
         null
        ],
        [
         null,
         null
        ],
        [
         null,
         null
        ],
        [
         null,
         null
        ],
        [
         null,
         null
        ],
        [
         null,
         null
        ],
        [
         null,
         null
        ],
        [
         null,
         null
        ],
        [
         [
          "Count von Count - (Dec 2013): Counting millions of events and showing real-time numbers and leaderboards is a big challenge in sites with high scalability. Count-von-Count is an open source project that was developed at FTBpro for a gamification project and it turned into something that can count any kind of actionYou can read more on: http://tech.ftbpro.com/post/73212710968/count-von-count-a-real-time-counting-database",
          "Choozie (Jan 2013): Choozie is a social platform where you can share your fashion dilemmas and get instant opinions from friends and others. Involved in every aspect of the product from design and marketing to code development.",
          "None (None): None",
          "None (None): None",
          "None (None): None"
         ],
         null
        ],
        [
         null,
         null
        ],
        [
         null,
         null
        ],
        [
         null,
         null
        ],
        [
         null,
         null
        ],
        [
         [
          "Cuckoo Sandbox (Dec 2018 - Oct 2019): Installing and configuring Cuckoo Sandbox.Maintaining and providing additional features."
         ],
         null
        ],
        [
         null,
         null
        ],
        [
         null,
         null
        ],
        [
         null,
         null
        ],
        [
         null,
         [
          "Detection of domain name impersonation",
          "Real-time contextual monitoring intrusion detection and prevention",
          "Application monitoring",
          "Contextual monitoring and tracking of SSH sessions",
          "SOFTWARE TEST MANAGEMENT SYSTEM AND METHOD WITH FACILITATED REUSE OF TEST COMPONENTS"
         ]
        ],
        [
         null,
         null
        ],
        [
         [
          "Prediction of Anesthesia Depth based on EEG Signals (Mar 2022 - Dec 2022): Creating a classic machine learning model to estimate depth of anesthesia based on raw EEG signals",
          "None (None): None",
          "Classifying Musical Key and Scale in Short Audio Samples (Apr 2021 - Jan 2022): Creating a complex Deep Learning based system for classifying musical key and scale.",
          "None (None): None"
         ],
         null
        ],
        [
         null,
         null
        ],
        [
         [
          "My Github Page (Jun 2018 - Sep 2018): None"
         ],
         null
        ],
        [
         null,
         null
        ],
        [
         null,
         null
        ],
        [
         null,
         null
        ],
        [
         null,
         null
        ],
        [
         null,
         null
        ],
        [
         null,
         null
        ],
        [
         null,
         null
        ],
        [
         null,
         null
        ],
        [
         null,
         null
        ],
        [
         [
          "Wombat Voting System (Oct 2011 - Jul 2012): Wombat is an academic project whose main objective is to explore the feasibility of end-to-end verifiable voting. To this end, we put a strong emphasis on simplicity of design and compatibility with more traditional, paper based, voting systems.The project was, for the most part, developed by IDC undergraduate students, aided by students from Tel Aviv University. The mixnet system used by Wombat is called Verificatum and was developed by Douglas Wikstrom from KTH Stockholm.",
          "None (None): None",
          "None (None): None",
          "None (None): None",
          "None (None): None"
         ],
         null
        ],
        [
         null,
         null
        ],
        [
         null,
         null
        ],
        [
         null,
         null
        ],
        [
         null,
         null
        ],
        [
         null,
         null
        ],
        [
         null,
         null
        ],
        [
         null,
         null
        ],
        [
         null,
         null
        ],
        [
         null,
         null
        ],
        [
         [
          "Innovative Order Form Design for Enhanced User Experience (Nov 2022 - Feb 2023): Project Overview:In response to challenges posed by an outdated order form implemented through a legacy application, I took on the task of revolutionizing the user experience for both our community and internal users.Key Features:Dynamic Fields Based on User Selections:The new form intelligently displays relevant fields based on user selections, ensuring a tailored experience and eliminating unnecessary clutter.Save and Resume Functionality:Users have the flexibility to save their progress at any point and return to complete the form at their convenience. Upon returning to their saved form, users will be directed to the exact point they last visited, eliminating the need to restart from the beginning. This feature enhances user convenience and accommodates varying time constraints.Effortless Changes Implementation:The redesigned form architecture allows for swift and seamless implementation of changes. No more grappling with the challenges posed by the previous system, where each modification demanded extensive effort.Bug-Resistant Ordering Process:The updated form guarantees a streamlined and more bug-resistant ordering process for both our customers and internal teams.Results:The adoption of this improved process has garnered positive feedback from our users. The heightened satisfaction is a testament to our commitment to delivering not just products, but exceptional experiences.",
          "Lightning Experience Transformation (Oct 2019 - Feb 2020): The Lightning Experience transformation in Lumenis was carried out with the aim of improving the UX, UI, and productivity of 900 users.Before the project started, I've educated myself about the key features and the benefits of Lightning Experience. I've also learned how to build a transformation strategy.During the project, I've performed an analysis of our business priorities, the company's org’s readiness to transition, and our technical strategy.We've educated our company about the rollout strategy, including presentations to our executives that outlined the ROI of moving to Lightning Experience, plus the scope, timeline, and cost of the project. We shared Lightning Experience with key stakeholders and demonstrated how they can benefit from the transformation.We have performed the implementations and managed our developers who worked on some code adjustments.I've created training materials (videos and guides) in order to increase the users' adoption, and we've provided hands-on training to our key users, so they will be able to pass their knowledge to their teams.We have tested the changes in our test environments, along with our key users, and made changes, as needed.We've communicated the project implications, as well as the deployment date, to all of the teams involved, and to all of the relevant end-users.Summary:We've Improved the UX, UI, and productivity by moving 90% of the users to Lightning Experience (our community users are still in classic).There is still much to be done since change isn't always easy for some people, but we are very satisfied with the change that was made and the overall adoption.",
          "Enabling Country and State Picklists (Jan 2019 - Jul 2019): The implementation of the Country and State Picklist fields was performed in an 11 years old ORG.Working with Country and State text picklist fields enabled users to add Inaccurate or incomplete data.We realized that this data may cause an Inefficiency and lack of quality data.Bad data was preventing us from providing our company's managers and management with an accurate 360-degree view of our business.In order to make the change, I had to update formulas and validation rules. In addition, I've managed our Salesforce developers in order to adjust Apex Classes. During that time, I've fixed the data of millions of records.Before I've enabled the Country and State picklists, I've communicated the project implications, as well as the deployment date, to all of the teams involved, and also to end-users.The project was successfully deployed to our Production environment without any major problems. The project improved our org's data quality, reduced mistakes, and allows our management to make better decisions.",
          "Documentation Feature Implementation (Sep 2018 - Nov 2018): The Problem:* Common admin procedures were not documented* Metadata changes or new Metadata developments and implementations were barely documentedWithout documentation, the Salesforce Admins found it hard to perform repetitive procedures. In addition, when the Salesforce Admin tried to solve a process issue, they found it very hard to understand who created the process, why he did it, and how. They didn't even know which component is a part of which process.The Solution:I've created a new custom object that allows Admins to:1. Document procedures - admins are now able to document Salesforce admins' procedures with ease. 2. Document Changes - admins are now able to document changes. They can explain the reason/requirements for the change, and elaborate on what their solution was. We can attach documents on every record, and communicate with other admins through Chatter.The solution I've implemented allows us, the admins, to perform procedures without forgetting anything. It allows us to make fewer mistakes. We also have a clear understanding of how our org operates.Now, all of our essential information and processes are in one, easy-to-access place.",
          "Case Management (Feb 2018 - Aug 2018): The Problem:Some of our departments did not have a way to support our company's end-users. We were looking for a better way to manage our processes from first contact to resolution.The Solution:Since two of our departments were already using Salesforce Cases, we decided to design a similar solution for the rest of our company's departments. I've created a design based on the requirements and input of our departments and their support teams.I've implemented the change by using Process Builder, Workflow Rules, Email Alerts, Validation Rules, and Assignment Rules, etc.We have trained our support teams on the new process and then deployed it to the production environment.Now, our end-users are able to contact us at any time and receive a professional, efficient and effective support."
         ],
         null
        ],
        [
         null,
         null
        ],
        [
         null,
         null
        ],
        [
         null,
         null
        ],
        [
         null,
         null
        ],
        [
         null,
         null
        ],
        [
         null,
         null
        ],
        [
         null,
         null
        ],
        [
         null,
         null
        ],
        [
         null,
         null
        ],
        [
         null,
         null
        ],
        [
         null,
         null
        ],
        [
         null,
         null
        ],
        [
         [
          "LAW-TRAIN (Jun 2015 - Present): LAW-TRAIN is an European Commission funded project aimed at fighting international drug-trafficking by developing a virtual interrogation training system. The training system is developed in a collaborative action by universities, national governments and professional enterprises.The virtual gaming platform will allow law enforcement units to practice the interrogation of suspects in a multicultural and virtual reality context. Through extensive research in the field of computer science and criminology the mixed reality gaming platform makes it possible to generate characters with changing attributes and parameters. Based on these demographic variables, so called “Virtual Suspects” can be generated, which will give rise to multiple interrogation scenarios in a close to realistic environment. Because of the virtual nature of the system, the simulator will be accessible from any country at any given time. To improve the training results, so called “Intervention Agents” will follow the practice sessions online and give real-time feedback to trainees.",
          "None (None): None",
          "None (None): None",
          "None (None): None",
          "None (None): None",
          "None (None): None",
          "None (None): None",
          "None (None): None",
          "None (None): None"
         ],
         null
        ],
        [
         null,
         null
        ],
        [
         null,
         null
        ],
        [
         null,
         null
        ],
        [
         null,
         null
        ],
        [
         null,
         null
        ],
        [
         null,
         null
        ],
        [
         null,
         null
        ],
        [
         null,
         null
        ],
        [
         null,
         null
        ],
        [
         null,
         null
        ],
        [
         [
          "Fixing Galaxy S3 devices by reversing eMMC's firmware and gaining code execution (Jan 2013 - Dec 2017): As many Samsung Galaxy S3 devices around the world started dying, I couldn't stand aside. I picked my device (although it was still alive!) and began to understand what is going on.As I read Samsung's alleged patch to fix the problem, it turned out that the device's embedded eMMC chip is to blame. As I made some clever guesses and used a little bit of magic, I was able to dump the entire firmware of the chip, which appeared to sport an ARM Cortex-M3 core inside.As I went deeper into the firmware, I understood what the bug was and what Samsung was trying to do - stall the device whenever it encounters the bug, instead of fixing it!I wrote a program which low level formats the device in order to avoid the bug. I also added a field upgrade feature so that one may upgrade his eMMC firmware to fix it.",
          "Android on A639 (Dec 2012 - Feb 2013): Porting Android to the ASUS MyPal A639 pocket PC device.As our final project of our BSc studies, we ported Android to the ASUS A639 device. In order to accomplish this goal, we understood some of the internal hardware structures of the device using methods like static reverse engineering and black-box testing.We added support to the Linux kernel for the specific machine architecture of this device, and configured Android 1.6 Donut to properly run on this device.We have support for basic features which make the device usable - including the LCD screen, the touch digitizer, hardware buttons, SD card controller etc.",
          "None (None): None",
          "None (None): None",
          "iDroid Project (Mar 2011 - Oct 2011): An ambitious project which aims to run Android on Apple iOS based devices.I was a part of the OpeniBoot team. We developed an alternative bootloader for iOS based devices. Other than its primary feature - support for booting a Linux kernel, OpeniBoot provides much more features as compared to the native iBoot.I developed the Flash Translation Layer (FTL) which is 100% compatible with Apple's implementation. This allows us to run Linux alongside iOS on the same device.In addition I developed some other drivers such as the Power Management Unit (PMU) driver.Since most of the iPhone's hardware is not publicly documented, during the development we had to use techniques such as black-box debugging and clean room reverse engineering. Furthermore, I wrote an infrastructure which patches iBoot and seamlessly installs traces in order to understand its inner logic."
         ],
         [
          "Drug library update monitoring",
          "Medication usage auditing based on analysis of infusion pump network traffic",
          "Crowd-based recommendations of a version of firmware for medical devices"
         ]
        ],
        [
         null,
         null
        ],
        [
         null,
         null
        ],
        [
         null,
         null
        ],
        [
         null,
         null
        ],
        [
         null,
         null
        ],
        [
         null,
         null
        ],
        [
         null,
         null
        ],
        [
         null,
         null
        ],
        [
         null,
         null
        ],
        [
         null,
         null
        ],
        [
         null,
         null
        ],
        [
         null,
         null
        ],
        [
         null,
         null
        ],
        [
         [
          "ML-web-game-platform (Apr 2023): Web platform for training ML models for simple games, initialize it and let it run!",
          "D&D-Party (None): Website for managing D&D parties, build with Flask Python and MYSQL.Allows registration, login, article publication, party view.",
          "Img-Classification (None): Classify image of numb value, using convolution neural networks.",
          "Kaggle-Titanic-Challenge (None): A submission of a Kaggle competition, creating Classification models to determine survivability.",
          "Language-Model (None): LSTM Neural networks for word predictions."
         ],
         null
        ],
        [
         null,
         null
        ],
        [
         [
          "Motors Control using CAN bus (Aug 2018 - Jul 2019): Controlling 6 maxon motors that connects to the wheels and controlled via EPOS4 to work simultaneously via CAN bus protocol.",
          "None (None): None",
          "FPGA project with digital lock mechanism  (Sep 2018 - Feb 2019): Program using VHDL digital lock mechanism within Spartan-3E FPGA Starter Board"
         ],
         null
        ],
        [
         null,
         null
        ],
        [
         null,
         null
        ],
        [
         null,
         null
        ],
        [
         null,
         null
        ],
        [
         null,
         null
        ],
        [
         [
          "onInit (May 2020 - Jun 2020): Developed marketplace for courses, based ReactJS and Redux as state management,NodeJS with express along with web sockets and MongoDB .",
          "Final Degree Project (Oct 2018 - Jun 2019): Departmental Excellence Project with Score 97:Development of a revolutionizing social network app for wandering and lost pets, Based React Native using Firebase database.- Received a social scholarship and selected project at 2019 Engineers Society."
         ],
         null
        ],
        [
         null,
         null
        ],
        [
         null,
         null
        ],
        [
         null,
         null
        ],
        [
         null,
         null
        ],
        [
         null,
         null
        ],
        [
         null,
         null
        ],
        [
         null,
         null
        ],
        [
         null,
         null
        ],
        [
         null,
         null
        ],
        [
         null,
         null
        ],
        [
         [
          "The Junction (Dec 2011): At Genesis I help entrepreneurs take it to the next level through The Junction (@thejunction32), a shared space, startup accelerator and alumni organization, all packed into a grungey loft in the south of Tel Aviv. The Junction was recently selected (http://www.newsgeek.co.il/geek-awards-2012-winners/) as \"Best Startup Program in Israel\" by over 20,000 of our peers."
         ],
         [
          "Relationship mapping employing multi-dimensional context including facial recognition",
          "Systems and methods for image-to-text and text-to-image association",
          "Real time monitoring of computer for determining speed and energy consumption of various processes",
          "RELATIONSHIP MAPPING EMPLOYING MULTI-DIMENSIONAL CONTEXT INCLUDING FACIAL RECOGNITION",
          "SYSTEM FOR MONITORING COMPUTER SYSTEMS AND ALERTING USERS OF FAULTS",
          "REAL TIME MONITORING OF COMPUTER FOR DETERMINING SPEED OF VARIOUS PROCESSES",
          "CENTRALIZED NETWORK CONTROL"
         ]
        ],
        [
         [
          "Furet (May 2014 - Present): Roll and manage FIFA games with your friends.",
          "None (None): None"
         ],
         null
        ],
        [
         null,
         null
        ],
        [
         null,
         null
        ],
        [
         null,
         null
        ],
        [
         [
          "Keynote speaker: Israel Devcon 2017 (Jun 2017): Gave a keynote at the Intel-sponsored developer conference with the title:\"Getting ready to get ready for EXAscale - Tales from the trenches\""
         ],
         null
        ],
        [
         null,
         null
        ],
        [
         null,
         null
        ],
        [
         null,
         null
        ],
        [
         null,
         null
        ],
        [
         null,
         null
        ],
        [
         null,
         null
        ],
        [
         null,
         null
        ],
        [
         null,
         null
        ],
        [
         null,
         null
        ],
        [
         [
          "Shaar-Olami, Israeli customs next generation system (Jan 2010 - Dec 2012): Architecture, Design, Development, and Deployment of the new Israeli Custom System (Shaar Olami) Converting all the Israeli Customs Core System from Mainframe Technology to Microsoft Technologies (High-Scale Silverlight Web Applications and WPF and .NET Framework 4.0) and SOA architecture",
          "None (None): None",
          "None (None): None",
          "None (None): None"
         ],
         null
        ],
        [
         null,
         null
        ],
        [
         [
          "Representing a leading US Patent Monetization Group in the Acquisition of an Israeli Patent Portfolio (2014): I have represented a leading US patent monetization group in the acquisition of a large patent portfolio of an Israeli technology company.",
          "Representing CEVA Inc. in its $19M acquisition of RivieraWaves (2014): DSP solutions provider Ceva Inc. (Nasdaq:CEVA); LSE:CVA) has acquired RivieraWaves for $19 million. RivieraWaves is a privately held company and provider of wireless connectivity IP for Wi-Fi and Bluetooth technologies.",
          "Representing Surpass Medical in its $135M acquistion by Stryker (Jun 2012 - Nov 2012): Surpass Medical is an Israeli medical device company developing and commercializing flow diversion stent technology to treat brain aneurysms. Surpass was acquired by Stryker Corporation, one of the world's leading medical technology companies, for an aggregate consideration of 135 million dollars.",
          "New R&D Regulations Affect Redemption Fees Payable to the Office of the Chief Scientist (May 2012 - May 2012): Regulations approved in May 2012 place a limit on the \"redemption fee\" which companies supported by the Israeli Office of the Chief Scientist must pay in the event of an overseas transfer of know-how. These regulations are aimed at providing OCS-supported companies greater certainty regarding the consequences of international transactions, while preserving the statutory incentives to keep Israeli R&D operations and the resulting know-how in Israel.",
          "Landmark Case Establishes Guidelines for Monitoring Employee Online Activity (Mar 2011 - Mar 2011): According to a recent major decision by the Israeli National Labor Court, however, this situation is likely to dramatically change. Generic, sweeping or vague internet use policies of employers will no longer be allowed. In this Privacy Update, we will review the court's decision and the new guidelines for monitoring and examining the content of employee email and online activity.",
          "Israel Joining the Madrid System for Trademark Registration (Sep 2010 - Sep 2010): On September 1, 2010, Israel joined the Madrid System for the International Registration of Trademarks. The Madrid System allows companies and individuals to apply for trademark protection in various countries simultaneously using one central filing and registration procedure."
         ],
         null
        ],
        [
         null,
         null
        ],
        [
         [
          "Selenium IDE (Sep 2017 - Present): Open source record and playback test automation for the web"
         ],
         null
        ],
        [
         null,
         null
        ],
        [
         null,
         null
        ],
        [
         null,
         null
        ],
        [
         [
          "School Management Information System (Dec 2012): None",
          "None (None): None",
          "None (None): None",
          "None (None): None",
          "None (None): None",
          "Intel® Small Business Advantage (Mar 2011 - Present): Intel® Small Business Advantage (Intel® SBA) is a new computing platform, consisting of hardware, software, and firmware, for small businesses without a managed network. Intel® SBA also includes six applications to help manage security and productivity issues.",
          "None (None): None",
          "None (None): None"
         ],
         null
        ],
        [
         null,
         [
          "Fast matrix multiplication and linear algebra by alternative basis"
         ]
        ],
        [
         [
          "Neefla (Jun 2017 - Present): None",
          "None (None): None"
         ],
         null
        ],
        [
         null,
         null
        ],
        [
         null,
         null
        ],
        [
         null,
         null
        ],
        [
         null,
         null
        ],
        [
         null,
         null
        ],
        [
         null,
         null
        ],
        [
         null,
         null
        ],
        [
         [
          "Corn and maize diseases classification (None): Used Efficientnet to classify various diseases with ~95% average accuracy.",
          "Image Colorization Using UNET (None): Used UNet architecture on human faces dataset for colorization of black and white images.",
          "Images classification for sports (None): Used VGG16 transfer-learning and fine-tuning to identify 22 sports categories. The project includes significant data preprocessing and investigation.",
          "Predict Churning customers (None): Given different characteristics for bank customers, forecast whether they will leave the bank. The project entails data exploration and training a Random Forest classifier. Achieved 98% accuracy.",
          "Semantic Segmentation for Autonomous Vehicles (None): I used UNet to segment the cityscapes dataset in this project. It included the use of the K-means algorithm for class clustering."
         ],
         [
          "Device and Method to Spectrally Resolve Optical Radiation"
         ]
        ],
        [
         null,
         null
        ],
        [
         [
          "Shooting game - C++ (None): a console application.It can be played by both human & computer players.During the project I've used: OO Design, Polymorphism, reading from files, Exceptions.",
          "UpDate (None): a dating web-app.the goal is to match between men and women according to their appearance and characteristics.-select your own appearance and characteristics, select your love appearance and characteristics.get matches with scores from 1-100!We used the following technologies :- Server side: Java programing. Base on Java Servlets.- Web app: HTML5, CCS3, JS, JQuery, Ajax.-Single page architecture.- Data Base: MySql, Redis.",
          "None (None): None",
          "None (None): None"
         ],
         null
        ],
        [
         null,
         null
        ],
        [
         null,
         null
        ],
        [
         null,
         null
        ],
        [
         null,
         null
        ],
        [
         null,
         null
        ],
        [
         null,
         null
        ],
        [
         null,
         null
        ],
        [
         [
          "vlsi implementation for FIR filter (Dec 2017): students project at the vlsi lab in the technion. implemented an FIR filter system with sin/cos modulation and factor 8 down-sampling for US transducer system. focused on the vhdl design and verification stages."
         ],
         null
        ],
        [
         null,
         null
        ],
        [
         null,
         null
        ],
        [
         null,
         null
        ],
        [
         null,
         null
        ],
        [
         null,
         null
        ],
        [
         null,
         null
        ],
        [
         null,
         null
        ],
        [
         null,
         null
        ],
        [
         null,
         null
        ],
        [
         null,
         null
        ],
        [
         [
          "Booster system for pressurized Nitrogen gas (Sep 2012 - Oct 2012): Booster system for pressurized Nitrogen gas on the end of existing pipeline between Maxima and ChemAgis (Israel, Ramat Hovav). Which was under the supervision of Maxima’s chief engineer Aharon Brayer.",
          "Rebuild Walla! mail app server side with php7 (None): I joined the team, and with time was the only server side developer in Walla! to complete the implementation of Walla php mvc framework \"CASTLE\" in Walla! mail app.and finished to build the mail server side with PHP7 including mail features and complete unit tests and API with SWAGGER.",
          "Walla! data migration to AWS (None): I led the design, implementation and execution of Mail data migration from local server and storage to AWS",
          "Walla!sport (None): None"
         ],
         null
        ],
        [
         null,
         null
        ],
        [
         [
          "DomeIL (Oct 2023 - Feb 2024): I developed a Python-based project for a nationwide explanatory initiative. In this project, I created several scrapers for various social media platforms, adhering to time constraints. We managed a community of volunteers through an email system, ensuring each volunteer received a daily email with information sourced by our custom-built Python system.",
          "None (None): None",
          "Assembler for Assembly language using The C programming language (Mar 2021 - Aug 2021): Developed a project in C language, specifically for the Ubuntu Virtual Machine. The project involves creating an Assembly language Assembler that performs a two-pass translation of input into Assembly language. Ultimately, the code efficiently translates Assembly code into machine language."
         ],
         null
        ],
        [
         [
          "js-must-watch (Jun 2014): Opinionated list of videos about JavaScript",
          "Open Rights (Aug 2019 - Feb 2020): Register the photos you post on InstagramOpen-Rights.org is the independent database for registering your photos to your name, free of charge, forever.",
          "None (None): None",
          "Web OPCAT (None): Web OPCAT is web- and cloud-based IDE and implement the formal operational semantics definitions of OPM. Our vision is to have a universal repository of standard OPM model snippets in various domains. They are freely available in the cloud as \"Lego\" pieces from which anyone can easily build, test, and run OPM models using a friendly cloud environment for their assembly. Models should be populated with instances and be simulated on the fly. ",
          "None (None): None",
          "None (None): None",
          "None (None): None",
          "Wix Media Platform (None): Wix Media Platform, together with Google Cloud Platform, provides all the tools you need to fully manage your media. Transform Your Images on the Fly. Play Videos on All Devices. Store Basic and Professional Audio.",
          "None (None): None"
         ],
         [
          "Computer-Aided Information System \"ECHO\""
         ]
        ],
        [
         null,
         null
        ],
        [
         null,
         null
        ],
        [
         null,
         null
        ],
        [
         null,
         null
        ],
        [
         null,
         null
        ],
        [
         null,
         null
        ],
        [
         null,
         null
        ],
        [
         null,
         null
        ],
        [
         null,
         null
        ],
        [
         null,
         null
        ],
        [
         null,
         null
        ],
        [
         null,
         null
        ],
        [
         null,
         null
        ],
        [
         null,
         null
        ],
        [
         null,
         null
        ],
        [
         null,
         null
        ],
        [
         null,
         null
        ],
        [
         null,
         null
        ],
        [
         null,
         null
        ],
        [
         null,
         null
        ],
        [
         null,
         null
        ],
        [
         null,
         null
        ],
        [
         null,
         null
        ],
        [
         null,
         null
        ],
        [
         null,
         null
        ],
        [
         null,
         null
        ],
        [
         null,
         null
        ],
        [
         [
          "Gamification in the System Analysis and Design Course (Aug 2013 - Aug 2014): Implementing gamification into a Knowledge Management System (KMS) for the university course \"System Analysis and Design\". This course is mandatory for students which are pursuing a B.Sc. degree in Industrial Engineering and Management in Ben Gurion University. The practical part of the project was to build a KMS integrated with Gamification elements and mechanics. In the academic research part of the project a study was conducted to evaluate the influence of exterior and intrinsic motivation on the course’s grade.",
          "None (None): None"
         ],
         null
        ],
        [
         null,
         null
        ],
        [
         null,
         null
        ],
        [
         null,
         null
        ],
        [
         null,
         null
        ],
        [
         null,
         null
        ],
        [
         null,
         null
        ],
        [
         null,
         null
        ],
        [
         null,
         null
        ],
        [
         null,
         null
        ],
        [
         null,
         null
        ],
        [
         null,
         null
        ],
        [
         null,
         null
        ],
        [
         null,
         null
        ],
        [
         [
          "Yavne - Railway tunnel (2010): The Yavne Pleshet track section forms section B3 in the Rishon Lezion Bnei Darom railway line. The route of the railway track in this section begins from Yavne Interchange as it extends southwards and east of Road 4, including a tunnel and a bridge to the dual tracks. The design work include designing a tunnel by the \"Cut and Cover\" method in an arched cut made of reinforced concrete 14m wide for the duel railway tracks, and a total length of 750m, as well as designs of pre-stressed concrete beam bridge 70m long, for crossing the tracks over Yavne Stream. In addition, retaining walls are designed for the tunnel's entrance and exit points at a total area of 5000m2."
         ],
         null
        ],
        [
         null,
         null
        ],
        [
         null,
         null
        ],
        [
         null,
         null
        ],
        [
         null,
         null
        ],
        [
         null,
         null
        ],
        [
         [
          "MomSense (2013 - 2015): Momsense is the only Smart Breastfeeding Meter that tells you how much your baby has nursed. - Proved technical feasibility- Patented the technology- Built first POC including HW & algorithms- Built first product version",
          "DroidZ - your guitar teacher :) (2012 - 2014): POC of guitar play teaching application without any cables. All you need is a guitar!Acoustic analysis of guitar sounds using microphone in real-time, real-time classification of music notes & accords with machine learning. Multi-threaded application with: data acquisition, data analysis thread, classification thread. All heavy lifting performed in native C++ code.The POC is fully functional."
         ],
         [
          "Systems and methods for monitoring of mechanical and electrical machines",
          "Systems and methods for acoustic emission monitoring of semiconductor devices",
          "Real time detection of gastrointestinal sections and transitions of an in-vivo device therebetween",
          "System and method for assessing a patient condition using tertiles derived from capsule endoscope images of the small bowel ",
          "System and method for detecting infant swallowing "
         ]
        ],
        [
         null,
         null
        ],
        [
         null,
         null
        ],
        [
         null,
         null
        ],
        [
         null,
         [
          "Semi-automatic generation of multimedia content",
          "Semi-automatic generation of multimedia content"
         ]
        ],
        [
         null,
         null
        ],
        [
         null,
         null
        ],
        [
         null,
         null
        ],
        [
         null,
         null
        ],
        [
         null,
         null
        ],
        [
         null,
         null
        ],
        [
         null,
         null
        ],
        [
         null,
         null
        ],
        [
         null,
         null
        ],
        [
         null,
         null
        ],
        [
         null,
         null
        ],
        [
         null,
         null
        ],
        [
         null,
         null
        ],
        [
         null,
         null
        ],
        [
         null,
         null
        ],
        [
         null,
         null
        ],
        [
         null,
         null
        ],
        [
         null,
         null
        ],
        [
         null,
         null
        ],
        [
         null,
         null
        ],
        [
         null,
         null
        ],
        [
         null,
         null
        ],
        [
         null,
         null
        ],
        [
         null,
         null
        ],
        [
         null,
         null
        ],
        [
         null,
         null
        ],
        [
         null,
         null
        ],
        [
         null,
         null
        ],
        [
         null,
         null
        ],
        [
         [
          "BEEHD (None): Developing VoIP video phone (SIP)",
          "None (None): None",
          "None (None): None",
          "None (None): None",
          "None (None): None",
          "None (None): None",
          "None (None): None",
          "None (None): None",
          "MNT/NEBO (None): Easy to use, cost effective and robust against deception fingerprint based authentication technology",
          "None (None): None",
          "None (None): None"
         ],
         [
          "A system and a method for providing video content to a target system"
         ]
        ],
        [
         null,
         null
        ],
        [
         null,
         null
        ],
        [
         null,
         [
          "Non-swivel suture anchor for knotless fixation of tissue",
          "Cannulated implant delivery device with adjustable insertion depth",
          "Fiber-reinforced biocomposite medical implants with deformable protrusions and methods of use thereof",
          "Fiber bundle reinforced biocomposite medical implants",
          "Precision surface treated biocomposite material, medical implants comprising same and methods of treatment thereof",
          "Multi-level vertebral implant system"
         ]
        ],
        [
         null,
         null
        ],
        [
         null,
         null
        ],
        [
         null,
         null
        ],
        [
         null,
         null
        ],
        [
         null,
         null
        ],
        [
         null,
         null
        ],
        [
         null,
         null
        ],
        [
         null,
         null
        ],
        [
         null,
         null
        ],
        [
         null,
         null
        ],
        [
         null,
         null
        ],
        [
         null,
         null
        ],
        [
         null,
         null
        ],
        [
         null,
         null
        ],
        [
         null,
         null
        ],
        [
         null,
         null
        ],
        [
         null,
         null
        ],
        [
         null,
         null
        ],
        [
         null,
         null
        ],
        [
         null,
         null
        ],
        [
         null,
         null
        ],
        [
         null,
         null
        ],
        [
         null,
         null
        ],
        [
         null,
         null
        ],
        [
         null,
         null
        ],
        [
         null,
         null
        ],
        [
         null,
         null
        ],
        [
         null,
         null
        ],
        [
         null,
         null
        ],
        [
         null,
         null
        ],
        [
         [
          "ProWoman (Feb 2022 - May 2022): Program for outstanding and ambitious students",
          "WE - Women Entrepreneurship (Oct 2021 - Jan 2022): A unique and innovative entrepreneurship program to gain the skills required to succeed as an entrepreneur",
          "Hadarim (2015 - 2016): Preparation for technological service in the IDF on behalf of Microsoft. Study subjects: Algorithmics, programming in C# and NET and introductions in the field of hardware."
         ],
         null
        ],
        [
         null,
         null
        ],
        [
         null,
         null
        ],
        [
         null,
         null
        ],
        [
         null,
         null
        ],
        [
         null,
         null
        ],
        [
         null,
         null
        ],
        [
         null,
         null
        ],
        [
         null,
         null
        ],
        [
         null,
         null
        ],
        [
         null,
         null
        ],
        [
         null,
         null
        ],
        [
         [
          "Real Life Space Invaders (using drones, a laser gun and a motorized seat) (Jun 2016 - Sep 2016): For the GeekCon 2016 Makeathon, me and my team created a real-life version of the classic Alien Invaders game - with 8 quadcopters (drones) flying in formation in the sky, a motorized car seat on a rail which the player could move in, and a laser gun.The project was featured in various international websites (including CNET and Hackaday) and Israeli news (ynet, i24news).Links:http://www.ynet.co.il/articles/0,7340,L-4860843,00.htmlhttps://www.cnet.com/news/real-life-space-invaders-game-uses-drones-a-motorized-seat-and-lasers/"
         ],
         null
        ],
        [
         null,
         null
        ],
        [
         null,
         null
        ],
        [
         null,
         null
        ],
        [
         null,
         null
        ],
        [
         null,
         null
        ],
        [
         null,
         null
        ],
        [
         null,
         null
        ],
        [
         null,
         null
        ],
        [
         null,
         null
        ],
        [
         null,
         null
        ],
        [
         null,
         null
        ],
        [
         null,
         null
        ],
        [
         null,
         null
        ],
        [
         [
          "treeboost_autograd: Custom Losses for Tree Boosters using PyTorch (Feb 2021 - Feb 2021): Why calculate first and second derivatives for your custom objectives when you can let PyTorch do it for you? Just pip install treeboost_autograd. Posted in Towards Data Science.",
          "Attention MeshCNN: Using Attention Layers for Deep Learning On 3D meshes (Jan 2020 - Jan 2020): Developed a self attention mechanism for 3D meshes, with positional encodings based on graph distances.",
          "None (None): None",
          "None (None): None"
         ],
         null
        ],
        [
         null,
         null
        ],
        [
         null,
         null
        ],
        [
         [
          "Intel Kiryat Gat 1274 (Aug 2014 - Present): Challenging and Amazing to build the future",
          "None (None): None",
          "None (None): None",
          "None (None): None",
          "None (None): None",
          "None (None): None",
          "None (None): None",
          "None (None): None",
          "None (None): None",
          "None (None): None"
         ],
         null
        ],
        [
         [
          "Github Profile (Dec 2015): code that i wrote"
         ],
         null
        ],
        [
         null,
         null
        ],
        [
         [
          "Computer Science - Self-education (Python) (Jul 2018 - Present): Implementations of well-known data structures and solutions to exercises from Cracking the Coding Interview (6th edition).I started this project after leaving the 5th Dimension and have been working on it on and off after work hours.",
          "Evaluation of Patient Motion during a Single Photon Emission Computed Tomography (SPECT) scan (2008 - 2009): Final Project of BSc degree. Cooperation with GE Healthcare.",
          "None (None): None"
         ],
         null
        ],
        [
         null,
         null
        ],
        [
         null,
         null
        ],
        [
         null,
         null
        ],
        [
         null,
         null
        ],
        [
         null,
         null
        ],
        [
         null,
         null
        ],
        [
         null,
         null
        ],
        [
         null,
         null
        ],
        [
         null,
         null
        ],
        [
         null,
         null
        ],
        [
         null,
         null
        ],
        [
         null,
         null
        ],
        [
         null,
         null
        ],
        [
         null,
         null
        ],
        [
         null,
         null
        ],
        [
         null,
         null
        ],
        [
         null,
         null
        ],
        [
         null,
         null
        ],
        [
         null,
         null
        ],
        [
         null,
         null
        ],
        [
         null,
         null
        ],
        [
         null,
         null
        ],
        [
         null,
         null
        ],
        [
         null,
         null
        ],
        [
         null,
         null
        ],
        [
         null,
         null
        ],
        [
         null,
         null
        ],
        [
         null,
         null
        ],
        [
         [
          "wikaya (May 2018 - Present): None",
          "Enbago (Aug 2017 - Present): None",
          "Dawsat Application (Aug 2016 - Present): None",
          "Panet android application (Sep 2017 - Apr 2018): None"
         ],
         null
        ],
        [
         null,
         null
        ],
        [
         null,
         null
        ],
        [
         null,
         null
        ],
        [
         null,
         null
        ],
        [
         null,
         null
        ],
        [
         null,
         null
        ],
        [
         null,
         null
        ],
        [
         null,
         null
        ],
        [
         null,
         null
        ],
        [
         null,
         null
        ],
        [
         null,
         null
        ],
        [
         null,
         null
        ],
        [
         null,
         null
        ],
        [
         null,
         null
        ],
        [
         null,
         null
        ],
        [
         null,
         null
        ],
        [
         null,
         null
        ],
        [
         null,
         null
        ],
        [
         [
          "TAS (Technion Aerial System) (Sep 2015 - Jul 2016): TAS 2016 (Technion Aerial Systems) is a team of highly motivated and skilled students from both Aeronautical and Electrical Engineering Departments from the Technion- Israel Institute of Technology. The team developed an aerial system for the AUVSI SUAS 2016 international competition in which they won the 4th place out of 54 participants."
         ],
         null
        ],
        [
         null,
         null
        ],
        [
         null,
         null
        ],
        [
         null,
         null
        ],
        [
         [
          "Final Project - Empowering youth at risk (\"Branco Weiss\" High School – Kiryat Shmona)  (Oct 2014 - Jul 2015): None"
         ],
         null
        ],
        [
         null,
         null
        ],
        [
         null,
         null
        ],
        [
         null,
         null
        ],
        [
         null,
         null
        ],
        [
         null,
         null
        ],
        [
         null,
         null
        ],
        [
         null,
         null
        ],
        [
         null,
         null
        ],
        [
         null,
         null
        ],
        [
         null,
         null
        ],
        [
         null,
         null
        ],
        [
         null,
         null
        ],
        [
         null,
         null
        ],
        [
         null,
         null
        ],
        [
         null,
         null
        ],
        [
         null,
         [
          "System and Method for Interactive Gaming"
         ]
        ],
        [
         null,
         null
        ],
        [
         null,
         null
        ],
        [
         null,
         null
        ],
        [
         null,
         null
        ],
        [
         null,
         null
        ],
        [
         null,
         null
        ],
        [
         [
          "Cerebrojs (Apr 2016): Cerebro.js is a JavaScript library created to make debugging and monitoring front-end JavaScript code easy using special machine learning algorithms.https://www.youtube.com/watch?v=BcP3Ef9Jf6c&feature=youtu.be",
          "None (None): None",
          "None (None): None",
          "Stocks Clustering in hadoop (None): This tool can cluster stocks in Hadoop using Canopy+KMeans clustering algorithms.",
          "None (None): None",
          "None (None): None"
         ],
         null
        ],
        [
         null,
         null
        ],
        [
         [
          "Taskit (Mar 2021 - Mar 2021): My final project in Coding Academy",
          "Give & Get (Mar 2020 - Jun 2020): This project was a great challenge for me, during a few weeks I had to develop a site from scratch, including the concept, the UI, UX, learning the framework, the database etc. and all along to self-learn React, Firebase, XD, Git, GitHub, API's and more.The idea behind this project is to help decrease the amount of fruits & vegetables (and ingredients in general) that are being thrown out every day.People can Give & Get ingredients, easily, by using this site.It is written in HTML, CSS, JavaScript.React as the framework, and Firebase as the database (both self-learned while working on the project).Enjoy! And don't forget to Give & Get ;)"
         ],
         null
        ],
        [
         [
          "New Extension named \"Groups Select\" for the OpenSource Development Enviroment - Moodle. (Jul 2013): Moodle, is a highly flexible, free software, open source learning platform. With comprehensive, customisable and secure learning management features, it can be used to create a private website for dynamic online courses. Moodle (acronym for modular object-oriented dynamic learning environment), is a also known as a learning management system, or virtual learning environment.Groups Select is my new Extension, doesn't exist yet in the Moodle Core Code (planned to be).It allows students to chose a group that the teacher has created for a specific course.This feautre doesn't exist yet in the Moodle Core Code, although it can be really useful in certain courses. After finding this disadvantage in moodle, I decided as my Final Project at the university, to develope this feautre. to make student's life easier, instead of being devided to groups manually or via emails."
         ],
         null
        ],
        [
         null,
         null
        ],
        [
         [
          "Information Retrieval contest, Technion (Feb 2016): Using statistical methods to address the query performance prediction problem.",
          "Construction of Biological processes from unstructured medical texts (Mar 2017 - Jul 2017): Construction of Biological processes from unstructured medical texts in the Reactome pathway database using Machine learning methods (Dr. Kira Radinsky).",
          "Schema-matching (Jan 2016 - Apr 2016): Enhancing schema-matching performance on large schemas using \"DB caching\" of first-line matcher results",
          "None (None): None",
          "None (None): None"
         ],
         null
        ],
        [
         null,
         null
        ],
        [
         [
          "Python SDK for Kusto (Azure Data Explorer) (Mar 2018 - May 2019): Kusto Python Client Library provides the capability to query Kusto clusters using Python. It is Python 2.x/3.x compatible and supports all data types through familiar Python DB API interface.I released the first versions of the SDK."
         ],
         null
        ],
        [
         null,
         null
        ],
        [
         null,
         null
        ],
        [
         null,
         null
        ],
        [
         null,
         null
        ],
        [
         null,
         null
        ],
        [
         null,
         null
        ],
        [
         null,
         null
        ],
        [
         null,
         null
        ],
        [
         null,
         null
        ],
        [
         null,
         null
        ],
        [
         null,
         null
        ],
        [
         [
          "Debate Management System (None): A debate management system, currently being used by the debate society at Tel Aviv University.An intuitive, clean, user friendly interface that allows the ongoing activity of the club (registration of new members, signing up to upcoming practices, giving feedbacks of other members), displays the clubs history and information and allows for efficient assignment of large scale bi-weekly practices.",
          "None (None): None",
          "None (None): None"
         ],
         null
        ],
        [
         [
          "Personal Portfolio (Jul 2023): None"
         ],
         null
        ],
        [
         null,
         null
        ],
        [
         null,
         null
        ],
        [
         [
          "LoRa IoT Sensors in LPWAN (Apr 2018 - Aug 2018): Created a machine-to-machine (M2M) and internet of things (IoT) networks, LPWANs operate at alower cost with greater power efficiency than traditional mobile networks without compromising its scalability. As part of the project, several communication protocols were used including MQTT and LoRaWAN. The development included multiple independent systems:- The end-node device/sensor (C)- The gateway/data forwarder (RPI3 developed in python, bash & C++) - The server (GO & bash)",
          "iChant - IOT project (Mar 2017 - Jul 2017): As a part of a team of 3, we developed a musical instrument that helps the user learn to play without the need to know how to read musical sheets. The projects included developing a UWP app using Visual Studio and integrating it with Azure (C#). Also included programming an Arduino board (C) as well as building the network of the sensors and electricity around the instrument."
         ],
         null
        ],
        [
         null,
         null
        ],
        [
         null,
         null
        ],
        [
         null,
         null
        ],
        [
         null,
         null
        ],
        [
         null,
         null
        ],
        [
         null,
         null
        ],
        [
         null,
         null
        ],
        [
         null,
         null
        ],
        [
         null,
         null
        ],
        [
         null,
         null
        ],
        [
         null,
         null
        ],
        [
         [
          "MidiGPT REST API  (Aug 2023): MidiGPT is a dynamic REST API that merges technology and creativity to transform concepts into real, downloadable MIDI files. Our tech stack includes TypeScript, Python, Golang, Express, OpenAI, and AWS.Here’s how it works:1.The client sends a POST request to our Express server.2.Temporal Workflow coordinates various activities:•TypeScript communicates with OpenAI to generate MIDI text.•Python validates and generates MIDI files.•Go uploads files to AWS S3 and returns a secure link.•Go wraps the result in JSON format.3.The Express server sends a JSON response back to the client.MidiGPT fuels innovation and artistry, making it easy to turn creative ideas into music with technology.",
          "None (None): None",
          "Hebrew Sign Language Translator (None): As the capstone project for my bachelor's degree, I embarked on a journey to empower thehearing-impaired community.○ Pioneered a groundbreaking solution employing computer vision and machine learning.○ Enhanced an extensive database of Hebrew Sign language, enabling precise recognition andtranslation of sign language gestures.○ Crafted a versatile system capable of adapting to diverse dialects and regional variations,championing inclusivity.○ This project exemplifies my expertise in computer vision, machine learning, and databasemanagement while emphasizing my commitment to social impact.",
          "Midi violin- arduino (None): This project uses an Arduino board to read input from a rotary encoder and a membrane potentiometer, and convert the data into MIDI messages that can be used to control a music synthesizer. The code is written in Arduino language, and uses the MIDI library for handling MIDI messages.",
          "None (None): None",
          "None (None): None"
         ],
         null
        ],
        [
         null,
         null
        ],
        [
         null,
         null
        ],
        [
         [
          "meeba - Social application for travelers (2016 - Present): With meeba you can meet new people to travel with, find travel partners, discover new places, create and join events, get recommendations wherever you are from people who are there with you. The social network for travelers.",
          "Israel Under Terror (2014): A website that shows all terror attacks against Israel.",
          "Get Images (2013): Post any Instagram image or youtube video URL and get the image ready to download.Just did it for fun.",
          "Instagram on web (2013): Just a website to browse Instagram.I just did it to learn about their API.",
          "Analyze Your Text (2019 - 2019): An online tool to analyze your text and get statistics on in. You can also edit your text, get rid of extra spaces, replace words and more.Statistics about your text include number of words, characters and spaces, numbers and the summation of them, details about the occurence of each word and letter in your text.",
          "Save session browser extension (2019 - 2019): Save all your open tabs and windows and restore them with one clickWith one click the extension will save all your open tabs and you can restore them all instantly.Whether it's for work, school or personal, just give the session any name and click save.Finished working or studying for the day but don't want to lose all the links you've opened. Save it, take a break and resume whenever you're ready."
         ],
         null
        ],
        [
         null,
         null
        ],
        [
         null,
         null
        ],
        [
         null,
         null
        ],
        [
         null,
         null
        ],
        [
         null,
         null
        ],
        [
         null,
         null
        ],
        [
         null,
         null
        ],
        [
         null,
         null
        ],
        [
         null,
         null
        ],
        [
         null,
         null
        ],
        [
         null,
         null
        ],
        [
         null,
         null
        ],
        [
         null,
         null
        ],
        [
         null,
         null
        ],
        [
         null,
         null
        ],
        [
         null,
         null
        ],
        [
         null,
         null
        ],
        [
         null,
         null
        ],
        [
         null,
         null
        ],
        [
         [
          "on{X} (2011 - Present): on{X} lets you control and extend the capabilities of your Android phone using a JavaScript API to remotely program it.",
          "None (None): None",
          "None (None): None",
          "None (None): None",
          "None (None): None",
          "None (None): None",
          "Matasano challenge (May 2013 - Jul 2013): Completed the Matasano crypto challenges",
          "certificate depot (Oct 2012 - Nov 2012): Certificate depot is an online tool that enables you to create self-signed SSL certificates within seconds and completely for free. The certificates are suitable for any purpose e.g., HTTPS websites, Client SSL / TLS authentication, file encryption, etc.",
          "anode (Jul 2011 - Jun 2012): A node.js-based experimentation app platform running on Windows Azure. Anode hosts today a multitude of Microsoft projects and used by 10s of engineerins within the company.The platform uses git-based deployment to provide a super fast development turn around (~30 sec) as oppose to what was conventional at Microsoft beforehand (weekly).We have published a few open source libraries as part of the project and contributed as a participant in the internal Microsoft node.js community (Azure, node.js port to Windows, etc).I have conceptualized and built some unique features such as deployment of multiple branches to the cloud (allow spawning isolated environments for feature development quickly), distributed api testing, github continuous deployment bots.",
          "None (None): None",
          "None (None): None",
          "None (None): None",
          "None (None): None",
          "None (None): None",
          "ssltunnel (Dec 2011 - Jan 2012): This is a lightweight TCP over SSL / TLS tunnel running over node. If you need to add confidentiality (privacy), integrity, and authenticity to your TCP stream this is the tool for you."
         ],
         [
          "Adaptation of notification perimeter based on relevance to a user",
          "Method and System For Detecting Malicious Behavioral Patterns in a Computer, Using Machine Learning",
          "Bidding for Impressions",
          "Persisting state using scripts",
          "Verified check-in",
          "Method of providing location based service information"
         ]
        ],
        [
         null,
         null
        ],
        [
         null,
         null
        ],
        [
         null,
         null
        ],
        [
         null,
         null
        ],
        [
         null,
         null
        ],
        [
         null,
         null
        ],
        [
         null,
         null
        ],
        [
         null,
         null
        ],
        [
         [
          "Concours MayAM (Dec 2016): Projet en partenariat avec le Groupe Gendry spécialisé dans le forage dirigé :Offrir une interface de réalité augmentée permettant l'affichage d'objets virtuels sur un chantier en temps réel.",
          "Projet Senior - Airbus (Oct 2016 - Mar 2017): Use of the Microsoft HoloLens headset in order to assist the operatives in the production line.",
          "None (None): None",
          "Robotic Knee (Sep 2015 - Jan 2016): Command and performance control of a robotic knee controled by a MAXON Motor.",
          "None (None): None",
          "Preliminary Detailed Conception : Sound Equalizer (Sep 2014 - Jan 2015): Design and realisation of a sound equalizer using an Arduino controler coupled with electronic components.",
          "None (None): None",
          "None (None): None",
          "None (None): None",
          "None (None): None"
         ],
         null
        ],
        [
         null,
         [
          "Memory-driven Artificial Intelligence Two-Phase Planning Method for Disruption Management in Operations",
          "Training a machine learning classifier to evaluate application security issues",
          "Retraining a machine classifier based on audited issue data",
          "Application security issue classifier policy based training and classification",
          "An Airline Recovery Optimization Approach for In-memory Database Systems",
          "Tagging a program code portion",
          "Classifying Source Code Using An Expertise Model"
         ]
        ],
        [
         null,
         null
        ],
        [
         null,
         null
        ],
        [
         null,
         null
        ],
        [
         null,
         null
        ],
        [
         null,
         null
        ],
        [
         null,
         null
        ],
        [
         [
          "Loreal Brandstorm Challenge  (2018 - 2018): None"
         ],
         null
        ],
        [
         null,
         null
        ],
        [
         null,
         null
        ],
        [
         null,
         null
        ],
        [
         null,
         null
        ],
        [
         [
          "Traffic-Lights control system (May 2014): My Project in Embedded course at afeka college, a traffic-lights control system using an arduino board and my own development board."
         ],
         null
        ],
        [
         null,
         null
        ],
        [
         null,
         null
        ],
        [
         null,
         null
        ],
        [
         null,
         null
        ],
        [
         null,
         null
        ],
        [
         null,
         null
        ],
        [
         null,
         null
        ],
        [
         null,
         null
        ],
        [
         null,
         null
        ],
        [
         [
          "Appwrite (Aug 2019 - Present): Appwrite cuts up to 70% of the time and costs required for building a modern application. We abstract and simplify common development tasks behind a REST APIs, to help you develop your app in a fast and secure way.",
          "Litespeed.js (Jan 2017 - Present): Litespeed.js is a micro Javascript framework for building simple web applications. Litespeed.js is dependency-free and easy to learn framework which allows you to extend your DOM functionality in a semantic and declarative way.The litespeed.js framework main features include an MVVM architecture, built-in single page routing, easy to build view components, dependency injection service, data binding, and fully valid and accessible HTML and DOM.Litespeed.js makes very good use of both browser memory management, garbage collection and rendering to maximize your web application performance. As of version 0.2.* litespeed.js weights only 4.9kb (minified and compressed)",
          "Utopia PHP Framework (Jan 2017 - Present): Utopia Framework is a PHP MVC based framework with minimal must-have features for professional, simple, advanced and secure web development.Utopia Framework is dependency free. Any extra features such as authentication, caching will be available as standalone models in order to keep the framework core as clean, light any easy to learn.",
          "Walla! Mail (Jul 2015): New Walla! Mail website. Using AngularJS, CSS3 and HTML5 responsive web design and retina ready with advanced JavaScript implementations we provide better user experience and usability.",
          "None (None): None",
          "None (None): None",
          "None (None): None",
          "Walla! Homepage (Jan 2015): Israel's leading news portal. Using HTML5 and CSS3 responsive and retina ready design, Advanced JavaScript implementations we provide better user experience and usability.The new design provides the user all information on any device and any screen size and orientation.",
          "None (None): None",
          "None (None): None",
          "None (None): None",
          "None (None): None",
          "None (None): None",
          "None (None): None",
          "None (None): None",
          "None (None): None",
          "None (None): None",
          "Walla! Mobile (Nov 2014): None",
          "None (None): None",
          "None (None): None",
          "None (None): None",
          "None (None): None",
          "None (None): None",
          "Walla! Brnz'h (Oct 2014): Israel leading portal websites. Using CSS3 and HTML5 responsive web design and retina ready.",
          "None (None): None",
          "None (None): None",
          "None (None): None",
          "None (None): None",
          "None (None): None",
          "None (None): None",
          "None (None): None",
          "None (None): None",
          "None (None): None",
          "None (None): None",
          "None (None): None",
          "None (None): None",
          "None (None): None",
          "Walla! Cars (Oct 2014): srael leading cars website. Using CSS3 and HTML5 responsive web design and retina ready.",
          "None (None): None",
          "None (None): None",
          "None (None): None",
          "None (None): None",
          "None (None): None",
          "None (None): None",
          "None (None): None",
          "None (None): None",
          "None (None): None",
          "None (None): None",
          "None (None): None",
          "None (None): None",
          "None (None): None",
          "Walla! Entertainment (Oct 2014): Israel leading entertainment website. Using CSS3 and HTML5 responsive web design and retina ready.",
          "None (None): None",
          "None (None): None",
          "None (None): None",
          "None (None): None",
          "None (None): None",
          "None (None): None",
          "None (None): None",
          "None (None): None",
          "None (None): None",
          "None (None): None",
          "None (None): None",
          "None (None): None",
          "None (None): None",
          "Walla! Finance (Oct 2014): Israel leading financial website. Using CSS3 and HTML5 responsive web design and retina ready.",
          "None (None): None",
          "None (None): None",
          "None (None): None",
          "None (None): None",
          "None (None): None",
          "None (None): None",
          "None (None): None",
          "None (None): None",
          "None (None): None",
          "None (None): None",
          "None (None): None",
          "None (None): None",
          "None (None): None",
          "Walla! Healthy (Oct 2014): Israel leading health website. Using CSS3 and HTML5 responsive web design and retina ready.",
          "None (None): None",
          "None (None): None",
          "None (None): None",
          "None (None): None",
          "None (None): None",
          "None (None): None",
          "None (None): None",
          "None (None): None",
          "None (None): None",
          "None (None): None",
          "None (None): None",
          "None (None): None",
          "None (None): None",
          "Walla! Home (Oct 2014): Israel leading home style website. Using CSS3 and HTML5 responsive web design and retina ready.",
          "None (None): None",
          "None (None): None",
          "None (None): None",
          "None (None): None",
          "None (None): None",
          "None (None): None",
          "None (None): None",
          "None (None): None",
          "None (None): None",
          "None (None): None",
          "None (None): None",
          "None (None): None",
          "None (None): None",
          "Walla! Judaism (Oct 2014): Israel leading judaism website. Using CSS3 and HTML5 responsive web design and retina ready.",
          "None (None): None",
          "None (None): None",
          "None (None): None",
          "None (None): None",
          "None (None): None",
          "None (None): None",
          "None (None): None",
          "None (None): None",
          "None (None): None",
          "None (None): None",
          "None (None): None",
          "None (None): None",
          "None (None): None",
          "Walla! News (Oct 2014): Israel leading news website. Using CSS3 and HTML5 responsive web design and retina ready.",
          "None (None): None",
          "None (None): None",
          "None (None): None",
          "None (None): None",
          "None (None): None",
          "None (None): None",
          "None (None): None",
          "None (None): None",
          "None (None): None",
          "None (None): None",
          "None (None): None",
          "None (None): None",
          "Walla! Singles (Oct 2014): Israel leading portal websites. Using CSS3 and HTML5 responsive web design and retina ready.",
          "None (None): None",
          "None (None): None",
          "None (None): None",
          "None (None): None",
          "None (None): None",
          "None (None): None",
          "None (None): None",
          "None (None): None",
          "None (None): None",
          "None (None): None",
          "None (None): None",
          "None (None): None",
          "None (None): None",
          "Walla! Sports (Oct 2014): Israel leading sports website. Using CSS3 and HTML5 responsive web design and retina ready.",
          "None (None): None",
          "None (None): None",
          "None (None): None",
          "None (None): None",
          "None (None): None",
          "None (None): None",
          "None (None): None",
          "None (None): None",
          "None (None): None",
          "None (None): None",
          "None (None): None",
          "None (None): None",
          "None (None): None",
          "None (None): None",
          "Walla! TECH (Oct 2014): Israel leading technology website. Using CSS3 and HTML5 responsive web design and retina ready.",
          "None (None): None",
          "None (None): None",
          "None (None): None",
          "None (None): None",
          "None (None): None",
          "None (None): None",
          "None (None): None",
          "None (None): None",
          "None (None): None",
          "None (None): None",
          "None (None): None",
          "None (None): None",
          "None (None): None",
          "Walla! Travel (Oct 2014): Israel leading travel website. Using CSS3 and HTML5 responsive web design and retina ready.",
          "None (None): None",
          "None (None): None",
          "None (None): None",
          "None (None): None",
          "None (None): None",
          "None (None): None",
          "None (None): None",
          "None (None): None",
          "None (None): None",
          "None (None): None",
          "None (None): None",
          "None (None): None",
          "None (None): None",
          "Walla! ZONE (Oct 2014): Israel leading portal websites. Using CSS3 and HTML5 responsive web design and retina ready.",
          "None (None): None",
          "None (None): None",
          "None (None): None",
          "None (None): None",
          "None (None): None",
          "None (None): None",
          "None (None): None",
          "None (None): None",
          "None (None): None",
          "None (None): None",
          "None (None): None",
          "None (None): None",
          "None (None): None",
          "Walla! ZONE (Oct 2014): Israel leading portal websites. Using CSS3 and HTML5 responsive web design and retina ready.",
          "None (None): None",
          "None (None): None",
          "None (None): None",
          "None (None): None",
          "None (None): None",
          "None (None): None",
          "None (None): None",
          "None (None): None",
          "None (None): None",
          "None (None): None",
          "None (None): None",
          "None (None): None",
          "None (None): None",
          "Walla! Food (Sep 2014): Israel leading food & recipes website. Using CSS3 and HTML5 responsive web design and retina ready.",
          "None (None): None",
          "None (None): None",
          "None (None): None",
          "None (None): None",
          "None (None): None",
          "None (None): None",
          "None (None): None",
          "None (None): None",
          "None (None): None",
          "None (None): None",
          "None (None): None",
          "Walla! Celebs (Aug 2014): Israel leading celebs news website. Using CSS3 and HTML5 responsive web design and retina ready.",
          "None (None): None",
          "None (None): None",
          "None (None): None",
          "None (None): None",
          "None (None): None",
          "None (None): None",
          "None (None): None",
          "None (None): None",
          "None (None): None",
          "None (None): None",
          "None (None): None",
          "Walla! Fashion (Jun 2014): Israel leading fashion news website. Using CSS3 and HTML5 responsive web design and retina ready.",
          "None (None): None",
          "None (None): None",
          "None (None): None",
          "None (None): None",
          "None (None): None",
          "None (None): None",
          "None (None): None",
          "None (None): None",
          "None (None): None",
          "None (None): None",
          "None (None): None",
          "Walla! Mundial 2014 (Jun 2014): View fixtures and coverage information for the World Cup 2014 in Brazil, as well as Live Scores, Results, Group Tables and News.Using CSS3 and HTML5 technologies we made this site responsive and supported by all the most popular devices",
          "None (None): None",
          "None (None): None",
          "None (None): None",
          "None (None): None",
          "None (None): None",
          "Royal-Chef Website (Aug 2013): A VOD website for the Royal-Chef TV showUsing advanced web technology to make it a \"Responsive\" websiteSupported by the most popular devices",
          "None (None): None",
          "None (None): None",
          "None (None): None",
          "None (None): None",
          "None (None): None",
          "None (None): None",
          "None (None): None"
         ],
         null
        ],
        [
         null,
         null
        ],
        [
         null,
         null
        ],
        [
         null,
         null
        ],
        [
         [
          "Makeurbet (Jan 2013 - Present): Makeurbet is social gambling platform, which provide the user gamble on sport game with your friends and people all over the world!",
          "None (None): None",
          "Makeurbet (2013 - Present): Makeurbet is social gambling platform, which provide the user gamble on sport game with your friends and people all over the world!",
          "None (None): None"
         ],
         null
        ],
        [
         null,
         null
        ],
        [
         null,
         null
        ],
        [
         [
          "Shapes on Canvas (Aug 2023 - Aug 2023): Front end challenge - create a Figma like web app",
          "Users and Posts (Jul 2023 - Jul 2023): Full Stack Assignment - Create a web app that displays users and their posts.The data is pulled from multiple sources, either api or db.The data is displayed with pagination and sorting.",
          "SpecBite (Jun 2022 - Jan 2023): This project is a SaaS platform that allows non-technical business owners to specify their software requirements with the help of AI and find suitable software development vendors.The platform includes tools for vendors to estimate each requirement, allowing business owners to better understand the scope and cost of their project. The platform has advanced user management capabilities, allowing business owners to collaborate with multiple vendors and manage their vendor relationships. Additionally, the platform simplifies complex processes, making it easy for non-technical business owners to navigate the software development process. The platform also allows vendors to add results to the requirements, providing greater transparency and accountability in the development process. Overall, this SaaS platform aims to provide a comprehensive solution for the software development process and to help business owners and vendors work together efficiently and effectively. It also helps business owners to make their software development process more predictable and manageable by providing them with an easy-to-use interface that is designed to simplify the complex process of software development.",
          "None (None): None",
          "None (None): None",
          "None (None): None",
          "None (None): None",
          "More than 16 Sites (Jul 2018 - Jan 2022): These projects involve the creation of more than 16 customized e-commerce and personal websites using the WordPress and Shopify platforms.In these projects, I've built a variety of different websites, including e-commerce sites that allow customers to purchase products and services online, and personal sites that showcase an individual or organization's information, portfolio, and blog.Each website was customized to the client's specific needs and preferences, which might include design elements, functionality, and features. The customization process involved using pre-built templates or custom themes, customizing the layout and design using CSS, and adding plugins to extend the functionality of the site.I was responsible for the full development process, including designing, developing, testing, and deploying the websites.Additionally, I provided support and maintenance for these websites after they were launched.",
          "ZoomToText (Dec 2021 - Dec 2021): This project is an automation system that is designed to download meeting recordings from Zoom and send them to an AI transcription engine. The goal is to save the transcribed text in the company's databases for future reference and analysis.The automation system was built to automate the process of downloading meeting recordings from Zoom and sending them to an AI transcription engine. The system is designed to receive requests from a Zoom webhook, to download new meeting recordings. Once the recordings are downloaded, they are sent to the AI transcription engine for processing. The AI transcription engine then generates a transcript of the audio, and then the program is saved to the company's databases.The system was built to improve the efficiency of the company by automating the process of transcribing and saving meeting recordings. With this automation system, the company can easily access and search through meeting recordings in their databases, instead of manually transcribing them. Additionally, the AI transcription engine may improve the accuracy and speed of the transcription process.Overall, this project showcases my ability to design and build automation systems that integrate with other tools and services to improve the efficiency of a business process.",
          "MachineParts (Jul 2021 - Aug 2021): MachineParts (name alias) is a web-based ERP that allows customers to purchase certain parts from a company (B2B).I got this project half-made by another developer and was responsible for completing it.The web app includes several key features that are designed to streamline the company's operations and improve the customer experience:Customer management: A system that allows the company to manage and track customer information, including contact details, order history, and account status.Order management: A system that allows customers to place orders and track the status of their orders. It also allows the company to manage and track orders, including processing payments, updating order status, and generating invoices.Supplier Integration: The application is integrated into a supplier’s APIs, which allows the company to retrieve product information and make orders.Overall, MachineParts is a web application that streamlines the process of purchasing parts from the company, making it more convenient for customers and more efficient for the company. The app's features help the company to manage customer and order information, track inventory levels and connect to vendor's systems, making it a valuable tool.",
          "FastDeliver (May 2019 - May 2019): This project is a plugin for a Magento 2 e-commerce platform, which was developed for a logistics company. The plugin integrates the company's website with an Israeli shipping provider called \"Baldar\" and enables two-way synchronization. This allows the logistics company to manage their deliveries and shipping processes directly from their e-commerce website.The plugin was developed using the Magento framework and the PHP programming language. It allows the logistics company to connect to the Baldar shipping provider's API, and retrieve shipping rates, shipping labels, tracking information, and more. It also allows the logistics company to access and update order information, such as shipping addresses and package dimensions, directly from the Magento 2 platform. This ensures that the logistics company can provide accurate and up-to-date shipping information to their customers.The plugin also enables two-way sync, which means that any changes made in the logistics company's website are automatically updated in the Baldar shipping provider's system, and vice versa. This feature helps the logistics company to keep their shipping information accurate and up-to-date and improves the shipping process. The plugin also allows the logistics company to manage the shipping process, shipping labels and tracking information, directly from the Magento 2 platform, making it a convenient and efficient tool for managing their logistics operations.",
          "eTypeSystems (Oct 2016 - Nov 2017): This project was a comprehensive application that was designed to optimize the workflow of an organization by using advanced artificial intelligence capabilities.The main focus of the application was on audio transcription and data purification. I was responsible for researching, constructing, and deploying the application, which was successfully licensed to Israeli courts, police forces, and intelligence organizations.The application's key features include managing client orders and employee payment calculations based on typing and audio recording. It is connected to an advanced speech recognition engine that supports various languages, including Hebrew, and it works offline using Nuance Communications, Inc. The system was designed to manage workflow and processes, streamline communication, and improve efficiency.It was designed to be easy to use and intuitive for employees, and it was an effective tool for improving organizational productivity.",
          "AWS Authentication (None): AWS Assignment - Create a full authentication array.",
          "NightLife (None): This project is a social network for the nightlife scene. The main focus of the platform is to connect nightlife venues with their patrons, providing a convenient and efficient way for venues to promote their offerings and manage reservations. The app helps users plan their night out, streamline the process of getting into a venue, and make the most of their time.The platform was developed by me with business and product guidance from the team. We had to work together to come up with the idea, design, and development"
         ],
         null
        ],
        [
         null,
         null
        ],
        [
         [
          "Bomberman (None): My lame version to the popular game. I wrote this as final project for course OOP 1 in 2nd year preaty much by myself. Although a lot help from Asher Fisher and Eli Eytan i couldn't implement guards that pursuit the player, so they're just mooving randomly. Also you can't use bombs, or removig rocks, or open presents, and there is no good animation.",
          "Cities Sky Line (None): This is our - me, meir and betsalel margaliot - version of the popular game. this was our final project in OOP 2 course, back in 2nd year",
          "None (None): None"
         ],
         null
        ],
        [
         [
          "Physics Simulator (Aug 2010): A simulator for simple physics (mechanics) problems.The program is intended for high school students and university students.It allows building and visually running simulations of elements such as angles plane, ball, spring, etc.The program was written in WPF.",
          "None (None): None"
         ],
         null
        ],
        [
         null,
         null
        ],
        [
         null,
         null
        ],
        [
         [
          "Device Book (Jul 2013): Application for remote control and device tracking for android based devices.Based on Google GCM, Google MapsV2, KSOAP, TomCat7, MySQL, AXIS2 web services.",
          "None (None): None",
          "None (None): None",
          "Projects Manager (Oct 2012 - Feb 2013): Windows Forms application for Academic projects management.Written in VisualStudio C#. Uses Acess database",
          "None (None): None",
          "None (None): None",
          "None (None): None"
         ],
         null
        ],
        [
         [
          "Fake object (None): https://github.com/orshachar/fake-objectGenerate a fake object from an origin by recursively finding Faker JS best match for property name.",
          "Known-Issue (None): Add a @KnownIssue annotation for TestNg tests that already have a related bug on Jira, and they will be skipped until it is resolved."
         ],
         null
        ],
        [
         null,
         null
        ],
        [
         null,
         null
        ],
        [
         null,
         null
        ],
        [
         null,
         null
        ],
        [
         null,
         null
        ],
        [
         null,
         null
        ],
        [
         null,
         null
        ],
        [
         [
          "Who Killed Rothschild? (Jul 2016): Documentary, directed and edited by me, about the social protests of 2011 in Israel 5 years after.The movie examines the changes following the decisions of the governmental committeethat was founded in order to try and find solutions for many economical issues that occurred in that time, like high food prices and affordable real estate pricing."
         ],
         null
        ],
        [
         [
          "polar+ (None): Project (B.Sc. final) presenting a creative and new approach for shopping on mobile platforms aiming to introduce better conversion rates for mobile retailers.Market and literature surveys, strategy and complex design are all a part of this project.This project is also the winner of the AFEX accelerator (2016)."
         ],
         null
        ],
        [
         null,
         null
        ],
        [
         null,
         null
        ],
        [
         [
          "PelephoneCar (2018): All the information you need about your car – now on your smartphone. Check current location or history of movement. Track driving behavior, get GPS location in real time and also have an overview of every trip the car has made.",
          "None (None): None",
          "None (None): None",
          "None (None): None",
          "None (None): None",
          "BeConnected (None): All the information you need about your car – now on your smartphone. Check current location or history of movement. Track driving behavior, get GPS location in real time and also have an overview of every trip the car has made.",
          "None (None): None",
          "None (None): None",
          "None (None): None",
          "Drivey by Telenor (None): All the information you need about your car – now on your smartphone. Check current location or history of movement. Track driving behavior, get GPS location in real time and also have an overview of every trip the car has made.",
          "None (None): None",
          "None (None): None",
          "None (None): None",
          "None (None): None",
          "Pelephone Cloud (None): Backups and restores mobile contents as Contacts, Messages, Events and Media",
          "None (None): None",
          "None (None): None",
          "None (None): None",
          "None (None): None",
          "None (None): None",
          "Smartfax (Android) (None): Enables to compose and send faxes from your android mobile device.",
          "None (None): None",
          "None (None): None",
          "SmartFax (iOS) (None): Enables to compose and send faxes from your iOS mobile device.",
          "None (None): None",
          "None (None): None"
         ],
         null
        ],
        [
         [
          "CoverTix Smart Solutions (Feb 2010 - Present): SmartCipher™ is a file-level rights management application that secures and monitors confidential documents & sensitive data, by traveling with the file, inside and outside the organization. SmartCipher™ automatically tags digital assets according to file location, content and context, continuously tracking and securing these assets.",
          "None (None): None",
          "None (None): None",
          "None (None): None",
          "None (None): None",
          "None (None): None"
         ],
         null
        ],
        [
         [
          "Globe Philippines launched new multi mvno billing system (Dec 2012 - Sep 2014): None",
          "Number Portability (Jun 2006 - Dec 2007): None",
          "None (None): None"
         ],
         null
        ],
        [
         null,
         null
        ],
        [
         null,
         null
        ],
        [
         null,
         null
        ],
        [
         null,
         null
        ],
        [
         null,
         null
        ],
        [
         null,
         [
          "PLASTIC SOLAR DYE CELLS",
          "SEALS FOR HOLES IN SOLAR CELLS"
         ]
        ],
        [
         [
          "S2 Utilities (Dec 2017): This projects aims at providing a set of tools to make working with geospatial objects quick and painless. These tools were designed with S2 objects (Google's \"geometry on a sphere\" abstractions) in mind as the leading data structure to be used when working with geospatial data.",
          "Spark-Betweenness (Mar 2016): A novel distributed implementation for: k Betweenness Centrality (kBC) algorithm for Spark using GraphX.",
          "R Deepboost Modeling (Feb 2016): Provides deepboost models training, evaluation, predicting and hyper parameter optimising using grid search and cross validation.Based on Google's Deep Boosting algorithm by Cortes et al.",
          "Waze Motorcycle Mode (Aug 2017 - Dec 2017): Waze's motorcycle navigation mode - creating a new route recommendation mechanism and ETA prediction models specialised for motorcycle drives."
         ],
         null
        ],
        [
         null,
         null
        ],
        [
         null,
         null
        ],
        [
         null,
         null
        ],
        [
         [
          "youtube-util (Feb 2017 - Present): Javascript cmd utility tool for searching & downloading from youtube Github: https://github.com/galrettig/youtube-search-download",
          "Xchange (Feb 2015): Upcoming joined venture :)",
          "None (None): None",
          "None (None): None",
          "Askourt (Jun 2014 - Present): None",
          "None (None): None",
          "None (None): None",
          "None (None): None"
         ],
         null
        ],
        [
         null,
         null
        ],
        [
         null,
         null
        ],
        [
         null,
         null
        ],
        [
         null,
         null
        ],
        [
         null,
         null
        ],
        [
         null,
         null
        ],
        [
         null,
         null
        ],
        [
         [
          "Attribute Based Broadcast Encryption With Permanent Revocation (Sep 2011 - Aug 2012): Establishment of television distribution network where the content is being protected using symmetric encryption. The symmetric key is secured using attributes based encryption mechanism that is using a public key that enables the existence of additional content distributors. The network will be a fully collusion resistance against attackers that wishes to obtain the private key.",
          "None (None): None",
          "P2P UDP chat with TCP WEB (Feb 2011 - Mar 2011): This feature is the chat between users on the network, using the IP address to connect primary and with several commands to a conversation between users. The program will write in multithreads where each thread has its own purpose and existence of chat management.",
          "Develop mini operator system with implementation of Task Scheduler and Threads. (C Linux). (None): Develop mini operator system with implementation of Task Scheduler and Threads. (C Linux). implement Scheduler for type of messages, implement queue of messages FIFO or with priority."
         ],
         null
        ],
        [
         null,
         [
          "Custom emoticon generation",
          "Systems and methods for animated clip generation",
          "Shared scene mosaic generation"
         ]
        ],
        [
         null,
         null
        ],
        [
         null,
         null
        ],
        [
         null,
         null
        ],
        [
         null,
         null
        ],
        [
         null,
         null
        ],
        [
         null,
         null
        ],
        [
         null,
         null
        ],
        [
         null,
         null
        ],
        [
         null,
         null
        ],
        [
         null,
         null
        ],
        [
         null,
         null
        ],
        [
         [
          "Studio Grade Speakers (Feb 2013 - Mar 2014): This project included the design and construction of 2-WAY amplified speakers suitable for studio applications, means a flat frequency response. The project combined knowledge of acoustics, electronics as well as soldering and wood working.The overall score for the project is 95",
          "Audio Source Separation with Parallel U-net Structure (None): In this work, we accept the challenge of separating original musical instruments and a human vocals from their one chunnel mixture. This problem known as blind source separation (BSS). We combined tow suggested solution for the problem. One takes the U-net architecture usually used for image augmentation and the other uses recurrent neural network for enhance the separated data. We used the data to create new loss that take into account the mixture in addition to the individual channels.",
          "Binary Segmentation For Low Resolution Biology Data Sample Based On Deep Neural Networks Model (None): In this work, we explore the use of well known image segmentation methods in the domain of deep learning as a solution for using our specific setup in a particular problem of detecting the bone marrow aspiration (BMA) analytical areas on a data slide from peripheral image.",
          "Overparameterization For Acceleration (None): Pytorch implementartion and further experiments of the article On the Optimization of Deep Networks: Implicit Acceleration by Overparameterization \\ Sanjeev Arora, Nadav Cohen, Elad Hazan"
         ],
         null
        ],
        [
         null,
         null
        ],
        [
         null,
         null
        ],
        [
         null,
         null
        ],
        [
         null,
         null
        ],
        [
         null,
         null
        ],
        [
         null,
         null
        ],
        [
         [
          "Kaggle - Generative Dog Images (Jun 2019 - Sep 2019): Finished in the 25th place out of 950 participants and won a silver medal on a GAN algorithm challenge. In this competition we implemented various GAN techniques using PYTORCH, conducted experiments to tailor the solution to our problem, and engaged with the Kaggle community through sharing open source code.Linkdin post: https://www.linkedin.com/feed/update/urn:li:activity:6574990575186124800/",
          "RSIP VISION - Computer Vision seminar at the Hebrew University of Jerusalem (Jan 2019 - Apr 2019): I won the best solution on a cell segmentation challenge at the end of the RSIP VISION seminar, held at the Hebrew University of Jerusalem."
         ],
         null
        ],
        [
         null,
         null
        ],
        [
         null,
         null
        ],
        [
         null,
         null
        ],
        [
         null,
         null
        ],
        [
         null,
         null
        ],
        [
         null,
         null
        ],
        [
         null,
         null
        ],
        [
         null,
         null
        ],
        [
         null,
         null
        ],
        [
         null,
         null
        ],
        [
         null,
         null
        ],
        [
         null,
         null
        ],
        [
         null,
         null
        ],
        [
         null,
         null
        ],
        [
         null,
         null
        ],
        [
         [
          "Earthquake prediction (Apr 2019 - Present): Forecasting earthquakes is one of the most important problems in Earth science because of their devastating consequences. The goal of this project is to use seismic signals to predict the timing of laboratory earthquakes. The data comes from a well-known experimental set-up used to study earthquake physics. The acoustic_data input signal is used to predict the time remaining before the next laboratory earthquake (time_to_failure).",
          "NLP - analyzing tweets (Jun 2019 - Jun 2019): Twitter has played an increasingly prominent role in the 2016 US Presidential Election. Debates have raged and candidates have risen and fallen based on tweets. The dataset provides recent tweets from Hillary Clinton and Donald Trump, the two major-party presidential nominees.implemented a program where computer plays vs user trying to guess who tweets.Link:https://github.com/shaharmargulis/NLP-Trump-Clinton-Tweets/blob/master/TrumpClintonGame.mp4",
          "New york taxi fare prediction (Mar 2019 - Mar 2019): Using regression algorithm to predict taxi fare based on various features.",
          "New york taxi tip prediction (Mar 2019 - Mar 2019): Using different machine learning classification algorithm to predict if tip was given based on various features",
          "NBA shots exploratory data analysis (Nov 2018 - Nov 2018): EDA on NBA shots data taken during the 2014-2015 season, who took the shot, where on the floor was the shot taken from, who was the nearest defender, how far away was the nearest defender, time on the shot clock, and much more.In addition used web scraping libraries to scrap players details.Main goal is to gain initial insights on the parameters that affect the shooting percentage in a basketball game according to various parameters:¶*Physical players skills parameters: Player Height, Players Strong shooting Hand, position*Technical shot skills parameters: Shooting quickness,Shot off dribble, Shot distance*Mental skills parameters: Money time shots, shot clock time,shot after sequence of shots made,shot after sequence of shots miss*Defenders skills parameters: Defenders Height, Defenders Strong shooting Hand , Defenders from shooter*Court parameters: Crowd (Home or Away Game) Link to presentation:https://github.com/shaharmargulis/Exploratory-Data-Analysis-NBA-shots/blob/master/Nba%20Shots%20Log%20EDA%20Presentation.ipynb"
         ],
         null
        ],
        [
         null,
         null
        ],
        [
         null,
         null
        ],
        [
         null,
         null
        ],
        [
         null,
         null
        ],
        [
         null,
         null
        ],
        [
         null,
         null
        ],
        [
         null,
         null
        ],
        [
         null,
         null
        ],
        [
         null,
         null
        ],
        [
         null,
         null
        ],
        [
         null,
         null
        ],
        [
         null,
         null
        ],
        [
         null,
         null
        ],
        [
         null,
         null
        ],
        [
         null,
         null
        ],
        [
         null,
         null
        ],
        [
         null,
         null
        ],
        [
         null,
         null
        ],
        [
         null,
         null
        ],
        [
         null,
         null
        ],
        [
         null,
         null
        ],
        [
         [
          "Blind Keyboard (Jan 2010): None",
          "Fire fighting Home Robot (Apr 2008): None",
          "Secure web site (Aug 2016 - Sep 2016): Secure bank website, handling owasp top 10."
         ],
         null
        ],
        [
         null,
         null
        ],
        [
         null,
         null
        ],
        [
         null,
         null
        ],
        [
         null,
         null
        ],
        [
         null,
         null
        ],
        [
         null,
         null
        ],
        [
         null,
         null
        ],
        [
         null,
         null
        ],
        [
         null,
         null
        ],
        [
         null,
         null
        ],
        [
         null,
         null
        ],
        [
         null,
         null
        ],
        [
         null,
         null
        ],
        [
         null,
         null
        ],
        [
         null,
         null
        ],
        [
         null,
         null
        ],
        [
         null,
         null
        ],
        [
         null,
         null
        ],
        [
         null,
         null
        ],
        [
         null,
         null
        ],
        [
         null,
         null
        ],
        [
         null,
         null
        ],
        [
         null,
         null
        ],
        [
         null,
         null
        ],
        [
         null,
         null
        ],
        [
         null,
         null
        ],
        [
         null,
         null
        ],
        [
         null,
         null
        ],
        [
         null,
         null
        ],
        [
         null,
         null
        ],
        [
         null,
         null
        ],
        [
         null,
         null
        ],
        [
         null,
         [
          "System and method for probe injection for code coverage",
          "SYSTEM AND METHOD FOR PROBE INJECTION FOR CODE COVERAGE",
          "SYSTEM AND METHOD FOR TEST SELECTION ACCORDING TO TEST IMPACT ANALYTICS",
          "System and method for test selection according to test impact analytics"
         ]
        ],
        [
         null,
         null
        ],
        [
         null,
         null
        ],
        [
         null,
         null
        ],
        [
         null,
         null
        ],
        [
         null,
         null
        ],
        [
         [
          "The Israeli Presidential Conference 2012 (Jun 2012 - Jun 2012): Worked on a team of three managing social media presence for 4th annual Israeli Presidential Conference (Facebook, Twitter, Instagram). Live-streamed content on behalf of international thought leaders (Shimon Peres, Eric Schmidt, Yuri Milner, Yossi Vardi, Tony Blair, Henry Kissinger)",
          "None (None): None",
          "None (None): None"
         ],
         null
        ],
        [
         null,
         null
        ],
        [
         [
          "kysely (Jul 2022): An open source type-safe SQL query builder for TypeScript, that I contribute to and help maintain. Over 8k Github stars and 150k weekly NPM downloads as of 14.12.23.",
          "mviwo. (Nov 2017 - Aug 2018): grad project, grade: 100client: National university of Taiwan, College of Medicine. mission: health records management in challenging environments. provide a fully configurable examinations agenda and allow on-demand updating of results. tools / technology / languages used: angular 6 (inc. CLI, material, PWA), node.js, express.js, mongodb (incl. atlas & compass), mongoose.js, bootstrap, npm, docker, heroku, mocha.js, axios.js, SCSS, CSS, HTML, git (github, GitKraken), visual studio code, nodemon.",
          "Web-based Visualization of NBA player transactions during the 2016/17 regular season. (Jul 2017 - Jul 2017): project in information visualization course, grade: 100.Top of the class.shows the transactions using a force directed graph, and players' statistics using a set of bullet charts. allows filtering by player, team and/or month.tools / technology / languages used: d3.js, jQuery, javascript, HTML5, CSS3, bootstrap, underscore.js, atom, XAMPP.report (hebrew):https://drive.google.com/open?id=0B8TQNbdnlCiYVGZDU1VJMDAwZms"
         ],
         null
        ],
        [
         null,
         null
        ],
        [
         null,
         null
        ],
        [
         null,
         null
        ],
        [
         null,
         null
        ],
        [
         [
          "Gravité (None): Intoducing Gravité. Showcasing Particle's new cologne for men and its ingredients.",
          "Gravite Production Line (None): None"
         ],
         null
        ],
        [
         null,
         null
        ],
        [
         null,
         null
        ],
        [
         null,
         null
        ],
        [
         null,
         null
        ],
        [
         null,
         null
        ],
        [
         null,
         null
        ],
        [
         null,
         null
        ],
        [
         null,
         null
        ],
        [
         null,
         null
        ],
        [
         [
          "Stuff on Github (Nov 2007 - Present): None"
         ],
         null
        ],
        [
         null,
         null
        ],
        [
         null,
         null
        ],
        [
         null,
         null
        ],
        [
         null,
         null
        ],
        [
         null,
         null
        ],
        [
         null,
         null
        ],
        [
         null,
         null
        ],
        [
         null,
         null
        ],
        [
         null,
         null
        ],
        [
         null,
         null
        ],
        [
         null,
         null
        ],
        [
         null,
         null
        ],
        [
         null,
         null
        ],
        [
         null,
         null
        ],
        [
         null,
         null
        ],
        [
         null,
         null
        ],
        [
         null,
         null
        ],
        [
         null,
         null
        ],
        [
         null,
         null
        ],
        [
         null,
         null
        ],
        [
         null,
         null
        ],
        [
         null,
         null
        ],
        [
         null,
         null
        ],
        [
         null,
         null
        ],
        [
         null,
         null
        ],
        [
         null,
         null
        ],
        [
         null,
         null
        ],
        [
         null,
         null
        ],
        [
         null,
         null
        ],
        [
         null,
         [
          "Business action based fraud detection system and method"
         ]
        ],
        [
         null,
         null
        ],
        [
         null,
         null
        ],
        [
         null,
         null
        ],
        [
         null,
         null
        ],
        [
         null,
         null
        ],
        [
         null,
         null
        ],
        [
         [
          "🤖 Cybogram (Jul 2019 - Present): An open-source Python- and Selenium-based Instagram bot",
          "3DEngine (May 2019 - Present): My custom-made C++14 3D graphics engine using libgraph on Linux.Testing performed using integrated Google Test testing suite.",
          "Efficient Restoration By Compression (Mar 2019 - Jun 2019): A C++11, MATLAB, and OpenCV powered project presenting a modular and efficient C++ implementation of a novel, state-of-the-art signal compression approach that utilizes standard, off-the-shelf signal compression methods.Supervised by Yehuda Dar, Ph.d.Geometric Image Processing (GIP) laboratory, Faculty of Computer Science, Technion IIT.",
          "None (None): None",
          "None (None): None",
          "None (None): None",
          "Kyoob (Aug 2018 - Oct 2018): A Unity and C# powered Android game live on the Google Play Store"
         ],
         null
        ],
        [
         null,
         null
        ],
        [
         null,
         null
        ],
        [
         null,
         null
        ],
        [
         null,
         null
        ],
        [
         null,
         null
        ],
        [
         null,
         null
        ],
        [
         null,
         null
        ],
        [
         null,
         null
        ],
        [
         null,
         null
        ],
        [
         null,
         null
        ],
        [
         [
          "Flutter Expenses App (Nov 2019 - Present): Flutter Expenses app (Android & iOS) using Flutter & Dart",
          "Fitness Angular App (Nov 2019 - Jan 2020): Fitness Angular based app using angular material, firebase, NgRx",
          "Clothes Shop React app (Jul 2019 - Oct 2019): None"
         ],
         null
        ],
        [
         null,
         null
        ],
        [
         null,
         null
        ],
        [
         null,
         null
        ],
        [
         null,
         null
        ],
        [
         null,
         null
        ],
        [
         null,
         [
          "Apparatus and methods for improving sensory nerve sensitivity",
          "Apparatus for applying an electrical signal to a subject",
          "Apparatus for providing pain relief therapy",
          "Pain relief therapy",
          "Specialized memory device",
          "System Circuit Method for Utilizing Digital Memory Associated with a Host Device for Received Data",
          "System and Method for Mitigating Memory Requirements",
          "Treatment of Headaches by Electrical Stimulation"
         ]
        ],
        [
         null,
         null
        ],
        [
         null,
         null
        ],
        [
         null,
         null
        ],
        [
         null,
         null
        ],
        [
         null,
         null
        ],
        [
         null,
         null
        ],
        [
         null,
         null
        ],
        [
         null,
         null
        ],
        [
         null,
         null
        ],
        [
         [
          "raml - An implementation of a RAML parser for Go (Dec 2014): Compliant with RAML 0.8. Developed as part of a 2014 EverythingMe hackathon.",
          "None (None): None"
         ],
         [
          "Transferring multimedia content"
         ]
        ],
        [
         null,
         null
        ],
        [
         null,
         null
        ],
        [
         null,
         null
        ],
        [
         [
          "Weather-App - Angular7, ngrx store. (Sep 2019): Weather app in Angular ,can search for every city in the world and displays the current weather and 5 days forecast. Can also save city in favorites with NgRx store.Using AccuWeather API.",
          "Book Store  (Sep 2018 - Present): A bookStrore application made with Angular and Firebase 🔥👨‍💻"
         ],
         null
        ],
        [
         null,
         null
        ],
        [
         null,
         null
        ],
        [
         null,
         null
        ],
        [
         null,
         null
        ],
        [
         [
          "Fundraising for Covid-19 departments at Soroka Hospital (Mar 2021 - Apr 2021): To glorify the medical teams in the Covid-19 wards at Soroka Hospital in Be'er Sheva. I raised funds for pampering meals for the heroic medical teams that worked harder than usual during the pandemic.",
          "Fundraising for a person with cerebral palsy (Jul 2016 - Aug 2016): Fundraising 15,000₪ for a person with cerebral palsy.Fundraising for an inspiring person who, against all odds, is completing his master's degree in social work and needs to use the money to hire paid assistants to finish his degree."
         ],
         null
        ],
        [
         null,
         null
        ],
        [
         [
          "Touchscreen Input Method for Users with Hand Tremor (Jun 2015): As touch sensitive screens become more ubiquitous, impediments to their use have more debilitating implications. An example of such an impediment is muscular tremor, such as experienced by people with Parkinson's disease, CP, or MS. Muscle tremors can affect users'​ ability to accurately manipulate icons, leading to frustration and lost productivity.This project seeks to build a prototype User Interface (UI) for use with touch-sensitive screens, which will accept tremor-affected input, and use it to deduce the user's intended input, using machine learning and signal processing techniques to neutralize the effect of the tremor on the usage patterns."
         ],
         null
        ],
        [
         null,
         null
        ],
        [
         null,
         null
        ],
        [
         null,
         null
        ],
        [
         null,
         null
        ],
        [
         [
          "Machine Learning & NLP | INTEL (Jan 2021 - Oct 2021): • Data analyzing using various Python libraries including NLP.• Creation of Machine learning algorithm to predict validity of reports.• Analyze of results in order to get to a conclusion about report users"
         ],
         null
        ],
        [
         null,
         null
        ],
        [
         [
          "Public MarTech GitHup Repository (Jan 2017 - Present): None"
         ],
         null
        ],
        [
         null,
         null
        ],
        [
         null,
         null
        ],
        [
         null,
         null
        ],
        [
         null,
         null
        ],
        [
         null,
         null
        ],
        [
         null,
         null
        ],
        [
         null,
         null
        ],
        [
         null,
         null
        ],
        [
         null,
         null
        ],
        [
         null,
         null
        ],
        [
         null,
         null
        ],
        [
         null,
         null
        ],
        [
         null,
         null
        ],
        [
         null,
         null
        ],
        [
         null,
         null
        ],
        [
         null,
         null
        ],
        [
         null,
         null
        ],
        [
         null,
         null
        ],
        [
         null,
         null
        ],
        [
         null,
         null
        ],
        [
         null,
         null
        ],
        [
         null,
         null
        ],
        [
         null,
         null
        ],
        [
         null,
         null
        ],
        [
         null,
         null
        ],
        [
         null,
         null
        ],
        [
         null,
         [
          "Extracting Content from Speech Prosody"
         ]
        ],
        [
         null,
         null
        ],
        [
         null,
         null
        ],
        [
         null,
         null
        ],
        [
         null,
         null
        ],
        [
         null,
         null
        ],
        [
         null,
         null
        ],
        [
         null,
         null
        ],
        [
         [
          "Visa CAL Israel - NetIQ-Microfocus- Identity Management Project (May 2011 - Present): Identity Management Project for a leading financial organization in Israel. The project includes:* Development and customization of many Workflows designed step-by-step with the financial client and for its specific requirements.* Development of new Drivers and Policies (JDBC, Oracle, AD, Unix, etc..) and taking care by real-time debugging for existing Drivers as well.* Upgrading the old infrastructure of the IDM product (Novell Identity Manager 3.6.1) to the newest version on the market - the Novell Identity Manager 4.0.1 with all of its new modules.* Administration & Maintenance of the entire eDirectory infrastructure and all of IDM Drivers, Workflows, JOB's and system components .",
          "None (None): None",
          "None (None): None",
          "Visa CAL Israel - Novell-NetIQ Identity Management Project (May 2007 - Present): Identity Management Project for a big financial organization in Israel. The project includes:* Development and customization of many Workflows designed step-by-step with the financial client and for its specific requirements.* Development of new Drivers and Policies (JDBC, Oracle, AD, Unix, etc..) and taking care by real-time debugging for existing Drivers as well.* Upgrading the old infrastructure of the IDM product (Novell Identity Manager 3.6.1) to the newest version on the market - the Novell Identity Manager 4.0.1 with all of its new modules.* Administration & Maintenance of the entire eDirectory infrastructure and all of IDM Drivers, Workflows, JOB's and system components .",
          "None (None): None",
          "None (None): None",
          "Role Based Access Control for a leading Credit Card Company (Jan 2012 - Dec 2014): Automation of employees' onboarding, employees' changes, and organizational changes yielded a VERY FAST SLA (minutes to a full set of accounts and entitlements), higher satisfaction and eliminating the need for complex approval workflows. It took 3 years to go over all the departments and to complete the role mining and certification processes. We have had an immediate ROI after starting with our service organization where bulks of employees join, go through courses and shift teams. From a very intensive manual labor of few employees in 3-4 teams, the process now takes minutes to complete and involves only 1 admin to complete 1 unmanaged system.A year later we see a much calmer and more efficient environment.But it requires a hand on the wheel to implement and manage the on-going operation."
         ],
         [
          "System and method for energy and assets saving and for improving ownership and sustainability awareness",
          "System and Method for Energy and Assets Saving and for Improving Ownership and Sustainability Awareness"
         ]
        ],
        [
         null,
         null
        ],
        [
         null,
         [
          "Methods and Systems for Trusted Unknown Malware Detection and Classification in Linux Cloud Environments"
         ]
        ],
        [
         null,
         null
        ],
        [
         null,
         null
        ],
        [
         [
          "Home Tech City Farm (Jul 2018 - Aug 2022): Home Tech City Farm controlled environment agriculture technology platform that uses robotic systems to control and monitor climate, energy, and plant growth inside the hydroponic system. The main idea is to create open source dosing & managing system that can be made from easily accessible hydroponic components. We want to create basic platform for home tech farmers with a broad spectrum of skills, resources, and interests can build, modify, share, and upgrade over time. Build instructions, design files, and helpful resources for all our Home Tech City Farm ecosystem.",
          "Two Side Marketplace B2B (Dec 2013 - Dec 2014): Co-Founder.Personal Project. Development of Two-Side Marketplace B2B platform in the field of collaborative economy.We received a proposal from WADI Ventures for financing pre seed round.",
          "Virtual Marketplace B2B (May 2013 - Dec 2013): Founder.Personal Project. In 2013 I won 3rd place in the competition for writing \"business plan\" in Bengis, Ben-Gurion University. Business plan talks about the development of Virtual Marketplace B2B platform.We received a proposal from WADI Ventures for financing pre seed round.",
          "Ultra - sound for Smartphones (Mar 2012 - Jun 2012): Founder.Personal Project. I was designed an ultra - sound wide use system for Smartphones for ordinary users (not doctors) at a lower cost with cooperation Prof. Relly Hershkovitz, Director of the Women's Ultrasound Unit in the Obstetrics and Gynecology Department at Soroka Medical Center."
         ],
         null
        ],
        [
         null,
         null
        ],
        [
         null,
         null
        ],
        [
         [
          "Nand2Tetris Computer & Compiler (Jul 2020 - Oct 2020): Built a computer system from the ground up, including a Jack compiler and a Hack computer.",
          "Code Project Detection Algorithm Hackathon (Jun 2020 - Jun 2020): Developed a classifier that distinguishes between given coding projects using machine learning algorithms (Python)."
         ],
         null
        ],
        [
         null,
         null
        ],
        [
         null,
         null
        ],
        [
         null,
         null
        ],
        [
         null,
         null
        ],
        [
         null,
         null
        ],
        [
         null,
         null
        ],
        [
         null,
         null
        ],
        [
         null,
         null
        ],
        [
         null,
         null
        ],
        [
         null,
         null
        ],
        [
         null,
         null
        ],
        [
         null,
         null
        ],
        [
         null,
         null
        ],
        [
         null,
         null
        ],
        [
         [
          "Hyperthermia Ultrasound Translation System, Senior Design Project II (Dec 2012 - Mar 2013): •Maintain progression through creation of schedule and close monitoring of completion of goals•Present project goals and progressions to peers, instructor, and advisor•Maintain budget of $2000 to be spent only as needed•Design and fabricate prototype translation system to specific operating parameters within a small team",
          "None (None): None",
          "None (None): None"
         ],
         null
        ],
        [
         null,
         null
        ],
        [
         null,
         null
        ],
        [
         null,
         null
        ],
        [
         [
          "apartments-finder (None): How do you search for apartments to rent today?I'm excited to share my first project with all of you that might solve this problem! Today there are many Facebook posts about available apartments to rent.When looking for one in those groups, you go through the same process - Searching in each group you are familiar with, and manually checking whether the apartment is suitable to your needs.This project does this process automatically and can help you find your next ideal apartment!This project - - Scrapes data from Facebook rental groups - Extracts details through #openai Function Calling API - Filters them by a set of easily defined rules - Sends selected apartments to a chosen Telegram groupThe #openai Function Calling API saves all the trouble from writing a custom logic that parses the needed details from each post (E.g. - how to extract the number of rooms written in the post? Will it be a number? will it be \"3 rooms\"?) and I recommend giving it a try with other use cases you may encounter."
         ],
         null
        ],
        [
         null,
         null
        ],
        [
         [
          "Weapon Detection Using Transfer Learning (Dec 2021 - Jan 2022): In this project we attempt to use a YOLOv5 model to detect weapons in various scenarios.We use Transfer-Learning by performing additional training on a pre-trained network, using the new dataset, to achieve this task.This is a class project as part of EE046211 - Deep Learning course @ Technion.",
          "None (None): None",
          "Final Project A - Detecting autism in mice by analyzing their squeaks (Aug 2021 - Dec 2021): Final Project as part of EE B.Sc @ Signal and Image Processing Lab (SIPL), Technion.Detecting ASD (autism spectrum disorder) symptoms in mice using analysis of recordings of their squeaks through Audio Signal Processing and Machine Learning algorithms.Part of a research by Hava Golan and Dror Lederman.In cooperation with Alon Schreuer.Project page on the SIPL website: https://sipl.eelabs.technion.ac.il/projects/recognizing-autism-in-mice-by-analyzing-their-squeaks/",
          "FIRE TROUBLE - FPGA Game Design (Mar 2019 - Jun 2019): - SystemVerilog- VGA interface"
         ],
         null
        ],
        [
         null,
         [
          "Incorporation of semantic information in simultaneous localization and mapping",
          "Apparatus and method for surface traversing with capacitive sensing of surface",
          "Electromagnetic probes (EM), methods for using such EM probes and systems using such EM electromagnetic probes",
          "Location Aware Neural Network",
          "Controlling electromagnetic (em) transmission based on pressure parameters"
         ]
        ],
        [
         null,
         null
        ],
        [
         null,
         null
        ],
        [
         null,
         null
        ],
        [
         [
          "Android Application - Book Shop (Client+Server) (None): B.Sc Final Project – commerce system implemented as an Android app, Java-Server, and SQL database (MVC architecture).",
          "Font Recognition System (None): M.Sc Computer Vision Project – recognize text font from images using machine learning, image processing and computer vision techniques. Main Python packages: cv2, numpy, scipy, sklearn, pandas, matplotlib and more."
         ],
         null
        ],
        [
         null,
         [
          "Systems and methods for assessing partial impulsivity in virtual or augmented reality",
          "Remote virtual and augmented reality monitoring and control systems",
          "Assessing postural sway in virtual or augmented reality",
          "Systems and methods for assessment and measurement of reaction time in virtual/augmented reality",
          "Systems for dynamic assessment of upper extremity impairments in virtual/augmented reality"
         ]
        ],
        [
         null,
         null
        ],
        [
         null,
         null
        ],
        [
         [
          "Bias programming in TLC Flash cells (May 2019 - Nov 2020): Flash-based storage has become the standard storage in computing devices today. It has become popular thanks to its fast-random access, light weight, low energy consumption, and increasingly large capacity. However, flash memories have a much shorter lifespan than other storage devices.We researched and developed a method to optimize the lifespan of the TLC SSD chip while slightly reducing it's storage capacity. This method & the code can be applied on future SSD arch",
          "None (None): None",
          "Golden Authority (Mar 2020 - Oct 2020): The Golden Authority Project helps the non-profit organization \"Lev-Hash\" in Haifa to manage the \"והדרת בדרכך\" project - where inspectors visit seniors every week during their scheduled patrols as part of community service.This Android app, provides managing support - registration, reporting, monitoring etc. for both inspectors volunteering and their coordinators in the Lev-Hash organization.**In order to protect app's users privacy this project is private, access can be given by a request.Watch the article on \"כאן 11\" about the project and the app:https://www.youtube.com/watch?v=ty3mpASLFHY&t=1s",
          "None (None): None",
          "None (None): None",
          "Efraim - the autonomous 3d printed fruit picking robot (Feb 2020 - Jun 2020): Efraim is a 3D printed robot integrated with intel's depth camera. Efraim uses both the real-time image processing segmentation algorithm called YOLACT (based on YOLO) developed in MIT & the intel's depth camera to identify fruit & locate it. Efraim then uses inverse kinematics & Arduino to pick the fruitGitHub: https://github.com/jjgershon/robtic_arm_YOLACT_Arduino_Depth_camerawatch the project in this short summary video we prepared: https://www.youtube.com/watch?v=ZvZcOOxREEY",
          "None (None): None"
         ],
         null
        ],
        [
         null,
         null
        ],
        [
         null,
         null
        ],
        [
         [
          "Bank Leumi (May 2014): Bank Leumi, the oldest bank in Israel, have decided to switch his systems to Salesforce CRM Platform in a long wide spread project.",
          "None (None): None",
          "None (None): None",
          "None (None): None",
          "None (None): None",
          "None (None): None",
          "Delek Europe (None): None"
         ],
         null
        ],
        [
         null,
         null
        ],
        [
         null,
         null
        ],
        [
         null,
         null
        ],
        [
         null,
         null
        ],
        [
         null,
         null
        ],
        [
         [
          "Lomography @ TLV FW (Nov 2012 - Nov 2012): Tel-Aviv Fashion Week seen through a lomographic lense",
          "None (None): None",
          "None (None): None"
         ],
         null
        ],
        [
         null,
         null
        ],
        [
         null,
         null
        ],
        [
         [
          "Walla! Mail (Jul 2015): New Walla! Mail website. Using CSS3 and HTML5 responsive web design and retina ready. Advanced JavaScript implementations we provide better user experience and usability.",
          "None (None): None",
          "None (None): None",
          "None (None): None",
          "Walla! Homepage (Jan 2015): Israel's leading news portal. Using HTML5 and CSS3 responsive and retina ready design, Advanced JavaScript implementations we provide better user experience and usability.The new design provides the user all information on any device and any screen size and orientation.",
          "None (None): None",
          "None (None): None",
          "None (None): None",
          "None (None): None",
          "None (None): None",
          "None (None): None",
          "None (None): None",
          "None (None): None",
          "None (None): None",
          "None (None): None",
          "Walla! Brnz'h (Oct 2014): Israel leading portal websites. Using CSS3 and HTML5 responsive web design and retina ready.",
          "None (None): None",
          "None (None): None",
          "None (None): None",
          "None (None): None",
          "None (None): None",
          "None (None): None",
          "None (None): None",
          "None (None): None",
          "None (None): None",
          "None (None): None",
          "None (None): None",
          "None (None): None",
          "None (None): None",
          "Walla! Cars (Oct 2014): Israel leading cars website. Using CSS3 and HTML5 responsive web design and retina ready.",
          "None (None): None",
          "None (None): None",
          "None (None): None",
          "None (None): None",
          "None (None): None",
          "None (None): None",
          "None (None): None",
          "None (None): None",
          "None (None): None",
          "None (None): None",
          "None (None): None",
          "None (None): None",
          "None (None): None",
          "Walla! Entertainment (Oct 2014): Israel leading entertainment website. Using CSS3 and HTML5 responsive web design and retina ready.",
          "None (None): None",
          "None (None): None",
          "None (None): None",
          "None (None): None",
          "None (None): None",
          "None (None): None",
          "None (None): None",
          "None (None): None",
          "None (None): None",
          "None (None): None",
          "None (None): None",
          "None (None): None",
          "None (None): None",
          "Walla! Finance (Oct 2014): Israel leading financial website. Using CSS3 and HTML5 responsive web design and retina ready.",
          "None (None): None",
          "None (None): None",
          "None (None): None",
          "None (None): None",
          "None (None): None",
          "None (None): None",
          "None (None): None",
          "None (None): None",
          "None (None): None",
          "None (None): None",
          "None (None): None",
          "None (None): None",
          "None (None): None",
          "Walla! Healthy (Oct 2014): Israel leading health website. Using CSS3 and HTML5 responsive web design and retina ready.",
          "None (None): None",
          "None (None): None",
          "None (None): None",
          "None (None): None",
          "None (None): None",
          "None (None): None",
          "None (None): None",
          "None (None): None",
          "None (None): None",
          "None (None): None",
          "None (None): None",
          "None (None): None",
          "None (None): None",
          "Walla! Home (Oct 2014): Israel leading home style website. Using CSS3 and HTML5 responsive web design and retina ready.",
          "None (None): None",
          "None (None): None",
          "None (None): None",
          "None (None): None",
          "None (None): None",
          "None (None): None",
          "None (None): None",
          "None (None): None",
          "None (None): None",
          "None (None): None",
          "None (None): None",
          "None (None): None",
          "None (None): None",
          "None (None): None",
          "Walla! Judaism (Oct 2014): Israel leading judaism website. Using CSS3 and HTML5 responsive web design and retina ready.",
          "None (None): None",
          "None (None): None",
          "None (None): None",
          "None (None): None",
          "None (None): None",
          "None (None): None",
          "None (None): None",
          "None (None): None",
          "None (None): None",
          "None (None): None",
          "None (None): None",
          "None (None): None",
          "None (None): None",
          "Walla! News (Oct 2014): Israel leading News website. Using CSS3 and HTML5 responsive web design and retina ready.",
          "None (None): None",
          "None (None): None",
          "None (None): None",
          "None (None): None",
          "None (None): None",
          "None (None): None",
          "None (None): None",
          "None (None): None",
          "None (None): None",
          "None (None): None",
          "None (None): None",
          "None (None): None",
          "Walla! Singles (Oct 2014): Israel leading portal websites. Using CSS3 and HTML5 responsive web design and retina ready.",
          "None (None): None",
          "None (None): None",
          "None (None): None",
          "None (None): None",
          "None (None): None",
          "None (None): None",
          "None (None): None",
          "None (None): None",
          "None (None): None",
          "None (None): None",
          "None (None): None",
          "None (None): None",
          "None (None): None",
          "Walla! Sports (Oct 2014): Israel leading sports website. Using CSS3 and HTML5 responsive web design and retina ready.",
          "None (None): None",
          "None (None): None",
          "None (None): None",
          "None (None): None",
          "None (None): None",
          "None (None): None",
          "None (None): None",
          "None (None): None",
          "None (None): None",
          "None (None): None",
          "None (None): None",
          "None (None): None",
          "None (None): None",
          "None (None): None",
          "None (None): None",
          "Walla! TECH (Oct 2014): Israel leading technology website. Using CSS3 and HTML5 responsive web design and retina ready.",
          "None (None): None",
          "None (None): None",
          "None (None): None",
          "None (None): None",
          "None (None): None",
          "None (None): None",
          "None (None): None",
          "None (None): None",
          "None (None): None",
          "None (None): None",
          "None (None): None",
          "None (None): None",
          "None (None): None",
          "Walla! Travel (Oct 2014): Israel leading travel website. Using CSS3 and HTML5 responsive web design and retina ready.",
          "None (None): None",
          "None (None): None",
          "None (None): None",
          "None (None): None",
          "None (None): None",
          "None (None): None",
          "None (None): None",
          "None (None): None",
          "None (None): None",
          "None (None): None",
          "None (None): None",
          "None (None): None",
          "None (None): None",
          "Walla! ZONE (Oct 2014): Israel leading portal websites. Using CSS3 and HTML5 responsive web design and retina ready.",
          "None (None): None",
          "None (None): None",
          "None (None): None",
          "None (None): None",
          "None (None): None",
          "None (None): None",
          "None (None): None",
          "None (None): None",
          "None (None): None",
          "None (None): None",
          "None (None): None",
          "None (None): None",
          "None (None): None",
          "Walla! Food (Sep 2014): Israel leading food & recipes website. Using CSS3 and HTML5 responsive web design and retina ready.",
          "None (None): None",
          "None (None): None",
          "None (None): None",
          "None (None): None",
          "None (None): None",
          "None (None): None",
          "None (None): None",
          "None (None): None",
          "None (None): None",
          "None (None): None",
          "None (None): None",
          "Walla! Celebs (Aug 2014): Israel leading celebs news website. Using CSS3 and HTML5 responsive web design and retina ready.",
          "None (None): None",
          "None (None): None",
          "None (None): None",
          "None (None): None",
          "None (None): None",
          "None (None): None",
          "None (None): None",
          "None (None): None",
          "None (None): None",
          "None (None): None",
          "None (None): None",
          "Walla! Fashion (Jun 2014): Israel leading fashion news website. Using CSS3 and HTML5 responsive web design and retina ready.",
          "None (None): None",
          "None (None): None",
          "None (None): None",
          "None (None): None",
          "None (None): None",
          "None (None): None",
          "None (None): None",
          "None (None): None",
          "None (None): None",
          "None (None): None",
          "None (None): None",
          "None (None): None",
          "Walla! Mundial 2014 (Jan 2014): View fixtures and coverage information for the World Cup 2014 in Brazil, as well as Live Scores, Results, Group Tables and News.Using CSS3 and HTML5 technologies we made this site Responsive and supported by all the most popular devices",
          "None (None): None",
          "None (None): None",
          "None (None): None",
          "None (None): None",
          "None (None): None",
          "None (None): None",
          "Royal-Chef Website (Aug 2013): A VOD website for the Royal-Chef TV showUsing advanced web technology to make it a \"Responsive\" websiteSupported by the most popular devices",
          "None (None): None",
          "None (None): None",
          "None (None): None",
          "None (None): None",
          "None (None): None",
          "None (None): None",
          "None (None): None",
          "Walla! Magazine (Apr 2013): None",
          "None (None): None",
          "None (None): None",
          "None (None): None",
          "None (None): None",
          "None (None): None",
          "Walla!Vod (Mar 2013 - Present): None",
          "None (None): None",
          "None (None): None",
          "None (None): None",
          "None (None): None",
          "None (None): None",
          "m.winner.co.il (Mar 2012): None",
          "Red Sea (Feb 2012): None",
          "yourway.co.il (Jan 2012): None",
          "gindi.com (Oct 2011): None",
          "guideya.com (Jun 2011): None"
         ],
         null
        ],
        [
         null,
         null
        ],
        [
         null,
         null
        ],
        [
         null,
         null
        ],
        [
         null,
         null
        ],
        [
         null,
         null
        ],
        [
         null,
         null
        ],
        [
         null,
         null
        ],
        [
         null,
         null
        ],
        [
         [
          "Spot your recipe (None): \"Spot Your Recipe\" is a revolutionary application that brings personalization to the culinary world, similar to how Spotify personalizes music. Utilizing a collaborative filtering algorithm, the app recommends recipes tailored to the user's unique taste preferences. Built with a tech stack that includes PySpark, Vue.js, Node.js, and the Quasar framework"
         ],
         null
        ],
        [
         null,
         null
        ],
        [
         null,
         null
        ],
        [
         null,
         null
        ],
        [
         null,
         null
        ],
        [
         null,
         null
        ],
        [
         null,
         null
        ],
        [
         null,
         null
        ],
        [
         null,
         null
        ],
        [
         null,
         null
        ],
        [
         null,
         null
        ],
        [
         null,
         null
        ],
        [
         [
          "Voice recognition algorithm (Oct 2015): This software based algorithm of voice recognition is obtainable by using the dynamic time warping algorithm and coefficient extraction with wavelets. The system was realized in MATLAB .",
          "Neptune project (Jul 2015): Neptune project is financed by the Israeli Government Office of the Chief Scientist. The project develops advanced optical networks based on SDN (Software Defined Network). My project includes research and developing of SW model contains algorithm which optimize live traffic in optical networks in order to improve the QoS and prevent optical traffic blocking. The SW model is developed by using MATLAB SW tool performing De-fragmentation of services over fiber optic in order to achieve bandwidth optimization. The project is led by Prof. Uri Mahlev with co-operation of Holon Institute of Technology and Techniyon"
         ],
         null
        ],
        [
         null,
         null
        ],
        [
         null,
         null
        ],
        [
         [
          "PostgreSQL: Database Design, Query Writing and Optimization (course) (Jan 2019 - Jan 2022): None",
          "None (None): None",
          "Developing concept of graph-structural modelling of organizational systems and controlling them using analysis of finite fluctuations (Feb 2019 - Dec 2021): Supervisor: Semen Blyumin💰The project was supported by the Russian Foundation for Basic Research (RFBR) within the project 19-47-480003.",
          "None (None): None",
          "None (None): None",
          "None (None): None",
          "None (None): None",
          "Interactive system to plan sintering and blast furnace production (Apr 2020 - Sep 2021): The interactive system is presented a set of sequential interconnected modules to calculate planned charge options and select technological parameters for sinter and blast furnace production based on information about the current production, the availability of used materials, and technological operations.Innovation aspects.Methodology and algorithmic support with software implementation of an interactive sinter and blast furnace production planning system to optimize and automate the process of calculating planned / normalized unit costs and indicators; production planning in the context of raw materials usage and technological operations, taking into account technological limitations, restrictions on used materials and the relationship between individual stages of production.🏆The project was noted by the Ministry of Science and Higher Education of the Russian Federation as a promising development and entered the catalogue \"Open innovations-2020\".",
          "None (None): None",
          "None (None): None",
          "The Regional Module for the Intelligent Transportation and Logistics System (2018 - Jul 2021): A set of models and program modules can be used to simulate and control traffic flows in regions with high cargo traffic volumes, transportation hubs, and logistics centers.Innovation aspects: ability to aggregate data on traffic flows from heterogenius sources, external conditions, and economic indicators of the region in order to build models of optimal distribution of traffic flows and control the current transport situation online.💰The project was supported by the Russian Science Foundation within the project 18-71-10034.🏆The project was noted by the Ministry of Science and Higher Education of the Russian Federation as a promising development and entered the catalogue \"Open innovations-2020\".",
          "None (None): None",
          "None (None): None",
          "Integrated information system for element-by-element management of steel production (2018 - 2020): Within the framework of this research project, the tasks were solved:✔developing concept and the information system which will allow creating technological proses scheme (which will consist of different connecting elements; different combinations of elements or technological pathways can be used for the production chain);✔developing mathematical and algorithmic support for determining the optimal production technology (for the entire production chain or part of it) according to a given integral optimality criterion using various mathematical models of separate elements of the production chain: different combinations of raw materials and technology can lead to the production of finished products with specified properties. 🏆The project was noted by the Ministry of Science and Higher Education of the Russian Federation as a promising development and entered the catalogue \"Open innovations-2019\".",
          "None (None): None",
          "None (None): None",
          "Expert assessment of the methodology for calculating the enterprise stuff satisfaction / involvement level during a sociological study (Feb 2018 - Jun 2018): Within the framework of this project, the tasks were solved:✔ expert assessment of the existing methodology;✔ developing the methodology for calculating the enterprise stuff satisfaction / involvement level which are based on nonparametric approaches to evaluating point and interval estimations; ✔ developing the algorithm for filtering the data (analysis of the questions connectivity based on the analysis of the array of accumulated questionnaires), which allows you to avoid inflated values of ratings",
          "None (None): None",
          "Developing mathematical models of the factorial influence of technological parameters on the specific consumption of coke and productivity of blast furnaces (Mar 2017 - Aug 2017): Within the framework of this project, the tasks were solved:✔ developing mathematical and algorithmic support for the influence calculation of technological parameters on the specific coke consumption and productivity;✔ developing mathematical and algorithmic support for calculation of coefficients based on the factor model, taking into account restrictions on the coefficient values.",
          "None (None): None",
          "None (None): None",
          "None (None): None",
          "None (None): None"
         ],
         null
        ],
        [
         null,
         null
        ],
        [
         null,
         null
        ],
        [
         null,
         null
        ],
        [
         null,
         null
        ],
        [
         null,
         null
        ],
        [
         [
          "Quadruped Ctrl EEG (Jun 2015): Quadruped Arduino robot controlled by extracted brain state activity from NeuroSteer EEG Headset.Inspired on sensors and other technologies in a connected world (IOT) was conducted undergraduate studies towards Bsc. CS @ the Technion.",
          "Big Data at the Service of SaaS (Oct 2014): Project in Computer Security at The Technion (Course# 236349)"
         ],
         null
        ],
        [
         [
          "Red Light Running Violation Detection using Deep Learning - Tensorflow (Jan 2019): In this project, I used the deep learning API Tensorflow along with OpenCV in order to perform Red Light Running Violation Detection.",
          "Artificial Intellignce: Crossword Puzzle Generation and Solution using Genetics (Jan 2018): The aim of this project is to generate or solve a crossword puzzle by applying genetics search algorithm tooptimize the solution. The program was written using Python.",
          "CAT (Computer Aided Training) Gadget (Sep 2019 - Sep 2019): A gadget that tracks gestures for people with physical impairment and gives feedback about what they are doing wrong, and what they should do to correct the movement.Created as part of participating in Makeathon Extend 2019.",
          "Arabic Text Classification: Classical and Modern Poetry (Jan 2018 - 2018): The main aim of the project was to use machine learning classification techniques in order to do text classification based on genre. Various toolkits were used including ntlk, text-editors, and the Weka toolkit."
         ],
         null
        ],
        [
         null,
         null
        ],
        [
         null,
         null
        ],
        [
         null,
         null
        ],
        [
         null,
         null
        ],
        [
         null,
         null
        ],
        [
         null,
         null
        ],
        [
         null,
         null
        ],
        [
         null,
         null
        ],
        [
         null,
         null
        ],
        [
         null,
         null
        ],
        [
         [
          "SAP App Center (Sep 2016 - Present): None"
         ],
         null
        ],
        [
         [
          "One time sale - the first Facebook poke campaign (Jan 2013): Our brief was to promote \"a one-time sales proposition on lingerie\"; what we did is film a 10-second, sexy and teasing video clip of our model getting dressed with Delta's Lingerie. To gain authenticity, the video clip was filmed by the model's agent using the new app, Facebook Poke, then sent to the Delta's Facebook fans, the model's fans an leading PR's. last frame says \"A One-Time Sale! Delta.\" and on Delta's website, users can buy the product with the discount.",
          "The incoming call banner? (Dec 2012): Bezeq, the biggest communication company is israel launch its new cellular, so our presentor called israel mobile users to them about it.",
          "FACEBOOK OOPS (Oct 2011): 35% of youngsters have on line regrets. spring tea's fans told us theirs, and we made from it personal animation movie based on the fan's \"oops\". this is one of them ",
          "HISARTUT - branded content campaign (Jun 2012): We created an animation parody show that followed \"survivals\" on TV and generated over 1,600,000 views via Youtube and social media ",
          "Let's talk about it (Aug 2010): after a big crisis between Israel and Turkey we connected the 2 countries's citizens in a surprising personal massages via facebook. no politics. just people.",
          "The Rudy Project Project (Jun 2010): social game for the bicycle riders community client: RUDY PROJECT ISRAEL"
         ],
         null
        ],
        [
         null,
         null
        ],
        [
         null,
         null
        ],
        [
         null,
         null
        ],
        [
         null,
         null
        ],
        [
         null,
         null
        ],
        [
         null,
         null
        ],
        [
         null,
         null
        ],
        [
         null,
         null
        ],
        [
         null,
         null
        ],
        [
         [
          "Geshser Hevrati project (Jul 2014 - Present): None",
          "None (None): None"
         ],
         null
        ],
        [
         null,
         null
        ],
        [
         null,
         null
        ],
        [
         null,
         null
        ],
        [
         null,
         null
        ],
        [
         null,
         null
        ],
        [
         null,
         null
        ],
        [
         null,
         null
        ],
        [
         null,
         null
        ],
        [
         null,
         null
        ],
        [
         null,
         null
        ],
        [
         null,
         null
        ],
        [
         null,
         null
        ],
        [
         null,
         null
        ],
        [
         null,
         null
        ],
        [
         null,
         null
        ],
        [
         null,
         null
        ],
        [
         null,
         null
        ],
        [
         [
          "Agalist (Mar 2011 - Present): A website with an great potential of growth.It is found in its 1.0 version.",
          "None (None): None"
         ],
         null
        ],
        [
         null,
         null
        ],
        [
         null,
         null
        ],
        [
         null,
         null
        ],
        [
         null,
         null
        ],
        [
         null,
         null
        ],
        [
         null,
         [
          "TREATMENT OF HEADACHES BY ELECTRICAL STIMULATION",
          "Diversity schemes for 2-D encoded data",
          "Forward filter training scheme",
          "Turbo equalization for diversity receivers",
          "Voice activity detector based upon a detected change in energy levels between sub-frames and a method of operation"
         ]
        ],
        [
         [
          "Project in Machine Learning & Computer Vision - People counting system (Sep 2019 - Feb 2020): The system counts the people entering and leaving an entrance, using a Deep Neural Network as a detector (YOLOv3) and a tracking algorithm to track and count (DCF-CSR \\ CSRT). It was developed by myself and Or Farfara as a project in Machine Learning & Computer Vision at the Technion, and intended to be used by the Technion's libraries (though it could be modified to fit any entrance).The code, including an in-depth user's manual and the project's full report in my GitHub:https://github.com/IdoGalil/People-counting-system"
         ],
         null
        ],
        [
         null,
         null
        ],
        [
         null,
         null
        ],
        [
         null,
         null
        ],
        [
         [
          "Focuser (Oct 2022 - Nov 2022): An open-source distraction-reducing desktop app built using modern React.js & Electron.js principles."
         ],
         null
        ],
        [
         null,
         null
        ],
        [
         null,
         null
        ],
        [
         null,
         null
        ],
        [
         null,
         null
        ],
        [
         null,
         null
        ],
        [
         null,
         null
        ],
        [
         null,
         null
        ],
        [
         null,
         null
        ],
        [
         null,
         null
        ],
        [
         null,
         null
        ],
        [
         null,
         null
        ],
        [
         null,
         null
        ],
        [
         null,
         null
        ],
        [
         null,
         null
        ],
        [
         null,
         null
        ],
        [
         [
          "Object detection on soybean leafs (python) (Sep 2018 - Present): Final project for computer engineering degree (thesis)",
          "Tomasulo algorithm implementation (java) (Jul 2018): Final project of Computers Architecture",
          "Docker application (May 2018): Final project of network computerUNC",
          "None (None): None",
          "None (None): None",
          "Petri nets parser (Smalltalk, Haskell and Perl) (Mar 2018 - Jun 2018): Final project of programming paradigms",
          "None (None): None",
          "Industrial production optimization with Petri Nets (java) (Jun 2017 - Aug 2017): Final project for concurent programming",
          "None (None): None",
          "None (None): None",
          "Travel salesman's problem (c++) (Oct 2015 - Nov 2015): Final project for algorithms and data structures.UNC",
          "None (None): None"
         ],
         null
        ],
        [
         [
          "The Stress Distribution on Female Breasts as a Function of its Size (Oct 2020): Final Research project for my BSc degree.Ill-fitting bras are known to cause musculoskeletal pain. However, most women are unable to properly fit a bra for themselves. Additionally, monthly hormonal fluctuations during various stages of the menstrual cycle cause the breast size to fluctuate. Additionally, monthly hormonal fluctuations during various stages of the menstrual cycle cause the breast volume to fluctuate by up to 40%. Therefore, there is a need for a change in the way we design bras, which first requires proper understanding of the relationships between the forces exerted on the breasts, their size, and the resulting stress distribution. Using FEA, we have simulated the stresses and strains on the breast as a function of its size, both under the static influence of gravity, and during gait movement"
         ],
         null
        ],
        [
         null,
         null
        ],
        [
         [
          "WinnerPrep AI (Aug 2023): WinnerPrep is an innovative platform harnessing the power of artificial intelligence to elevate job seekers' potential and align them with their desired career paths.The key features include:- AI-Powered CV Analysis: Delivers insightful analysis of CVs to uncover hidden strengths and suggests improvements.- Real-Time Information Gathering: Operates autonomous AI agents to collect real-time data about the candidate, position, company, and industry.- Personalized Outcomes: Crafts extremely personalized and high-quality results for candidates based on real-time data.- Advanced Keyword Strategy: Utilizes advanced automation and frameworks to optimize CVs for Applicant Tracking System (ATS) algorithms.- Large Language Model Utilization: Employs large language models across various technologies for personalized interview preparation and CV enhancement.- Bespoke Interview Preparation: Offers personalized Q&As and strategies for excelling in interviews.Upcoming Features:- Personal AI Career Coach: A dedicated chatbot for addressing queries regarding CVs, specific companies, or assisting in filling out job applications and more.- Real-Time Voice Interview Practice: Provides a platform for real-time voice interview simulations with thorough and extremely valuable feedback post-interview."
         ],
         null
        ],
        [
         null,
         null
        ],
        [
         null,
         null
        ],
        [
         null,
         null
        ],
        [
         null,
         null
        ],
        [
         null,
         null
        ],
        [
         null,
         null
        ],
        [
         null,
         null
        ],
        [
         null,
         null
        ],
        [
         null,
         null
        ],
        [
         null,
         null
        ],
        [
         null,
         null
        ],
        [
         null,
         null
        ],
        [
         null,
         null
        ],
        [
         null,
         null
        ],
        [
         null,
         null
        ],
        [
         null,
         null
        ],
        [
         null,
         null
        ],
        [
         null,
         null
        ],
        [
         null,
         null
        ],
        [
         null,
         null
        ],
        [
         [
          "More glove (Nov 2018 - Present): Whiteboard eraser glove for cleaning whiteboards.",
          "Secar (Nov 2017 - Nov 2018): None"
         ],
         null
        ],
        [
         null,
         null
        ],
        [
         null,
         null
        ],
        [
         [
          "Intel scholarship for outstanding female students (2017 - 2018): Promoting an individual initiative for the advancement of women in technological fields with Intel company."
         ],
         null
        ],
        [
         null,
         null
        ],
        [
         null,
         null
        ],
        [
         null,
         null
        ],
        [
         null,
         null
        ],
        [
         null,
         null
        ],
        [
         null,
         null
        ],
        [
         null,
         null
        ],
        [
         null,
         null
        ],
        [
         null,
         null
        ],
        [
         null,
         null
        ],
        [
         null,
         null
        ],
        [
         null,
         null
        ],
        [
         null,
         null
        ],
        [
         null,
         null
        ],
        [
         null,
         null
        ],
        [
         null,
         null
        ],
        [
         null,
         null
        ],
        [
         null,
         null
        ],
        [
         null,
         null
        ],
        [
         null,
         null
        ],
        [
         null,
         null
        ],
        [
         null,
         null
        ],
        [
         null,
         null
        ],
        [
         [
          "ParrotBay.io (None): ParrotBay provides a unique URL that you can execute any type of HTTP requests against it. allows you to inspect your HTTP requests, design webhooks, and mimic your entire backend endpoints with static and dynamic JSON responses"
         ],
         null
        ],
        [
         null,
         null
        ],
        [
         null,
         null
        ],
        [
         [
          "Detection Signal Anomaly Using ML Models (None): None"
         ],
         null
        ],
        [
         null,
         null
        ],
        [
         null,
         null
        ],
        [
         null,
         null
        ],
        [
         null,
         null
        ],
        [
         null,
         null
        ],
        [
         null,
         null
        ],
        [
         null,
         null
        ],
        [
         null,
         null
        ],
        [
         null,
         null
        ],
        [
         [
          "Football Match (Oct 2018 - Jan 2019): Football Match is a simple way to maintain your existing group of fellow football players and join other groups' games.",
          "None (None): None",
          "None (None): None"
         ],
         null
        ],
        [
         null,
         null
        ],
        [
         null,
         null
        ],
        [
         [
          "MarkUs (Jan 2011): Add support for mathematical signs and equations (LaTex format) in an open source project for teachers.",
          "None (None): None"
         ],
         null
        ],
        [
         null,
         null
        ],
        [
         null,
         null
        ],
        [
         null,
         null
        ],
        [
         null,
         null
        ],
        [
         null,
         null
        ],
        [
         null,
         null
        ],
        [
         null,
         null
        ],
        [
         null,
         null
        ],
        [
         null,
         null
        ],
        [
         null,
         null
        ],
        [
         null,
         null
        ],
        [
         [
          "FFNN from scratch  (May 2020 - May 2020): Feedforward neural network (FFNN) from scratch with Python and NumPy.",
          "Achtung (Mar 2020 - Apr 2020): An interactive multiplayer platform to play “Achtung” (a complex version of the infamous “Snake”). The game was designed using PyGame, the AI was developed using NEAT-Python and DQN (TensorFlow) modal.",
          "Implementation of Decision Tree Classifier for Machine Learning (Mar 2020 - Mar 2020): A self-written Decision Tree Classifier that deduces information based on input data.For example, I used this classifier to predict where respondents to a certain survey on political opinion live. The UI is user-friendly and designed to help find meaningful deductions easily.No external library was used for this project.",
          "KNN (k-Nearest Neighbors) from scratch (Feb 2020 - Feb 2020): k-Nearest Neighbors from scratch with Python",
          "Shmirot (Nov 2019 - Nov 2019): Website developed during HackExtend Hackathon. My role was the back-end developer. The back-end was built in Python and Flask. The website generates a special kind of duty roster especially relevant for soldiers who need to manage watch shifts. The front-end was built in Vue.JS and Element-UI",
          "None (None): None",
          "None (None): None"
         ],
         null
        ],
        [
         null,
         null
        ],
        [
         null,
         null
        ],
        [
         null,
         null
        ],
        [
         [
          "Block breaker (None): Mobile game of breaking blocks using a ball contains several stages with special effects. Developed in C# with Unity 2D engine.",
          "BMI calculator (None): A calculator for calculating bmi based on gender, age, height and weight.In addition there is an option to track the number of hours of sports per week, the weekly hours clock can be reset at any opportunity."
         ],
         null
        ],
        [
         null,
         null
        ],
        [
         null,
         null
        ],
        [
         null,
         null
        ],
        [
         null,
         null
        ],
        [
         null,
         null
        ],
        [
         null,
         null
        ],
        [
         null,
         null
        ],
        [
         null,
         null
        ],
        [
         null,
         null
        ],
        [
         null,
         null
        ],
        [
         [
          "Project starter (Apr 2017 - Sep 2017): During my service at IDF, I was request to provide an easy way to bootstrap web applications internally.My team and I decided to develop a generic open source platform to easily create and start a full stack project.The main technologies involved are: Node.js, React, MongoDB, Express.js and Docker.",
          "None (None): None",
          "None (None): None"
         ],
         null
        ],
        [
         [
          "Hachathon auto-SOS (3th place) (Dec 2019 - Dec 2019): openCV Hackathon (C++ on Raspberry Pi)",
          "Project by google (Dec 2019 - Dec 2019): sentences auto complete",
          "Project by mobileye (Nov 2019 - Nov 2019): in the project, we trained a CNN to identify traffic lights in still images.",
          "Hackathon Teletenants (3th place) (Oct 2019 - Oct 2019): a telegram bot that manages a group’s shared resources.",
          "Arduino Project - Smart library (Apr 2018 - Jul 2018): This is a project based on transferring information from sensors to a table through the function app. The information, which are in the application, help the users choose their appropriate library to study."
         ],
         null
        ],
        [
         null,
         null
        ],
        [
         null,
         null
        ],
        [
         null,
         null
        ],
        [
         null,
         null
        ],
        [
         null,
         null
        ],
        [
         null,
         null
        ],
        [
         null,
         null
        ],
        [
         null,
         null
        ],
        [
         null,
         null
        ],
        [
         null,
         null
        ],
        [
         null,
         null
        ],
        [
         [
          "Android application development (Mar 2020 - Sep 2020): - Academic project with \"Lev Chash\" association- Design and implement end-to-end Android application, using Android Studio.- Design the UI/UX and adjusting to customer preferences.- Delivered the application to the volunteers department, of “Lev Chash” association and it is now operational.- The application is available on Google Play Store under \"SaderOta\"."
         ],
         null
        ],
        [
         null,
         null
        ],
        [
         null,
         null
        ],
        [
         null,
         null
        ],
        [
         null,
         null
        ],
        [
         null,
         null
        ],
        [
         null,
         null
        ],
        [
         null,
         null
        ],
        [
         null,
         null
        ],
        [
         null,
         null
        ],
        [
         null,
         null
        ],
        [
         null,
         null
        ],
        [
         null,
         null
        ],
        [
         null,
         null
        ],
        [
         null,
         null
        ],
        [
         null,
         null
        ],
        [
         null,
         null
        ],
        [
         null,
         null
        ],
        [
         null,
         null
        ],
        [
         null,
         null
        ],
        [
         null,
         null
        ],
        [
         null,
         null
        ],
        [
         null,
         null
        ],
        [
         null,
         null
        ],
        [
         null,
         null
        ],
        [
         null,
         null
        ],
        [
         null,
         null
        ],
        [
         null,
         null
        ],
        [
         null,
         null
        ],
        [
         null,
         null
        ],
        [
         null,
         null
        ],
        [
         null,
         null
        ],
        [
         [
          "Safe Walk (Jun 2019 - Aug 2020): Falls among the elderly population can result in injuries that lead to significant impairment of the victim's quality of life and sometimes even death. These injuries cause additional damages, such as burdens on the health care system and taxpayer costs estimated by billions of dollars, which are caused as a result of treatment and rehabilitation efforts.Falls can be prevented by early detection and rehabilitation of the gait pattern failures. As of today, the detection of these failures is made possible by performing a gait test which requires the patient to reach a designated laboratory.Safe Walk system is a home sensor kit combined with a web application which supports the detection of abnormal events in the patient's gait pattern, alerts the relevant parties of a failures diagnosis, presents relevant data for an in-depth understanding of the root cause of the problem, creates a rehabilitation program for the patient and continues to monitor its progress."
         ],
         null
        ],
        [
         null,
         null
        ],
        [
         [
          "Airbnb Price Prediction (None): • Predicted Airbnb apartment prices using website data.• Project lifecycle included: Exploratory Data Analysis (EDA), Data Imputation, Outliers Handling, Category Encoding, Feature Engineering, Baseline Prediction Model, Model Optimization, Error Analysis",
          "Drift Detection (None): • Run statistical tests to monitor model performance and data changes in production over time.• Perform drift detection of all types; feature drift, label drift, prediction drift, concept drift.• Take action in cases of drift, based on the different use cases.",
          "Job Runtime Prediction (None): • Predicting run time for jobs on a tech company's private cloud:• Derived insights from complex, ambiguous data, including hashed command lines.• Addressed data imbalance with synthetic minority oversampling.• Developed and optimized models via a structured pipeline.• Feature selection under model size constraints.",
          "Passenger Satisfaction Prediction (None): • Predict passenger satisfaction based on survey attributes.• Developed a classification model to accurately predict overall passenger satisfaction, allowing targeted resource allocation.• Applied comprehensive data exploration, feature engineering, baseline modeling, and ensembling techniques (voting, bagging, boosting) to optimize classifier performance.• Analyzed and validated the selected model for error, sensitivity, and stability.",
          "Restaurant Recommendation Chatbot (None): • Implemented a task-oriented NLP chatbot which got an outstanding project award, and was presented to many different forums.• Designed the chatbot with both an NLU component and a Dialogue-management component.• The chatbot's goal is to assist users in ordering a personalized restaurant experience based on their preferences. Preferences can be provided either in response to specific questions or freely during an interactive chat session, enhancing user engagement.",
          "Yelp-EDA (None): • Explored data related to restaurants in Cleveland, including ratings, food and entertainment categories, check-in trends, and user reviews from Yelp.• Analyzed and derived insights from various attributes, contributing to a comprehensive understanding of the restaurant landscape.• Conducted exploratory data analysis to uncover patterns and trends, informing data-driven decision-making processes."
         ],
         null
        ],
        [
         null,
         null
        ],
        [
         null,
         null
        ],
        [
         null,
         null
        ],
        [
         null,
         null
        ],
        [
         null,
         null
        ],
        [
         null,
         null
        ],
        [
         null,
         null
        ],
        [
         null,
         null
        ],
        [
         null,
         null
        ],
        [
         null,
         null
        ],
        [
         null,
         null
        ],
        [
         null,
         null
        ],
        [
         null,
         null
        ],
        [
         null,
         null
        ],
        [
         null,
         null
        ],
        [
         [
          "weder (Apr 2013): a simple weather android app, that shows how the weather changed since yesterday",
          "None (None): None"
         ],
         null
        ],
        [
         null,
         null
        ],
        [
         null,
         null
        ],
        [
         null,
         null
        ],
        [
         null,
         null
        ],
        [
         null,
         null
        ],
        [
         [
          "Boxscore (Sep 2020 - Jun 2022): Founded a sports journalism club at high school. Lead over 40 students. Commentated on school sports games, produce podcasts and articles on sports from around the world."
         ],
         null
        ],
        [
         null,
         null
        ],
        [
         null,
         null
        ],
        [
         null,
         null
        ],
        [
         null,
         null
        ],
        [
         null,
         null
        ],
        [
         null,
         null
        ],
        [
         null,
         null
        ],
        [
         [
          "Web development (Sep 2014 - Feb 2015): פרויקט לשליחת הודעה מוקלטת לרשימת תפוצה בקלות וביעילות"
         ],
         null
        ],
        [
         null,
         null
        ],
        [
         null,
         null
        ],
        [
         null,
         null
        ],
        [
         null,
         null
        ],
        [
         null,
         null
        ],
        [
         [
          "Research of formation of soft bodies (Sep 2018 - Jun 2019): ”Srafim” Program, experience in advanced research methods in the field of physics, while automating tests in code and using graphic libraries to visualize the research. Soreq Nuclear Research Center.",
          "iDome (Oct 2018 - May 2019): A dynamic anti-malware software which detects downloaded files using kernel modules. The files are analyzed in a sandbox by a machine learning system based on the file's behavior in comparison with malware behavior."
         ],
         null
        ],
        [
         null,
         null
        ],
        [
         null,
         null
        ],
        [
         null,
         null
        ],
        [
         null,
         null
        ],
        [
         null,
         null
        ],
        [
         null,
         null
        ],
        [
         null,
         null
        ],
        [
         null,
         null
        ],
        [
         null,
         null
        ],
        [
         null,
         null
        ],
        [
         null,
         null
        ],
        [
         null,
         null
        ],
        [
         null,
         null
        ],
        [
         null,
         null
        ],
        [
         [
          "BI Information-Systems Project (None): Analyzing data, creating relevant dashboards, and forecasting info about Titanic survivors.",
          "Business Requirements Evaluation (None): Evaluating business requirements using surveys, interviews, and data collection to characterize, develop, and implement an information-system website for an online retail store."
         ],
         null
        ],
        [
         null,
         null
        ],
        [
         null,
         null
        ],
        [
         null,
         null
        ],
        [
         [
          "Hack IDC 2016 (May 2016): One of the directors of HackIDC 2016, IDC Herzliya's official student Hackathon. The event brought over 250 programmers and designers from all universities to the largest student Hackathon held in Israel.",
          "None (None): None",
          "None (None): None",
          "None (None): None",
          "None (None): None",
          "None (None): None",
          "None (None): None",
          "None (None): None",
          "TangiPlan (None): None",
          "None (None): None",
          "None (None): None",
          "None (None): None"
         ],
         null
        ],
        [
         null,
         null
        ],
        [
         null,
         null
        ],
        [
         null,
         null
        ],
        [
         null,
         null
        ],
        [
         null,
         null
        ],
        [
         null,
         null
        ],
        [
         null,
         null
        ],
        [
         null,
         null
        ],
        [
         [
          "Axis Tel Aviv (Feb 2014 - Apr 2014): A conference connecting international investors and Israeli high tech start ups with an aim at deal flow.",
          "None (None): None",
          "None (None): None",
          "None (None): None",
          "None (None): None",
          "None (None): None",
          "Gvahim Life Science Pre-ILSI Event (Feb 2013 - May 2013): Small, laser-focused event aimed at preparing Olim in the Life Sciences to effectively utilize their time at the Biomed 2013 conference. Workshops included \"How to Network\" with Jake Levant, \"Why do we go to conferences\" led by myself, and overview of Biomed itself by Benny Zeevi, Biomed chair. Olim then swapped email addresses and came to the conference a few weeks later with their new partners in crime.",
          "None (None): None",
          "None (None): None",
          "None (None): None",
          "None (None): None",
          "Life Science Career Panel (Apr 2012 - Jun 2012): I initiated this panel discussion at the end of my 1st year of studying Biotech for Olim in the Life Sciences (me) to learn about their career options post-degree. I received a 3,000 shekel budget from my facutly's administration and created a panel with a representative from:\"Big Pharma\" - (Teva)\"Start-Ups\" - (Self-Employed)\"Genetic Counseling\" - (Private Practice)\"Academia\" - (Professor, BIU)\"Pharma Recruitment\" - (PharmaJob)Students got to ask questions and later mingle over snacks."
         ],
         null
        ],
        [
         null,
         null
        ],
        [
         [
          "Jukebox - Web app for playing interactive playlists  (Jan 2017 - Aug 2017): Web app for playing playlists in a way that users influence which song they will hear next by voting their favorite ones. The App includes two user interfaces: Admin (has control options over the playlist) and regular user. This is a responsive website, build with Angular 4, HTML, CSS, JS"
         ],
         null
        ],
        [
         null,
         null
        ],
        [
         null,
         null
        ],
        [
         [
          "Hamorim (Jan 2011): A private tutors website index built using MVC3, Entity framework 4 and sql server.Mobile version of the website was made recently using Jquery mobile, and AngularJS.",
          "toluna.com (Jul 2011 - Jan 2013): A multilangual social platform for public opinion surveys"
         ],
         null
        ],
        [
         null,
         null
        ],
        [
         null,
         null
        ],
        [
         null,
         null
        ],
        [
         null,
         null
        ],
        [
         null,
         null
        ],
        [
         null,
         null
        ],
        [
         null,
         null
        ],
        [
         null,
         null
        ],
        [
         [
          "Digital Currency Mining Layout (Bitcoin) (Nov 2013 - Present): Establishing a \"Digital Currency Mining Layout (Bitcoin)\" - Setting up computers dedicated to mine digital coins, as well as recruiting traders.The project was based on the need to identify investment opportunities, in addition to operating and maintaining the computers and mining systems.",
          "None (None): None",
          "None (None): None",
          "None (None): None",
          "Marketing \"Bellisima\" company (Aug 2011): Promotional video and website design for \"Bellissima\" company"
         ],
         null
        ],
        [
         null,
         null
        ],
        [
         null,
         null
        ],
        [
         null,
         null
        ],
        [
         null,
         null
        ],
        [
         null,
         null
        ],
        [
         null,
         null
        ],
        [
         null,
         null
        ],
        [
         null,
         null
        ],
        [
         null,
         null
        ],
        [
         null,
         null
        ],
        [
         null,
         null
        ],
        [
         null,
         null
        ],
        [
         null,
         null
        ],
        [
         null,
         null
        ],
        [
         null,
         null
        ],
        [
         null,
         null
        ],
        [
         null,
         [
          "Automated Water Body Area Monitoring"
         ]
        ],
        [
         null,
         null
        ],
        [
         null,
         null
        ],
        [
         null,
         null
        ],
        [
         [
          "RFit-Platform (Mar 2020 - Apr 2020): The RFit Platform is a tool built for personal trainers to keep track on their tight schedule and most of all their clients. Using the platform, you can manage your weekly/daily schedule by adding/updating/removing appointments,clients and workouts. it was important for me to build something simple but powerful."
         ],
         null
        ],
        [
         null,
         null
        ],
        [
         null,
         null
        ],
        [
         null,
         null
        ],
        [
         null,
         null
        ],
        [
         null,
         null
        ],
        [
         null,
         null
        ],
        [
         null,
         null
        ],
        [
         null,
         null
        ],
        [
         [
          "ARM Cortex M3 Fault Injection (2018 - Jun 2019): None",
          "None (None): None",
          "None (None): None"
         ],
         null
        ],
        [
         null,
         null
        ],
        [
         null,
         null
        ],
        [
         null,
         null
        ],
        [
         [
          "Picabus (2012): Picabus is a community based public transportation application which aims to provide real time information on bus schedules and arrival times.",
          "None (None): None",
          "None (None): None"
         ],
         null
        ],
        [
         null,
         null
        ],
        [
         null,
         null
        ],
        [
         null,
         null
        ],
        [
         null,
         null
        ],
        [
         null,
         null
        ],
        [
         null,
         null
        ],
        [
         null,
         [
          "Method and apparatus for camera activation"
         ]
        ],
        [
         null,
         null
        ],
        [
         null,
         null
        ],
        [
         null,
         null
        ],
        [
         null,
         null
        ],
        [
         null,
         null
        ],
        [
         [
          "Industrial wheels lifting machines's wireless controller (May 2014): I was asked to replace a cable based remote control and to provide a wireless solution.- Communication protocol reverse engineering- Research for the most relevant wrieless technology - Electronic board design and manufacturing- Embedded code design and implementation- Enclosure design and manufacturing- Field tests and project delivery",
          "Interactive Laser Maze with wireless sensors (Mar 2011): Lazer maze, wireless and portable system design.- Research for the most relevant wrieless technology - Hardware design using of-the-shelf boards- Embedded code implementation- Enclosure design and manufacturing- Field tests and project deliveryDuplicated and sold 4 times.",
          "Interactive wireless trivia system for multiple groups (Sep 2010): A set of 10 wireless controllers for a 10 groups trivia game- Research for a relevant wireless technology - Electronic design based on an of-the-shelf board- Embedded code design and implementation- Enclosure design and manufacturing- Windows application running a Q&A game- Field tests and project delivery",
          "Wirelessly controlled baloon - Startup POC design and implementation (Jan 2010): - Defining the project's goals- Electronic board design and manufacturing - Wireless protocol design - Embedded code design and implementation- Windows application development to control the wireless units"
         ],
         null
        ],
        [
         null,
         [
          "A NAF-1 derived peptides and uses thereof"
         ]
        ],
        [
         null,
         null
        ],
        [
         null,
         null
        ],
        [
         null,
         null
        ],
        [
         null,
         null
        ],
        [
         null,
         null
        ],
        [
         null,
         null
        ],
        [
         null,
         null
        ],
        [
         null,
         null
        ],
        [
         null,
         null
        ],
        [
         null,
         null
        ],
        [
         null,
         null
        ],
        [
         null,
         null
        ],
        [
         null,
         null
        ],
        [
         null,
         null
        ],
        [
         [
          "Airflow Chef Cookbook (Oct 2015): Chef cookbook for installing and configuring Airflow workflow management platform."
         ],
         null
        ],
        [
         null,
         null
        ],
        [
         null,
         null
        ],
        [
         null,
         null
        ],
        [
         null,
         null
        ],
        [
         [
          "Github Account - Node.js, Golang, Python, React.js, Vue.js, React-Native and more! (2019 - 2019): None",
          "Bet Masters App - Developed in React Native (None): A Cross-platform mobile application I developed in React Native during summer break.The app is basically a game where users can guess the results of football matches.Users can create their own \"league\" and play against their friends.The app was developed with two other friends.Technologies we used:- React native- Redux- Firebase - Firebase functions- working with Third-party API's for getting games results",
          "None (None): None",
          "Block Breaker Game - Developed in C# Unity (None): An app I built during the summer break using C# Unity framework.A brick breaking game",
          "Employee management system App - Developed in React Native (None): A Cross-platform mobile application I developed in React Native during summer break.The App helps to manage employee shifts.Technologies I used:- React native- Redux- Firebase",
          "Find me a job App - Developed in React Native (None): A Cross-platform mobile application I developed in React Native during summer break. The app helps you find a job based on your skills.Technologies I used:- React native- Redux- Firebase - Expo",
          "Football Scouting App - Developed in Java (None): As part of a software engineering course, I developed a desktop application in java that uses the javax.swing API.The app manages a football player database for an agency that represents football players.Technologies and Code principles i used:- javax.swing- MVC architecture pattern- Design Patterns - Singleton, Factory, Observer",
          "Matan's Chat App - Developed in React.js Framework and Node.js (None): A Chat-messaging application that allows users to open private \"rooms\" and talk with other users there. The app build in Scoket architecture (using Socket.io module for server and Socket-io-client for client)For client-side source code: https://github.com/matany90/chat-app-clientFor server-side source code: https://github.com/matany90/chat-app-serverTechnologies I used:ReactNode with ExpressSocket.io API",
          "My Locations App - Developed in React.js Framework + Node.js with Express + MongoDB (None): The app helps you save your favorite categories and locations. You can save a location by dragging the map's marker on the map.Check-out source code: https://github.com/matany90/MyLocations-serverTechnologies I used:React.jsReduxNode with ExpressMongoDB with mongoosePassport.js API for OAuth (with Google, Facebook and Github)Google-maps third-party APIDeployed to Heroku",
          "User Management App - Developed in Vue.js, Node with Express, cloud Firestore DB (None): The application is a users management tool. Users are identified by the fields: name, email and phone. You can add, edit, and delete users from the application.client-side:Vue.jsstate management: VueXserver-side:Node with ExpressfirestoreDB"
         ],
         null
        ],
        [
         null,
         null
        ],
        [
         null,
         null
        ],
        [
         null,
         null
        ],
        [
         null,
         null
        ],
        [
         null,
         null
        ],
        [
         null,
         null
        ],
        [
         null,
         null
        ],
        [
         [
          "Brain activity during reading a text from a screen vs reading a text from a paper  (Apr 2020 - Present): Studying the differences in the brain’s electrical activity using EEG between two reading conditions – reading from paper vs. reading from screenThe literature focuses on the behavioral differences between reading from paper and reading from screen, However, there is a gap in knowledge regarding the neural correlated that underlie the behavioral differences between the two reading conditions. ",
          "Learning a Switched Linear Dynamical System Model for the triangular relation between heart rate, blood pressure and respiration. (Oct 2019 - Present): In this project based on a dataset of heart rate (HR), blood pressure (BP) and respiration (RESP), we derive a SLDS model best describing the data.Following, the derived linear models be analyzed with respect to known physiologicalcondition."
         ],
         null
        ],
        [
         null,
         null
        ],
        [
         null,
         null
        ],
        [
         null,
         null
        ],
        [
         null,
         null
        ],
        [
         null,
         null
        ],
        [
         null,
         null
        ],
        [
         null,
         null
        ],
        [
         null,
         null
        ],
        [
         null,
         null
        ],
        [
         null,
         null
        ],
        [
         null,
         null
        ],
        [
         null,
         null
        ],
        [
         null,
         null
        ],
        [
         null,
         null
        ],
        [
         null,
         null
        ],
        [
         null,
         null
        ],
        [
         null,
         null
        ],
        [
         null,
         null
        ],
        [
         null,
         [
          "Semi-automatic generation of multimedia content"
         ]
        ],
        [
         null,
         null
        ],
        [
         null,
         null
        ],
        [
         null,
         null
        ],
        [
         [
          "Once in a Lifetime HD (Sep 2011): Stand With Us \"Once in a Lifetime HD\"​: brings the most influential social media personalities to Israel for an amazing tour which they share with their online audience.Once in a Lifetime: Israel has brought leading bloggers, Instagram photographers and other social media superstars from around the globe to Israel for an unforgettable experience.https://www.youtube.com/watch?v=GAz20MN9y-k",
          "None (None): None",
          "None (None): None",
          "None (None): None",
          "None (None): None",
          "None (None): None",
          "None (None): None",
          "None (None): None",
          "None (None): None",
          "None (None): None",
          "None (None): None",
          "None (None): None",
          "None (None): None",
          "None (None): None",
          "None (None): None"
         ],
         null
        ],
        [
         null,
         null
        ],
        [
         null,
         null
        ],
        [
         null,
         null
        ],
        [
         null,
         null
        ],
        [
         null,
         null
        ],
        [
         [
          "Producing the Annual Fundraising Gala of ELEM Israel (Dec 2014): Producing ELEM's annual GALA event, which includes:Responsibility and execution of an event budget. Producer responsibility from construction to completion of the project strategy.Daily work with media organizations, advertising, PR and building a social networking platform. Managing operation teams.",
          "Producing the Annual Fundraising Gala of ELEM Israel (Sep 2013): Producing ELEM's annual GALA event, which includes:Responsibility and execution of an event budget. Producer responsibility from construction to completion of the project strategy.Daily work with media organizations, advertising, PR and building a social networking platform. Managing operation teams."
         ],
         null
        ],
        [
         null,
         null
        ],
        [
         null,
         null
        ],
        [
         null,
         null
        ],
        [
         null,
         null
        ],
        [
         null,
         null
        ],
        [
         null,
         null
        ],
        [
         null,
         null
        ],
        [
         null,
         null
        ],
        [
         null,
         null
        ],
        [
         null,
         null
        ],
        [
         null,
         null
        ],
        [
         null,
         null
        ],
        [
         null,
         null
        ],
        [
         null,
         null
        ],
        [
         null,
         null
        ],
        [
         null,
         null
        ],
        [
         null,
         null
        ],
        [
         [
          "Webinar: Strategies for a Successful Facebook Ad Campaign (Jan 2018): None"
         ],
         null
        ],
        [
         null,
         null
        ],
        [
         null,
         null
        ],
        [
         [
          "AT&T UC Central (Jun 2010 - May 2014): AT&T UC Central is a cloud-based, unified communication (UC) app for iOS devices:• Extends the reach of your office phone to your mobile device• Will simultaneously ring your office and your mobile phone, allowing you to receive business calls on your iPhone over WiFi/3G/4G data networks• Allows you to make business calls on your iPhone over WiFi/3G/4G data networks from anywhere in the world, using your office number as the Caller ID• Send chat messages with your peers over secured network connection",
          "None (None): None",
          "None (None): None",
          "None (None): None",
          "None (None): None",
          "None (None): None",
          "None (None): None",
          "None (None): None",
          "None (None): None",
          "None (None): None",
          "None (None): None",
          "None (None): None",
          "None (None): None",
          "None (None): None",
          "None (None): None",
          "None (None): None",
          "None (None): None",
          "None (None): None",
          "None (None): None",
          "None (None): None",
          "None (None): None",
          "None (None): None",
          "None (None): None",
          "None (None): None",
          "None (None): None",
          "None (None): None",
          "AT&T Connect for iPhone & iPad (Jul 2012 - Aug 2013): AT&T Connect, used by thousands of people around the world, allows you to join Web, video or audio conference using your iPhone or iPad. The app includes viewing whiteboard content, see other participants, who’s talking, raise your hand, exchange private / public notes and answer polls.",
          "None (None): None",
          "None (None): None",
          "None (None): None",
          "None (None): None",
          "None (None): None",
          "None (None): None",
          "None (None): None",
          "None (None): None",
          "None (None): None",
          "None (None): None",
          "Citi Velocity Mobile (None): Citi Velocity is Citi's state-of-the-art trading platform, delivers electronic access to Citi’s world-class capital markets services across equities, futures, FX emerging markets, rates, credit, commodities, securitized municipals, prime finance and research."
         ],
         null
        ],
        [
         null,
         null
        ],
        [
         null,
         [
          "Multiple channel room impulse response estimation "
         ]
        ],
        [
         null,
         null
        ],
        [
         null,
         null
        ],
        [
         null,
         null
        ],
        [
         [
          "ME-Mapper, a knowledge mapping Web Application, graduation project (Jul 2019 - Jul 2020): Using Angular 8, NodeJS and MongoDB, developed a knowledge-maps management web application, with the ability to create, view and edit maps, and a proprietary permissions mechanism, including individual and group permissions. The application is deployed in the University's network",
          "None (None): None",
          "None (None): None",
          "Category Embedding - Sales Prediction (May 2020 - May 2020): Employ Category Embedding to improve on a XGBoost baseline performance, predicting sales.Used Pandas, scikit-learn and Keras.",
          "Movies Recommender System (Apr 2020 - May 2020): Based on the ML-100K dataset, we have created a number of recommender systems, using user-to-user and item-to-item Collaboration Filtering models, a Matrix Factorization model, and a DeepFM model.We used Pandas and Keras's python packages.",
          "None (None): None",
          "Image classification (Apr 2020 - Apr 2020): Image classification project - using Python, Keras and Pandas.Created a CNN architecture that classifies images, employed transfer learning on a pretrained VGG-16 model, and used VGG-16 as a feature extractor for a classic machine learning classifier.",
          "Topic Modeling and Sentiment Analysis (Jan 2020 - Jan 2020): using Python, scikit-learn.Based on Yelp.com’s dataset, implemented topic modeling to provide business owners with insights regarding their business. Created a sentiment analysis model to further enhance business owner’s understanding of their clients.",
          "None (None): None",
          "None (None): None",
          "Information Retrieval (Oct 2018 - Dec 2018): Using C#, we have implemented a TFIDF mechanism, and have created an information retrieval system, including a BM25 based ranker, and postings creation algorithm.",
          "None (None): None"
         ],
         null
        ],
        [
         null,
         null
        ],
        [
         null,
         null
        ],
        [
         null,
         null
        ],
        [
         null,
         null
        ],
        [
         null,
         null
        ],
        [
         null,
         null
        ],
        [
         null,
         null
        ],
        [
         null,
         null
        ],
        [
         null,
         null
        ],
        [
         null,
         null
        ],
        [
         null,
         null
        ],
        [
         null,
         null
        ],
        [
         null,
         null
        ],
        [
         null,
         null
        ],
        [
         null,
         null
        ],
        [
         null,
         null
        ],
        [
         null,
         null
        ],
        [
         null,
         [
          "Apparatuses and methods for controlling temperature in an inhaler device",
          "METHOD AND INHALER FOR PROVIDING TWO OR MORE SUBSTANCES BY INHALATIO"
         ]
        ],
        [
         null,
         null
        ],
        [
         [
          "Vmware Upgrade (Jan 2016): Upgrade wmware from version 5.5 to version 6.0U1 which includes SRM and Ugrade Manager .",
          "Veeam Backup (Sep 2015): Planing , installation and integration if Veeam backup and recovery solution .",
          "Storage System (Mar 2015): Planing ,Integration and migration of new storage system , and migration of all virtual environment .",
          "Installing new enviroment Citrix 6.5 . (Jun 2013 - Present): Planing and installation of new citrix eviroment 6.5 to deliver published applications and desktops (office and SAP).",
          "None (None): None",
          "None (None): None",
          "Integration of VBA in Networker VMware protection. (Mar 2013): The VBA is a software appliance providing scalability, enhanced administration, vCenter integration, and deduplication with EMC Data Domain Boost, which provides automatic client side deduplication for every VMware backupoperation. The primary backup target for the VBA is a Data Domain system.The Goal was to consolidate two different Backup solutions, and provide one management console for Avamar and Networker .",
          "Backup Solution for Microsoft Exchange 2010 (Feb 2013): The goal was to provide new ,fast , modern and stable backup solution for Microsoft Exchange 2010 .",
          "None (None): None",
          "mdm airwatch (Sep 2012): None",
          "Installation of SIP server. (May 2012): Planing ,Installation and migration from old to new SIP server as global solution for calls for all branch offices .",
          "None (None): None",
          "Mobile Device Management (2012): Implementation of Mobile Device Management system in all mobile phones at Netafim",
          "None (None): None",
          "Mobile Device Management (2012): Implementation of Mobile Device Management system in all mobile phones at Netafim",
          "None (None): None"
         ],
         null
        ],
        [
         null,
         null
        ],
        [
         null,
         null
        ],
        [
         null,
         null
        ],
        [
         null,
         null
        ],
        [
         null,
         null
        ],
        [
         null,
         null
        ],
        [
         null,
         null
        ],
        [
         null,
         null
        ],
        [
         null,
         null
        ],
        [
         null,
         null
        ],
        [
         null,
         null
        ],
        [
         null,
         null
        ],
        [
         null,
         null
        ],
        [
         null,
         null
        ],
        [
         null,
         null
        ],
        [
         null,
         null
        ],
        [
         null,
         null
        ],
        [
         null,
         null
        ],
        [
         null,
         null
        ],
        [
         null,
         null
        ],
        [
         null,
         null
        ],
        [
         null,
         null
        ],
        [
         null,
         null
        ],
        [
         null,
         null
        ],
        [
         null,
         null
        ],
        [
         null,
         null
        ],
        [
         null,
         null
        ],
        [
         null,
         null
        ],
        [
         null,
         null
        ],
        [
         null,
         null
        ],
        [
         null,
         null
        ],
        [
         null,
         null
        ],
        [
         null,
         null
        ],
        [
         null,
         null
        ],
        [
         null,
         null
        ],
        [
         null,
         null
        ],
        [
         null,
         null
        ],
        [
         null,
         null
        ],
        [
         [
          "Computational modeling of protein structure (Jun 2011): Implementation of an evolutionary algorithm in order to programmatically solve a Bioinformatics problem. The project included hands-on JAVA development."
         ],
         null
        ],
        [
         null,
         null
        ],
        [
         null,
         null
        ],
        [
         null,
         null
        ],
        [
         null,
         null
        ],
        [
         null,
         null
        ],
        [
         [
          "AspireAffiliates (Dec 2008 - Mar 2012): Pioneer and worldwide leading affiliate program / performance based media for mass-market gaming and Online Scratch Cards",
          "None (None): None",
          "None (None): None"
         ],
         null
        ],
        [
         null,
         null
        ],
        [
         null,
         null
        ],
        [
         null,
         null
        ],
        [
         null,
         null
        ],
        [
         null,
         null
        ],
        [
         null,
         null
        ],
        [
         null,
         null
        ],
        [
         null,
         null
        ],
        [
         null,
         null
        ],
        [
         null,
         null
        ],
        [
         null,
         null
        ],
        [
         null,
         null
        ],
        [
         null,
         null
        ],
        [
         null,
         null
        ],
        [
         null,
         null
        ],
        [
         [
          "Final Project- Active Cardiac Assist Device (Jan 2011 - Dec 2011): Preliminary design of a new active, feedback-controlled cardiac assist device.Including a 3D model designed with Solid Works and Matlab",
          "None (None): None"
         ],
         null
        ],
        [
         null,
         null
        ],
        [
         null,
         null
        ],
        [
         null,
         null
        ],
        [
         null,
         null
        ],
        [
         null,
         null
        ],
        [
         null,
         null
        ],
        [
         null,
         null
        ],
        [
         [
          "MERN Baseline (Dec 2023): Start any Typescript web app project on the MERN stack effortlessly with near production grade support."
         ],
         null
        ],
        [
         null,
         null
        ],
        [
         null,
         null
        ],
        [
         null,
         null
        ],
        [
         null,
         null
        ],
        [
         [
          "Portfolio (Dec 2021): My Portfolio website"
         ],
         null
        ],
        [
         [
          "Haynes Man Manual (Jan 2006 - Jan 2007): A pre-launch campaign in support of Eli Lilly's introduction of Cialis in the UK became an international best-seller - and promoted better health to a whole range of men who normally would not access such information. Now in its 2nd edition, the Man Manual has sold well over a million copies raising significant funds for our charity partner on the project, The Mens' Health Forum."
         ],
         null
        ],
        [
         null,
         null
        ],
        [
         null,
         null
        ],
        [
         null,
         null
        ],
        [
         null,
         null
        ],
        [
         null,
         null
        ],
        [
         null,
         null
        ],
        [
         null,
         null
        ],
        [
         null,
         null
        ],
        [
         null,
         null
        ],
        [
         null,
         null
        ],
        [
         null,
         null
        ],
        [
         null,
         null
        ],
        [
         null,
         null
        ],
        [
         null,
         [
          "System and Method for Advertising Verification Based on Users' Demographics",
          "System and Method for Classifying Webpages"
         ]
        ],
        [
         null,
         null
        ],
        [
         null,
         null
        ],
        [
         null,
         [
          "Programmable slew rate power switch",
          "Transient load voltage regulator",
          "Low VT dependency RC oscillator.",
          "Differential comparator with stable offset",
          "Esd protection circuit with two discharge time periods",
          "VOLTAGE AND TEMPERATURE COMPENSATED FREQUENCY CONVERTER"
         ]
        ],
        [
         null,
         null
        ],
        [
         null,
         null
        ],
        [
         null,
         null
        ],
        [
         null,
         null
        ],
        [
         [
          "RentInOut (Jul 2022): RentApp - Your On-Demand Rental Solution. Are you tired of the inconvenience of lugging around things you rarely use or missing out on experiences when you're away from home? Introducing RentApp, the ultimate solution for all your rental needs, whether it's a small tool for a DIY project or a thrilling adventure for the weekend.",
          "None (None): None"
         ],
         null
        ],
        [
         [
          "8200 for Startups - CA Business Tour (2016) (Oct 2016 - Nov 2016): Produced a business tour for 8200 EISP graduates to California. Our program created platforms for five prominent Israeli start-ups to expand their business network, and for Silicon Valley and Silicon Beach to gain access to Israel’s most promising entrepreneurs and start-ups.During the tour, we initiated 21 networking events in 5 days, in which founders pitched their products to potential business partners including Y Combinator, Facebook, and Google.",
          "None (None): None",
          "None (None): None",
          "Lendu (Sep 2012 - Jul 2014): Lendu is a social platform for lending and borrowing goods between friends. It connects between a person’s needs and their friends' resources using social and geographical context, and has over 2500 users. (www.lendu.co.il)",
          "None (None): None",
          "None (None): None",
          "Economics at the Bar (Dec 2012 - May 2013): Established, managed, and produced.",
          "None (None): None",
          "None (None): None"
         ],
         null
        ],
        [
         null,
         null
        ],
        [
         null,
         null
        ],
        [
         null,
         null
        ],
        [
         null,
         null
        ],
        [
         null,
         null
        ],
        [
         [
          "Vimotion Snake (None): Play snake, but with Vim motions"
         ],
         null
        ],
        [
         null,
         null
        ],
        [
         null,
         null
        ],
        [
         [
          "Agricultural Spraying Robot (2016): None",
          "Total Wrist Arthroplasty (2016 - Dec 2017): None"
         ],
         null
        ],
        [
         null,
         null
        ],
        [
         [
          "Mobility Pioneers - Entrepreneur International Project (Oct 2019 - Dec 2019): None"
         ],
         null
        ],
        [
         null,
         null
        ],
        [
         null,
         null
        ],
        [
         [
          "Intelligent End-to-End Traffic Congestion Trouble Shooting  (Mar 2020 - Sep 2020): In collaboration with Mellanox, I participated in a project using MellanoxSN3700 P4-capable Spectrum-2 based switches and implemented an onlineintelligent method, based on postcard telemetry, that has analyzed end-to end traffic congestion or high latency events and provided informationhelpful to pinpoint its root cause of the congestion. Main programming languages are P4 and python, including building a user GUI",
          "Identifying Crohn’s disease related mutations using bioinformatics tools, ML and AI in Python (Nov 2018 - Mar 2019): To predict if a patient is sick from its genotype, we’ve built a classifier from ID3 algorithm under different parameters tuning, to the genotype data related to the disease.The data is a vcf file containing the genotype of a large number of patients, sick or healthy.Use of pandas and NumPy packages in order to parse the data and use it.sklearn package to use the ID3 algorithm and a few other learning methods.Transformation and filtering of the data in different ways, while keeping the best result marked for the learning algorithm .Biological analyzation of the genes that were used by our classifier with genome browsers such as USCS."
         ],
         null
        ],
        [
         null,
         null
        ],
        [
         [
          "AAC Encoding capabilities for the JVM (Jan 2018 - Present): Highly performant port of Android's low-level AAC Codec for the JVM via a JNA bridge, allowing to encode raw WAV input into AAC audio either by using Java's AudioSystem API or directly via a low level interface.This library was incorporated into an audio capturing application I built for one of my clients. It (the app) was responsible for segmenting and compressing live captured RAW audio from sport venues in order to upload it to the cloud in real-time while keeping network throughput to a minimum, and without sacrificing sound quality."
         ],
         [
          "System and Method to Generate a Video on the Fly"
         ]
        ],
        [
         null,
         null
        ],
        [
         null,
         null
        ],
        [
         [
          "Aruba ClearPass - Network Access Control (2017): None",
          "IT risk assesment (Feb 2014): Conduct an IT risk assessment. based on the risk assessment the IT work-plan has been changed, investment have been made.",
          "Virtuale platform migration to Citrix XenServer (Feb 2014): Migration of over then 100 servers from VMware platform to Citrix XenServer",
          "None (None): None",
          "Redesign the company Data centers (Jan 2014): Redesign an enterprise Data Centers in Israel, Germany and Netherlands. The new structure is based on the BCP plans and business needs",
          "None (None): None",
          "Redesign the trading platform to support high avilability (Jan 2014): Implement new structure of the the trading platform (Meta-Trader 4) to support high availability.",
          "None (None): None",
          "RFP for new CRM Platform (Nov 2013): RFP preparation for new CRM platform for a global high-tech company",
          "ERP migration project (Oct 2013): leading the preparation of RFP document for migration project of ERP system.the new system will serve a global high-tech companythe new platform will provide solution for:Finance, finance report consolidation, manufacturing, Logistic, and inter-company processes.",
          "Migration to office 365 (Oct 2013): Migration project of the email platform to the Microsoft Cloud Services.implementing SharePoint and Microsoft Lync",
          "None (None): None",
          "Preparation of Business Continuity Plan (BCP) (Jun 2013): define company's Business Continuity Plan (BCP) based on business requirements and needs",
          "Backup infrastructure (Jan 2013): New backup solution was implemented based on Symantec BE 2012 version, Veeam Backup and Replication",
          "None (None): None",
          "Monitoring system implementation (Jun 2012): Design and implement a global real time monitoring systemThe monitoring system provide real time information on the production platform, infrastructure and servicesUsing that system allow us to improve the system up-time",
          "None (None): None",
          "None (None): None",
          "None (None): None",
          "New SAP – CRM platform (Apr 2012 - Present): Redesign the SAP CRM system to support the business needs include synchronization to the Outlook, mobility",
          "None (None): None",
          "None (None): None",
          "None (None): None",
          "None (None): None",
          "None (None): None",
          "None (None): None",
          "None (None): None",
          "IP telephone implementation (IPT) (Mar 2012): Design and implement new IP telephony system as a global solution to the company, include roaming extensions and centralize management solution",
          "None (None): None",
          "None (None): None",
          "None (None): None",
          "Disaster Recovery (DR) solution (Jan 2012): Solution design based on replication between the main datacenters Accomplished using EMC Recovery Point as hardware layer + Vmware SRM as software that manage DR Activated to all the production services include SAP ERP, CRM, BW, R&D toolsProvide full feasibility and improve the service availability ",
          "None (None): None",
          "SAP rollout (Jan 2012 - Present): Rollout kit preparation; managing the rollout project; include implementation of all active modules (FI, CO, SD, MM, PP, PS, CRM, BW); Successful implementation of the rollout in three Israeli companies, UK , HK, China; Preparation of USA, Korea & Brazil rollouts; Intercompany processes definition and implementation of the required solutions;",
          "None (None): None",
          "None (None): None",
          "None (None): None",
          "None (None): None",
          "None (None): None",
          "None (None): None",
          "Point in time recover solution (Dec 2011): Point in Time solution based on EMC RecoverPoint provides:1.Continuous data protection with multiple recovery points to restore applications instantly to a specific point in time.2.Protect applications with bi-directional synchronous and asynchronous replication and DVR-like recovery in physical, virtual, and cloud infrastructures.3.Minimize network utilization with unique bandwidth compression and deduplication, significantly reducing replicated data over the network.",
          "None (None): None",
          "Wi-Fi implimentation (Jun 2011): Extricom solution was implemented as a Wi-Fi solution; include central management systemThat solution provide separated radio for company users and gust.",
          "None (None): None",
          "None (None): None",
          "None (None): None",
          "None (None): None",
          "Information security - FW, VPN (Apr 2011): Design new platform include:Juniper Firewalls in cluster mode, managing the site-2-site VPN connectionsJuniper SSL VPN solution, Redundant SSL VPN solution",
          "None (None): None",
          "None (None): None",
          "Implement content managment system (Mar 2011): Define and implement content management system based on Microsoft SharePoint 2010, interfaces to collect relevant information from other platforms; Report aggregation solutions; intranet solutions and site collection based on the SharePoint",
          "None (None): None",
          "None (None): None",
          "Upgrade to Exchange 2010 (Jan 2011): upgrade to exchange platform to Exchange 2010 in DAG structure with full DR between the two main datacenters. consolidation of all the exchange servers worldwide into the main data centers.Three Exchange servers in each site (total of six Exchange severs) ; Two Microsoft Forefront Threat Management Gateway (TMG) server – the latest Microsoft network security and protection solution were implemented in each site (total 4 servers), to provide; OWA (outlook web access), RPC over HTTPS solution, mobile connection and replication. The TMG was configure with load balancing and geographic cluster between the sites; Real-time site to site replication",
          "None (None): None",
          "None (None): None",
          "None (None): None",
          "Vmware infrastructure establishing (Jun 2010): Implementing over 35 ESX's in three location hosting over 300 servers and services worldwideFor the use of the traditional IT infrastructures SAP – ERP, Exchange, AD, SQL, File serversFor R&D and production line usagePhysical to virtual migration of old services",
          "None (None): None",
          "Upgrade of the SAP interfaces (May 2012 - Feb 2013): Successful upgrade of BW platform to VER 7, CRM upgrade to VER 7; ERP to ECC6",
          "None (None): None",
          "None (None): None",
          "None (None): None",
          "Design and implementation of the company's private cloud (Mar 2012 - Aug 2012): the private cloud that provides various services such as: SAP ERP, SAP CRM, Exchange, SharePoint, production line ,management tools, R&D tools; Implement new R&D sites mostly relaying on our cloud services, migrating the R&D servers to virtual platform",
          "None (None): None",
          "None (None): None",
          "None (None): None",
          "None (None): None",
          "Redesign the company SAP ERP (Jan 2009 - Dec 2009): Replacing the company's chart of account; implementation of material ledger; system hard currency change;",
          "None (None): None",
          "None (None): None",
          "None (None): None",
          "None (None): None"
         ],
         null
        ],
        [
         null,
         null
        ],
        [
         null,
         null
        ],
        [
         null,
         null
        ],
        [
         null,
         null
        ],
        [
         null,
         null
        ],
        [
         null,
         null
        ],
        [
         null,
         null
        ],
        [
         null,
         null
        ],
        [
         null,
         null
        ],
        [
         null,
         null
        ],
        [
         null,
         null
        ],
        [
         null,
         null
        ],
        [
         null,
         null
        ],
        [
         null,
         null
        ],
        [
         null,
         null
        ],
        [
         null,
         null
        ],
        [
         null,
         null
        ],
        [
         null,
         null
        ],
        [
         null,
         null
        ],
        [
         null,
         null
        ],
        [
         null,
         null
        ],
        [
         null,
         null
        ],
        [
         null,
         null
        ],
        [
         null,
         null
        ],
        [
         null,
         null
        ],
        [
         null,
         [
          "“Methods and apparatus for Sharing Music or Other Information” (pending)",
          "SYSTEMS AND METHODS FOR RELEASING CHLORINE DIOXIDE"
         ]
        ],
        [
         [
          "International Genetically Engineered Machine (iGEM) competition (Mar 2020 - Nov 2020): None"
         ],
         null
        ],
        [
         null,
         null
        ],
        [
         null,
         null
        ],
        [
         null,
         null
        ],
        [
         null,
         null
        ],
        [
         null,
         null
        ],
        [
         null,
         null
        ],
        [
         null,
         null
        ],
        [
         null,
         null
        ],
        [
         null,
         null
        ],
        [
         null,
         null
        ],
        [
         null,
         null
        ],
        [
         [
          "CPQ>CLM>Billing project for a multi-national security software company (Feb 2019 - Present): None",
          "BI Project to leverage CRM data for a non-profit organization (2014): None",
          "PRM Project for an HR services and solutions company (2014): None",
          "CRM & BI Project for a global professional services and auditing conglomerate (2013): None",
          "CRM Project for a large data center and storage company (2012): None",
          "CRM Project for an enterprise oil & gas distribution company (2012): None",
          "Global CRM & BI Program for a large agricultural manufacturing concern (2011): None",
          "Global adoption, training & rollout project for a telco infrastructure manufacturer (2009): None",
          "Samples management design, configuration and implementation for a multi-national medical device company (2009): None",
          "CPQ and billing project for a global enterprise services conglomerate (Nov 2020 - Mar 2021): None",
          "CPQ and partner portal project for a security software company (Dec 2017 - Feb 2019): None",
          "CPQ project for a transportation (planes and trains) manufacturer (heavy mfg) (Sep 2017 - Mar 2018): None",
          "CPQ and PLM project for an HR services company (PEO) (Jan 2017 - Sep 2017): None",
          "E-commerce and CPQ project for a global industrial robotics manufacturer (Jun 2016 - Feb 2017): None",
          "CPQ Project for a Telco company (Feb 2016 - Oct 2016): None",
          "CPQ project for an HVAC manufacturing company (Aug 2015 - Apr 2016): None",
          "CPQ and CRM implementation for a global enterprise in the shipping and logistics industry (May 2015 - Jan 2016): None",
          "CPQ project for an insurance company (Apr 2015 - Sep 2015): None",
          "CRM & BI Project for a global leader in online gaming (2012 - 2014): None",
          "CRM/PRM, CPQ & BI Project for a global hi-tech manufacturing company (2012 - 2013): None",
          "Enterprise CRM, CPQ & BI project rolled out to both HQ and their independent distributors (2010 - 2011): None",
          "Multi-National CRM, CPQ & BI program for a NASDAQ hi-tech company (2009 - 2010): None"
         ],
         null
        ],
        [
         null,
         null
        ],
        [
         null,
         null
        ],
        [
         null,
         null
        ],
        [
         null,
         null
        ],
        [
         null,
         null
        ],
        [
         null,
         null
        ],
        [
         null,
         null
        ],
        [
         null,
         null
        ],
        [
         [
          "StemSearch (None): None",
          "None (None): None"
         ],
         null
        ],
        [
         null,
         null
        ],
        [
         null,
         null
        ],
        [
         null,
         null
        ],
        [
         null,
         null
        ],
        [
         null,
         null
        ],
        [
         null,
         null
        ],
        [
         [
          "Bankyd (Feb 2022 - Feb 2022): 7 days project of an API that enables bank capabilities (electronic bank) -● Create/update/delete/get an account from 3 different types according to certain criteria● Transfer of funds between accounts, according to the type of account and the type of transfer● Actions related to specific accounts (for example, family account - the option to add/remove a family member to the account)Developed using Node.js and Typescript on Express framework and MySQL DB",
          "None (None): None",
          "None (None): None",
          "A&GBusinessesPromotions (Jan 2021 - Sep 2021): A web application of business advertising, by the community to which the business belongs, in a customized and dynamic way.Features:● Create/update/get/delete business/sales● Filter and sort businesses/sales by specific criteria. ● Editing an existing business/sale page.● View sales/businesses by user/guest.● Charging for premium services. ● Connect Sales/Business to another website efficiently. ● Registration and login● User notification● Edit the admin section● Create/update/get/delete new communityDeveloped using Python on Django framework and SQLite DB",
          "None (None): None",
          "Shlifim (Jan 2021 - Jul 2021): Forum-based web application for helping students find answers to their assignments and also share summaries.Features:● Register● Log in & Log out● Post a question● Watch asked questions● Answer a question● Sort answers● Like/Dislike an answer● Add tags to questions● Filter questions by tagsDeveloped using Python on Django framework and SQLite DB",
          "None (None): None",
          "None (None): None",
          "None (None): None",
          "None (None): None"
         ],
         null
        ],
        [
         null,
         null
        ],
        [
         [
          "Development Leaders Program (None): 17 out of about a thousand developers in a technological unit were chosen as the Development Leaders of the organization.The Development Leaders were given special courses to improve their skills and broaden their knowledge in various topics, including Big Data, System, Web and Soft Skills.The Development Leaders Program was managed by a PhD in Computer Science, in addition to 3 chief Software Architects, which were responsible for the material we studied."
         ],
         null
        ],
        [
         null,
         null
        ],
        [
         null,
         null
        ],
        [
         null,
         null
        ],
        [
         null,
         null
        ],
        [
         null,
         null
        ],
        [
         null,
         null
        ],
        [
         null,
         null
        ],
        [
         null,
         null
        ],
        [
         null,
         null
        ],
        [
         null,
         null
        ],
        [
         null,
         null
        ],
        [
         null,
         null
        ],
        [
         null,
         null
        ],
        [
         null,
         null
        ],
        [
         null,
         null
        ],
        [
         null,
         null
        ],
        [
         null,
         null
        ],
        [
         null,
         null
        ],
        [
         null,
         null
        ],
        [
         null,
         null
        ],
        [
         null,
         null
        ],
        [
         null,
         null
        ],
        [
         null,
         null
        ],
        [
         null,
         null
        ],
        [
         null,
         null
        ],
        [
         null,
         null
        ],
        [
         [
          "ModbusMiTM (Sep 2018): Dynamic MODBUS TCP/IP man-in-the-middle",
          "Cuckoo Classifier (Jun 2017): Malware variant classifier based on Random Forest classification algorithm using Cuckoo Sandbox reports."
         ],
         [
          "System and method for identifying activity in a computer system"
         ]
        ],
        [
         null,
         null
        ],
        [
         null,
         null
        ],
        [
         null,
         null
        ],
        [
         null,
         null
        ],
        [
         [
          "AspireAffiliates (Dec 2008 - Mar 2012): Pioneer and worldwide leading affiliate program / performance based media for mass-market gaming and Online Scratch Cards",
          "None (None): None",
          "None (None): None"
         ],
         null
        ],
        [
         null,
         null
        ],
        [
         null,
         null
        ],
        [
         null,
         null
        ],
        [
         null,
         null
        ],
        [
         null,
         null
        ],
        [
         null,
         null
        ],
        [
         null,
         null
        ],
        [
         null,
         null
        ],
        [
         [
          "UFO Music E-Commerce Website (Oct 2011): Planned and executed the design and production of the e-commerce website of an alternative fashion store.",
          "None (None): None",
          "None (None): None"
         ],
         null
        ],
        [
         null,
         null
        ],
        [
         null,
         null
        ],
        [
         [
          "predator.dev (Feb 2019 - Present): A single platform to manage all your performance testing needs + built for the cloud + persisted storage + parallel running and reports out of the box",
          "None (None): None"
         ],
         null
        ],
        [
         null,
         null
        ],
        [
         [
          "Co-Founder at Call to Action (Nov 2013): A very useful mobile application companion that can be 'called to action' during a phone call.Soon to hit the market.",
          "None (None): None",
          "Founder at AfterIPassOn (Apr 2013): AfteriPassOn provides an environment and a platform for its members, that makes bequeathing and distributing valuable information after death in a secure, reliable and a discreet manner possible.Details to come..."
         ],
         [
          "Contextual Audio Recording",
          "System and method for engaging a person in the presence of ambient audio",
          "Tracking Internet Usage In A Household"
         ]
        ],
        [
         null,
         null
        ],
        [
         null,
         null
        ],
        [
         [
          "The KonferenSE 2015 (Sep 2015): Klarna's first internal tech conference. Organized by Klarna engineers for Klarna engineers.Share knowledge and experience and celebrate Klarna's engineering culture",
          "None (None): None",
          "None (None): None",
          "None (None): None",
          "None (None): None",
          "None (None): None",
          "None (None): None",
          "None (None): None",
          "None (None): None",
          "Reversim Summit 2014 (Feb 2014): Reversim Summit is a software developer conference made by developers, for developers. A two day event, 500 participants with subjects ranging from web dev, devops, mobile, big data, startups, product.",
          "None (None): None",
          "None (None): None",
          "None (None): None",
          "None (None): None",
          "None (None): None",
          "None (None): None",
          "None (None): None",
          "None (None): None",
          "None (None): None",
          "None (None): None",
          "None (None): None",
          "None (None): None",
          "None (None): None",
          "Presentations (None): Various talks I gave at conferences."
         ],
         null
        ],
        [
         null,
         null
        ],
        [
         null,
         null
        ],
        [
         null,
         null
        ],
        [
         null,
         null
        ],
        [
         null,
         null
        ],
        [
         null,
         null
        ],
        [
         null,
         null
        ],
        [
         null,
         [
          "Dynamic inventory enhancement"
         ]
        ],
        [
         null,
         null
        ],
        [
         null,
         null
        ],
        [
         null,
         null
        ],
        [
         null,
         null
        ],
        [
         null,
         null
        ],
        [
         null,
         null
        ],
        [
         null,
         null
        ],
        [
         null,
         null
        ],
        [
         null,
         null
        ],
        [
         null,
         [
          "Method and system for injecting javascript into a web page",
          "Scripting language processing engine in data leak prevention application",
          "SERVER AND GATEWAY FOR FILTERING PUSH NOTIFICATIONS ACCORDING TO USER PREFERENCES"
         ]
        ],
        [
         null,
         null
        ],
        [
         null,
         null
        ],
        [
         null,
         null
        ],
        [
         null,
         null
        ],
        [
         null,
         null
        ],
        [
         null,
         null
        ],
        [
         null,
         null
        ],
        [
         null,
         null
        ],
        [
         null,
         null
        ],
        [
         null,
         null
        ],
        [
         null,
         null
        ],
        [
         null,
         null
        ],
        [
         [
          "Continuity's 2 Min Explainer (None): Avoiding Downtime and Data-Loss with AvailabilityGuard - The Video",
          "None (None): None"
         ],
         [
          "System and method of assessing data protection status of data protection resources",
          "DATABASE SWITCH ENABLING A DATABASE AREA NETWORK",
          "PREVENTING UNAUTHORIZED USE OF ACTIVE CONTENT GENERATOR SOFTWARE",
          "SYSTEM AND METHOD OF MANAGING DATA PROTECTION RESOURCES"
         ]
        ],
        [
         null,
         null
        ],
        [
         null,
         null
        ],
        [
         null,
         null
        ],
        [
         [
          "Project Strengthen - Research Evaluation Team (Jan 2015 - Oct 2016): Project Strengthen is a 12-session program that enables high-conflict clients to engage in psychotherapy with a staff clinician teamed with a therapist-in-training. The program was introduced Fall 2014.As a graduate assistant, I was involved in research evaluation of the program: learning about the practicalities of program evaluation, refining the measures used to evaluate the program, organizing and preparing data for analysis via SPSS, and report writing."
         ],
         null
        ]
       ],
       "datasetInfos": [],
       "dbfsResultPath": null,
       "isJsonSchema": true,
       "metadata": {},
       "overflow": false,
       "plotOptions": {
        "customPlotOptions": {},
        "displayType": "table",
        "pivotAggregation": null,
        "pivotColumns": null,
        "xColumns": null,
        "yColumns": null
       },
       "removedWidgets": [],
       "schema": [
        {
         "metadata": "{}",
         "name": "project_info",
         "type": "{\"type\":\"array\",\"elementType\":\"string\",\"containsNull\":true}"
        },
        {
         "metadata": "{}",
         "name": "patent_info",
         "type": "{\"type\":\"array\",\"elementType\":\"string\",\"containsNull\":true}"
        }
       ],
       "type": "table"
      }
     },
     "output_type": "display_data"
    }
   ],
   "source": [
    "final_info_df.display()"
   ]
  },
  {
   "cell_type": "code",
   "execution_count": 0,
   "metadata": {
    "application/vnd.databricks.v1+cell": {
     "cellMetadata": {
      "byteLimit": 2048000,
      "rowLimit": 10000
     },
     "inputWidgets": {},
     "nuid": "4345a247-0522-4f30-a862-029f15f4eb03",
     "showTitle": false,
     "title": ""
    }
   },
   "outputs": [],
   "source": [
    "cleanProfiles = profiles.select(\"about\", \n",
    "                        col(\"certifications.title\").alias(\"certifications_title\"), \n",
    "                        \"city\", \n",
    "                        col(\"current_company.industry\").alias(\"current_company_industry\"), \n",
    "                        col(\"current_company.title\").alias(\"current_company_title\"), \n",
    "                        col(\"current_company.company_id\").alias(\"current_company_id\"), \n",
    "                        col(\"current_company.name\").alias(\"current_company_name\"), \n",
    "                        \"education.degree\", \n",
    "                        \"education.field\", \n",
    "                        col(\"experience.company\").alias(\"experience_company\"), \n",
    "                        col(\"experience.description\").alias(\"experience_description\"), \n",
    "                        col(\"experience.duration\").alias(\"experience_duration\"), \n",
    "                        col(\"experience.positions.title\").alias(\"positions_title\"), \n",
    "                        col(\"experience.title\").alias(\"experience_title\"), \n",
    "                        \"id\", \n",
    "                        col(\"languages.subtitle\").alias(\"languages_level\"), \n",
    "                        col(\"languages.title\").alias(\"languages\"), \n",
    "                        \"position\", \n",
    "                        \"recommendations_count\")"
   ]
  },
  {
   "cell_type": "markdown",
   "metadata": {
    "application/vnd.databricks.v1+cell": {
     "cellMetadata": {
      "byteLimit": 2048000,
      "rowLimit": 10000
     },
     "inputWidgets": {},
     "nuid": "a27329ef-b2c7-4c4c-8406-52a7739d66a8",
     "showTitle": false,
     "title": ""
    }
   },
   "source": [
    "Now, we need to remove all the rows in cleanProfiles that dont have lables"
   ]
  },
  {
   "cell_type": "code",
   "execution_count": 0,
   "metadata": {
    "application/vnd.databricks.v1+cell": {
     "cellMetadata": {
      "byteLimit": 2048000,
      "rowLimit": 10000
     },
     "inputWidgets": {},
     "nuid": "cf2c8dd6-32ef-4f44-bfa4-f06fecdfaa91",
     "showTitle": false,
     "title": ""
    }
   },
   "outputs": [],
   "source": [
    "def contains_only_null(arr):\n",
    "    if arr is None:\n",
    "        return False\n",
    "    for val in arr:\n",
    "        if val is not None:\n",
    "            return False\n",
    "    return True\n",
    "\n",
    "# Register UDF\n",
    "contains_only_null_udf = udf(contains_only_null, BooleanType())\n",
    "\n",
    "# Filtering condition\n",
    "filtered_df = cleanProfiles.filter(\n",
    "    (col(\"current_company_id\").isNotNull()) |\n",
    "    (~contains_only_null_udf(\"experience_company\"))\n",
    ")\n",
    "remove_nulls = filtered_df.withColumn(\"experience_company\", expr(\"filter(experience_company, x -> x is not null)\"))\n",
    "filteredProfiles = remove_nulls.filter(size(col(\"experience_company\")) != 0)"
   ]
  },
  {
   "cell_type": "markdown",
   "metadata": {
    "application/vnd.databricks.v1+cell": {
     "cellMetadata": {
      "byteLimit": 2048000,
      "rowLimit": 10000
     },
     "inputWidgets": {},
     "nuid": "55ae417f-1e1b-4c31-86d4-58f2136f217c",
     "showTitle": false,
     "title": ""
    }
   },
   "source": [
    "Now we need to add a label column. a label is:\n",
    "\n",
    "the current company\n",
    "  if the profile doesnt have a current company, themn it is its previues company ( data is cleaned in a way so at least one is guranteed )."
   ]
  },
  {
   "cell_type": "code",
   "execution_count": 0,
   "metadata": {
    "application/vnd.databricks.v1+cell": {
     "cellMetadata": {
      "byteLimit": 2048000,
      "rowLimit": 10000
     },
     "inputWidgets": {},
     "nuid": "949159d0-d5ef-42c1-b8d3-a2ed6d46f3fb",
     "showTitle": false,
     "title": ""
    }
   },
   "outputs": [],
   "source": [
    "@udf(StringType())\n",
    "def combine_columns(current_company_id, experience_company):\n",
    "    if current_company_id is not None:\n",
    "        return current_company_id\n",
    "    elif experience_company is not None and len(experience_company) > 0:\n",
    "        return experience_company[0]\n",
    "    else:\n",
    "        return None\n",
    "\n",
    "# Add new column using UDF\n",
    "readyProfiles = filteredProfiles.withColumn(\"label\", combine_columns(filteredProfiles.current_company_id, filteredProfiles.experience_company))"
   ]
  },
  {
   "cell_type": "markdown",
   "metadata": {
    "application/vnd.databricks.v1+cell": {
     "cellMetadata": {
      "byteLimit": 2048000,
      "rowLimit": 10000
     },
     "inputWidgets": {},
     "nuid": "32103cc8-b161-4e56-8f41-fdf4dc9ba18a",
     "showTitle": false,
     "title": ""
    }
   },
   "source": [
    "Beginning EVA"
   ]
  },
  {
   "cell_type": "code",
   "execution_count": 0,
   "metadata": {
    "application/vnd.databricks.v1+cell": {
     "cellMetadata": {
      "byteLimit": 2048000,
      "rowLimit": 10000
     },
     "inputWidgets": {},
     "nuid": "d020ab47-88e3-4f81-a40d-c503c5ae2751",
     "showTitle": false,
     "title": ""
    }
   },
   "outputs": [],
   "source": [
    "df = readyProfiles"
   ]
  },
  {
   "cell_type": "code",
   "execution_count": 0,
   "metadata": {
    "application/vnd.databricks.v1+cell": {
     "cellMetadata": {
      "byteLimit": 2048000,
      "rowLimit": 10000
     },
     "inputWidgets": {},
     "nuid": "e517dc0c-a31f-46f4-aa1e-5f884591e60a",
     "showTitle": false,
     "title": ""
    }
   },
   "outputs": [],
   "source": [
    "df = df.withColumn(\"certifications_title\", concat_ws(\";\", col(\"certifications_title\"))) \\\n",
    "                   .withColumn(\"degree\", concat_ws(\";\", col(\"degree\"))) \\\n",
    "                   .withColumn(\"field\", concat_ws(\";\", col(\"field\"))) \\\n",
    "                   .withColumn(\"experience_company\", concat_ws(\";\", col(\"experience_company\"))) \\\n",
    "                   .withColumn(\"experience_description\", concat_ws(\";\", col(\"experience_description\"))) \\\n",
    "                   .withColumn(\"experience_duration\", concat_ws(\";\", col(\"experience_duration\"))) \\\n",
    "                   .withColumn(\"positions_title\", concat_ws(\";\", flatten(col(\"positions_title\")))) \\\n",
    "                   .withColumn(\"experience_title\", concat_ws(\";\", col(\"experience_title\"))) \\\n",
    "                   .withColumn(\"languages_level\", concat_ws(\";\", col(\"languages_level\"))) \\\n",
    "                   .withColumn(\"languages\", concat_ws(\";\", col(\"languages\")))\n",
    "\n",
    "# Converting array columns to string columns separated by ';'\n",
    "final_israeli_joined_df = final_israeli_joined_df.withColumn(\"region\", concat_ws(\";\", col(\"region\"))) \\\n",
    "                   .withColumn(\"position\", concat_ws(\";\", col(\"position\"))) \\\n",
    "                   .withColumn(\"educations_details\", concat_ws(\";\", col(\"educations_details\"))) \\\n",
    "                   .withColumn(\"recommendations_count\", concat_ws(\";\", col(\"recommendations_count\"))) \\\n",
    "                   .withColumn(\"current_company_name\", concat_ws(\";\", col(\"current_company_name\"))) \\\n",
    "                   .withColumn(\"current_company_company_id\", concat_ws(\";\", col(\"current_company_company_id\"))) \\\n",
    "                   .withColumn(\"project_info\", concat_ws(\";\", col(\"project_info\"))) \\\n",
    "                   .withColumn(\"patent_info\", concat_ws(\";\", col(\"patent_info\")))\n",
    "final_israeli_joined_df = final_israeli_joined_df.withColumn('label', concat_udf('current_company_company_id'))"
   ]
  },
  {
   "cell_type": "code",
   "execution_count": 0,
   "metadata": {
    "application/vnd.databricks.v1+cell": {
     "cellMetadata": {
      "byteLimit": 2048000,
      "rowLimit": 10000
     },
     "inputWidgets": {},
     "nuid": "816d121e-6761-4ae8-9fa8-8eb0c5f2fd5a",
     "showTitle": false,
     "title": ""
    }
   },
   "outputs": [],
   "source": [
    "def combine_features(*values):\n",
    "    return ' ;'.join(map(str, values))\n",
    "\n",
    "def mean_vector(embeddings):\n",
    "    words_embeddings = [word.embeddings for word in embeddings]\n",
    "    embeddings_array = np.array(words_embeddings)\n",
    "    if embeddings_array.size == 0:\n",
    "        return Vectors.dense([])\n",
    "    mean_embedding = np.mean(embeddings_array, axis=0)\n",
    "    return Vectors.dense(mean_embedding.tolist())\n",
    "\n",
    "mean_vector_udf = udf(mean_vector, VectorUDT())\n",
    "concat_udf = udf(combine_features, StringType())\n",
    "\n",
    "columns_to_combine = [col for col in df.columns if col != \"label\"]\n",
    "columns_to_combine_israeli = [col for col in final_israeli_joined_df.columns if col != \"label\"]"
   ]
  },
  {
   "cell_type": "code",
   "execution_count": 0,
   "metadata": {
    "application/vnd.databricks.v1+cell": {
     "cellMetadata": {
      "byteLimit": 2048000,
      "rowLimit": 10000
     },
     "inputWidgets": {},
     "nuid": "cc762926-f928-44cc-ab97-d6f6ef7c06e4",
     "showTitle": false,
     "title": ""
    }
   },
   "outputs": [],
   "source": [
    "df = df.withColumn('concatenated_text', concat_udf(*columns_to_combine))\n",
    "df = df.withColumn('concatenated_label', concat_udf('label'))\n",
    "\n",
    "final_israeli_joined_df = final_israeli_joined_df.withColumn('concatenated_text', concat_udf(*columns_to_combine_israeli))\n",
    "final_israeli_joined_df = final_israeli_joined_df.withColumn('concatenated_label', concat_udf('label'))"
   ]
  },
  {
   "cell_type": "code",
   "execution_count": 0,
   "metadata": {
    "application/vnd.databricks.v1+cell": {
     "cellMetadata": {
      "byteLimit": 2048000,
      "rowLimit": 10000
     },
     "inputWidgets": {},
     "nuid": "c225e310-c559-4c3f-baf5-a89cfa96fb6c",
     "showTitle": false,
     "title": ""
    }
   },
   "outputs": [
    {
     "output_type": "stream",
     "name": "stdout",
     "output_type": "stream",
     "text": [
      "small_bert_L2_128 download started this may take some time.\nApproximate size to download 16.1 MB\n\r[ | ]\r[OK!]\n"
     ]
    }
   ],
   "source": [
    "document_assembler = DocumentAssembler()\\\n",
    "    .setInputCol(\"concatenated_text\")\\\n",
    "    .setOutputCol(\"document\")\n",
    "\n",
    "tokenizer = Tokenizer()\\\n",
    "    .setInputCols([\"document\"])\\\n",
    "    .setOutputCol(\"token\")\n",
    "\n",
    "bert_embeddings = BertEmbeddings.pretrained(name=\"small_bert_L2_128\", lang=\"en\")\\\n",
    "    .setInputCols([\"document\", \"token\"])\\\n",
    "    .setOutputCol(\"embeddings\")\\\n",
    "    .setCaseSensitive(False)"
   ]
  },
  {
   "cell_type": "code",
   "execution_count": 0,
   "metadata": {
    "application/vnd.databricks.v1+cell": {
     "cellMetadata": {
      "byteLimit": 2048000,
      "rowLimit": 10000
     },
     "inputWidgets": {},
     "nuid": "631306a3-c4d8-4fa6-8983-6724122dc985",
     "showTitle": false,
     "title": ""
    }
   },
   "outputs": [],
   "source": [
    "pipeline = Pipeline().setStages([document_assembler, tokenizer, bert_embeddings])\n",
    "pipeline_israeli = Pipeline().setStages([document_assembler, tokenizer, bert_embeddings])\n",
    "\n",
    "fitted_pipeline_israeli = pipeline_israeli.fit(final_israeli_joined_df)\n",
    "fitted_pipeline = pipeline.fit(df)\n",
    "\n",
    "processed_features = fitted_pipeline.transform(df)\n",
    "processed_features_israeli = fitted_pipeline_israeli.transform(final_israeli_joined_df)\n",
    "\n",
    "final = processed_features.withColumn(\"mean_embeddings\", mean_vector_udf(\"embeddings\"))\n",
    "final_israeli = processed_features_israeli.withColumn(\"mean_embeddings\", mean_vector_udf(\"embeddings\"))"
   ]
  },
  {
   "cell_type": "code",
   "execution_count": 0,
   "metadata": {
    "application/vnd.databricks.v1+cell": {
     "cellMetadata": {
      "byteLimit": 2048000,
      "rowLimit": 10000
     },
     "inputWidgets": {},
     "nuid": "c05ba647-5f01-472f-a2dc-24fd58924ebb",
     "showTitle": false,
     "title": ""
    }
   },
   "outputs": [],
   "source": [
    "readydf = final.select(col(\"concatenated_label\").alias(\"label\"), col(\"mean_embeddings\").alias(\"features\"))\n",
    "readydf_israeli = final_israeli.select(col(\"concatenated_label\").alias(\"label\"), col(\"mean_embeddings\").alias(\"features\"))"
   ]
  },
  {
   "cell_type": "code",
   "execution_count": 0,
   "metadata": {
    "application/vnd.databricks.v1+cell": {
     "cellMetadata": {
      "byteLimit": 2048000,
      "rowLimit": 10000
     },
     "inputWidgets": {},
     "nuid": "2008c09b-66dd-499e-80a0-c50f7834b864",
     "showTitle": false,
     "title": ""
    }
   },
   "outputs": [],
   "source": [
    "readydf = readydf.withColumn('features', vector_to_array('features'))\n",
    "readydf_israeli = readydf_israeli.withColumn('features', vector_to_array('features'))"
   ]
  },
  {
   "cell_type": "code",
   "execution_count": 0,
   "metadata": {
    "application/vnd.databricks.v1+cell": {
     "cellMetadata": {
      "byteLimit": 2048000,
      "rowLimit": 10000
     },
     "inputWidgets": {},
     "nuid": "bc469668-20bc-4bbb-b5fa-f8298f73fd7b",
     "showTitle": false,
     "title": ""
    }
   },
   "outputs": [],
   "source": [
    "windowSpec = Window.partitionBy(\"label\")\n",
    "df_with_count = readydf.withColumn(\"label_count\", F.count(\"label\").over(windowSpec))\n",
    "df_with_count_israeli = readydf_israeli.withColumn(\"label_count\", F.count(\"label\").over(windowSpec))\n",
    "\n",
    "# Now, filter the DataFrame to keep only rows with labels that occur more than once\n",
    "filtered_df = df_with_count.filter(col(\"label_count\") > 4).drop(\"label_count\")\n",
    "filtered_df_israeli = df_with_count_israeli.filter(col(\"label_count\") > 4).drop(\"label_count\")"
   ]
  },
  {
   "cell_type": "code",
   "execution_count": 0,
   "metadata": {
    "application/vnd.databricks.v1+cell": {
     "cellMetadata": {
      "byteLimit": 2048000,
      "rowLimit": 10000
     },
     "inputWidgets": {},
     "nuid": "2df93e0f-79e6-4af2-96e0-a7d9cdb8a78e",
     "showTitle": false,
     "title": ""
    }
   },
   "outputs": [],
   "source": [
    "pdf_israeli = filtered_df_israeli.toPandas()"
   ]
  },
  {
   "cell_type": "code",
   "execution_count": 0,
   "metadata": {
    "application/vnd.databricks.v1+cell": {
     "cellMetadata": {
      "byteLimit": 2048000,
      "rowLimit": 10000
     },
     "inputWidgets": {},
     "nuid": "77b7ceb6-f97b-4c79-b3be-1256263de8cb",
     "showTitle": false,
     "title": ""
    }
   },
   "outputs": [
    {
     "output_type": "display_data",
     "data": {
      "text/html": [
       "<div>\n",
       "<style scoped>\n",
       "    .dataframe tbody tr th:only-of-type {\n",
       "        vertical-align: middle;\n",
       "    }\n",
       "\n",
       "    .dataframe tbody tr th {\n",
       "        vertical-align: top;\n",
       "    }\n",
       "\n",
       "    .dataframe thead th {\n",
       "        text-align: right;\n",
       "    }\n",
       "</style>\n",
       "<table border=\"1\" class=\"dataframe\">\n",
       "  <thead>\n",
       "    <tr style=\"text-align: right;\">\n",
       "      <th></th>\n",
       "      <th>label</th>\n",
       "      <th>features</th>\n",
       "    </tr>\n",
       "  </thead>\n",
       "  <tbody>\n",
       "    <tr>\n",
       "      <th>0</th>\n",
       "      <td>4m-analytics</td>\n",
       "      <td>[-1.6014958847136724, -0.5573168041716728, -0....</td>\n",
       "    </tr>\n",
       "    <tr>\n",
       "      <th>1</th>\n",
       "      <td>4m-analytics</td>\n",
       "      <td>[-0.7555547985045806, 0.3190507866928111, -0.0...</td>\n",
       "    </tr>\n",
       "    <tr>\n",
       "      <th>2</th>\n",
       "      <td>4m-analytics</td>\n",
       "      <td>[-1.1667294127068348, -0.9156654881579536, -0....</td>\n",
       "    </tr>\n",
       "    <tr>\n",
       "      <th>3</th>\n",
       "      <td>4m-analytics</td>\n",
       "      <td>[-1.557504834799931, -0.0739575208582241, -0.4...</td>\n",
       "    </tr>\n",
       "    <tr>\n",
       "      <th>4</th>\n",
       "      <td>4m-analytics</td>\n",
       "      <td>[-1.1995340954210307, -0.38181648342996033, -0...</td>\n",
       "    </tr>\n",
       "    <tr>\n",
       "      <th>...</th>\n",
       "      <td>...</td>\n",
       "      <td>...</td>\n",
       "    </tr>\n",
       "    <tr>\n",
       "      <th>1092</th>\n",
       "      <td>zone7ai</td>\n",
       "      <td>[-1.1773088642142036, -0.6362856812775135, -0....</td>\n",
       "    </tr>\n",
       "    <tr>\n",
       "      <th>1093</th>\n",
       "      <td>zone7ai</td>\n",
       "      <td>[-1.5285623893141747, -0.039684190725286804, -...</td>\n",
       "    </tr>\n",
       "    <tr>\n",
       "      <th>1094</th>\n",
       "      <td>zone7ai</td>\n",
       "      <td>[-1.360643278219198, -1.0163621925993969, -0.7...</td>\n",
       "    </tr>\n",
       "    <tr>\n",
       "      <th>1095</th>\n",
       "      <td>zone7ai</td>\n",
       "      <td>[-1.7080026865005493, -0.3067014639576276, -0....</td>\n",
       "    </tr>\n",
       "    <tr>\n",
       "      <th>1096</th>\n",
       "      <td>zone7ai</td>\n",
       "      <td>[-1.6834647845138202, -0.46056046235290443, -0...</td>\n",
       "    </tr>\n",
       "  </tbody>\n",
       "</table>\n",
       "<p>1097 rows × 2 columns</p>\n",
       "</div>"
      ]
     },
     "metadata": {
      "application/vnd.databricks.v1+output": {
       "addedWidgets": {},
       "arguments": {},
       "data": "<div>\n<style scoped>\n    .dataframe tbody tr th:only-of-type {\n        vertical-align: middle;\n    }\n\n    .dataframe tbody tr th {\n        vertical-align: top;\n    }\n\n    .dataframe thead th {\n        text-align: right;\n    }\n</style>\n<table border=\"1\" class=\"dataframe\">\n  <thead>\n    <tr style=\"text-align: right;\">\n      <th></th>\n      <th>label</th>\n      <th>features</th>\n    </tr>\n  </thead>\n  <tbody>\n    <tr>\n      <th>0</th>\n      <td>4m-analytics</td>\n      <td>[-1.6014958847136724, -0.5573168041716728, -0....</td>\n    </tr>\n    <tr>\n      <th>1</th>\n      <td>4m-analytics</td>\n      <td>[-0.7555547985045806, 0.3190507866928111, -0.0...</td>\n    </tr>\n    <tr>\n      <th>2</th>\n      <td>4m-analytics</td>\n      <td>[-1.1667294127068348, -0.9156654881579536, -0....</td>\n    </tr>\n    <tr>\n      <th>3</th>\n      <td>4m-analytics</td>\n      <td>[-1.557504834799931, -0.0739575208582241, -0.4...</td>\n    </tr>\n    <tr>\n      <th>4</th>\n      <td>4m-analytics</td>\n      <td>[-1.1995340954210307, -0.38181648342996033, -0...</td>\n    </tr>\n    <tr>\n      <th>...</th>\n      <td>...</td>\n      <td>...</td>\n    </tr>\n    <tr>\n      <th>1092</th>\n      <td>zone7ai</td>\n      <td>[-1.1773088642142036, -0.6362856812775135, -0....</td>\n    </tr>\n    <tr>\n      <th>1093</th>\n      <td>zone7ai</td>\n      <td>[-1.5285623893141747, -0.039684190725286804, -...</td>\n    </tr>\n    <tr>\n      <th>1094</th>\n      <td>zone7ai</td>\n      <td>[-1.360643278219198, -1.0163621925993969, -0.7...</td>\n    </tr>\n    <tr>\n      <th>1095</th>\n      <td>zone7ai</td>\n      <td>[-1.7080026865005493, -0.3067014639576276, -0....</td>\n    </tr>\n    <tr>\n      <th>1096</th>\n      <td>zone7ai</td>\n      <td>[-1.6834647845138202, -0.46056046235290443, -0...</td>\n    </tr>\n  </tbody>\n</table>\n<p>1097 rows × 2 columns</p>\n</div>",
       "datasetInfos": [],
       "metadata": {},
       "removedWidgets": [],
       "textData": null,
       "type": "htmlSandbox"
      }
     },
     "output_type": "display_data"
    }
   ],
   "source": [
    "pdf_israeli"
   ]
  },
  {
   "cell_type": "code",
   "execution_count": 0,
   "metadata": {
    "application/vnd.databricks.v1+cell": {
     "cellMetadata": {
      "byteLimit": 2048000,
      "rowLimit": 10000
     },
     "inputWidgets": {},
     "nuid": "5b2fa9e6-2d31-486f-8601-56b35d391124",
     "showTitle": false,
     "title": ""
    }
   },
   "outputs": [],
   "source": [
    "pdf = filtered_df.toPandas()"
   ]
  },
  {
   "cell_type": "markdown",
   "metadata": {
    "application/vnd.databricks.v1+cell": {
     "cellMetadata": {
      "byteLimit": 2048000,
      "rowLimit": 10000
     },
     "inputWidgets": {},
     "nuid": "7ca1050e-3511-4878-9767-08480b600ac2",
     "showTitle": false,
     "title": ""
    }
   },
   "source": [
    "Only the scraping data:"
   ]
  },
  {
   "cell_type": "code",
   "execution_count": 0,
   "metadata": {
    "application/vnd.databricks.v1+cell": {
     "cellMetadata": {
      "byteLimit": 2048000,
      "rowLimit": 10000
     },
     "inputWidgets": {},
     "nuid": "746bc947-6342-4e95-957a-7d108c204bfc",
     "showTitle": false,
     "title": ""
    }
   },
   "outputs": [],
   "source": [
    "pandas_df_israeli = pdf_israeli.copy()"
   ]
  },
  {
   "cell_type": "code",
   "execution_count": 0,
   "metadata": {
    "application/vnd.databricks.v1+cell": {
     "cellMetadata": {
      "byteLimit": 2048000,
      "rowLimit": 10000
     },
     "inputWidgets": {},
     "nuid": "76e21669-28b4-4947-b6d6-8030e0edf679",
     "showTitle": false,
     "title": ""
    }
   },
   "outputs": [],
   "source": [
    "pandas_df = pdf.copy()"
   ]
  },
  {
   "cell_type": "markdown",
   "metadata": {
    "application/vnd.databricks.v1+cell": {
     "cellMetadata": {
      "byteLimit": 2048000,
      "rowLimit": 10000
     },
     "inputWidgets": {},
     "nuid": "f6c2c56d-6681-4282-b3d1-89e24fba188d",
     "showTitle": false,
     "title": ""
    }
   },
   "source": [
    "KNN"
   ]
  },
  {
   "cell_type": "code",
   "execution_count": 0,
   "metadata": {
    "application/vnd.databricks.v1+cell": {
     "cellMetadata": {
      "byteLimit": 2048000,
      "rowLimit": 10000
     },
     "inputWidgets": {},
     "nuid": "fb3f7dbe-e175-447e-a2df-1c674eb345d5",
     "showTitle": false,
     "title": ""
    }
   },
   "outputs": [],
   "source": [
    "UniqueLabels = pandas_df_israeli['label'].unique()\n",
    "label_to_idx = {label: idx for idx, label in enumerate(UniqueLabels)}\n",
    "pandas_df_israeli['label'] = pandas_df_israeli['label'].map(label_to_idx)"
   ]
  },
  {
   "cell_type": "code",
   "execution_count": 0,
   "metadata": {
    "application/vnd.databricks.v1+cell": {
     "cellMetadata": {
      "byteLimit": 2048000,
      "rowLimit": 10000
     },
     "inputWidgets": {},
     "nuid": "d7250696-7671-4f2a-b4ba-02ef13e3857d",
     "showTitle": false,
     "title": ""
    }
   },
   "outputs": [],
   "source": [
    "# Splitting the data into features (X) and labels (y)\n",
    "X = np.array(pandas_df_israeli['features'].tolist())\n",
    "y = np.array(pandas_df_israeli['label'])\n",
    "\n",
    "# Splitting the data into training and testing sets\n",
    "X_train, X_test, y_train, y_test = train_test_split(X, y, test_size=0.2, random_state=42)\n",
    "\n",
    "# Standardizing features\n",
    "scaler = StandardScaler()\n",
    "X_train = scaler.fit_transform(X_train)\n",
    "X_test = scaler.transform(X_test)"
   ]
  },
  {
   "cell_type": "code",
   "execution_count": 0,
   "metadata": {
    "application/vnd.databricks.v1+cell": {
     "cellMetadata": {
      "byteLimit": 2048000,
      "rowLimit": 10000
     },
     "inputWidgets": {},
     "nuid": "135b04bb-abf6-49f2-9bb2-0517877030bf",
     "showTitle": false,
     "title": ""
    }
   },
   "outputs": [
    {
     "output_type": "stream",
     "name": "stdout",
     "output_type": "stream",
     "text": [
      "Weights: distance | K: 5 | Accuracy: 0.55 | Precision: 0.6543939393939394 | Recall: 0.55 | F1-score: 0.5580952380952381\nWeights: distance | K: 7 | Accuracy: 0.55 | Precision: 0.6678030303030302 | Recall: 0.55 | F1-score: 0.5627272727272727\nWeights: distance | K: 9 | Accuracy: 0.5272727272727272 | Precision: 0.655530303030303 | Recall: 0.5272727272727272 | F1-score: 0.5417099567099567\nWeights: distance | K: 11 | Accuracy: 0.5181818181818182 | Precision: 0.6442640692640693 | Recall: 0.5181818181818182 | F1-score: 0.5297979797979797\nWeights: distance | K: 13 | Accuracy: 0.5363636363636364 | Precision: 0.645909090909091 | Recall: 0.5363636363636364 | F1-score: 0.5409848484848485\nWeights: distance | K: 15 | Accuracy: 0.55 | Precision: 0.6678030303030303 | Recall: 0.55 | F1-score: 0.5568398268398268\nWeights: distance | K: 17 | Accuracy: 0.5636363636363636 | Precision: 0.6521212121212121 | Recall: 0.5636363636363636 | F1-score: 0.5637012987012987\nWeights: distance | K: 19 | Accuracy: 0.5590909090909091 | Precision: 0.6406060606060606 | Recall: 0.5590909090909091 | F1-score: 0.5556493506493506\nWeights: distance | K: 21 | Accuracy: 0.55 | Precision: 0.6118181818181818 | Recall: 0.55 | F1-score: 0.5403463203463204\nWeights: distance | K: 23 | Accuracy: 0.5590909090909091 | Precision: 0.6221969696969697 | Recall: 0.5590909090909091 | F1-score: 0.5461688311688311\nWeights: distance | K: 25 | Accuracy: 0.5409090909090909 | Precision: 0.6057575757575758 | Recall: 0.5409090909090909 | F1-score: 0.528073593073593\nWeights: distance | K: 27 | Accuracy: 0.5454545454545454 | Precision: 0.6128787878787878 | Recall: 0.5454545454545454 | F1-score: 0.5346536796536797\nWeights: distance | K: 29 | Accuracy: 0.5272727272727272 | Precision: 0.5754545454545454 | Recall: 0.5272727272727272 | F1-score: 0.5108008658008657\nWeights: distance | K: 31 | Accuracy: 0.5045454545454545 | Precision: 0.5465909090909091 | Recall: 0.5045454545454545 | F1-score: 0.4868831168831168\nWeights: distance | K: 33 | Accuracy: 0.4954545454545455 | Precision: 0.5462121212121211 | Recall: 0.4954545454545455 | F1-score: 0.4771645021645022\nWeights: distance | K: 35 | Accuracy: 0.5045454545454545 | Precision: 0.5575757575757575 | Recall: 0.5045454545454545 | F1-score: 0.48686147186147183\nWeights: distance | K: 37 | Accuracy: 0.5045454545454545 | Precision: 0.5636363636363636 | Recall: 0.5045454545454545 | F1-score: 0.48883116883116884\nWeights: distance | K: 39 | Accuracy: 0.509090909090909 | Precision: 0.576590909090909 | Recall: 0.509090909090909 | F1-score: 0.4958658008658009\nWeights: distance | K: 41 | Accuracy: 0.5 | Precision: 0.5568939393939395 | Recall: 0.5 | F1-score: 0.48253246753246753\nWeights: distance | K: 43 | Accuracy: 0.4909090909090909 | Precision: 0.5463852813852814 | Recall: 0.4909090909090909 | F1-score: 0.4721356421356421\nWeights: distance | K: 45 | Accuracy: 0.4727272727272727 | Precision: 0.528961038961039 | Recall: 0.4727272727272727 | F1-score: 0.45215728715728715\nWeights: distance | K: 47 | Accuracy: 0.4681818181818182 | Precision: 0.5175974025974026 | Recall: 0.4681818181818182 | F1-score: 0.4426551226551227\nWeights: distance | K: 49 | Accuracy: 0.4681818181818182 | Precision: 0.4998701298701298 | Recall: 0.4681818181818182 | F1-score: 0.4387157287157287\n"
     ]
    }
   ],
   "source": [
    "\n",
    "# Initializing the K-Nearest Neighbors classifier\n",
    "knn_classifier = KNeighborsClassifier(n_neighbors=19, weights=\"distance\")\n",
    "\n",
    "# Fitting the classifier to the training data\n",
    "knn_classifier.fit(X_train, y_train)\n",
    "\n",
    "# Predicting labels for the test set\n",
    "y_pred = knn_classifier.predict(X_test)\n",
    "\n",
    "# Calculating evaluation metrics\n",
    "accuracy, precision, recall, f1 = accuracy_score(y_test, y_pred), precision_score(y_test, y_pred, average='weighted'), recall_score(y_test, y_pred, average='weighted'), f1_score(y_test, y_pred, average='weighted')\n",
    "\n",
    "# Printing evaluation metrics\n",
    "print(\"Weights:\", w, \"| K:\", k, \"| Accuracy:\", accuracy, \"| Precision:\", precision, \"| Recall:\", recall, \"| F1-score:\", f1)\n"
   ]
  },
  {
   "cell_type": "markdown",
   "metadata": {
    "application/vnd.databricks.v1+cell": {
     "cellMetadata": {
      "byteLimit": 2048000,
      "rowLimit": 10000
     },
     "inputWidgets": {},
     "nuid": "c49accf5-3366-497c-bf67-8f59ed0f7c5c",
     "showTitle": false,
     "title": ""
    }
   },
   "source": [
    "Without Scraping"
   ]
  },
  {
   "cell_type": "markdown",
   "metadata": {
    "application/vnd.databricks.v1+cell": {
     "cellMetadata": {
      "byteLimit": 2048000,
      "rowLimit": 10000
     },
     "inputWidgets": {},
     "nuid": "aa666f9e-58e2-48ea-b7f4-df60f4f01cbc",
     "showTitle": false,
     "title": ""
    }
   },
   "source": [
    "KNN"
   ]
  },
  {
   "cell_type": "code",
   "execution_count": 0,
   "metadata": {
    "application/vnd.databricks.v1+cell": {
     "cellMetadata": {
      "byteLimit": 2048000,
      "rowLimit": 10000
     },
     "inputWidgets": {},
     "nuid": "033e0b40-7241-4603-806e-3a89942a1b46",
     "showTitle": false,
     "title": ""
    }
   },
   "outputs": [],
   "source": [
    "pandas_df = pdf.copy()"
   ]
  },
  {
   "cell_type": "code",
   "execution_count": 0,
   "metadata": {
    "application/vnd.databricks.v1+cell": {
     "cellMetadata": {
      "byteLimit": 2048000,
      "rowLimit": 10000
     },
     "inputWidgets": {},
     "nuid": "4504e4ea-ed36-4246-a44b-f17d9958ecf5",
     "showTitle": false,
     "title": ""
    }
   },
   "outputs": [],
   "source": [
    "UniqueLabels = pandas_df['label'].unique()\n",
    "label_to_idx = {label: idx for idx, label in enumerate(UniqueLabels)}\n",
    "pandas_df['label'] = pandas_df['label'].map(label_to_idx)"
   ]
  },
  {
   "cell_type": "code",
   "execution_count": 0,
   "metadata": {
    "application/vnd.databricks.v1+cell": {
     "cellMetadata": {
      "byteLimit": 2048000,
      "rowLimit": 10000
     },
     "inputWidgets": {},
     "nuid": "ab1d11e0-b064-4a7e-aa47-57837a1dd0b2",
     "showTitle": false,
     "title": ""
    }
   },
   "outputs": [],
   "source": [
    "# Splitting the data into features (X) and labels (y)\n",
    "X = np.array(pandas_df['features'].tolist())\n",
    "y = np.array(pandas_df['label'])\n",
    "\n",
    "# Splitting the data into training and testing sets\n",
    "X_train, X_test, y_train, y_test = train_test_split(X, y, test_size=0.2, random_state=42)"
   ]
  },
  {
   "cell_type": "code",
   "execution_count": 0,
   "metadata": {
    "application/vnd.databricks.v1+cell": {
     "cellMetadata": {
      "byteLimit": 2048000,
      "rowLimit": 10000
     },
     "inputWidgets": {},
     "nuid": "dab22cdf-6fa7-4b30-967c-c16983220ed2",
     "showTitle": false,
     "title": ""
    }
   },
   "outputs": [],
   "source": [
    "# Standardizing features\n",
    "scaler = StandardScaler()\n",
    "X_train = scaler.fit_transform(X_train)\n",
    "X_test = scaler.transform(X_test)"
   ]
  },
  {
   "cell_type": "code",
   "execution_count": 0,
   "metadata": {
    "application/vnd.databricks.v1+cell": {
     "cellMetadata": {
      "byteLimit": 2048000,
      "rowLimit": 10000
     },
     "inputWidgets": {},
     "nuid": "b073adef-7f8f-4960-91e8-7faf1e0e57e6",
     "showTitle": false,
     "title": ""
    }
   },
   "outputs": [
    {
     "output_type": "stream",
     "name": "stdout",
     "output_type": "stream",
     "text": [
      "Weights: distance | K: 1 | Accuracy: 0.17710077000334784 | Precision: 0.19505024174569763 | Recall: 0.17710077000334784 | F1-score: 0.1762038970665142\nWeights: distance | K: 3 | Accuracy: 0.18316873116839638 | Precision: 0.19892416889085393 | Recall: 0.18316873116839638 | F1-score: 0.18087511767690456\nWeights: distance | K: 5 | Accuracy: 0.1896342484097757 | Precision: 0.20063819938946664 | Recall: 0.1896342484097757 | F1-score: 0.18457918394139647\nWeights: distance | K: 7 | Accuracy: 0.19354703716103114 | Precision: 0.20030099460226883 | Recall: 0.19354703716103114 | F1-score: 0.18570727568625967\nWeights: distance | K: 9 | Accuracy: 0.1965391697355206 | Precision: 0.1991862988615002 | Recall: 0.1965391697355206 | F1-score: 0.18596968089839128\nWeights: distance | K: 11 | Accuracy: 0.19884081017743555 | Precision: 0.19761923979821464 | Recall: 0.19884081017743555 | F1-score: 0.1854544781958786\nWeights: distance | K: 13 | Accuracy: 0.2006611985269501 | Precision: 0.19585214453843852 | Recall: 0.2006611985269501 | F1-score: 0.1847199629612948\nWeights: distance | K: 15 | Accuracy: 0.20210495480415133 | Precision: 0.19511692326154098 | Recall: 0.20210495480415133 | F1-score: 0.18411975365487643\nWeights: distance | K: 17 | Accuracy: 0.20356963508536993 | Precision: 0.19454980485486534 | Recall: 0.20356963508536993 | F1-score: 0.18353149500713392\nWeights: distance | K: 19 | Accuracy: 0.20390441914964846 | Precision: 0.19330892154308998 | Recall: 0.20390441914964846 | F1-score: 0.18200335733681278\nWeights: distance | K: 21 | Accuracy: 0.2046158352862404 | Precision: 0.19268819517535268 | Recall: 0.2046158352862404 | F1-score: 0.18105168297587582\nWeights: distance | K: 23 | Accuracy: 0.20499246735855373 | Precision: 0.19160206544591707 | Recall: 0.20499246735855373 | F1-score: 0.1799538727529307\nWeights: distance | K: 25 | Accuracy: 0.20532725142283229 | Precision: 0.19076786967835127 | Recall: 0.20532725142283229 | F1-score: 0.1789697163947774\nWeights: distance | K: 27 | Accuracy: 0.20543187144291933 | Precision: 0.19009317423658903 | Recall: 0.20543187144291933 | F1-score: 0.17785500182444522\nWeights: distance | K: 29 | Accuracy: 0.205159859390693 | Precision: 0.18931875078022875 | Recall: 0.205159859390693 | F1-score: 0.17631958213133167\n"
     ]
    },
    {
     "output_type": "display_data",
     "data": {
      "text/html": [
       "<style scoped>\n",
       "  .ansiout {\n",
       "    display: block;\n",
       "    unicode-bidi: embed;\n",
       "    white-space: pre-wrap;\n",
       "    word-wrap: break-word;\n",
       "    word-break: break-all;\n",
       "    font-family: \"Menlo\", \"Monaco\", \"Consolas\", \"Ubuntu Mono\", \"Source Code Pro\", monospace;\n",
       "    font-size: 13px;\n",
       "    color: #555;\n",
       "    margin-left: 4px;\n",
       "    line-height: 19px;\n",
       "  }\n",
       "</style>"
      ]
     },
     "metadata": {
      "application/vnd.databricks.v1+output": {
       "arguments": {},
       "data": "",
       "errorSummary": "Cancelled",
       "errorTraceType": "html",
       "metadata": {},
       "type": "ipynbError"
      }
     },
     "output_type": "display_data"
    }
   ],
   "source": [
    "# Initializing the K-Nearest Neighbors classifier\n",
    "knn_classifier = KNeighborsClassifier(n_neighbors=19, weights=\"distance\")\n",
    "\n",
    "# Fitting the classifier to the training data\n",
    "knn_classifier.fit(X_train, y_train)\n",
    "\n",
    "# Predicting labels for the test set\n",
    "y_pred = knn_classifier.predict(X_test)\n",
    "\n",
    "# Calculating evaluation metrics\n",
    "accuracy, precision, recall, f1 = accuracy_score(y_test, y_pred), precision_score(y_test, y_pred, average='weighted'), recall_score(y_test, y_pred, average='weighted'), f1_score(y_test, y_pred, average='weighted')\n",
    "\n",
    "# Printing evaluation metrics\n",
    "print(\"Weights:\", w, \"| K:\", k, \"| Accuracy:\", accuracy, \"| Precision:\", precision, \"| Recall:\", recall, \"| F1-score:\", f1)\n"
   ]
  },
  {
   "cell_type": "markdown",
   "metadata": {
    "application/vnd.databricks.v1+cell": {
     "cellMetadata": {
      "byteLimit": 2048000,
      "rowLimit": 10000
     },
     "inputWidgets": {},
     "nuid": "1ae39fa0-dd79-4bc8-bf78-7f37c6f62ca1",
     "showTitle": false,
     "title": ""
    }
   },
   "source": [
    "Neural Network"
   ]
  },
  {
   "cell_type": "code",
   "execution_count": 0,
   "metadata": {
    "application/vnd.databricks.v1+cell": {
     "cellMetadata": {
      "byteLimit": 2048000,
      "rowLimit": 10000
     },
     "inputWidgets": {},
     "nuid": "2e76ca29-6efd-4abd-aba5-c34593dec315",
     "showTitle": false,
     "title": ""
    }
   },
   "outputs": [],
   "source": [
    "pandas_df = pdf.copy()"
   ]
  },
  {
   "cell_type": "code",
   "execution_count": 0,
   "metadata": {
    "application/vnd.databricks.v1+cell": {
     "cellMetadata": {
      "byteLimit": 2048000,
      "rowLimit": 10000
     },
     "inputWidgets": {},
     "nuid": "81819e28-7e24-4787-8f16-21068f667dc9",
     "showTitle": false,
     "title": ""
    }
   },
   "outputs": [],
   "source": [
    "class ComplexNN(nn.Module):\n",
    "    def __init__(self, input_size, hidden_size1, hidden_size2, output_size, dropout_prob=0.75):\n",
    "        super(ComplexNN, self).__init__()\n",
    "        self.fc1 = nn.Linear(input_size, hidden_size1)\n",
    "        self.bn1 = nn.BatchNorm1d(hidden_size1)\n",
    "        self.act1 = nn.Tanh()\n",
    "        self.fc2 = nn.Linear(hidden_size1, hidden_size2)\n",
    "        self.bn2 = nn.BatchNorm1d(hidden_size2)\n",
    "        self.act2 = nn.Tanh()\n",
    "        self.fc3 = nn.Linear(hidden_size2, output_size)\n",
    "        self.dropout = nn.Dropout(dropout_prob)\n",
    "        nn.Tanh\n",
    "\n",
    "    def forward(self, x):\n",
    "        out = self.fc1(x)\n",
    "        out = self.bn1(out)\n",
    "        out = self.act1(out)\n",
    "        out = self.dropout(out)\n",
    "        out = self.fc2(out)\n",
    "        out = self.bn2(out)\n",
    "        out = self.act2(out)\n",
    "        out = self.dropout(out)\n",
    "        out = self.fc3(out)\n",
    "        return out\n",
    "\n",
    "# Define a custom dataset class\n",
    "class CustomDataset(Dataset):\n",
    "    def __init__(self, df):\n",
    "        self.df = df\n",
    "\n",
    "    def __len__(self):\n",
    "        return len(self.df)\n",
    "\n",
    "    def __getitem__(self, idx):\n",
    "        features = np.array(self.df.iloc[idx]['features'], dtype=np.float32)\n",
    "        label = self.df.iloc[idx]['label']\n",
    "        return features, label\n",
    "\n",
    "UniqueLabels = pandas_df['label'].unique()\n",
    "label_to_idx = {label: idx for idx, label in enumerate(UniqueLabels)}\n",
    "pandas_df['label'] = pandas_df['label'].map(label_to_idx)\n",
    "\n",
    "outputLayer = len(UniqueLabels)\n",
    "# Hyperparameters\n",
    "input_size = 128\n",
    "hidden_size1 = 512\n",
    "hidden_size2 = 512\n",
    "# hidden_size2 = int(round((128)*(2/3)+len(UniqueLabels)))\n",
    "output_size = len(UniqueLabels)\n",
    "learning_rate = 0.001\n",
    "num_epochs = 75\n",
    "batch_size = 64\n",
    "\n",
    "# Split dataset into train and test sets\n",
    "grouped_df = pandas_df.groupby('label')\n",
    "train_data = []\n",
    "test_data = []\n",
    "\n",
    "for label, group in grouped_df:\n",
    "    train_group, test_group = train_test_split(group, test_size=0.2, random_state=42)\n",
    "    train_data.append(train_group)\n",
    "    test_data.append(test_group)\n",
    "\n",
    "train_df = pd.concat(train_data)\n",
    "test_df = pd.concat(test_data)\n",
    "\n",
    "train_df = train_df.sample(frac=1, random_state=42).reset_index(drop=True)\n",
    "test_df = test_df.sample(frac=1, random_state=42).reset_index(drop=True)\n",
    "\n",
    "# Create dataset and dataloader for train and test sets\n",
    "train_dataset = CustomDataset(train_df)\n",
    "train_dataloader = DataLoader(train_dataset, batch_size=batch_size, shuffle=True)\n",
    "\n",
    "test_dataset = CustomDataset(test_df)\n",
    "test_dataloader = DataLoader(test_dataset, batch_size=batch_size, shuffle=False)\n",
    "\n",
    "# Initialize the model, loss function, and optimizer\n",
    "model_nn_noScraping = ComplexNN(input_size, hidden_size1, hidden_size2, output_size)\n",
    "criterion = nn.CrossEntropyLoss()\n",
    "optimizer = optim.Adam(model_nn_noScraping.parameters(), lr=learning_rate)"
   ]
  },
  {
   "cell_type": "code",
   "execution_count": 0,
   "metadata": {
    "application/vnd.databricks.v1+cell": {
     "cellMetadata": {
      "byteLimit": 2048000,
      "rowLimit": 10000
     },
     "inputWidgets": {},
     "nuid": "8c21e49e-a661-4577-910f-39325b1dc55f",
     "showTitle": false,
     "title": ""
    }
   },
   "outputs": [
    {
     "output_type": "stream",
     "name": "stdout",
     "output_type": "stream",
     "text": [
      "Epoch [1/75], Train Loss: 8.2259, Test Loss: 7.1025, Top-3 Test Accuracy: 0.1895, took: 171.44365859031677 seconds\nEpoch [2/75], Train Loss: 7.1658, Test Loss: 6.4797, Top-3 Test Accuracy: 0.2450, took: 171.76789903640747 seconds\nEpoch [3/75], Train Loss: 6.7542, Test Loss: 6.1575, Top-3 Test Accuracy: 0.2791, took: 170.70981407165527 seconds\nEpoch [4/75], Train Loss: 6.5515, Test Loss: 5.9895, Top-3 Test Accuracy: 0.2971, took: 224.8121018409729 seconds\nEpoch [5/75], Train Loss: 6.4214, Test Loss: 5.8613, Top-3 Test Accuracy: 0.3121, took: 171.80496883392334 seconds\nEpoch [6/75], Train Loss: 6.3273, Test Loss: 5.7694, Top-3 Test Accuracy: 0.3216, took: 231.53384733200073 seconds\nEpoch [7/75], Train Loss: 6.2577, Test Loss: 5.7005, Top-3 Test Accuracy: 0.3292, took: 171.94415187835693 seconds\nEpoch [8/75], Train Loss: 6.2069, Test Loss: 5.6578, Top-3 Test Accuracy: 0.3346, took: 171.91447734832764 seconds\nEpoch [9/75], Train Loss: 6.1602, Test Loss: 5.6082, Top-3 Test Accuracy: 0.3403, took: 172.82059001922607 seconds\nEpoch [10/75], Train Loss: 6.1251, Test Loss: 5.5805, Top-3 Test Accuracy: 0.3443, took: 171.3566334247589 seconds\nEpoch [11/75], Train Loss: 6.0920, Test Loss: 5.5510, Top-3 Test Accuracy: 0.3473, took: 171.93359231948853 seconds\nEpoch [12/75], Train Loss: 6.0670, Test Loss: 5.5206, Top-3 Test Accuracy: 0.3509, took: 226.58115577697754 seconds\nEpoch [13/75], Train Loss: 6.0453, Test Loss: 5.5028, Top-3 Test Accuracy: 0.3525, took: 171.7982075214386 seconds\nEpoch [14/75], Train Loss: 6.0187, Test Loss: 5.4607, Top-3 Test Accuracy: 0.3549, took: 221.65225553512573 seconds\nEpoch [15/75], Train Loss: 5.9970, Test Loss: 5.4526, Top-3 Test Accuracy: 0.3567, took: 229.1460793018341 seconds\nEpoch [16/75], Train Loss: 5.9841, Test Loss: 5.4386, Top-3 Test Accuracy: 0.3580, took: 168.86091685295105 seconds\nEpoch [17/75], Train Loss: 5.9667, Test Loss: 5.4348, Top-3 Test Accuracy: 0.3592, took: 173.8821985721588 seconds\nEpoch [18/75], Train Loss: 5.9550, Test Loss: 5.3929, Top-3 Test Accuracy: 0.3645, took: 231.36416697502136 seconds\nEpoch [19/75], Train Loss: 5.9309, Test Loss: 5.3820, Top-3 Test Accuracy: 0.3659, took: 231.31982731819153 seconds\nEpoch [20/75], Train Loss: 5.9230, Test Loss: 5.3693, Top-3 Test Accuracy: 0.3671, took: 223.03515338897705 seconds\nEpoch [21/75], Train Loss: 5.9063, Test Loss: 5.3574, Top-3 Test Accuracy: 0.3661, took: 221.52220225334167 seconds\nEpoch [22/75], Train Loss: 5.8903, Test Loss: 5.3362, Top-3 Test Accuracy: 0.3690, took: 171.8500189781189 seconds\nEpoch [23/75], Train Loss: 5.8882, Test Loss: 5.3252, Top-3 Test Accuracy: 0.3715, took: 227.21565103530884 seconds\nEpoch [24/75], Train Loss: 5.8634, Test Loss: 5.3186, Top-3 Test Accuracy: 0.3714, took: 173.52189421653748 seconds\nEpoch [25/75], Train Loss: 5.8615, Test Loss: 5.2961, Top-3 Test Accuracy: 0.3737, took: 225.50417613983154 seconds\nEpoch [26/75], Train Loss: 5.8519, Test Loss: 5.2863, Top-3 Test Accuracy: 0.3745, took: 172.1357626914978 seconds\nEpoch [27/75], Train Loss: 5.8412, Test Loss: 5.2875, Top-3 Test Accuracy: 0.3739, took: 175.60662722587585 seconds\nEpoch [28/75], Train Loss: 5.8302, Test Loss: 5.2880, Top-3 Test Accuracy: 0.3743, took: 227.41639852523804 seconds\nEpoch [29/75], Train Loss: 5.8228, Test Loss: 5.2691, Top-3 Test Accuracy: 0.3767, took: 172.47446417808533 seconds\nEpoch [30/75], Train Loss: 5.8145, Test Loss: 5.2472, Top-3 Test Accuracy: 0.3783, took: 171.93272876739502 seconds\nEpoch [31/75], Train Loss: 5.8066, Test Loss: 5.2590, Top-3 Test Accuracy: 0.3794, took: 233.14427661895752 seconds\nEpoch [32/75], Train Loss: 5.7968, Test Loss: 5.2468, Top-3 Test Accuracy: 0.3787, took: 172.03952860832214 seconds\nEpoch [33/75], Train Loss: 5.7969, Test Loss: 5.2292, Top-3 Test Accuracy: 0.3814, took: 172.00844717025757 seconds\nEpoch [34/75], Train Loss: 5.7920, Test Loss: 5.2149, Top-3 Test Accuracy: 0.3828, took: 173.84749031066895 seconds\nEpoch [35/75], Train Loss: 5.7719, Test Loss: 5.2093, Top-3 Test Accuracy: 0.3828, took: 172.73794960975647 seconds\nEpoch [36/75], Train Loss: 5.7736, Test Loss: 5.2097, Top-3 Test Accuracy: 0.3829, took: 232.1283037662506 seconds\nEpoch [37/75], Train Loss: 5.7673, Test Loss: 5.1925, Top-3 Test Accuracy: 0.3848, took: 172.34239292144775 seconds\nEpoch [38/75], Train Loss: 5.7590, Test Loss: 5.1903, Top-3 Test Accuracy: 0.3860, took: 229.49679350852966 seconds\nEpoch [39/75], Train Loss: 5.7524, Test Loss: 5.1760, Top-3 Test Accuracy: 0.3872, took: 171.13437724113464 seconds\nEpoch [40/75], Train Loss: 5.7466, Test Loss: 5.1735, Top-3 Test Accuracy: 0.3867, took: 178.7880802154541 seconds\nEpoch [41/75], Train Loss: 5.7513, Test Loss: 5.1755, Top-3 Test Accuracy: 0.3864, took: 228.98813605308533 seconds\nEpoch [42/75], Train Loss: 5.7362, Test Loss: 5.1615, Top-3 Test Accuracy: 0.3877, took: 171.6621448993683 seconds\nEpoch [43/75], Train Loss: 5.7274, Test Loss: 5.1555, Top-3 Test Accuracy: 0.3889, took: 170.89998316764832 seconds\nEpoch [44/75], Train Loss: 5.7331, Test Loss: 5.1485, Top-3 Test Accuracy: 0.3895, took: 232.0605490207672 seconds\nEpoch [45/75], Train Loss: 5.7190, Test Loss: 5.1416, Top-3 Test Accuracy: 0.3926, took: 226.98177528381348 seconds\nEpoch [46/75], Train Loss: 5.7172, Test Loss: 5.1362, Top-3 Test Accuracy: 0.3903, took: 173.9456126689911 seconds\nEpoch [47/75], Train Loss: 5.7142, Test Loss: 5.1303, Top-3 Test Accuracy: 0.3929, took: 230.15849089622498 seconds\nEpoch [48/75], Train Loss: 5.7092, Test Loss: 5.1403, Top-3 Test Accuracy: 0.3913, took: 174.15056467056274 seconds\nEpoch [49/75], Train Loss: 5.7051, Test Loss: 5.1209, Top-3 Test Accuracy: 0.3936, took: 172.24365162849426 seconds\nEpoch [50/75], Train Loss: 5.7013, Test Loss: 5.1219, Top-3 Test Accuracy: 0.3921, took: 172.37856340408325 seconds\nEpoch [51/75], Train Loss: 5.6959, Test Loss: 5.1216, Top-3 Test Accuracy: 0.3930, took: 170.0818989276886 seconds\nEpoch [52/75], Train Loss: 5.6916, Test Loss: 5.1291, Top-3 Test Accuracy: 0.3911, took: 230.34859013557434 seconds\nEpoch [53/75], Train Loss: 5.6903, Test Loss: 5.1178, Top-3 Test Accuracy: 0.3927, took: 228.68553972244263 seconds\nEpoch [54/75], Train Loss: 5.6846, Test Loss: 5.1116, Top-3 Test Accuracy: 0.3926, took: 212.8919632434845 seconds\nEpoch [55/75], Train Loss: 5.6852, Test Loss: 5.1081, Top-3 Test Accuracy: 0.3931, took: 175.3579044342041 seconds\nEpoch [56/75], Train Loss: 5.6738, Test Loss: 5.0963, Top-3 Test Accuracy: 0.3954, took: 222.2786180973053 seconds\nEpoch [57/75], Train Loss: 5.6790, Test Loss: 5.0897, Top-3 Test Accuracy: 0.3956, took: 173.0972182750702 seconds\nEpoch [58/75], Train Loss: 5.6696, Test Loss: 5.0884, Top-3 Test Accuracy: 0.3985, took: 229.5599501132965 seconds\nEpoch [59/75], Train Loss: 5.6764, Test Loss: 5.0858, Top-3 Test Accuracy: 0.3979, took: 231.93418908119202 seconds\nEpoch [60/75], Train Loss: 5.6706, Test Loss: 5.0993, Top-3 Test Accuracy: 0.3958, took: 174.96569156646729 seconds\nEpoch [61/75], Train Loss: 5.6587, Test Loss: 5.0851, Top-3 Test Accuracy: 0.3978, took: 173.5330832004547 seconds\nEpoch [62/75], Train Loss: 5.6641, Test Loss: 5.0696, Top-3 Test Accuracy: 0.3991, took: 226.83095002174377 seconds\nEpoch [63/75], Train Loss: 5.6595, Test Loss: 5.0678, Top-3 Test Accuracy: 0.3986, took: 174.06125950813293 seconds\nEpoch [64/75], Train Loss: 5.6568, Test Loss: 5.0583, Top-3 Test Accuracy: 0.3997, took: 175.67416834831238 seconds\nEpoch [65/75], Train Loss: 5.6559, Test Loss: 5.0579, Top-3 Test Accuracy: 0.4000, took: 173.25627875328064 seconds\nEpoch [66/75], Train Loss: 5.6512, Test Loss: 5.0578, Top-3 Test Accuracy: 0.3994, took: 170.55566453933716 seconds\nEpoch [67/75], Train Loss: 5.6501, Test Loss: 5.0574, Top-3 Test Accuracy: 0.3998, took: 173.8964786529541 seconds\nEpoch [68/75], Train Loss: 5.6445, Test Loss: 5.0508, Top-3 Test Accuracy: 0.4005, took: 233.19274878501892 seconds\nEpoch [69/75], Train Loss: 5.6445, Test Loss: 5.0520, Top-3 Test Accuracy: 0.4007, took: 173.20734071731567 seconds\nEpoch [70/75], Train Loss: 5.6403, Test Loss: 5.0433, Top-3 Test Accuracy: 0.4018, took: 174.58358693122864 seconds\nEpoch [71/75], Train Loss: 5.6413, Test Loss: 5.0573, Top-3 Test Accuracy: 0.3997, took: 172.58774423599243 seconds\nEpoch [72/75], Train Loss: 5.6332, Test Loss: 5.0466, Top-3 Test Accuracy: 0.4018, took: 172.37110495567322 seconds\nEpoch [73/75], Train Loss: 5.6390, Test Loss: 5.0449, Top-3 Test Accuracy: 0.4010, took: 227.3388340473175 seconds\nEpoch [74/75], Train Loss: 5.6342, Test Loss: 5.0492, Top-3 Test Accuracy: 0.4010, took: 172.32887530326843 seconds\nEpoch [75/75], Train Loss: 5.6286, Test Loss: 5.0372, Top-3 Test Accuracy: 0.4018, took: 172.15411114692688 seconds\nFinished Training\nTotal Epochs: 75\nFinal Training Loss: 5.6286\nFinal Test Loss: 5.0372\nFinal Test Accuracy: 0.4018\n"
     ]
    }
   ],
   "source": [
    "from sklearn.metrics import f1_score, precision_score, recall_score\n",
    "\n",
    "# Training loop\n",
    "for epoch in range(num_epochs):\n",
    "    t = time.time()\n",
    "    # Training\n",
    "    model_nn_noScraping.train()  # Set the model to train mode\n",
    "    total_train_loss = 0.0\n",
    "    for i, (inputs, labels) in enumerate(train_dataloader):\n",
    "        inputs = inputs.view(-1, input_size)\n",
    "        outputs = model_nn_noScraping(inputs)\n",
    "\n",
    "        # Convert labels from tuple to Tensor\n",
    "        labels = torch.tensor(labels)\n",
    "\n",
    "        loss = criterion(outputs, labels)\n",
    "        \n",
    "        optimizer.zero_grad()\n",
    "        loss.backward()\n",
    "        optimizer.step()\n",
    "\n",
    "        total_train_loss += loss.item()\n",
    "\n",
    "    avg_train_loss = total_train_loss / len(train_dataloader)\n",
    "\n",
    "    # Testing\n",
    "    model_nn_noScraping.eval()  # Set the model to evaluation mode\n",
    "    total_correct_top3 = 0\n",
    "    total_samples = 0\n",
    "    total_test_loss = 0.0\n",
    "    true_labels = []\n",
    "    predicted_labels = []\n",
    "    with torch.no_grad():\n",
    "        for inputs, labels in test_dataloader:\n",
    "            inputs = inputs.view(-1, input_size)\n",
    "            outputs = model_nn_noScraping(inputs)\n",
    "            loss = criterion(outputs, labels)\n",
    "\n",
    "            # Convert labels from tuple to Tensor\n",
    "            labels = torch.tensor(labels)\n",
    "\n",
    "            total_test_loss += loss.item()\n",
    "\n",
    "            _, predicted = torch.topk(outputs, k=3, dim=1)  # Get top-3 predictions\n",
    "            total_correct_top3 += sum([label in pred_list for label, pred_list in zip(labels, predicted)])\n",
    "            total_samples += labels.size(0)\n",
    "\n",
    "            true_labels.extend(labels.numpy())\n",
    "            predicted_labels.extend(predicted.numpy())\n",
    "\n",
    "    avg_test_loss = total_test_loss / len(test_dataloader)\n",
    "    test_top3_accuracy = total_correct_top3 / total_samples\n",
    "\n",
    "    print(f'Epoch [{epoch+1}/{num_epochs}], Train Loss: {avg_train_loss:.4f}, Test Loss: {avg_test_loss:.4f}, Top-3 Test Accuracy: {test_top3_accuracy:.4f}, took: {time.time() - t} seconds')\n",
    "\n",
    "print('Finished Training')\n",
    "print(f'Total Epochs: {num_epochs}')\n",
    "print(f'Final Training Loss: {avg_train_loss:.4f}')\n",
    "print(f'Final Test Loss: {avg_test_loss:.4f}')\n",
    "print(f'Final Test Accuracy: {test_top3_accuracy:.4f}')"
   ]
  },
  {
   "cell_type": "code",
   "execution_count": 0,
   "metadata": {
    "application/vnd.databricks.v1+cell": {
     "cellMetadata": {
      "byteLimit": 2048000,
      "rowLimit": 10000
     },
     "inputWidgets": {},
     "nuid": "23d87c91-7d48-474f-b203-0d5dfaf57002",
     "showTitle": false,
     "title": ""
    }
   },
   "outputs": [],
   "source": [
    "# Save the model as a .pkl file\n",
    "import torch\n",
    "name = f\"finalNNNoSrcraping.pkl\"\n",
    "# Specify the file path to save the model\n",
    "model_path = f\"/dbfs/FileStore/{name}\"\n",
    "\n",
    "# Save the model\n",
    "torch.save(model_nn_noScraping, model_path)"
   ]
  },
  {
   "cell_type": "markdown",
   "metadata": {
    "application/vnd.databricks.v1+cell": {
     "cellMetadata": {
      "byteLimit": 2048000,
      "rowLimit": 10000
     },
     "inputWidgets": {},
     "nuid": "a094cc7b-0fc4-4267-a81d-ab4c519a561d",
     "showTitle": false,
     "title": ""
    }
   },
   "source": [
    "With the scraping"
   ]
  },
  {
   "cell_type": "markdown",
   "metadata": {
    "application/vnd.databricks.v1+cell": {
     "cellMetadata": {
      "byteLimit": 2048000,
      "rowLimit": 10000
     },
     "inputWidgets": {},
     "nuid": "047ff7f7-fa6c-45ba-8783-d339d68c52ad",
     "showTitle": false,
     "title": ""
    }
   },
   "source": [
    "KNN"
   ]
  },
  {
   "cell_type": "code",
   "execution_count": 0,
   "metadata": {
    "application/vnd.databricks.v1+cell": {
     "cellMetadata": {
      "byteLimit": 2048000,
      "rowLimit": 10000
     },
     "inputWidgets": {},
     "nuid": "622aebed-6f33-4a7e-862c-4f6026d75cce",
     "showTitle": false,
     "title": ""
    }
   },
   "outputs": [],
   "source": [
    "pandas_df_israeli = pdf_israeli.copy()\n",
    "pandas_df = pdf.copy()"
   ]
  },
  {
   "cell_type": "code",
   "execution_count": 0,
   "metadata": {
    "application/vnd.databricks.v1+cell": {
     "cellMetadata": {
      "byteLimit": 2048000,
      "rowLimit": 10000
     },
     "inputWidgets": {},
     "nuid": "dfa1f77c-1530-475e-ac0c-e97bb8d74508",
     "showTitle": false,
     "title": ""
    }
   },
   "outputs": [],
   "source": [
    "UniqueLabels_all = pandas_df['label'].unique()\n",
    "label_to_idx = {label: idx for idx, label in enumerate(UniqueLabels_all)}\n",
    "pandas_df['label'] = pandas_df['label'].map(label_to_idx)"
   ]
  },
  {
   "cell_type": "code",
   "execution_count": 0,
   "metadata": {
    "application/vnd.databricks.v1+cell": {
     "cellMetadata": {
      "byteLimit": 2048000,
      "rowLimit": 10000
     },
     "inputWidgets": {},
     "nuid": "ab6d8a68-f428-4182-8c2c-2eaa31e35085",
     "showTitle": false,
     "title": ""
    }
   },
   "outputs": [],
   "source": [
    "UniqueLabels_israeli = pandas_df_israeli['label'].unique()\n",
    "label_to_idx = {label: idx+12668 for idx, label in enumerate(UniqueLabels_israeli)}\n",
    "pandas_df_israeli['label'] = pandas_df_israeli['label'].map(label_to_idx)"
   ]
  },
  {
   "cell_type": "code",
   "execution_count": 0,
   "metadata": {
    "application/vnd.databricks.v1+cell": {
     "cellMetadata": {
      "byteLimit": 2048000,
      "rowLimit": 10000
     },
     "inputWidgets": {},
     "nuid": "d63e1a3c-b095-4963-a6c4-abe5d8dc8d45",
     "showTitle": false,
     "title": ""
    }
   },
   "outputs": [],
   "source": [
    "# Concatenating the two dataframes\n",
    "concatenated_df = pd.concat([pandas_df, pandas_df_israeli])"
   ]
  },
  {
   "cell_type": "code",
   "execution_count": 0,
   "metadata": {
    "application/vnd.databricks.v1+cell": {
     "cellMetadata": {
      "byteLimit": 2048000,
      "rowLimit": 10000
     },
     "inputWidgets": {},
     "nuid": "af80c551-9b43-4bea-88ff-db59ee9ed323",
     "showTitle": false,
     "title": ""
    }
   },
   "outputs": [],
   "source": [
    "UniqueLabels= concatenated_df['label'].unique()"
   ]
  },
  {
   "cell_type": "code",
   "execution_count": 0,
   "metadata": {
    "application/vnd.databricks.v1+cell": {
     "cellMetadata": {
      "byteLimit": 2048000,
      "rowLimit": 10000
     },
     "inputWidgets": {},
     "nuid": "cbfdcbfb-6e83-4d27-8b00-cba95be5d1f4",
     "showTitle": false,
     "title": ""
    }
   },
   "outputs": [],
   "source": [
    "import numpy as np\n",
    "import pandas as pd\n",
    "from sklearn.model_selection import train_test_split\n",
    "from sklearn.preprocessing import StandardScaler\n",
    "from sklearn.neighbors import KNeighborsClassifier\n",
    "from sklearn.metrics import accuracy_score\n",
    "\n",
    "\n",
    "# Splitting the data into features (X) and labels (y)\n",
    "X = np.array(concatenated_df['features'].tolist())\n",
    "y = np.array(concatenated_df['label'])\n",
    "\n",
    "# Splitting the data into training and testing sets\n",
    "X_train, X_test, y_train, y_test = train_test_split(X, y, test_size=0.2, random_state=42)\n",
    "\n",
    "# Standardizing features\n",
    "scaler = StandardScaler()\n",
    "X_train = scaler.fit_transform(X_train)\n",
    "X_test = scaler.transform(X_test)"
   ]
  },
  {
   "cell_type": "code",
   "execution_count": 0,
   "metadata": {
    "application/vnd.databricks.v1+cell": {
     "cellMetadata": {
      "byteLimit": 2048000,
      "rowLimit": 10000
     },
     "inputWidgets": {},
     "nuid": "2a68dc27-5b38-404a-9941-290da6c3b15d",
     "showTitle": false,
     "title": ""
    }
   },
   "outputs": [
    {
     "output_type": "stream",
     "name": "stdout",
     "output_type": "stream",
     "text": [
      "/databricks/python/lib/python3.9/site-packages/sklearn/metrics/_classification.py:1248: UndefinedMetricWarning: Precision is ill-defined and being set to 0.0 in labels with no predicted samples. Use `zero_division` parameter to control this behavior.\n  _warn_prf(average, modifier, msg_start, len(result))\n/databricks/python/lib/python3.9/site-packages/sklearn/metrics/_classification.py:1248: UndefinedMetricWarning: Recall is ill-defined and being set to 0.0 in labels with no true samples. Use `zero_division` parameter to control this behavior.\n  _warn_prf(average, modifier, msg_start, len(result))\nWeights: distance | K: 5 | Accuracy: 0.19366395201099748 | Precision: 0.2055844297674794 | Recall: 0.19366395201099748 | F1-score: 0.1889949813777644\n/databricks/python/lib/python3.9/site-packages/sklearn/metrics/_classification.py:1248: UndefinedMetricWarning: Precision is ill-defined and being set to 0.0 in labels with no predicted samples. Use `zero_division` parameter to control this behavior.\n  _warn_prf(average, modifier, msg_start, len(result))\n/databricks/python/lib/python3.9/site-packages/sklearn/metrics/_classification.py:1248: UndefinedMetricWarning: Recall is ill-defined and being set to 0.0 in labels with no true samples. Use `zero_division` parameter to control this behavior.\n  _warn_prf(average, modifier, msg_start, len(result))\nWeights: distance | K: 7 | Accuracy: 0.19830872091812293 | Precision: 0.2064468157542146 | Recall: 0.19830872091812293 | F1-score: 0.1909125194048667\n/databricks/python/lib/python3.9/site-packages/sklearn/metrics/_classification.py:1248: UndefinedMetricWarning: Precision is ill-defined and being set to 0.0 in labels with no predicted samples. Use `zero_division` parameter to control this behavior.\n  _warn_prf(average, modifier, msg_start, len(result))\n/databricks/python/lib/python3.9/site-packages/sklearn/metrics/_classification.py:1248: UndefinedMetricWarning: Recall is ill-defined and being set to 0.0 in labels with no true samples. Use `zero_division` parameter to control this behavior.\n  _warn_prf(average, modifier, msg_start, len(result))\nWeights: distance | K: 9 | Accuracy: 0.20120389077503073 | Precision: 0.20526188004892684 | Recall: 0.20120389077503073 | F1-score: 0.19120562963043342\n/databricks/python/lib/python3.9/site-packages/sklearn/metrics/_classification.py:1248: UndefinedMetricWarning: Precision is ill-defined and being set to 0.0 in labels with no predicted samples. Use `zero_division` parameter to control this behavior.\n  _warn_prf(average, modifier, msg_start, len(result))\n/databricks/python/lib/python3.9/site-packages/sklearn/metrics/_classification.py:1248: UndefinedMetricWarning: Recall is ill-defined and being set to 0.0 in labels with no true samples. Use `zero_division` parameter to control this behavior.\n  _warn_prf(average, modifier, msg_start, len(result))\nWeights: distance | K: 11 | Accuracy: 0.20343254670804609 | Precision: 0.20322031859701187 | Recall: 0.20343254670804609 | F1-score: 0.19063533357319906\n/databricks/python/lib/python3.9/site-packages/sklearn/metrics/_classification.py:1248: UndefinedMetricWarning: Precision is ill-defined and being set to 0.0 in labels with no predicted samples. Use `zero_division` parameter to control this behavior.\n  _warn_prf(average, modifier, msg_start, len(result))\n/databricks/python/lib/python3.9/site-packages/sklearn/metrics/_classification.py:1248: UndefinedMetricWarning: Recall is ill-defined and being set to 0.0 in labels with no true samples. Use `zero_division` parameter to control this behavior.\n  _warn_prf(average, modifier, msg_start, len(result))\nWeights: distance | K: 13 | Accuracy: 0.20489054591656078 | Precision: 0.20078651918073004 | Recall: 0.20489054591656078 | F1-score: 0.189350139375981\n/databricks/python/lib/python3.9/site-packages/sklearn/metrics/_classification.py:1248: UndefinedMetricWarning: Precision is ill-defined and being set to 0.0 in labels with no predicted samples. Use `zero_division` parameter to control this behavior.\n  _warn_prf(average, modifier, msg_start, len(result))\n/databricks/python/lib/python3.9/site-packages/sklearn/metrics/_classification.py:1248: UndefinedMetricWarning: Recall is ill-defined and being set to 0.0 in labels with no true samples. Use `zero_division` parameter to control this behavior.\n  _warn_prf(average, modifier, msg_start, len(result))\nWeights: distance | K: 15 | Accuracy: 0.20651517360604862 | Precision: 0.1994568304166294 | Recall: 0.20651517360604862 | F1-score: 0.18865243371941745\n/databricks/python/lib/python3.9/site-packages/sklearn/metrics/_classification.py:1248: UndefinedMetricWarning: Precision is ill-defined and being set to 0.0 in labels with no predicted samples. Use `zero_division` parameter to control this behavior.\n  _warn_prf(average, modifier, msg_start, len(result))\n/databricks/python/lib/python3.9/site-packages/sklearn/metrics/_classification.py:1248: UndefinedMetricWarning: Recall is ill-defined and being set to 0.0 in labels with no true samples. Use `zero_division` parameter to control this behavior.\n  _warn_prf(average, modifier, msg_start, len(result))\nWeights: distance | K: 17 | Accuracy: 0.20786903001395513 | Precision: 0.19856442101399072 | Recall: 0.20786903001395513 | F1-score: 0.1879446615656279\n/databricks/python/lib/python3.9/site-packages/sklearn/metrics/_classification.py:1248: UndefinedMetricWarning: Precision is ill-defined and being set to 0.0 in labels with no predicted samples. Use `zero_division` parameter to control this behavior.\n  _warn_prf(average, modifier, msg_start, len(result))\n/databricks/python/lib/python3.9/site-packages/sklearn/metrics/_classification.py:1248: UndefinedMetricWarning: Recall is ill-defined and being set to 0.0 in labels with no true samples. Use `zero_division` parameter to control this behavior.\n  _warn_prf(average, modifier, msg_start, len(result))\nWeights: distance | K: 19 | Accuracy: 0.20803565849492825 | Precision: 0.19720565053884023 | Recall: 0.20803565849492825 | F1-score: 0.1861526960068048\n/databricks/python/lib/python3.9/site-packages/sklearn/metrics/_classification.py:1248: UndefinedMetricWarning: Precision is ill-defined and being set to 0.0 in labels with no predicted samples. Use `zero_division` parameter to control this behavior.\n  _warn_prf(average, modifier, msg_start, len(result))\n/databricks/python/lib/python3.9/site-packages/sklearn/metrics/_classification.py:1248: UndefinedMetricWarning: Recall is ill-defined and being set to 0.0 in labels with no true samples. Use `zero_division` parameter to control this behavior.\n  _warn_prf(average, modifier, msg_start, len(result))\nWeights: distance | K: 21 | Accuracy: 0.20901460082064527 | Precision: 0.19636964747896396 | Recall: 0.20901460082064527 | F1-score: 0.18519683021196623\n/databricks/python/lib/python3.9/site-packages/sklearn/metrics/_classification.py:1248: UndefinedMetricWarning: Precision is ill-defined and being set to 0.0 in labels with no predicted samples. Use `zero_division` parameter to control this behavior.\n  _warn_prf(average, modifier, msg_start, len(result))\n/databricks/python/lib/python3.9/site-packages/sklearn/metrics/_classification.py:1248: UndefinedMetricWarning: Recall is ill-defined and being set to 0.0 in labels with no true samples. Use `zero_division` parameter to control this behavior.\n  _warn_prf(average, modifier, msg_start, len(result))\nWeights: distance | K: 23 | Accuracy: 0.20916040074149675 | Precision: 0.1958365525686936 | Recall: 0.20916040074149675 | F1-score: 0.1840183326144506\n/databricks/python/lib/python3.9/site-packages/sklearn/metrics/_classification.py:1248: UndefinedMetricWarning: Precision is ill-defined and being set to 0.0 in labels with no predicted samples. Use `zero_division` parameter to control this behavior.\n  _warn_prf(average, modifier, msg_start, len(result))\n/databricks/python/lib/python3.9/site-packages/sklearn/metrics/_classification.py:1248: UndefinedMetricWarning: Recall is ill-defined and being set to 0.0 in labels with no true samples. Use `zero_division` parameter to control this behavior.\n  _warn_prf(average, modifier, msg_start, len(result))\nWeights: distance | K: 25 | Accuracy: 0.2093062006623482 | Precision: 0.19575173237570245 | Recall: 0.2093062006623482 | F1-score: 0.18302317591347053\n/databricks/python/lib/python3.9/site-packages/sklearn/metrics/_classification.py:1248: UndefinedMetricWarning: Precision is ill-defined and being set to 0.0 in labels with no predicted samples. Use `zero_division` parameter to control this behavior.\n  _warn_prf(average, modifier, msg_start, len(result))\n/databricks/python/lib/python3.9/site-packages/sklearn/metrics/_classification.py:1248: UndefinedMetricWarning: Recall is ill-defined and being set to 0.0 in labels with no true samples. Use `zero_division` parameter to control this behavior.\n  _warn_prf(average, modifier, msg_start, len(result))\nWeights: distance | K: 27 | Accuracy: 0.2099935431463623 | Precision: 0.1958718490128194 | Recall: 0.2099935431463623 | F1-score: 0.18249146837817382\nWeights: distance | K: 29 | Accuracy: 0.20974360042490262 | Precision: 0.19455407806699485 | Recall: 0.20974360042490262 | F1-score: 0.18105212055962938\n/databricks/python/lib/python3.9/site-packages/sklearn/metrics/_classification.py:1248: UndefinedMetricWarning: Precision is ill-defined and being set to 0.0 in labels with no predicted samples. Use `zero_division` parameter to control this behavior.\n  _warn_prf(average, modifier, msg_start, len(result))\n/databricks/python/lib/python3.9/site-packages/sklearn/metrics/_classification.py:1248: UndefinedMetricWarning: Recall is ill-defined and being set to 0.0 in labels with no true samples. Use `zero_division` parameter to control this behavior.\n  _warn_prf(average, modifier, msg_start, len(result))\n"
     ]
    }
   ],
   "source": [
    "for w in [\"distance\"]:\n",
    "    for k in range(5, 30,2):\n",
    "        # Initializing the K-Nearest Neighbors classifier\n",
    "        knn_classifier = KNeighborsClassifier(n_neighbors=k, weights=w)\n",
    "\n",
    "        # Fitting the classifier to the training data\n",
    "        knn_classifier.fit(X_train, y_train)\n",
    "\n",
    "        # Predicting labels for the test set\n",
    "        y_pred = knn_classifier.predict(X_test)\n",
    "\n",
    "        # Calculating evaluation metrics\n",
    "        accuracy, precision, recall, f1 = accuracy_score(y_test, y_pred), precision_score(y_test, y_pred, average='weighted'), recall_score(y_test, y_pred, average='weighted'), f1_score(y_test, y_pred, average='weighted')\n",
    "\n",
    "        # Printing evaluation metrics\n",
    "        print(\"Weights:\", w, \"| K:\", k, \"| Accuracy:\", accuracy, \"| Precision:\", precision, \"| Recall:\", recall, \"| F1-score:\", f1)\n"
   ]
  },
  {
   "cell_type": "markdown",
   "metadata": {
    "application/vnd.databricks.v1+cell": {
     "cellMetadata": {
      "byteLimit": 2048000,
      "rowLimit": 10000
     },
     "inputWidgets": {},
     "nuid": "614db4d0-7d19-44ad-b9e2-fa91581a7d93",
     "showTitle": false,
     "title": ""
    }
   },
   "source": [
    "NN"
   ]
  },
  {
   "cell_type": "code",
   "execution_count": 0,
   "metadata": {
    "application/vnd.databricks.v1+cell": {
     "cellMetadata": {
      "byteLimit": 2048000,
      "rowLimit": 10000
     },
     "inputWidgets": {},
     "nuid": "36ea2ce3-5bc2-4ea3-b8c4-81051e2ec23d",
     "showTitle": false,
     "title": ""
    }
   },
   "outputs": [],
   "source": [
    "import torch\n",
    "import torch.nn as nn\n",
    "import torch.optim as optim\n",
    "from torch.utils.data import Dataset, DataLoader\n",
    "import numpy as np\n",
    "import pandas as pd\n",
    "from sklearn.model_selection import train_test_split\n",
    "\n",
    "# Define your neural network architecture\n",
    "class ComplexNN(nn.Module):\n",
    "    def __init__(self, input_size, hidden_size1, hidden_size2, output_size, dropout_prob=0.75):\n",
    "        super(ComplexNN, self).__init__()\n",
    "        self.fc1 = nn.Linear(input_size, hidden_size1)\n",
    "        self.bn1 = nn.BatchNorm1d(hidden_size1)\n",
    "        self.act1 = nn.Tanh()\n",
    "        self.fc2 = nn.Linear(hidden_size1, hidden_size2)\n",
    "        self.bn2 = nn.BatchNorm1d(hidden_size2)\n",
    "        self.act2 = nn.Tanh()\n",
    "        self.fc3 = nn.Linear(hidden_size2, output_size)\n",
    "        self.dropout = nn.Dropout(dropout_prob)\n",
    "        nn.Tanh\n",
    "\n",
    "    def forward(self, x):\n",
    "        out = self.fc1(x)\n",
    "        out = self.bn1(out)\n",
    "        out = self.act1(out)\n",
    "        out = self.dropout(out)\n",
    "        out = self.fc2(out)\n",
    "        out = self.bn2(out)\n",
    "        out = self.act2(out)\n",
    "        out = self.dropout(out)\n",
    "        out = self.fc3(out)\n",
    "        return out\n",
    "\n",
    "# Define a custom dataset class\n",
    "class CustomDataset(Dataset):\n",
    "    def __init__(self, df):\n",
    "        self.df = df\n",
    "\n",
    "    def __len__(self):\n",
    "        return len(self.df)\n",
    "\n",
    "    def __getitem__(self, idx):\n",
    "        features = np.array(self.df.iloc[idx]['features'], dtype=np.float32)\n",
    "        label = self.df.iloc[idx]['label']\n",
    "        return features, label\n",
    "    \n",
    "\n",
    "outputLayer = len(UniqueLabels)\n",
    "# Hyperparameters\n",
    "input_size = 128\n",
    "hidden_size1 = 512\n",
    "hidden_size2 = 512\n",
    "output_size = len(UniqueLabels)\n",
    "learning_rate = 0.001\n",
    "num_epochs = 75\n",
    "batch_size = 64\n",
    "\n",
    "# Split dataset into train and test sets\n",
    "grouped_df = concatenated_df.groupby('label')\n",
    "train_data = []\n",
    "test_data = []\n",
    "\n",
    "for label, group in grouped_df:\n",
    "    train_group, test_group = train_test_split(group, test_size=0.2, random_state=42)\n",
    "    train_data.append(train_group)\n",
    "    test_data.append(test_group)\n",
    "\n",
    "train_df = pd.concat(train_data)\n",
    "test_df = pd.concat(test_data)\n",
    "\n",
    "train_df = train_df.sample(frac=1, random_state=42).reset_index(drop=True)\n",
    "test_df = test_df.sample(frac=1, random_state=42).reset_index(drop=True)\n",
    "\n",
    "# Create dataset and dataloader for train and test sets\n",
    "train_dataset = CustomDataset(train_df)\n",
    "train_dataloader = DataLoader(train_dataset, batch_size=batch_size, shuffle=True)\n",
    "\n",
    "test_dataset = CustomDataset(test_df)\n",
    "test_dataloader = DataLoader(test_dataset, batch_size=batch_size, shuffle=False)\n",
    "\n",
    "# Initialize the model, loss function, and optimizer\n",
    "model = ComplexNN(input_size, hidden_size1, hidden_size2, output_size)\n",
    "criterion = nn.CrossEntropyLoss()\n",
    "optimizer = optim.Adam(model.parameters(), lr=learning_rate)"
   ]
  },
  {
   "cell_type": "code",
   "execution_count": 0,
   "metadata": {
    "application/vnd.databricks.v1+cell": {
     "cellMetadata": {
      "byteLimit": 2048000,
      "rowLimit": 10000
     },
     "inputWidgets": {},
     "nuid": "22d549db-733b-48d7-8952-3caa4602f8a8",
     "showTitle": false,
     "title": ""
    }
   },
   "outputs": [
    {
     "output_type": "stream",
     "name": "stdout",
     "output_type": "stream",
     "text": [
      "<command-3791678015590403>:14: UserWarning: To copy construct from a tensor, it is recommended to use sourceTensor.clone().detach() or sourceTensor.clone().detach().requires_grad_(True), rather than torch.tensor(sourceTensor).\n  labels = torch.tensor(labels)\n<command-3791678015590403>:40: UserWarning: To copy construct from a tensor, it is recommended to use sourceTensor.clone().detach() or sourceTensor.clone().detach().requires_grad_(True), rather than torch.tensor(sourceTensor).\n  labels = torch.tensor(labels)\nEpoch [1/75], Train Loss: 8.2385, Test Loss: 7.1234, Top-3 Test Accuracy: 0.1862, took: 202.51670932769775 seconds\nEpoch [2/75], Train Loss: 7.1894, Test Loss: 6.4977, Top-3 Test Accuracy: 0.2443, took: 208.6511845588684 seconds\nEpoch [3/75], Train Loss: 6.7791, Test Loss: 6.1806, Top-3 Test Accuracy: 0.2777, took: 253.9337182044983 seconds\nEpoch [4/75], Train Loss: 6.5691, Test Loss: 6.0123, Top-3 Test Accuracy: 0.2942, took: 242.70818901062012 seconds\nEpoch [5/75], Train Loss: 6.4376, Test Loss: 5.8900, Top-3 Test Accuracy: 0.3095, took: 237.8256380558014 seconds\nEpoch [6/75], Train Loss: 6.3429, Test Loss: 5.7934, Top-3 Test Accuracy: 0.3193, took: 212.90920853614807 seconds\nEpoch [7/75], Train Loss: 6.2683, Test Loss: 5.7193, Top-3 Test Accuracy: 0.3279, took: 237.38962507247925 seconds\nEpoch [8/75], Train Loss: 6.2200, Test Loss: 5.6660, Top-3 Test Accuracy: 0.3343, took: 177.56411790847778 seconds\nEpoch [9/75], Train Loss: 6.1713, Test Loss: 5.6176, Top-3 Test Accuracy: 0.3384, took: 176.9328315258026 seconds\nEpoch [10/75], Train Loss: 6.1336, Test Loss: 5.5938, Top-3 Test Accuracy: 0.3416, took: 177.81889128684998 seconds\nEpoch [11/75], Train Loss: 6.1020, Test Loss: 5.5607, Top-3 Test Accuracy: 0.3464, took: 178.33262848854065 seconds\nEpoch [12/75], Train Loss: 6.0812, Test Loss: 5.5291, Top-3 Test Accuracy: 0.3488, took: 240.6109094619751 seconds\nEpoch [13/75], Train Loss: 6.0534, Test Loss: 5.5076, Top-3 Test Accuracy: 0.3504, took: 224.68105816841125 seconds\nEpoch [14/75], Train Loss: 6.0269, Test Loss: 5.4824, Top-3 Test Accuracy: 0.3534, took: 230.9638671875 seconds\nEpoch [15/75], Train Loss: 6.0098, Test Loss: 5.4508, Top-3 Test Accuracy: 0.3560, took: 177.89713382720947 seconds\nEpoch [16/75], Train Loss: 5.9899, Test Loss: 5.4351, Top-3 Test Accuracy: 0.3584, took: 180.32333612442017 seconds\nEpoch [17/75], Train Loss: 5.9684, Test Loss: 5.4278, Top-3 Test Accuracy: 0.3611, took: 227.9579463005066 seconds\nEpoch [18/75], Train Loss: 5.9540, Test Loss: 5.3917, Top-3 Test Accuracy: 0.3621, took: 176.21728324890137 seconds\nEpoch [19/75], Train Loss: 5.9408, Test Loss: 5.3884, Top-3 Test Accuracy: 0.3636, took: 177.31416296958923 seconds\nEpoch [20/75], Train Loss: 5.9233, Test Loss: 5.3681, Top-3 Test Accuracy: 0.3670, took: 178.1321861743927 seconds\nEpoch [21/75], Train Loss: 5.9073, Test Loss: 5.3637, Top-3 Test Accuracy: 0.3654, took: 177.76760816574097 seconds\nEpoch [22/75], Train Loss: 5.9001, Test Loss: 5.3378, Top-3 Test Accuracy: 0.3688, took: 178.73725986480713 seconds\nEpoch [23/75], Train Loss: 5.8886, Test Loss: 5.3138, Top-3 Test Accuracy: 0.3716, took: 177.8949899673462 seconds\nEpoch [24/75], Train Loss: 5.8815, Test Loss: 5.3097, Top-3 Test Accuracy: 0.3705, took: 179.15089082717896 seconds\nEpoch [25/75], Train Loss: 5.8665, Test Loss: 5.2883, Top-3 Test Accuracy: 0.3741, took: 177.61243271827698 seconds\nEpoch [26/75], Train Loss: 5.8654, Test Loss: 5.2985, Top-3 Test Accuracy: 0.3720, took: 176.30264139175415 seconds\nEpoch [27/75], Train Loss: 5.8560, Test Loss: 5.2809, Top-3 Test Accuracy: 0.3734, took: 176.9836549758911 seconds\nEpoch [28/75], Train Loss: 5.8412, Test Loss: 5.2861, Top-3 Test Accuracy: 0.3754, took: 175.8693389892578 seconds\nEpoch [29/75], Train Loss: 5.8337, Test Loss: 5.2820, Top-3 Test Accuracy: 0.3750, took: 177.81676030158997 seconds\nEpoch [30/75], Train Loss: 5.8269, Test Loss: 5.2674, Top-3 Test Accuracy: 0.3765, took: 242.25870275497437 seconds\nEpoch [31/75], Train Loss: 5.8228, Test Loss: 5.2539, Top-3 Test Accuracy: 0.3779, took: 176.37678909301758 seconds\nEpoch [32/75], Train Loss: 5.8118, Test Loss: 5.2347, Top-3 Test Accuracy: 0.3797, took: 236.7199728488922 seconds\nEpoch [33/75], Train Loss: 5.8070, Test Loss: 5.2201, Top-3 Test Accuracy: 0.3812, took: 233.66139960289001 seconds\nEpoch [34/75], Train Loss: 5.7979, Test Loss: 5.2301, Top-3 Test Accuracy: 0.3819, took: 176.90718698501587 seconds\nEpoch [35/75], Train Loss: 5.7917, Test Loss: 5.2217, Top-3 Test Accuracy: 0.3818, took: 177.33140802383423 seconds\nEpoch [36/75], Train Loss: 5.7867, Test Loss: 5.1890, Top-3 Test Accuracy: 0.3842, took: 176.0613763332367 seconds\nEpoch [37/75], Train Loss: 5.7808, Test Loss: 5.2014, Top-3 Test Accuracy: 0.3858, took: 176.70530605316162 seconds\nEpoch [38/75], Train Loss: 5.7726, Test Loss: 5.1836, Top-3 Test Accuracy: 0.3834, took: 176.61157250404358 seconds\nEpoch [39/75], Train Loss: 5.7733, Test Loss: 5.1869, Top-3 Test Accuracy: 0.3850, took: 177.52037978172302 seconds\nEpoch [40/75], Train Loss: 5.7675, Test Loss: 5.1799, Top-3 Test Accuracy: 0.3866, took: 223.85786604881287 seconds\nEpoch [41/75], Train Loss: 5.7605, Test Loss: 5.1981, Top-3 Test Accuracy: 0.3848, took: 178.39840865135193 seconds\nEpoch [42/75], Train Loss: 5.7545, Test Loss: 5.1764, Top-3 Test Accuracy: 0.3876, took: 176.05813312530518 seconds\nEpoch [43/75], Train Loss: 5.7514, Test Loss: 5.1566, Top-3 Test Accuracy: 0.3873, took: 236.77435040473938 seconds\nEpoch [44/75], Train Loss: 5.7483, Test Loss: 5.1581, Top-3 Test Accuracy: 0.3881, took: 235.77719807624817 seconds\nEpoch [45/75], Train Loss: 5.7412, Test Loss: 5.1411, Top-3 Test Accuracy: 0.3902, took: 218.26054167747498 seconds\nEpoch [46/75], Train Loss: 5.7406, Test Loss: 5.1543, Top-3 Test Accuracy: 0.3884, took: 176.38522291183472 seconds\nEpoch [47/75], Train Loss: 5.7325, Test Loss: 5.1504, Top-3 Test Accuracy: 0.3919, took: 177.2083683013916 seconds\nEpoch [48/75], Train Loss: 5.7304, Test Loss: 5.1538, Top-3 Test Accuracy: 0.3876, took: 178.35162329673767 seconds\nEpoch [49/75], Train Loss: 5.7256, Test Loss: 5.1396, Top-3 Test Accuracy: 0.3903, took: 236.6585443019867 seconds\nEpoch [50/75], Train Loss: 5.7230, Test Loss: 5.1464, Top-3 Test Accuracy: 0.3893, took: 176.2984380722046 seconds\nEpoch [51/75], Train Loss: 5.7117, Test Loss: 5.1324, Top-3 Test Accuracy: 0.3926, took: 176.2713975906372 seconds\nEpoch [52/75], Train Loss: 5.7149, Test Loss: 5.1291, Top-3 Test Accuracy: 0.3913, took: 177.4565269947052 seconds\nEpoch [53/75], Train Loss: 5.7095, Test Loss: 5.1148, Top-3 Test Accuracy: 0.3946, took: 175.70741152763367 seconds\nEpoch [54/75], Train Loss: 5.7013, Test Loss: 5.1019, Top-3 Test Accuracy: 0.3959, took: 175.5674901008606 seconds\nEpoch [55/75], Train Loss: 5.7035, Test Loss: 5.1155, Top-3 Test Accuracy: 0.3943, took: 233.38591074943542 seconds\nEpoch [56/75], Train Loss: 5.6985, Test Loss: 5.1154, Top-3 Test Accuracy: 0.3949, took: 176.08828330039978 seconds\nEpoch [57/75], Train Loss: 5.6950, Test Loss: 5.1036, Top-3 Test Accuracy: 0.3959, took: 176.79838347434998 seconds\nEpoch [58/75], Train Loss: 5.6999, Test Loss: 5.1081, Top-3 Test Accuracy: 0.3958, took: 177.69262075424194 seconds\nEpoch [59/75], Train Loss: 5.6875, Test Loss: 5.1027, Top-3 Test Accuracy: 0.3935, took: 201.89810347557068 seconds\nEpoch [60/75], Train Loss: 5.6842, Test Loss: 5.0927, Top-3 Test Accuracy: 0.3955, took: 175.81775212287903 seconds\nEpoch [61/75], Train Loss: 5.6860, Test Loss: 5.0954, Top-3 Test Accuracy: 0.3966, took: 236.59497261047363 seconds\nEpoch [62/75], Train Loss: 5.6790, Test Loss: 5.0828, Top-3 Test Accuracy: 0.3981, took: 177.69725513458252 seconds\nEpoch [63/75], Train Loss: 5.6795, Test Loss: 5.0741, Top-3 Test Accuracy: 0.3964, took: 233.30695390701294 seconds\nEpoch [64/75], Train Loss: 5.6762, Test Loss: 5.0782, Top-3 Test Accuracy: 0.3984, took: 177.30498886108398 seconds\nEpoch [65/75], Train Loss: 5.6744, Test Loss: 5.0778, Top-3 Test Accuracy: 0.3972, took: 176.08520364761353 seconds\nEpoch [66/75], Train Loss: 5.6686, Test Loss: 5.0702, Top-3 Test Accuracy: 0.3999, took: 203.91614842414856 seconds\nEpoch [67/75], Train Loss: 5.6655, Test Loss: 5.0854, Top-3 Test Accuracy: 0.3996, took: 176.74788689613342 seconds\nEpoch [68/75], Train Loss: 5.6696, Test Loss: 5.0718, Top-3 Test Accuracy: 0.3993, took: 177.16065669059753 seconds\nEpoch [69/75], Train Loss: 5.6638, Test Loss: 5.0665, Top-3 Test Accuracy: 0.3997, took: 176.50189304351807 seconds\nEpoch [70/75], Train Loss: 5.6620, Test Loss: 5.0608, Top-3 Test Accuracy: 0.3981, took: 176.6335802078247 seconds\nEpoch [71/75], Train Loss: 5.6612, Test Loss: 5.0586, Top-3 Test Accuracy: 0.3999, took: 177.75296783447266 seconds\nEpoch [72/75], Train Loss: 5.6571, Test Loss: 5.0611, Top-3 Test Accuracy: 0.4017, took: 175.55829191207886 seconds\nEpoch [73/75], Train Loss: 5.6554, Test Loss: 5.0538, Top-3 Test Accuracy: 0.4008, took: 177.59862303733826 seconds\nEpoch [74/75], Train Loss: 5.6524, Test Loss: 5.0781, Top-3 Test Accuracy: 0.4009, took: 177.01051449775696 seconds\nEpoch [75/75], Train Loss: 5.6514, Test Loss: 5.0494, Top-3 Test Accuracy: 0.4019, took: 176.8531084060669 seconds\nFinished Training\nTotal Epochs: 75\nFinal Training Loss: 5.6514\nFinal Test Loss: 5.0494\nFinal Test Accuracy: 0.4019\n"
     ]
    }
   ],
   "source": [
    "from sklearn.metrics import f1_score, precision_score, recall_score\n",
    "\n",
    "# Training loop\n",
    "for epoch in range(num_epochs):\n",
    "    t = time.time()\n",
    "    # Training\n",
    "    model.train()  # Set the model to train mode\n",
    "    total_train_loss = 0.0\n",
    "    for i, (inputs, labels) in enumerate(train_dataloader):\n",
    "        inputs = inputs.view(-1, input_size)\n",
    "        outputs = model(inputs)\n",
    "\n",
    "        # Convert labels from tuple to Tensor\n",
    "        labels = torch.tensor(labels)\n",
    "\n",
    "        loss = criterion(outputs, labels)\n",
    "        \n",
    "        optimizer.zero_grad()\n",
    "        loss.backward()\n",
    "        optimizer.step()\n",
    "\n",
    "        total_train_loss += loss.item()\n",
    "\n",
    "    avg_train_loss = total_train_loss / len(train_dataloader)\n",
    "\n",
    "    # Testing\n",
    "    model.eval()  # Set the model to evaluation mode\n",
    "    total_correct_top3 = 0\n",
    "    total_samples = 0\n",
    "    total_test_loss = 0.0\n",
    "    true_labels = []\n",
    "    predicted_labels = []\n",
    "    with torch.no_grad():\n",
    "        for inputs, labels in test_dataloader:\n",
    "            inputs = inputs.view(-1, input_size)\n",
    "            outputs = model(inputs)\n",
    "            loss = criterion(outputs, labels)\n",
    "\n",
    "            # Convert labels from tuple to Tensor\n",
    "            labels = torch.tensor(labels)\n",
    "\n",
    "            total_test_loss += loss.item()\n",
    "\n",
    "            _, predicted = torch.topk(outputs, k=3, dim=1)  # Get top-3 predictions\n",
    "            total_correct_top3 += sum([label in pred_list for label, pred_list in zip(labels, predicted)])\n",
    "            total_samples += labels.size(0)\n",
    "\n",
    "            true_labels.extend(labels.numpy())\n",
    "            predicted_labels.extend(predicted.numpy())\n",
    "\n",
    "    avg_test_loss = total_test_loss / len(test_dataloader)\n",
    "    test_top3_accuracy = total_correct_top3 / total_samples\n",
    "\n",
    "    print(f'Epoch [{epoch+1}/{num_epochs}], Train Loss: {avg_train_loss:.4f}, Test Loss: {avg_test_loss:.4f}, Top-3 Test Accuracy: {test_top3_accuracy:.4f}, took: {time.time() - t} seconds')\n",
    "\n",
    "print('Finished Training')\n",
    "print(f'Total Epochs: {num_epochs}')\n",
    "print(f'Final Training Loss: {avg_train_loss:.4f}')\n",
    "print(f'Final Test Loss: {avg_test_loss:.4f}')\n",
    "print(f'Final Test Accuracy: {test_top3_accuracy:.4f}')"
   ]
  },
  {
   "cell_type": "code",
   "execution_count": 0,
   "metadata": {
    "application/vnd.databricks.v1+cell": {
     "cellMetadata": {
      "byteLimit": 2048000,
      "rowLimit": 10000
     },
     "inputWidgets": {},
     "nuid": "3a016680-38c6-4c15-8127-2e320607806a",
     "showTitle": false,
     "title": ""
    }
   },
   "outputs": [],
   "source": [
    "# Save the model as a .pkl file\n",
    "import torch\n",
    "name = f\"finalNNWithSrcraping.pkl\"\n",
    "# Specify the file path to save the model\n",
    "model_path = f\"/dbfs/FileStore/{name}\"\n",
    "\n",
    "# Save the model\n",
    "torch.save(model, model_path)"
   ]
  },
  {
   "cell_type": "markdown",
   "metadata": {
    "application/vnd.databricks.v1+cell": {
     "cellMetadata": {},
     "inputWidgets": {},
     "nuid": "8a284be7-f2f6-4465-87f2-c52786cdd35a",
     "showTitle": false,
     "title": ""
    }
   },
   "source": [
    "Checking the AVG accuracy of the model only on the scraped data."
   ]
  },
  {
   "cell_type": "code",
   "execution_count": 0,
   "metadata": {
    "application/vnd.databricks.v1+cell": {
     "cellMetadata": {
      "byteLimit": 2048000,
      "rowLimit": 10000
     },
     "inputWidgets": {},
     "nuid": "a16c8cbc-d72d-4709-810a-2102726cf70b",
     "showTitle": false,
     "title": ""
    }
   },
   "outputs": [],
   "source": [
    "# Find the scraped data in test file.\n",
    "scrapedTestDF = test_df[test_df['label'] >= 12668].sort_values(by='label', ascending=True).copy()\n",
    "scrapedTest_dataset = CustomDataset(scrapedTestDF)\n",
    "scrapedTest_dataloader = DataLoader(scrapedTest_dataset, batch_size=batch_size, shuffle=False)"
   ]
  },
  {
   "cell_type": "code",
   "execution_count": 0,
   "metadata": {
    "application/vnd.databricks.v1+cell": {
     "cellMetadata": {
      "byteLimit": 2048000,
      "rowLimit": 10000
     },
     "inputWidgets": {},
     "nuid": "93646c19-6b39-46ac-a88b-0cdcbd27c667",
     "showTitle": false,
     "title": ""
    }
   },
   "outputs": [
    {
     "output_type": "stream",
     "name": "stdout",
     "output_type": "stream",
     "text": [
      "Out[105]: 168"
     ]
    }
   ],
   "source": [
    "scrapedTestDF[\"label\"].nunique()"
   ]
  },
  {
   "cell_type": "code",
   "execution_count": 0,
   "metadata": {
    "application/vnd.databricks.v1+cell": {
     "cellMetadata": {
      "byteLimit": 2048000,
      "rowLimit": 10000
     },
     "inputWidgets": {},
     "nuid": "f896efd2-001b-4737-9cc9-6a11d94e7e8d",
     "showTitle": false,
     "title": ""
    }
   },
   "outputs": [
    {
     "output_type": "stream",
     "name": "stdout",
     "output_type": "stream",
     "text": [
      "Test Loss: 4.1974, Top-3 Test Accuracy: 0.4949\n<command-3791678015591356>:15: UserWarning: To copy construct from a tensor, it is recommended to use sourceTensor.clone().detach() or sourceTensor.clone().detach().requires_grad_(True), rather than torch.tensor(sourceTensor).\n  labels = torch.tensor(labels)\n"
     ]
    }
   ],
   "source": [
    "# Testing\n",
    "model.eval()  # Set the model to evaluation mode\n",
    "total_correct_top3 = 0\n",
    "total_samples = 0\n",
    "total_test_loss = 0.0\n",
    "true_labels = []\n",
    "predicted_labels = []\n",
    "with torch.no_grad():\n",
    "    for inputs, labels in scrapedTest_dataloader:\n",
    "        inputs = inputs.view(-1, input_size)\n",
    "        outputs = model(inputs)\n",
    "        loss = criterion(outputs, labels)\n",
    "\n",
    "        # Convert labels from tuple to Tensor\n",
    "        labels = torch.tensor(labels)\n",
    "\n",
    "        total_test_loss += loss.item()\n",
    "\n",
    "        _, predicted = torch.topk(outputs, k=3, dim=1)  # Get top-3 predictions\n",
    "        total_correct_top3 += sum([label in pred_list for label, pred_list in zip(labels, predicted)])\n",
    "        total_samples += labels.size(0)\n",
    "\n",
    "        true_labels.extend(labels.numpy())\n",
    "        predicted_labels.extend(predicted.numpy())\n",
    "\n",
    "avg_test_loss = total_test_loss / len(scrapedTest_dataloader)\n",
    "test_top3_accuracy = total_correct_top3 / total_samples\n",
    "\n",
    "print(f'Test Loss: {avg_test_loss:.4f}, Top-3 Test Accuracy: {test_top3_accuracy:.4f}')"
   ]
  },
  {
   "cell_type": "code",
   "execution_count": 0,
   "metadata": {
    "application/vnd.databricks.v1+cell": {
     "cellMetadata": {},
     "inputWidgets": {},
     "nuid": "6c69554a-b9cb-408f-886c-65a86fc42def",
     "showTitle": false,
     "title": ""
    }
   },
   "outputs": [],
   "source": []
  }
 ],
 "metadata": {
  "application/vnd.databricks.v1+notebook": {
   "dashboards": [],
   "language": "python",
   "notebookMetadata": {
    "mostRecentlyExecutedCommandWithImplicitDF": {
     "commandId": 3791678015590262,
     "dataframes": [
      "_sqldf"
     ]
    },
    "pythonIndentUnit": 4
   },
   "notebookName": "model",
   "widgets": {}
  }
 },
 "nbformat": 4,
 "nbformat_minor": 0
}
